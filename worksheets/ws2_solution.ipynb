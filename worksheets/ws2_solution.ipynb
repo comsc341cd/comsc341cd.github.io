{
 "cells": [
  {
   "cell_type": "markdown",
   "metadata": {},
   "source": [
    "# WS 2 Solution 🐼\n",
    "\n",
    ":::{epigraph}\n",
    "Tabular Data and Potential Outcomes\n",
    "\n",
    "-- TODO your name here\n",
    ":::\n",
    "\n",
    ":::{admonition} Collaboration Statement\n",
    "- TODO brief statement on the nature of your collaboration.\n",
    "- TODO your collaborator's names here.\n",
    ":::"
   ]
  },
  {
   "cell_type": "markdown",
   "metadata": {},
   "source": [
    "# Learning Objectives\n",
    "\n",
    "- Practice tabular data manipulation through pandas\n",
    "- Learn more about the potential outcomes framework for causal inference\n",
    "- Familiarization with mathematical operations on potential outcomes\n",
    "- Familiarization with Gradescope's autograder"
   ]
  },
  {
   "cell_type": "markdown",
   "metadata": {},
   "source": [
    ":::{note} Before you begin\n",
    "Please go to `Edit -> Clear Outputs of All Cells` so you can run the code cells yourself!\n",
    ":::"
   ]
  },
  {
   "cell_type": "markdown",
   "metadata": {},
   "source": [
    "# 1. `pandas` and tabular data [2 pts]"
   ]
  },
  {
   "cell_type": "markdown",
   "metadata": {},
   "source": [
    "To familiarize ourselves with working with tabular data, we will use the [pandas](https://pandas.pydata.org/) library and work with the [National Health and Nutrition Examination Survey (NHANES) dataset](https://www.cdc.gov/nchs/nhanes/about/?CDC_AAref_Val=https://www.cdc.gov/nchs/nhanes/about_nhanes.htm). NHANES is a large, national survey that measures the health and nutrition of adults and children in the United States.\n",
    "\n",
    "The NHANES dataset is frequently used in **observational studies**, where there is no intervention or manipulation of the data like a randomized experiment. We'll cover these type of studies in a few weeks. For now, we'll use pandas to answer some **descriptive** questions about the data."
   ]
  },
  {
   "cell_type": "markdown",
   "metadata": {},
   "source": [
    "## `pandas` basics\n",
    "\n",
    "Pandas is the defacto Python framework for working with tabular data, and it is supported by a large ecosystem of libraries, including seamless integration with numpy. Pandas provides two main data structures:\n",
    "\n",
    "- `DataFrame`: a 2-dimensional data structure often used to represent a table with rows and named columns.\n",
    "- `Series`: a 1-dimensional, **labelled** array, often used to represent a single column or row in a `DataFrame`\n",
    "\n",
    "Pandas dataframes allow for the datatypes of the columns to be mixed. Let's create a couple of examples by running the code cells below:"
   ]
  },
  {
   "cell_type": "code",
   "execution_count": 68,
   "metadata": {},
   "outputs": [],
   "source": [
    "import numpy as np\n",
    "\n",
    "# the standard import idiom for pandas\n",
    "import pandas as pd"
   ]
  },
  {
   "cell_type": "code",
   "execution_count": 69,
   "metadata": {},
   "outputs": [
    {
     "data": {
      "text/plain": [
       "0    4.0\n",
       "1    NaN\n",
       "2    2.0\n",
       "3    3.0\n",
       "dtype: float64"
      ]
     },
     "execution_count": 69,
     "metadata": {},
     "output_type": "execute_result"
    }
   ],
   "source": [
    "# Create a series from a list, note how there can 'nan' (missing) values\n",
    "review_scores = pd.Series([4, np.nan, 2, 3])\n",
    "\n",
    "# Note that the series can be of different data types\n",
    "review_text = pd.Series(['I liked it', 'It was awful', 'Bland', 'Pretty good'])\n",
    "\n",
    "# pandas will automatically assign a data type (dtype) to the series\n",
    "review_scores"
   ]
  },
  {
   "cell_type": "markdown",
   "metadata": {},
   "source": [
    ":::{note}\n",
    "`np.nan` is a special value in pandas that represents missing data. A critical part of the data science workflow in practice is handling missing data, as results can change dramatically when missing data is not handled properly.\n",
    ":::\n"
   ]
  },
  {
   "cell_type": "markdown",
   "metadata": {},
   "source": [
    "We can then create a dataframe by passing in a dictionary of series, where the keys are the column names:"
   ]
  },
  {
   "cell_type": "code",
   "execution_count": 70,
   "metadata": {},
   "outputs": [
    {
     "data": {
      "text/html": [
       "<div>\n",
       "<style scoped>\n",
       "    .dataframe tbody tr th:only-of-type {\n",
       "        vertical-align: middle;\n",
       "    }\n",
       "\n",
       "    .dataframe tbody tr th {\n",
       "        vertical-align: top;\n",
       "    }\n",
       "\n",
       "    .dataframe thead th {\n",
       "        text-align: right;\n",
       "    }\n",
       "</style>\n",
       "<table border=\"1\" class=\"dataframe\">\n",
       "  <thead>\n",
       "    <tr style=\"text-align: right;\">\n",
       "      <th></th>\n",
       "      <th>review_scores</th>\n",
       "      <th>review_text</th>\n",
       "    </tr>\n",
       "  </thead>\n",
       "  <tbody>\n",
       "    <tr>\n",
       "      <th>0</th>\n",
       "      <td>4.0</td>\n",
       "      <td>I liked it</td>\n",
       "    </tr>\n",
       "    <tr>\n",
       "      <th>1</th>\n",
       "      <td>NaN</td>\n",
       "      <td>It was awful</td>\n",
       "    </tr>\n",
       "    <tr>\n",
       "      <th>2</th>\n",
       "      <td>2.0</td>\n",
       "      <td>Bland</td>\n",
       "    </tr>\n",
       "    <tr>\n",
       "      <th>3</th>\n",
       "      <td>3.0</td>\n",
       "      <td>Pretty good</td>\n",
       "    </tr>\n",
       "  </tbody>\n",
       "</table>\n",
       "</div>"
      ],
      "text/plain": [
       "   review_scores   review_text\n",
       "0            4.0    I liked it\n",
       "1            NaN  It was awful\n",
       "2            2.0         Bland\n",
       "3            3.0   Pretty good"
      ]
     },
     "execution_count": 70,
     "metadata": {},
     "output_type": "execute_result"
    }
   ],
   "source": [
    "df = pd.DataFrame({'review_scores': review_scores, 'review_text': review_text})\n",
    "\n",
    "# Print the dataframe\n",
    "df"
   ]
  },
  {
   "cell_type": "markdown",
   "metadata": {},
   "source": [
    "Alternatively, we can create a dataframe from a dictionary of lists, which can sometimes be convenient:"
   ]
  },
  {
   "cell_type": "code",
   "execution_count": 71,
   "metadata": {},
   "outputs": [],
   "source": [
    "# this code produces the same dataframe as before\n",
    "df = pd.DataFrame({'review_scores': [4, np.nan, 2, 3], \n",
    "                   'review_text': ['I liked it', 'It was awful', 'Bland', 'Pretty good']})\n"
   ]
  },
  {
   "cell_type": "markdown",
   "metadata": {},
   "source": [
    "For high-level inspection of the dataframe, we can use the following functions and attributes:\n",
    "\n",
    "- `df.head()`: returns the first 5 rows of the dataframe\n",
    "- `df.tail()`: returns the last 5 rows of the dataframe\n",
    "- `df.info()`: returns a summary of the dataframe, including the number of rows, columns, and the data types of each column\n",
    "- `df.columns`: returns the column names of the dataframe\n",
    "- `df.shape`: returns the number of rows and columns in the dataframe\n",
    "- `df.dtypes`: returns the data types of each column\n",
    "\n",
    "You can play around with the dataframe in the cell below:"
   ]
  },
  {
   "cell_type": "code",
   "execution_count": 72,
   "metadata": {},
   "outputs": [
    {
     "data": {
      "text/plain": [
       "(4, 2)"
      ]
     },
     "execution_count": 72,
     "metadata": {},
     "output_type": "execute_result"
    }
   ],
   "source": [
    "# the shape is a tuple of (num rows, num columns)\n",
    "df.shape"
   ]
  },
  {
   "cell_type": "markdown",
   "metadata": {},
   "source": [
    "\n",
    "Often times we'll be working with pre-existing datasets. Here, we'll use a pre-loaded version of the NHANES dataset, which is available in the `nhanes` package. \n",
    "\n",
    ":::{note}\n",
    "To load data from files manually, pandas provides various `pd.read_*` functions. For example, [pd.read_csv](https://pandas.pydata.org/docs/reference/api/pandas.read_csv.html) loads (comma-separated values) CSV files. See pandas' [I/O documentation](https://pandas.pydata.org/pandas-docs/stable/user_guide/io.html) for more options.\n",
    ":::\n"
   ]
  },
  {
   "cell_type": "code",
   "execution_count": 73,
   "metadata": {},
   "outputs": [
    {
     "name": "stdout",
     "output_type": "stream",
     "text": [
      "<class 'pandas.core.frame.DataFrame'>\n",
      "Index: 8366 entries, 93703.0 to 102956.0\n",
      "Columns: 197 entries, GeneralHealthCondition to TimesLost10LbsOrMoreToLoseWeight\n",
      "dtypes: float64(161), object(36)\n",
      "memory usage: 12.6+ MB\n"
     ]
    }
   ],
   "source": [
    "from nhanes.load import load_NHANES_data, load_NHANES_metadata\n",
    "\n",
    "nhanes_df = load_NHANES_data()\n",
    "\n",
    "nhanes_df.info()"
   ]
  },
  {
   "cell_type": "markdown",
   "metadata": {},
   "source": [
    "From above, we see that the dataframe has 8,366 rows and 197 columns. Here, each row represents a survey respondent, and each column represents a survey question that was asked.\n",
    "\n",
    "Taking a look at the columns, we see that there are a wide range of health-related questions that were asked:"
   ]
  },
  {
   "cell_type": "code",
   "execution_count": 74,
   "metadata": {},
   "outputs": [
    {
     "data": {
      "text/plain": [
       "array(['GeneralHealthCondition', 'EverBreastfedOrFedBreastmilk',\n",
       "       'AgeStoppedBreastfeedingdays', 'AgeFirstFedFormuladays',\n",
       "       'AgeStoppedReceivingFormuladays', 'AgeStartedOtherFoodbeverage',\n",
       "       'AgeFirstFedMilkdays', 'TypeOfMilkFirstFedWholeMilk',\n",
       "       'TypeOfMilkFirstFed2Milk', 'TypeOfMilkFirstFed1Milk',\n",
       "       'TypeOfMilkFirstFedFatFreeMilk', 'TypeOfMilkFirstFedSoyMilk',\n",
       "       'TypeOfMilkFirstFedOther', 'HowHealthyIsTheDiet',\n",
       "       'Past30DayMilkProductConsumption', 'YouDrinkWholeOrRegularMilk',\n",
       "       'YouDrink2FatMilk', 'YouDrink1FatMilk', 'YouDrinkFatFreeskimMilk',\n",
       "       'YouDrinkSoyMilk', 'YouDrinkAnotherTypeOfMilk',\n",
       "       'RegularMilkUse5TimesPerWeek', 'HowOftenDrankMilkAge512',\n",
       "       'HowOftenDrankMilkAge1317', 'HowOftenDrankMilkAge1835',\n",
       "       'CommunitygovernmentMealsDelivered',\n",
       "       'EatMealsAtCommunityseniorCenter',\n",
       "       'AttendKindergartenThruHighSchool', 'SchoolServesSchoolLunches',\n",
       "       'OfTimesweekGetSchoolLunch', 'SchoolLunchFreeReducedOrFullPrice',\n",
       "       'SchoolServeCompleteBreakfastEachDay',\n",
       "       'OfTimesweekGetSchoolBreakfast',\n",
       "       'SchoolBreakfastFreereducedfullPrice',\n",
       "       'SummerProgramMealFreereducedPrice', 'OfMealsNotHomePrepared',\n",
       "       'OfMealsFromFastFoodOrPizzaPlace', 'OfReadytoeatFoodsInPast30Days',\n",
       "       'OfFrozenMealspizzaInPast30Days', 'HeardOfMyPlate',\n",
       "       'LookedUpMyPlateOnInternet', 'TriedMyPlatePlan',\n",
       "       'MainMealPlannerpreparer', 'SharedMealPlanningpreparingDuty',\n",
       "       'MainFoodShopper', 'SharedFoodShoppingDuty',\n",
       "       'HaveSeriousDifficultyHearing', 'HaveSeriousDifficultySeeing',\n",
       "       'HaveSeriousDifficultyConcentrating',\n",
       "       'HaveSeriousDifficultyWalking', 'HaveDifficultyDressingOrBathing',\n",
       "       'HaveDifficultyDoingErrandsAlone',\n",
       "       'HowOftenDoYouFeelWorriedOrAnxious',\n",
       "       'TakeMedicationForTheseFeelings', 'HowOftenDoYouFeelDepressed',\n",
       "       'TakeMedicationForDepression', 'CoveredByHealthInsurance',\n",
       "       'UsualSleepTimeOnWeekdaysOrWorkdays',\n",
       "       'UsualWakeTimeOnWeekdaysOrWorkdays',\n",
       "       'SleepHoursWeekdaysOrWorkdays', 'HowOftenDoYouSnore',\n",
       "       'EverToldDoctorHadTroubleSleeping',\n",
       "       'HowOftenFeelOverlySleepyDuringDay',\n",
       "       'HaveLittleInterestInDoingThings',\n",
       "       'FeelingDownDepressedOrHopeless',\n",
       "       'TroubleSleepingOrSleepingTooMuch',\n",
       "       'FeelingTiredOrHavingLittleEnergy', 'PoorAppetiteOrOvereating',\n",
       "       'FeelingBadAboutYourself', 'TroubleConcentratingOnThings',\n",
       "       'MovingOrSpeakingSlowlyOrTooFast',\n",
       "       'ThoughtYouWouldBeBetterOffDead',\n",
       "       'DifficultyTheseProblemsHaveCaused', 'SmokedTobaccoLast5Days',\n",
       "       'DaysSmokedCigarettesLast5Days', 'CigarettesSmokedPerDay',\n",
       "       'UsedAnyTobaccoProductLast5Days',\n",
       "       'ExperienceConfusionmemoryProblems',\n",
       "       'PhysicalMentalEmotionalLimitations', 'DifficultyManagingMoney',\n",
       "       '60SecHr30SecHr2', '60SecPulse30SecPulse2',\n",
       "       'SystolicBloodPres1StRdgMmHg', 'DiastolicBloodPres1StRdgMmHg',\n",
       "       'SystolicBloodPres2NdRdgMmHg', 'DiastolicBloodPres2NdRdgMmHg',\n",
       "       'SystolicBloodPres3RdRdgMmHg', 'DiastolicBloodPres3RdRdgMmHg',\n",
       "       'EnergyKcal_DR2TOT', 'ProteinGm_DR2TOT', 'CarbohydrateGm_DR2TOT',\n",
       "       'TotalSugarsGm_DR2TOT', 'DietaryFiberGm_DR2TOT',\n",
       "       'TotalFatGm_DR2TOT', 'TotalSaturatedFattyAcidsGm_DR2TOT',\n",
       "       'TotalMonounsaturatedFattyAcidsGm_DR2TOT',\n",
       "       'TotalPolyunsaturatedFattyAcidsGm_DR2TOT', 'CholesterolMg_DR2TOT',\n",
       "       'AlcoholGm_DR2TOT', 'WeightKg', 'RecumbentLengthCm',\n",
       "       'StandingHeightCm', 'BodyMassIndexKgm2', 'WaistCircumferenceCm',\n",
       "       'DirectHdlcholesterolMgdl', 'TotalCholesterolMgdl',\n",
       "       'VigorousWorkActivity', 'ModerateWorkActivity', 'WalkOrBicycle',\n",
       "       'VigorousRecreationalActivities', 'ModerateRecreationalActivities',\n",
       "       'MinutesSedentaryActivity', 'EverBeenToldYouHaveAsthma',\n",
       "       'DoctorEverSaidYouHadArthritis', 'EverToldYouHadHeartAttack',\n",
       "       'AgeWhenToldYouHadHeartAttack', 'EverToldYouHadAStroke',\n",
       "       'AgeWhenToldYouHadAStroke', 'EverToldYouHadCancerOrMalignancy',\n",
       "       '1StCancerWhatKindWasIt', 'Age1StCancerMcq230ADiagnosed',\n",
       "       'EverUsedMarijuanaOrHashish', 'DaysUsedMarijuanaOrHashishmonth',\n",
       "       'EverUsedCocaineheroinmethamphetamine', 'EverUseAnyFormOfCocaine',\n",
       "       'OfDaysUsedCocainemonth', 'EverUsedHeroin',\n",
       "       'OfDaysUsedHeroinmonth', 'EverUsedMethamphetamine',\n",
       "       'DaysUsedMethamphetaminemonth', 'EverBeenInRehabilitationProgram',\n",
       "       'BloodLeadUgdl', 'BloodCadmiumUgl', 'BloodMercuryTotalUgl',\n",
       "       'BloodSeleniumUgl', 'BloodManganeseUgl', 'Gender',\n",
       "       'AgeInYearsAtScreening', 'AgeInMonthsAtScreening0To24Mos',\n",
       "       'RacehispanicOrigin', 'RacehispanicOriginWNhAsian',\n",
       "       'ServedActiveDutyInUsArmedForces',\n",
       "       'EducationLevelChildrenyouth619', 'EducationLevelAdults20',\n",
       "       'MaritalStatus', 'TotalNumberOfPeopleInTheHousehold',\n",
       "       'TotalNumberOfPeopleInTheFamily', 'OfChildren5YearsOrYoungerInHh',\n",
       "       'OfChildren617YearsOldInHh', 'OfAdults60YearsOrOlderInHh',\n",
       "       'AnnualHouseholdIncome', 'AnnualFamilyIncome',\n",
       "       'RatioOfFamilyIncomeToPoverty', 'TrunkFatG', 'TrunkPercentFat',\n",
       "       'TotalPercentFat', 'HowOftenAddSaltToFoodAtTable', 'OnSpecialDiet',\n",
       "       'WeightLosslowCalorieDiet', 'LowFatlowCholesterolDiet',\n",
       "       'LowSaltlowSodiumDiet', 'DiabeticDiet', 'LowCarbohydrateDiet',\n",
       "       'EnergyKcal_DR1TOT', 'ProteinGm_DR1TOT', 'CarbohydrateGm_DR1TOT',\n",
       "       'TotalSugarsGm_DR1TOT', 'DietaryFiberGm_DR1TOT',\n",
       "       'TotalFatGm_DR1TOT', 'TotalSaturatedFattyAcidsGm_DR1TOT',\n",
       "       'TotalMonounsaturatedFattyAcidsGm_DR1TOT',\n",
       "       'TotalPolyunsaturatedFattyAcidsGm_DR1TOT', 'CholesterolMg_DR1TOT',\n",
       "       'AlcoholGm_DR1TOT', 'TunaEatenDuringPast30Days',\n",
       "       'DoctorToldYouHaveDiabetes', 'AgeWhenFirstToldYouHadDiabetes',\n",
       "       'EverToldYouHavePrediabetes', 'EverToldHaveHealthRiskForDiabetes',\n",
       "       'FamilyHistory', 'TakingInsulinNow',\n",
       "       'TakeDiabeticPillsToLowerBloodSugar', 'WhatWasYourLastA1CLevel',\n",
       "       'Glycohemoglobin', 'SmokedAtLeast100CigarettesInLife',\n",
       "       'AgeStartedSmokingCigarettesRegularly', 'DoYouNowSmokeCigarettes',\n",
       "       'DaysSmokedCigsDuringPast30Days',\n",
       "       'AvgCigarettesdayDuringPast30Days', 'TriedToQuitSmoking',\n",
       "       'TimesStoppedSmokingCigarettes', 'HowLongWereYouAbleToStopSmoking',\n",
       "       'UnitOfMeasureDayweekmonthyear_2_SMQ',\n",
       "       'CurrentSelfreportedHeightInches',\n",
       "       'CurrentSelfreportedWeightPounds', 'TriedToLoseWeightInPastYear',\n",
       "       'TimesLost10LbsOrMoreToLoseWeight'], dtype=object)"
      ]
     },
     "execution_count": 74,
     "metadata": {},
     "output_type": "execute_result"
    }
   ],
   "source": [
    "# .values returns the column names as a numpy array\n",
    "# nhanes_df.columns.values"
   ]
  },
  {
   "cell_type": "markdown",
   "metadata": {},
   "source": [
    "## Data cleaning"
   ]
  },
  {
   "cell_type": "markdown",
   "metadata": {},
   "source": [
    "To select a single column, we can square bracket indexing, as if we were acessing a dictionary:"
   ]
  },
  {
   "cell_type": "code",
   "execution_count": 75,
   "metadata": {},
   "outputs": [
    {
     "data": {
      "text/plain": [
       "SEQN\n",
       "93703.0          NaN\n",
       "93704.0          NaN\n",
       "93705.0         Good\n",
       "93706.0    Very good\n",
       "93707.0         Good\n",
       "Name: GeneralHealthCondition, dtype: object"
      ]
     },
     "execution_count": 75,
     "metadata": {},
     "output_type": "execute_result"
    }
   ],
   "source": [
    "# Selects the 'GeneralHealthCondition' column and prints the first 5 rows\n",
    "nhanes_df['GeneralHealthCondition'].head()"
   ]
  },
  {
   "cell_type": "markdown",
   "metadata": {},
   "source": [
    "When initially exploring a dataset, it is often useful to see the unique values in a column:"
   ]
  },
  {
   "cell_type": "code",
   "execution_count": 76,
   "metadata": {},
   "outputs": [
    {
     "data": {
      "text/plain": [
       "array([nan, 'Good', 'Very good', 'Fair or', 'Excellent', 'Poor?'],\n",
       "      dtype=object)"
      ]
     },
     "execution_count": 76,
     "metadata": {},
     "output_type": "execute_result"
    }
   ],
   "source": [
    "# Get the unique values in the 'GeneralHealthCondition'\n",
    "nhanes_df['GeneralHealthCondition'].unique()\n"
   ]
  },
  {
   "cell_type": "markdown",
   "metadata": {},
   "source": [
    "Notice two things about the `GeneralHealthCondition` column:\n",
    "\n",
    "- There are some missing values in the column, represented as `nan` \n",
    "- There are two values that seem to be typos: `Poor?` and `Fair or`\n"
   ]
  },
  {
   "cell_type": "markdown",
   "metadata": {},
   "source": [
    "To simplify our analysis, we can remove the rows with missing values via [dropna()](https://pandas.pydata.org/docs/reference/api/pandas.DataFrame.dropna.html):"
   ]
  },
  {
   "cell_type": "code",
   "execution_count": 77,
   "metadata": {},
   "outputs": [],
   "source": [
    "# remove rows with missing values in the 'GeneralHealthCondition' column, resulting in a new dataframe\n",
    "nhanes_df = nhanes_df.dropna(subset=['GeneralHealthCondition'])"
   ]
  },
  {
   "cell_type": "markdown",
   "metadata": {},
   "source": [
    "We can also correct the typos using [replace()](https://pandas.pydata.org/docs/reference/api/pandas.DataFrame.replace.html):"
   ]
  },
  {
   "cell_type": "code",
   "execution_count": 78,
   "metadata": {},
   "outputs": [
    {
     "data": {
      "text/plain": [
       "array(['Good', 'Very good', 'Fair', 'Excellent', 'Poor'], dtype=object)"
      ]
     },
     "execution_count": 78,
     "metadata": {},
     "output_type": "execute_result"
    }
   ],
   "source": [
    "# replace the typos with the correct values\n",
    "nhanes_df['GeneralHealthCondition'] = nhanes_df['GeneralHealthCondition'].replace({'Poor?': 'Poor', 'Fair or': 'Fair'})\n",
    "\n",
    "# print the unique values again to see the changes\n",
    "nhanes_df['GeneralHealthCondition'].unique()"
   ]
  },
  {
   "cell_type": "markdown",
   "metadata": {},
   "source": [
    ":::{tip}\n",
    "Notice how in both operations, we reassign the result back to `nhanes_df` or a column in `nhanes_df`, which is a common pattern in pandas -- operations often return a new dataframe or column, and we need to reassign the result back to the original variable if we want to keep the changes.\n",
    ":::\n"
   ]
  },
  {
   "cell_type": "markdown",
   "metadata": {},
   "source": [
    "## Indexing and assignment"
   ]
  },
  {
   "cell_type": "markdown",
   "metadata": {},
   "source": [
    "The square bracket indexing can be generalized to selecting multiple columns:"
   ]
  },
  {
   "cell_type": "code",
   "execution_count": 79,
   "metadata": {},
   "outputs": [
    {
     "data": {
      "text/html": [
       "<div>\n",
       "<style scoped>\n",
       "    .dataframe tbody tr th:only-of-type {\n",
       "        vertical-align: middle;\n",
       "    }\n",
       "\n",
       "    .dataframe tbody tr th {\n",
       "        vertical-align: top;\n",
       "    }\n",
       "\n",
       "    .dataframe thead th {\n",
       "        text-align: right;\n",
       "    }\n",
       "</style>\n",
       "<table border=\"1\" class=\"dataframe\">\n",
       "  <thead>\n",
       "    <tr style=\"text-align: right;\">\n",
       "      <th></th>\n",
       "      <th>GeneralHealthCondition</th>\n",
       "      <th>AgeInYearsAtScreening</th>\n",
       "      <th>SmokedAtLeast100CigarettesInLife</th>\n",
       "      <th>WeightKg</th>\n",
       "      <th>VigorousRecreationalActivities</th>\n",
       "    </tr>\n",
       "    <tr>\n",
       "      <th>SEQN</th>\n",
       "      <th></th>\n",
       "      <th></th>\n",
       "      <th></th>\n",
       "      <th></th>\n",
       "      <th></th>\n",
       "    </tr>\n",
       "  </thead>\n",
       "  <tbody>\n",
       "    <tr>\n",
       "      <th>93705.0</th>\n",
       "      <td>Good</td>\n",
       "      <td>66.0</td>\n",
       "      <td>1.0</td>\n",
       "      <td>79.5</td>\n",
       "      <td>0.0</td>\n",
       "    </tr>\n",
       "    <tr>\n",
       "      <th>93706.0</th>\n",
       "      <td>Very good</td>\n",
       "      <td>18.0</td>\n",
       "      <td>0.0</td>\n",
       "      <td>66.3</td>\n",
       "      <td>0.0</td>\n",
       "    </tr>\n",
       "    <tr>\n",
       "      <th>93707.0</th>\n",
       "      <td>Good</td>\n",
       "      <td>13.0</td>\n",
       "      <td>NaN</td>\n",
       "      <td>45.4</td>\n",
       "      <td>NaN</td>\n",
       "    </tr>\n",
       "    <tr>\n",
       "      <th>93708.0</th>\n",
       "      <td>Good</td>\n",
       "      <td>66.0</td>\n",
       "      <td>0.0</td>\n",
       "      <td>53.5</td>\n",
       "      <td>0.0</td>\n",
       "    </tr>\n",
       "    <tr>\n",
       "      <th>93711.0</th>\n",
       "      <td>Very good</td>\n",
       "      <td>56.0</td>\n",
       "      <td>0.0</td>\n",
       "      <td>62.1</td>\n",
       "      <td>1.0</td>\n",
       "    </tr>\n",
       "    <tr>\n",
       "      <th>93712.0</th>\n",
       "      <td>Good</td>\n",
       "      <td>18.0</td>\n",
       "      <td>1.0</td>\n",
       "      <td>58.9</td>\n",
       "      <td>1.0</td>\n",
       "    </tr>\n",
       "    <tr>\n",
       "      <th>93713.0</th>\n",
       "      <td>Very good</td>\n",
       "      <td>67.0</td>\n",
       "      <td>1.0</td>\n",
       "      <td>74.9</td>\n",
       "      <td>0.0</td>\n",
       "    </tr>\n",
       "    <tr>\n",
       "      <th>93714.0</th>\n",
       "      <td>Good</td>\n",
       "      <td>54.0</td>\n",
       "      <td>1.0</td>\n",
       "      <td>87.1</td>\n",
       "      <td>0.0</td>\n",
       "    </tr>\n",
       "    <tr>\n",
       "      <th>93715.0</th>\n",
       "      <td>Fair</td>\n",
       "      <td>71.0</td>\n",
       "      <td>1.0</td>\n",
       "      <td>65.6</td>\n",
       "      <td>1.0</td>\n",
       "    </tr>\n",
       "    <tr>\n",
       "      <th>93716.0</th>\n",
       "      <td>Very good</td>\n",
       "      <td>61.0</td>\n",
       "      <td>1.0</td>\n",
       "      <td>77.7</td>\n",
       "      <td>1.0</td>\n",
       "    </tr>\n",
       "  </tbody>\n",
       "</table>\n",
       "</div>"
      ],
      "text/plain": [
       "        GeneralHealthCondition  AgeInYearsAtScreening  \\\n",
       "SEQN                                                    \n",
       "93705.0                   Good                   66.0   \n",
       "93706.0              Very good                   18.0   \n",
       "93707.0                   Good                   13.0   \n",
       "93708.0                   Good                   66.0   \n",
       "93711.0              Very good                   56.0   \n",
       "93712.0                   Good                   18.0   \n",
       "93713.0              Very good                   67.0   \n",
       "93714.0                   Good                   54.0   \n",
       "93715.0                   Fair                   71.0   \n",
       "93716.0              Very good                   61.0   \n",
       "\n",
       "         SmokedAtLeast100CigarettesInLife  WeightKg  \\\n",
       "SEQN                                                  \n",
       "93705.0                               1.0      79.5   \n",
       "93706.0                               0.0      66.3   \n",
       "93707.0                               NaN      45.4   \n",
       "93708.0                               0.0      53.5   \n",
       "93711.0                               0.0      62.1   \n",
       "93712.0                               1.0      58.9   \n",
       "93713.0                               1.0      74.9   \n",
       "93714.0                               1.0      87.1   \n",
       "93715.0                               1.0      65.6   \n",
       "93716.0                               1.0      77.7   \n",
       "\n",
       "         VigorousRecreationalActivities  \n",
       "SEQN                                     \n",
       "93705.0                             0.0  \n",
       "93706.0                             0.0  \n",
       "93707.0                             NaN  \n",
       "93708.0                             0.0  \n",
       "93711.0                             1.0  \n",
       "93712.0                             1.0  \n",
       "93713.0                             0.0  \n",
       "93714.0                             0.0  \n",
       "93715.0                             1.0  \n",
       "93716.0                             1.0  "
      ]
     },
     "execution_count": 79,
     "metadata": {},
     "output_type": "execute_result"
    }
   ],
   "source": [
    "# Selects multiple columns and prints the first 10 rows\n",
    "cols = ['GeneralHealthCondition', 'AgeInYearsAtScreening', 'SmokedAtLeast100CigarettesInLife', 'WeightKg', 'VigorousRecreationalActivities']\n",
    "nhanes_df[cols].head(10)"
   ]
  },
  {
   "cell_type": "markdown",
   "metadata": {},
   "source": [
    "Just like numpy, we can also use boolean indexing to select portions of the dataframe based on a condition:"
   ]
  },
  {
   "cell_type": "code",
   "execution_count": 80,
   "metadata": {},
   "outputs": [
    {
     "data": {
      "text/html": [
       "<div>\n",
       "<style scoped>\n",
       "    .dataframe tbody tr th:only-of-type {\n",
       "        vertical-align: middle;\n",
       "    }\n",
       "\n",
       "    .dataframe tbody tr th {\n",
       "        vertical-align: top;\n",
       "    }\n",
       "\n",
       "    .dataframe thead th {\n",
       "        text-align: right;\n",
       "    }\n",
       "</style>\n",
       "<table border=\"1\" class=\"dataframe\">\n",
       "  <thead>\n",
       "    <tr style=\"text-align: right;\">\n",
       "      <th></th>\n",
       "      <th>GeneralHealthCondition</th>\n",
       "      <th>AgeInYearsAtScreening</th>\n",
       "      <th>SmokedAtLeast100CigarettesInLife</th>\n",
       "      <th>WeightKg</th>\n",
       "      <th>VigorousRecreationalActivities</th>\n",
       "    </tr>\n",
       "    <tr>\n",
       "      <th>SEQN</th>\n",
       "      <th></th>\n",
       "      <th></th>\n",
       "      <th></th>\n",
       "      <th></th>\n",
       "      <th></th>\n",
       "    </tr>\n",
       "  </thead>\n",
       "  <tbody>\n",
       "    <tr>\n",
       "      <th>93705.0</th>\n",
       "      <td>Good</td>\n",
       "      <td>66.0</td>\n",
       "      <td>1.0</td>\n",
       "      <td>79.5</td>\n",
       "      <td>0.0</td>\n",
       "    </tr>\n",
       "    <tr>\n",
       "      <th>93712.0</th>\n",
       "      <td>Good</td>\n",
       "      <td>18.0</td>\n",
       "      <td>1.0</td>\n",
       "      <td>58.9</td>\n",
       "      <td>1.0</td>\n",
       "    </tr>\n",
       "    <tr>\n",
       "      <th>93713.0</th>\n",
       "      <td>Very good</td>\n",
       "      <td>67.0</td>\n",
       "      <td>1.0</td>\n",
       "      <td>74.9</td>\n",
       "      <td>0.0</td>\n",
       "    </tr>\n",
       "    <tr>\n",
       "      <th>93714.0</th>\n",
       "      <td>Good</td>\n",
       "      <td>54.0</td>\n",
       "      <td>1.0</td>\n",
       "      <td>87.1</td>\n",
       "      <td>0.0</td>\n",
       "    </tr>\n",
       "    <tr>\n",
       "      <th>93715.0</th>\n",
       "      <td>Fair</td>\n",
       "      <td>71.0</td>\n",
       "      <td>1.0</td>\n",
       "      <td>65.6</td>\n",
       "      <td>1.0</td>\n",
       "    </tr>\n",
       "    <tr>\n",
       "      <th>93716.0</th>\n",
       "      <td>Very good</td>\n",
       "      <td>61.0</td>\n",
       "      <td>1.0</td>\n",
       "      <td>77.7</td>\n",
       "      <td>1.0</td>\n",
       "    </tr>\n",
       "    <tr>\n",
       "      <th>93717.0</th>\n",
       "      <td>Very good</td>\n",
       "      <td>22.0</td>\n",
       "      <td>1.0</td>\n",
       "      <td>74.4</td>\n",
       "      <td>0.0</td>\n",
       "    </tr>\n",
       "    <tr>\n",
       "      <th>93726.0</th>\n",
       "      <td>Very good</td>\n",
       "      <td>67.0</td>\n",
       "      <td>1.0</td>\n",
       "      <td>74.3</td>\n",
       "      <td>0.0</td>\n",
       "    </tr>\n",
       "    <tr>\n",
       "      <th>93727.0</th>\n",
       "      <td>Excellent</td>\n",
       "      <td>70.0</td>\n",
       "      <td>1.0</td>\n",
       "      <td>62.7</td>\n",
       "      <td>0.0</td>\n",
       "    </tr>\n",
       "    <tr>\n",
       "      <th>93729.0</th>\n",
       "      <td>Fair</td>\n",
       "      <td>42.0</td>\n",
       "      <td>1.0</td>\n",
       "      <td>82.8</td>\n",
       "      <td>0.0</td>\n",
       "    </tr>\n",
       "  </tbody>\n",
       "</table>\n",
       "</div>"
      ],
      "text/plain": [
       "        GeneralHealthCondition  AgeInYearsAtScreening  \\\n",
       "SEQN                                                    \n",
       "93705.0                   Good                   66.0   \n",
       "93712.0                   Good                   18.0   \n",
       "93713.0              Very good                   67.0   \n",
       "93714.0                   Good                   54.0   \n",
       "93715.0                   Fair                   71.0   \n",
       "93716.0              Very good                   61.0   \n",
       "93717.0              Very good                   22.0   \n",
       "93726.0              Very good                   67.0   \n",
       "93727.0              Excellent                   70.0   \n",
       "93729.0                   Fair                   42.0   \n",
       "\n",
       "         SmokedAtLeast100CigarettesInLife  WeightKg  \\\n",
       "SEQN                                                  \n",
       "93705.0                               1.0      79.5   \n",
       "93712.0                               1.0      58.9   \n",
       "93713.0                               1.0      74.9   \n",
       "93714.0                               1.0      87.1   \n",
       "93715.0                               1.0      65.6   \n",
       "93716.0                               1.0      77.7   \n",
       "93717.0                               1.0      74.4   \n",
       "93726.0                               1.0      74.3   \n",
       "93727.0                               1.0      62.7   \n",
       "93729.0                               1.0      82.8   \n",
       "\n",
       "         VigorousRecreationalActivities  \n",
       "SEQN                                     \n",
       "93705.0                             0.0  \n",
       "93712.0                             1.0  \n",
       "93713.0                             0.0  \n",
       "93714.0                             0.0  \n",
       "93715.0                             1.0  \n",
       "93716.0                             1.0  \n",
       "93717.0                             0.0  \n",
       "93726.0                             0.0  \n",
       "93727.0                             0.0  \n",
       "93729.0                             0.0  "
      ]
     },
     "execution_count": 80,
     "metadata": {},
     "output_type": "execute_result"
    }
   ],
   "source": [
    "# Selects respondents who have smoked at least 100 cigarettes in their life\n",
    "sel_df = nhanes_df[nhanes_df['SmokedAtLeast100CigarettesInLife'] == 1]\n",
    "\n",
    "sel_df[cols].head(10)"
   ]
  },
  {
   "cell_type": "markdown",
   "metadata": {},
   "source": [
    "We can then use the `value_counts` function to get the frequency of each category in a column:"
   ]
  },
  {
   "cell_type": "code",
   "execution_count": 81,
   "metadata": {},
   "outputs": [
    {
     "name": "stdout",
     "output_type": "stream",
     "text": [
      "GeneralHealthCondition\n",
      "Good         899\n",
      "Fair         544\n",
      "Very good    430\n",
      "Excellent    126\n",
      "Poor         103\n",
      "Name: count, dtype: int64\n",
      "GeneralHealthCondition\n",
      "Good         0.427688\n",
      "Fair         0.258801\n",
      "Very good    0.204567\n",
      "Excellent    0.059943\n",
      "Poor         0.049001\n",
      "Name: proportion, dtype: float64\n"
     ]
    }
   ],
   "source": [
    "print(sel_df['GeneralHealthCondition'].value_counts())\n",
    "\n",
    "# normalize=True to get the proportion of each category\n",
    "# dropna=False to include missing values as part of counts\n",
    "print(sel_df['GeneralHealthCondition'].value_counts(dropna=False, normalize=True))"
   ]
  },
  {
   "cell_type": "markdown",
   "metadata": {},
   "source": [
    ":::{tip}\n",
    "Many pandas operations by default drop na values, so be careful to double check what the default behavior is!\n",
    ":::"
   ]
  },
  {
   "cell_type": "markdown",
   "metadata": {},
   "source": [
    "**1.1**. How would we get the general health condition proportions of respondents who have engaged in vigorous recreational activities (1 = yes, 0 = no)? Write code to do this below:"
   ]
  },
  {
   "cell_type": "code",
   "execution_count": 82,
   "metadata": {},
   "outputs": [
    {
     "name": "stdout",
     "output_type": "stream",
     "text": [
      "GeneralHealthCondition\n",
      "Good         0.371585\n",
      "Very good    0.353630\n",
      "Excellent    0.154567\n",
      "Fair         0.114754\n",
      "Poor         0.005464\n",
      "Name: proportion, dtype: float64\n"
     ]
    }
   ],
   "source": [
    "# TODO your code here\n",
    "sel_df = nhanes_df[nhanes_df['VigorousRecreationalActivities'] == 1]\n",
    "print(sel_df['GeneralHealthCondition'].value_counts(dropna=False, normalize=True))\n",
    "### END SOLUTION"
   ]
  },
  {
   "cell_type": "markdown",
   "metadata": {},
   "source": [
    "What proportion of respondents who have engaged in vigorous recreational activities report being in excellent health?\n",
    "\n",
    "**Your response**: 15.45% of the respondents who have engaged in vigorous recreational activities report being in excellent health."
   ]
  },
  {
   "cell_type": "markdown",
   "metadata": {},
   "source": [
    "These boolean conditions can be combined using the `&` (AND), `|` (OR), and `~` (NOT) operators. Additionally, there are some special functions that can be used to select data based on a condition:"
   ]
  },
  {
   "cell_type": "code",
   "execution_count": 83,
   "metadata": {},
   "outputs": [],
   "source": [
    "# Combining conditions: respondents who are 18 or older and have engaged in vigorous recreational activities\n",
    "nhanes_df[(nhanes_df['AgeInYearsAtScreening'] >= 18) & (nhanes_df['VigorousRecreationalActivities'] == 1)] \n",
    "\n",
    "# isin(): select rows where a column is in a list of values\n",
    "nhanes_df[nhanes_df['GeneralHealthCondition'].isin(['Poor?', 'Fair or'])]\n",
    "\n",
    "# isna(): select rows where a column is missing\n",
    "nhanes_df[nhanes_df['SmokedAtLeast100CigarettesInLife'].isna()];"
   ]
  },
  {
   "cell_type": "markdown",
   "metadata": {},
   "source": [
    ":::{tip}\n",
    "To avoid errors, always use parentheses when combining conditions:\n",
    "\n",
    "- Incorrect: `df[column1 == value1 & column2 == value2]`\n",
    "- Correct: `df[(column1 == value1) & (column2 == value2)]`\n",
    ":::\n"
   ]
  },
  {
   "cell_type": "markdown",
   "metadata": {},
   "source": [
    "We can also create new columns or modify existing columns via `=` assignment (like we did with `replace()`):"
   ]
  },
  {
   "cell_type": "code",
   "execution_count": 84,
   "metadata": {},
   "outputs": [
    {
     "data": {
      "text/html": [
       "<div>\n",
       "<style scoped>\n",
       "    .dataframe tbody tr th:only-of-type {\n",
       "        vertical-align: middle;\n",
       "    }\n",
       "\n",
       "    .dataframe tbody tr th {\n",
       "        vertical-align: top;\n",
       "    }\n",
       "\n",
       "    .dataframe thead th {\n",
       "        text-align: right;\n",
       "    }\n",
       "</style>\n",
       "<table border=\"1\" class=\"dataframe\">\n",
       "  <thead>\n",
       "    <tr style=\"text-align: right;\">\n",
       "      <th></th>\n",
       "      <th>country</th>\n",
       "      <th>is_adult</th>\n",
       "      <th>AgeInYearsAtScreening</th>\n",
       "      <th>bmi</th>\n",
       "    </tr>\n",
       "    <tr>\n",
       "      <th>SEQN</th>\n",
       "      <th></th>\n",
       "      <th></th>\n",
       "      <th></th>\n",
       "      <th></th>\n",
       "    </tr>\n",
       "  </thead>\n",
       "  <tbody>\n",
       "    <tr>\n",
       "      <th>93705.0</th>\n",
       "      <td>United States</td>\n",
       "      <td>True</td>\n",
       "      <td>66.0</td>\n",
       "      <td>31.725268</td>\n",
       "    </tr>\n",
       "    <tr>\n",
       "      <th>93706.0</th>\n",
       "      <td>United States</td>\n",
       "      <td>True</td>\n",
       "      <td>18.0</td>\n",
       "      <td>21.476821</td>\n",
       "    </tr>\n",
       "    <tr>\n",
       "      <th>93707.0</th>\n",
       "      <td>United States</td>\n",
       "      <td>False</td>\n",
       "      <td>13.0</td>\n",
       "      <td>18.094455</td>\n",
       "    </tr>\n",
       "    <tr>\n",
       "      <th>93708.0</th>\n",
       "      <td>United States</td>\n",
       "      <td>True</td>\n",
       "      <td>66.0</td>\n",
       "      <td>23.714497</td>\n",
       "    </tr>\n",
       "    <tr>\n",
       "      <th>93711.0</th>\n",
       "      <td>United States</td>\n",
       "      <td>True</td>\n",
       "      <td>56.0</td>\n",
       "      <td>21.337009</td>\n",
       "    </tr>\n",
       "  </tbody>\n",
       "</table>\n",
       "</div>"
      ],
      "text/plain": [
       "               country  is_adult  AgeInYearsAtScreening        bmi\n",
       "SEQN                                                              \n",
       "93705.0  United States      True                   66.0  31.725268\n",
       "93706.0  United States      True                   18.0  21.476821\n",
       "93707.0  United States     False                   13.0  18.094455\n",
       "93708.0  United States      True                   66.0  23.714497\n",
       "93711.0  United States      True                   56.0  21.337009"
      ]
     },
     "execution_count": 84,
     "metadata": {},
     "output_type": "execute_result"
    }
   ],
   "source": [
    "# Assign a constant value to a new column where every row has the same value\n",
    "nhanes_df['country'] = 'United States'\n",
    "\n",
    "# Create a new column based on a condition of other columns\n",
    "nhanes_df['is_adult'] = nhanes_df['AgeInYearsAtScreening'] >= 18\n",
    "\n",
    "# Create a new column based on a function of other columns: calculate BMI\n",
    "nhanes_df['bmi'] = nhanes_df['WeightKg'] / (nhanes_df['StandingHeightCm'] / 100) ** 2\n",
    "\n",
    "# Print the updated dataframe\n",
    "nhanes_df[['country', 'is_adult', 'AgeInYearsAtScreening', 'bmi']].head()"
   ]
  },
  {
   "cell_type": "markdown",
   "metadata": {},
   "source": [
    "**1.2**. Let's practice combining these operations. Select respondents who:\n",
    "\n",
    "- are adults AND\n",
    "- report being in `Excellent` or `Very good` health AND\n",
    "- are NOT missing any values in the `bmi` column \n",
    "\n",
    "Write code to do this below:"
   ]
  },
  {
   "cell_type": "code",
   "execution_count": 85,
   "metadata": {},
   "outputs": [
    {
     "name": "stdout",
     "output_type": "stream",
     "text": [
      "(1692, 200)\n",
      "SmokedAtLeast100CigarettesInLife\n",
      "0.0    1140\n",
      "1.0     552\n",
      "Name: count, dtype: int64\n"
     ]
    }
   ],
   "source": [
    "# TODO your code here\n",
    "### BEGIN SOLUTION\n",
    "sel_df = nhanes_df[(nhanes_df['AgeInYearsAtScreening'] >= 18) \\\n",
    "                 & (nhanes_df['GeneralHealthCondition'].isin(['Excellent', 'Very good'])) \\\n",
    "                 & (nhanes_df['bmi'].notna())]\n",
    "print(sel_df.shape)\n",
    "print(sel_df['SmokedAtLeast100CigarettesInLife'].value_counts())\n",
    "### END SOLUTION"
   ]
  },
  {
   "cell_type": "markdown",
   "metadata": {},
   "source": [
    "How many respondents are in the selected group? How many of them have smoked at least 100 cigarettes in their life?\n",
    "\n",
    "**Your response**: There are 1692 respondents in the selected group. 552 of them have smoked at least 100 cigarettes in their life.\n"
   ]
  },
  {
   "cell_type": "markdown",
   "metadata": {},
   "source": [
    "## the `.loc` operator\n",
    "\n",
    "In addition to square bracket indexing, pandas provides a powerful indexing method via the [.loc](https://pandas.pydata.org/docs/reference/api/pandas.DataFrame.loc.html) operator, which allows us to select rows and columns by their labels or even boolean conditions.\n",
    "\n",
    "Generally, the `.loc` operator is used to select rows and columns by their labels:\n",
    "\n",
    "```python\n",
    "df.loc[row_label, column_label]\n",
    "```\n",
    "\n",
    "The loc operator borrows from the slice notation of python lists, where we can use `:` to select all rows or column:"
   ]
  },
  {
   "cell_type": "code",
   "execution_count": 86,
   "metadata": {},
   "outputs": [
    {
     "data": {
      "text/plain": [
       "SEQN\n",
       "93705.0    31.725268\n",
       "93706.0    21.476821\n",
       "93707.0    18.094455\n",
       "93708.0    23.714497\n",
       "93711.0    21.337009\n",
       "Name: bmi, dtype: float64"
      ]
     },
     "execution_count": 86,
     "metadata": {},
     "output_type": "execute_result"
    }
   ],
   "source": [
    "# selects all rows and the 'bmi' column, returned as a series\n",
    "nhanes_df.loc[:, 'bmi'].head()\n"
   ]
  },
  {
   "cell_type": "code",
   "execution_count": 87,
   "metadata": {},
   "outputs": [
    {
     "data": {
      "text/html": [
       "<div>\n",
       "<style scoped>\n",
       "    .dataframe tbody tr th:only-of-type {\n",
       "        vertical-align: middle;\n",
       "    }\n",
       "\n",
       "    .dataframe tbody tr th {\n",
       "        vertical-align: top;\n",
       "    }\n",
       "\n",
       "    .dataframe thead th {\n",
       "        text-align: right;\n",
       "    }\n",
       "</style>\n",
       "<table border=\"1\" class=\"dataframe\">\n",
       "  <thead>\n",
       "    <tr style=\"text-align: right;\">\n",
       "      <th></th>\n",
       "      <th>country</th>\n",
       "      <th>is_adult</th>\n",
       "      <th>bmi</th>\n",
       "    </tr>\n",
       "    <tr>\n",
       "      <th>SEQN</th>\n",
       "      <th></th>\n",
       "      <th></th>\n",
       "      <th></th>\n",
       "    </tr>\n",
       "  </thead>\n",
       "  <tbody>\n",
       "    <tr>\n",
       "      <th>93705.0</th>\n",
       "      <td>United States</td>\n",
       "      <td>True</td>\n",
       "      <td>31.725268</td>\n",
       "    </tr>\n",
       "    <tr>\n",
       "      <th>93706.0</th>\n",
       "      <td>United States</td>\n",
       "      <td>True</td>\n",
       "      <td>21.476821</td>\n",
       "    </tr>\n",
       "    <tr>\n",
       "      <th>93707.0</th>\n",
       "      <td>United States</td>\n",
       "      <td>False</td>\n",
       "      <td>18.094455</td>\n",
       "    </tr>\n",
       "    <tr>\n",
       "      <th>93708.0</th>\n",
       "      <td>United States</td>\n",
       "      <td>True</td>\n",
       "      <td>23.714497</td>\n",
       "    </tr>\n",
       "    <tr>\n",
       "      <th>93711.0</th>\n",
       "      <td>United States</td>\n",
       "      <td>True</td>\n",
       "      <td>21.337009</td>\n",
       "    </tr>\n",
       "  </tbody>\n",
       "</table>\n",
       "</div>"
      ],
      "text/plain": [
       "               country  is_adult        bmi\n",
       "SEQN                                       \n",
       "93705.0  United States      True  31.725268\n",
       "93706.0  United States      True  21.476821\n",
       "93707.0  United States     False  18.094455\n",
       "93708.0  United States      True  23.714497\n",
       "93711.0  United States      True  21.337009"
      ]
     },
     "execution_count": 87,
     "metadata": {},
     "output_type": "execute_result"
    }
   ],
   "source": [
    "# selects all rows and the ['country', 'is_adult', 'bmi'] columns\n",
    "# Note that the columns are wrapped in a list!\n",
    "nhanes_df.loc[:, ['country', 'is_adult', 'bmi']].head()"
   ]
  },
  {
   "cell_type": "markdown",
   "metadata": {},
   "source": [
    "Where the .loc operator becomes useful is when we want to compactly select rows and columns based on a condition:"
   ]
  },
  {
   "cell_type": "code",
   "execution_count": 88,
   "metadata": {},
   "outputs": [
    {
     "data": {
      "text/html": [
       "<div>\n",
       "<style scoped>\n",
       "    .dataframe tbody tr th:only-of-type {\n",
       "        vertical-align: middle;\n",
       "    }\n",
       "\n",
       "    .dataframe tbody tr th {\n",
       "        vertical-align: top;\n",
       "    }\n",
       "\n",
       "    .dataframe thead th {\n",
       "        text-align: right;\n",
       "    }\n",
       "</style>\n",
       "<table border=\"1\" class=\"dataframe\">\n",
       "  <thead>\n",
       "    <tr style=\"text-align: right;\">\n",
       "      <th></th>\n",
       "      <th>bmi</th>\n",
       "      <th>is_adult</th>\n",
       "    </tr>\n",
       "    <tr>\n",
       "      <th>SEQN</th>\n",
       "      <th></th>\n",
       "      <th></th>\n",
       "    </tr>\n",
       "  </thead>\n",
       "  <tbody>\n",
       "    <tr>\n",
       "      <th>93705.0</th>\n",
       "      <td>31.725268</td>\n",
       "      <td>True</td>\n",
       "    </tr>\n",
       "    <tr>\n",
       "      <th>93714.0</th>\n",
       "      <td>39.872116</td>\n",
       "      <td>True</td>\n",
       "    </tr>\n",
       "    <tr>\n",
       "      <th>93716.0</th>\n",
       "      <td>30.657370</td>\n",
       "      <td>True</td>\n",
       "    </tr>\n",
       "    <tr>\n",
       "      <th>93719.0</th>\n",
       "      <td>26.009064</td>\n",
       "      <td>False</td>\n",
       "    </tr>\n",
       "    <tr>\n",
       "      <th>93721.0</th>\n",
       "      <td>35.882948</td>\n",
       "      <td>True</td>\n",
       "    </tr>\n",
       "  </tbody>\n",
       "</table>\n",
       "</div>"
      ],
      "text/plain": [
       "               bmi  is_adult\n",
       "SEQN                        \n",
       "93705.0  31.725268      True\n",
       "93714.0  39.872116      True\n",
       "93716.0  30.657370      True\n",
       "93719.0  26.009064     False\n",
       "93721.0  35.882948      True"
      ]
     },
     "execution_count": 88,
     "metadata": {},
     "output_type": "execute_result"
    }
   ],
   "source": [
    "# selects rows where the 'bmi' column is greater than 25, and returns the 'bmi' and 'is_adult' columns\n",
    "nhanes_df.loc[nhanes_df['bmi'] > 25, ['bmi', 'is_adult']].head()"
   ]
  },
  {
   "cell_type": "markdown",
   "metadata": {},
   "source": [
    "This selection can be used to modify columns based on a condition:"
   ]
  },
  {
   "cell_type": "code",
   "execution_count": 89,
   "metadata": {},
   "outputs": [
    {
     "data": {
      "text/html": [
       "<div>\n",
       "<style scoped>\n",
       "    .dataframe tbody tr th:only-of-type {\n",
       "        vertical-align: middle;\n",
       "    }\n",
       "\n",
       "    .dataframe tbody tr th {\n",
       "        vertical-align: top;\n",
       "    }\n",
       "\n",
       "    .dataframe thead th {\n",
       "        text-align: right;\n",
       "    }\n",
       "</style>\n",
       "<table border=\"1\" class=\"dataframe\">\n",
       "  <thead>\n",
       "    <tr style=\"text-align: right;\">\n",
       "      <th></th>\n",
       "      <th>bmi</th>\n",
       "      <th>is_adult</th>\n",
       "    </tr>\n",
       "    <tr>\n",
       "      <th>SEQN</th>\n",
       "      <th></th>\n",
       "      <th></th>\n",
       "    </tr>\n",
       "  </thead>\n",
       "  <tbody>\n",
       "    <tr>\n",
       "      <th>93705.0</th>\n",
       "      <td>31.725268</td>\n",
       "      <td>True</td>\n",
       "    </tr>\n",
       "    <tr>\n",
       "      <th>93706.0</th>\n",
       "      <td>21.476821</td>\n",
       "      <td>True</td>\n",
       "    </tr>\n",
       "    <tr>\n",
       "      <th>93707.0</th>\n",
       "      <td>NaN</td>\n",
       "      <td>False</td>\n",
       "    </tr>\n",
       "    <tr>\n",
       "      <th>93708.0</th>\n",
       "      <td>23.714497</td>\n",
       "      <td>True</td>\n",
       "    </tr>\n",
       "    <tr>\n",
       "      <th>93711.0</th>\n",
       "      <td>21.337009</td>\n",
       "      <td>True</td>\n",
       "    </tr>\n",
       "  </tbody>\n",
       "</table>\n",
       "</div>"
      ],
      "text/plain": [
       "               bmi  is_adult\n",
       "SEQN                        \n",
       "93705.0  31.725268      True\n",
       "93706.0  21.476821      True\n",
       "93707.0        NaN     False\n",
       "93708.0  23.714497      True\n",
       "93711.0  21.337009      True"
      ]
     },
     "execution_count": 89,
     "metadata": {},
     "output_type": "execute_result"
    }
   ],
   "source": [
    "# set the 'bmi' column to np.nan for all rows where the 'is_adult' column is False\n",
    "nhanes_df.loc[nhanes_df['is_adult'] == False, 'bmi'] = np.nan\n",
    "\n",
    "# print the updated dataframe\n",
    "nhanes_df[['bmi', 'is_adult']].head()"
   ]
  },
  {
   "cell_type": "markdown",
   "metadata": {},
   "source": [
    "**1.3.** Common age cutoffs that are used in health policy studies are 18 and 65 -- 18 is when people are legally considered adults in the United States, and 65 is when they are eligible for Medicare health insurance. Create a new column `age_category` using the `AgeInYearsAtScreening` column and the `.loc` operator that makes the following assignments:\n",
    "\n",
    "- `'child'`: age < 18\n",
    "- `'adult'`: 18 <= age < 65\n",
    "- `'senior'`: age >= 65"
   ]
  },
  {
   "cell_type": "code",
   "execution_count": 90,
   "metadata": {},
   "outputs": [
    {
     "data": {
      "text/plain": [
       "age_category\n",
       "adult     3861\n",
       "senior    1274\n",
       "child      829\n",
       "Name: count, dtype: int64"
      ]
     },
     "execution_count": 90,
     "metadata": {},
     "output_type": "execute_result"
    }
   ],
   "source": [
    "# TODO your code here\n",
    "\n",
    "### BEGIN SOLUTION\n",
    "nhanes_df.loc[nhanes_df['AgeInYearsAtScreening'] < 18, 'age_category'] = 'child'\n",
    "nhanes_df.loc[(nhanes_df['AgeInYearsAtScreening'] >= 18) & (nhanes_df['AgeInYearsAtScreening'] < 65), 'age_category'] = 'adult'\n",
    "nhanes_df.loc[nhanes_df['AgeInYearsAtScreening'] >= 65, 'age_category'] = 'senior'\n",
    "\n",
    "nhanes_df['age_category'].value_counts()\n",
    "### END SOLUTION"
   ]
  },
  {
   "cell_type": "markdown",
   "metadata": {},
   "source": [
    "How many respondents are in the 'senior' age category?\n",
    "\n",
    "**Your response**: 1274"
   ]
  },
  {
   "cell_type": "markdown",
   "metadata": {},
   "source": [
    "## Grouping and transformation\n",
    " \n",
    "The [groupby()](https://pandas.pydata.org/docs/reference/api/pandas.DataFrame.groupby.html) function is a powerful tool for performing aggregations on subsets of the dataframe. We pass in one or more columns as the `by` argument, which then divides the original Dataframe based on the unique values of the column(s). We then often apply an **aggregation** function to each group, resulting in a new dataframe."
   ]
  },
  {
   "cell_type": "markdown",
   "metadata": {},
   "source": [
    "We can replicate `value_counts()` with `groupby()` and the `size()` aggregation function:"
   ]
  },
  {
   "cell_type": "code",
   "execution_count": 91,
   "metadata": {},
   "outputs": [
    {
     "name": "stdout",
     "output_type": "stream",
     "text": [
      "GeneralHealthCondition\n",
      "Excellent     619\n",
      "Fair         1175\n",
      "Good         2454\n",
      "Poor          172\n",
      "Very good    1544\n",
      "dtype: int64\n"
     ]
    }
   ],
   "source": [
    "# Count number of people in each health condition category\n",
    "print(nhanes_df.groupby(by='GeneralHealthCondition').size())\n"
   ]
  },
  {
   "cell_type": "markdown",
   "metadata": {},
   "source": [
    "We can also compute summary statistics like `mean()`, `std()`, `median()`, `min()`, `max()` on each group:"
   ]
  },
  {
   "cell_type": "code",
   "execution_count": 92,
   "metadata": {},
   "outputs": [
    {
     "data": {
      "text/plain": [
       "GeneralHealthCondition\n",
       "Excellent    26.518102\n",
       "Fair         31.889146\n",
       "Good         30.176114\n",
       "Poor         34.366233\n",
       "Very good    27.744468\n",
       "Name: bmi, dtype: float64"
      ]
     },
     "execution_count": 92,
     "metadata": {},
     "output_type": "execute_result"
    }
   ],
   "source": [
    "# Calculate mean BMI by general health condition\n",
    "nhanes_df.groupby(by='GeneralHealthCondition')['bmi'].mean()"
   ]
  },
  {
   "cell_type": "markdown",
   "metadata": {},
   "source": [
    "We can also group by multiple columns, which then groups the dataframe by the unique cross-product of the columns:"
   ]
  },
  {
   "cell_type": "code",
   "execution_count": 93,
   "metadata": {},
   "outputs": [
    {
     "data": {
      "text/html": [
       "<div>\n",
       "<style scoped>\n",
       "    .dataframe tbody tr th:only-of-type {\n",
       "        vertical-align: middle;\n",
       "    }\n",
       "\n",
       "    .dataframe tbody tr th {\n",
       "        vertical-align: top;\n",
       "    }\n",
       "\n",
       "    .dataframe thead th {\n",
       "        text-align: right;\n",
       "    }\n",
       "</style>\n",
       "<table border=\"1\" class=\"dataframe\">\n",
       "  <thead>\n",
       "    <tr style=\"text-align: right;\">\n",
       "      <th></th>\n",
       "      <th>GeneralHealthCondition</th>\n",
       "      <th>VigorousRecreationalActivities</th>\n",
       "      <th>bmi</th>\n",
       "    </tr>\n",
       "  </thead>\n",
       "  <tbody>\n",
       "    <tr>\n",
       "      <th>0</th>\n",
       "      <td>Excellent</td>\n",
       "      <td>0.0</td>\n",
       "      <td>27.303422</td>\n",
       "    </tr>\n",
       "    <tr>\n",
       "      <th>1</th>\n",
       "      <td>Excellent</td>\n",
       "      <td>1.0</td>\n",
       "      <td>25.496384</td>\n",
       "    </tr>\n",
       "    <tr>\n",
       "      <th>2</th>\n",
       "      <td>Fair</td>\n",
       "      <td>0.0</td>\n",
       "      <td>31.804008</td>\n",
       "    </tr>\n",
       "    <tr>\n",
       "      <th>3</th>\n",
       "      <td>Fair</td>\n",
       "      <td>1.0</td>\n",
       "      <td>32.433563</td>\n",
       "    </tr>\n",
       "    <tr>\n",
       "      <th>4</th>\n",
       "      <td>Good</td>\n",
       "      <td>0.0</td>\n",
       "      <td>30.266370</td>\n",
       "    </tr>\n",
       "    <tr>\n",
       "      <th>5</th>\n",
       "      <td>Good</td>\n",
       "      <td>1.0</td>\n",
       "      <td>29.861264</td>\n",
       "    </tr>\n",
       "    <tr>\n",
       "      <th>6</th>\n",
       "      <td>Poor</td>\n",
       "      <td>0.0</td>\n",
       "      <td>34.507856</td>\n",
       "    </tr>\n",
       "    <tr>\n",
       "      <th>7</th>\n",
       "      <td>Poor</td>\n",
       "      <td>1.0</td>\n",
       "      <td>31.169604</td>\n",
       "    </tr>\n",
       "    <tr>\n",
       "      <th>8</th>\n",
       "      <td>Very good</td>\n",
       "      <td>0.0</td>\n",
       "      <td>28.349808</td>\n",
       "    </tr>\n",
       "    <tr>\n",
       "      <th>9</th>\n",
       "      <td>Very good</td>\n",
       "      <td>1.0</td>\n",
       "      <td>26.684116</td>\n",
       "    </tr>\n",
       "  </tbody>\n",
       "</table>\n",
       "</div>"
      ],
      "text/plain": [
       "  GeneralHealthCondition  VigorousRecreationalActivities        bmi\n",
       "0              Excellent                             0.0  27.303422\n",
       "1              Excellent                             1.0  25.496384\n",
       "2                   Fair                             0.0  31.804008\n",
       "3                   Fair                             1.0  32.433563\n",
       "4                   Good                             0.0  30.266370\n",
       "5                   Good                             1.0  29.861264\n",
       "6                   Poor                             0.0  34.507856\n",
       "7                   Poor                             1.0  31.169604\n",
       "8              Very good                             0.0  28.349808\n",
       "9              Very good                             1.0  26.684116"
      ]
     },
     "execution_count": 93,
     "metadata": {},
     "output_type": "execute_result"
    }
   ],
   "source": [
    "# Calculate mean BMI by general health condition and vigorous recreational activities\n",
    "# as_index=False keeps the groupby columns as columns in the resulting dataframe\n",
    "nhanes_df.groupby(by=['GeneralHealthCondition', 'VigorousRecreationalActivities'], as_index=False)['bmi'].mean()"
   ]
  },
  {
   "cell_type": "markdown",
   "metadata": {},
   "source": [
    "To apply multiple aggregation functions, we can pass in a dictionary of columns as keys and functions as values to [agg()](https://pandas.pydata.org/docs/reference/api/pandas.DataFrame.agg.html):"
   ]
  },
  {
   "cell_type": "code",
   "execution_count": 94,
   "metadata": {},
   "outputs": [
    {
     "data": {
      "text/html": [
       "<div>\n",
       "<style scoped>\n",
       "    .dataframe tbody tr th:only-of-type {\n",
       "        vertical-align: middle;\n",
       "    }\n",
       "\n",
       "    .dataframe tbody tr th {\n",
       "        vertical-align: top;\n",
       "    }\n",
       "\n",
       "    .dataframe thead tr th {\n",
       "        text-align: left;\n",
       "    }\n",
       "\n",
       "    .dataframe thead tr:last-of-type th {\n",
       "        text-align: right;\n",
       "    }\n",
       "</style>\n",
       "<table border=\"1\" class=\"dataframe\">\n",
       "  <thead>\n",
       "    <tr>\n",
       "      <th></th>\n",
       "      <th colspan=\"3\" halign=\"left\">bmi</th>\n",
       "      <th>AnnualHouseholdIncome</th>\n",
       "    </tr>\n",
       "    <tr>\n",
       "      <th></th>\n",
       "      <th>mean</th>\n",
       "      <th>min</th>\n",
       "      <th>max</th>\n",
       "      <th>median</th>\n",
       "    </tr>\n",
       "    <tr>\n",
       "      <th>GeneralHealthCondition</th>\n",
       "      <th></th>\n",
       "      <th></th>\n",
       "      <th></th>\n",
       "      <th></th>\n",
       "    </tr>\n",
       "  </thead>\n",
       "  <tbody>\n",
       "    <tr>\n",
       "      <th>Excellent</th>\n",
       "      <td>26.518102</td>\n",
       "      <td>16.111752</td>\n",
       "      <td>57.266546</td>\n",
       "      <td>60000.0</td>\n",
       "    </tr>\n",
       "    <tr>\n",
       "      <th>Fair</th>\n",
       "      <td>31.889146</td>\n",
       "      <td>15.469697</td>\n",
       "      <td>72.555993</td>\n",
       "      <td>30000.0</td>\n",
       "    </tr>\n",
       "    <tr>\n",
       "      <th>Good</th>\n",
       "      <td>30.176114</td>\n",
       "      <td>15.455268</td>\n",
       "      <td>86.160237</td>\n",
       "      <td>50000.0</td>\n",
       "    </tr>\n",
       "    <tr>\n",
       "      <th>Poor</th>\n",
       "      <td>34.366233</td>\n",
       "      <td>14.910611</td>\n",
       "      <td>84.404111</td>\n",
       "      <td>30000.0</td>\n",
       "    </tr>\n",
       "    <tr>\n",
       "      <th>Very good</th>\n",
       "      <td>27.744468</td>\n",
       "      <td>14.818824</td>\n",
       "      <td>57.689838</td>\n",
       "      <td>60000.0</td>\n",
       "    </tr>\n",
       "  </tbody>\n",
       "</table>\n",
       "</div>"
      ],
      "text/plain": [
       "                              bmi                       AnnualHouseholdIncome\n",
       "                             mean        min        max                median\n",
       "GeneralHealthCondition                                                       \n",
       "Excellent               26.518102  16.111752  57.266546               60000.0\n",
       "Fair                    31.889146  15.469697  72.555993               30000.0\n",
       "Good                    30.176114  15.455268  86.160237               50000.0\n",
       "Poor                    34.366233  14.910611  84.404111               30000.0\n",
       "Very good               27.744468  14.818824  57.689838               60000.0"
      ]
     },
     "execution_count": 94,
     "metadata": {},
     "output_type": "execute_result"
    }
   ],
   "source": [
    "# Calculate mean, min, max for BMI and median household income by general health condition\n",
    "nhanes_df.groupby(by='GeneralHealthCondition').agg({'bmi': ['mean', 'min', 'max'], 'AnnualHouseholdIncome': 'median'})"
   ]
  },
  {
   "cell_type": "markdown",
   "metadata": {},
   "source": [
    "**1.4**. Generate a table that groups by:\n",
    "\n",
    "- `GeneralHealthCondition`\n",
    "- `SmokedAtLeast100CigarettesInLife`\n",
    "\n",
    "and calculates the mean of the following columns:\n",
    "\n",
    "- `EverToldYouHavePrediabetes`: 0 = no, 1 = yes\n",
    "- `EverToldYouHadHeartAttack`: 0 = no, 1 = yes\n",
    "\n",
    ":::{note}\n",
    "The mean of a binary column is equivalent to the proportion of 1s in the column.\n",
    ":::"
   ]
  },
  {
   "cell_type": "code",
   "execution_count": 95,
   "metadata": {},
   "outputs": [
    {
     "data": {
      "text/html": [
       "<div>\n",
       "<style scoped>\n",
       "    .dataframe tbody tr th:only-of-type {\n",
       "        vertical-align: middle;\n",
       "    }\n",
       "\n",
       "    .dataframe tbody tr th {\n",
       "        vertical-align: top;\n",
       "    }\n",
       "\n",
       "    .dataframe thead th {\n",
       "        text-align: right;\n",
       "    }\n",
       "</style>\n",
       "<table border=\"1\" class=\"dataframe\">\n",
       "  <thead>\n",
       "    <tr style=\"text-align: right;\">\n",
       "      <th></th>\n",
       "      <th></th>\n",
       "      <th>EverToldYouHavePrediabetes</th>\n",
       "      <th>EverToldYouHadHeartAttack</th>\n",
       "    </tr>\n",
       "    <tr>\n",
       "      <th>GeneralHealthCondition</th>\n",
       "      <th>SmokedAtLeast100CigarettesInLife</th>\n",
       "      <th></th>\n",
       "      <th></th>\n",
       "    </tr>\n",
       "  </thead>\n",
       "  <tbody>\n",
       "    <tr>\n",
       "      <th rowspan=\"2\" valign=\"top\">Excellent</th>\n",
       "      <th>0.0</th>\n",
       "      <td>0.060510</td>\n",
       "      <td>0.006757</td>\n",
       "    </tr>\n",
       "    <tr>\n",
       "      <th>1.0</th>\n",
       "      <td>0.059322</td>\n",
       "      <td>0.049180</td>\n",
       "    </tr>\n",
       "    <tr>\n",
       "      <th rowspan=\"2\" valign=\"top\">Fair</th>\n",
       "      <th>0.0</th>\n",
       "      <td>0.192308</td>\n",
       "      <td>0.055351</td>\n",
       "    </tr>\n",
       "    <tr>\n",
       "      <th>1.0</th>\n",
       "      <td>0.144000</td>\n",
       "      <td>0.117537</td>\n",
       "    </tr>\n",
       "    <tr>\n",
       "      <th rowspan=\"2\" valign=\"top\">Good</th>\n",
       "      <th>0.0</th>\n",
       "      <td>0.125239</td>\n",
       "      <td>0.024034</td>\n",
       "    </tr>\n",
       "    <tr>\n",
       "      <th>1.0</th>\n",
       "      <td>0.141854</td>\n",
       "      <td>0.058493</td>\n",
       "    </tr>\n",
       "    <tr>\n",
       "      <th rowspan=\"2\" valign=\"top\">Poor</th>\n",
       "      <th>0.0</th>\n",
       "      <td>0.243902</td>\n",
       "      <td>0.070175</td>\n",
       "    </tr>\n",
       "    <tr>\n",
       "      <th>1.0</th>\n",
       "      <td>0.187500</td>\n",
       "      <td>0.186275</td>\n",
       "    </tr>\n",
       "    <tr>\n",
       "      <th rowspan=\"2\" valign=\"top\">Very good</th>\n",
       "      <th>0.0</th>\n",
       "      <td>0.096336</td>\n",
       "      <td>0.017426</td>\n",
       "    </tr>\n",
       "    <tr>\n",
       "      <th>1.0</th>\n",
       "      <td>0.100529</td>\n",
       "      <td>0.044706</td>\n",
       "    </tr>\n",
       "  </tbody>\n",
       "</table>\n",
       "</div>"
      ],
      "text/plain": [
       "                                                         EverToldYouHavePrediabetes  \\\n",
       "GeneralHealthCondition SmokedAtLeast100CigarettesInLife                               \n",
       "Excellent              0.0                                                 0.060510   \n",
       "                       1.0                                                 0.059322   \n",
       "Fair                   0.0                                                 0.192308   \n",
       "                       1.0                                                 0.144000   \n",
       "Good                   0.0                                                 0.125239   \n",
       "                       1.0                                                 0.141854   \n",
       "Poor                   0.0                                                 0.243902   \n",
       "                       1.0                                                 0.187500   \n",
       "Very good              0.0                                                 0.096336   \n",
       "                       1.0                                                 0.100529   \n",
       "\n",
       "                                                         EverToldYouHadHeartAttack  \n",
       "GeneralHealthCondition SmokedAtLeast100CigarettesInLife                             \n",
       "Excellent              0.0                                                0.006757  \n",
       "                       1.0                                                0.049180  \n",
       "Fair                   0.0                                                0.055351  \n",
       "                       1.0                                                0.117537  \n",
       "Good                   0.0                                                0.024034  \n",
       "                       1.0                                                0.058493  \n",
       "Poor                   0.0                                                0.070175  \n",
       "                       1.0                                                0.186275  \n",
       "Very good              0.0                                                0.017426  \n",
       "                       1.0                                                0.044706  "
      ]
     },
     "execution_count": 95,
     "metadata": {},
     "output_type": "execute_result"
    }
   ],
   "source": [
    "# TODO your code here\n",
    "### BEGIN SOLUTION\n",
    "nhanes_df.groupby(by=['GeneralHealthCondition', 'SmokedAtLeast100CigarettesInLife']).agg({'EverToldYouHavePrediabetes': 'mean', 'EverToldYouHadHeartAttack': 'mean'})\n",
    "### END SOLUTION\n",
    "\n"
   ]
  },
  {
   "cell_type": "markdown",
   "metadata": {},
   "source": [
    "Which subgroup of health conditions and smoking status has the highest proportion of people who have been told they have had a heart attack?\n",
    "\n",
    "**Your response**: The subgroup with the highest proportion of people who have been told they have had a heart attack are those with a `Poor` health condition and have smoked at least 100 cigarettes in their life, at 18.6%.\n"
   ]
  },
  {
   "cell_type": "markdown",
   "metadata": {},
   "source": [
    ":::{note}\n",
    "For more on pandas operations, see [this quickstart guide](https://pandas.pydata.org/docs/user_guide/10min.html) and the associated links within it.\n",
    ":::\n"
   ]
  },
  {
   "cell_type": "markdown",
   "metadata": {},
   "source": [
    "# 2. Reading: Neal 2020 [1 pt]\n",
    "\n",
    "Read the following sections of [Neal 2020: An Introduction to Causal Inference](https://www.bradyneal.com/Introduction_to_Causal_Inference-Dec17_2020-Neal.pdf) and answer the questions below:\n",
    "\n",
    "- Sections 2.1 - 2.3.2\n",
    "- Section 2.3.5\n",
    "\n",
    ":::{admonition} Reading Notes\n",
    "\n",
    "- Don't worry too much about the causal graphs shown in the margin, as we'll cover causal graph formalisms in upcoming classes.\n",
    "\n",
    "- The notation $\\triangleq$ is used to denote \"is defined as\". For example, Equation 2.1 $\\tau_i \\triangleq Y_i(1) - Y_i(0)$ means that the individual treatment effect for unit $i$ is defined as $Y_i(1) - Y_i(0)$.\n",
    "\n",
    "- A mathematical identity we'll need for the derivations is **linearity of expectation**. This states that for *any* random variables $X$ and $Y$ and constant $a$: \n",
    "\n",
    "$$\n",
    "E[X + Y] = E[X] + E[Y]\n",
    "$$\n",
    "\n",
    "$$\n",
    "E[aX] = aE[X]\n",
    "$$\n",
    "\n",
    "- Implications of two variables $X$ and $Y$ being independent (written $X \\perp Y$) are that:\n",
    "\n",
    "$$\n",
    "E[X | Y=y] = E[X]\n",
    "$$\n",
    "\n",
    "$$\n",
    "E[XY] = E[X]E[Y]\n",
    "$$\n",
    "\n",
    "- The consistency assumption (Assumption 2.5) allows us to define the observed outcome $Y$ with binary treatment $T$ as follows:\n",
    "\n",
    "$$\n",
    "Y = T \\cdot Y(1) + (1-T) \\cdot Y(0)\n",
    "$$\n",
    ":::\n"
   ]
  },
  {
   "cell_type": "markdown",
   "metadata": {},
   "source": [
    "\n",
    "**2.1.** State the fundamental problem of causal inference in your own words.\n",
    "\n",
    "**Your Response**: The fundamental problem of causal inference is that we only observe one potential outcome for each unit (the one that corresponds to the treatment they received), and so we need to make assumptions to identify any causal quantities.\n",
    "\n",
    "**2.2.** These sections of Neal 2020 cover three key assumptions that allow us to **identify** (definition 2.1, p. 10) the average treatment effect (ATE) of a binary treatment:\n",
    "\n",
    "- ignorability / exchangeability (Assumption 2.1, p. 9)\n",
    "- no interference (Assumption 2.4, p. 13)\n",
    "- consistency (Assumption 2.5, p. 14)\n",
    "\n",
    "Below is a restatement of the ATE derivation. State which mathematical identities and assumptions are used on each line:\n",
    "\n",
    "$$\n",
    "ATE &= E[Y(1) - Y(0)]\\\\\n",
    "    &= E[Y(1)] − E[Y(0)], \\text{ from linearity of expectation} \\\\\n",
    "    &= E[Y(1) | T = 1] − E[Y(0) | T = 0], \\text{ from ignorability/exchangeability} \\\\\n",
    "    &= E[Y | T = 1] − E[Y | T = 0] \\text{ from consistency}\n",
    "$$\n",
    "\n",
    "**2.3.** The no interference assumption states that the potential outcomes for one unit are unaffected by the treatment assignment of other units. Breaking down Neal's example on p. 13, suppose that you are unit 1 and your friend is unit 2. If your friend gets a dog ($t_2 = 1$), we can then examine your potential outcomes:\n",
    "\n",
    "$$\n",
    "&Y_1(t_1, t_2), \\text{ potential outcomes for unit 1} \\\\ \n",
    "&Y_1(0, 1), \\text{ you don't get a dog, but your friend does} \\\\\n",
    "&Y_1(1, 1), \\text{ you and your friend get a dog}\n",
    "$$\n",
    "\n",
    "The argument is that it is likely that the potential outcomes for your happiness are affected by your friend's choice to get a dog: perhaps you'll already be happier if your friend gets a dog because you get to play with them, or perhaps you're allergic to dogs so you have to see your friend less often, etc. This leads to a violation of the no interference assumption where your potential outcomes are no longer just a function of your own treatment assignment $t_1$:\n",
    "\n",
    "$$\n",
    "Y_1(0, 1) \\neq Y_1(0) \\\\\n",
    "Y_1(1, 1) \\neq Y_1(1)\n",
    "$$\n",
    "\n",
    "Neal then states that \"violations of the no interference assumption are rampant in network data,\" e.g. friend groups like the dog example above, social networks, or transportation networks (think roads, subway lines, airports). Give an example of a setting along with a treatment $T$ and outcome $Y$ where you think the no interference assumption is likely to be violated.\n",
    "\n",
    "**Your Response**: Varies, but vaccine administration and herd immunity is a common setting where no interference is likely to be violated.\n",
    "\n",
    "- Treatment: Flu vaccine administration\n",
    "- Outcome: Flu hospitalization rates\n",
    "- Reasoning: Vaccines are administered to individuals who then protect both themselves and others from the flu through herd immunity. This decreases the likelihood of flu transmission, and so the potential outcomes for one individual's health are affected by the treatment assignments of others."
   ]
  },
  {
   "cell_type": "markdown",
   "metadata": {},
   "source": [
    "# 3. Causal inference as a missing data problem [1 pt]\n",
    "\n",
    "Let's now put the conceptual ideas around potential outcomes together with our table manipulation practice in pandas.\n",
    "\n",
    "Our framework for causal inference is that there is there is a causal \"ground truth\" table of potential outcomes for each unit. For example, we might be interested in studying the effect of taking aspirin $T$ ($T=1$ means taking aspirin, $T=0$ means not taking aspirin) on headaches $Y$ ($Y=1$ means having a headache, $Y=0$ means not having a headache). The potential outcomes then correspond to:\n",
    "\n",
    "$$\n",
    "Y(0) = \\text{what the outcome } \\textit{would have been} \\text{ if } T = 0 \\\\\n",
    "Y(1) = \\text{what the outcome } \\textit{would have been} \\text{ if } T = 1\n",
    "$$\n",
    "\n",
    "We then have a table of potential outcomes for each unit, where each row is a unit and each column is a potential outcome:\n",
    "\n",
    "$$\n",
    "\\begin{array}{c|c|c|c}\n",
    "\\text{Unit} & T & Y(0) & Y(1) \\\\\n",
    "\\hline\n",
    "1 & 0 & 1 & 1 \\\\\n",
    "2 & 1 & 1 & 0 \\\\\n",
    "3 & 0 & 1 & 0 \\\\\n",
    "4 & 1 & 0 & 0 \\\\\n",
    "\\end{array}\n",
    "$$\n",
    "\n",
    "The problem is that we are not omniscient, nor do we have a time machine, so we only observe one realized outcome $Y$ for each unit. There are thus missing values in the table of the data we actually observe:\n",
    "\n",
    "$$\n",
    "\\begin{array}{c|c|c|c|c}\n",
    "\\text{Unit} & T & Y(0) & Y(1) & Y \\\\\n",
    "\\hline\n",
    "1 & 0 & 1 & \\text{nan} & 1 \\\\\n",
    "2 & 1 & \\text{nan} & 0 & 0 \\\\\n",
    "3 & 0 & 1 & \\text{nan} & 1 \\\\\n",
    "4 & 1 & \\text{nan} & 0 & 0 \\\\\n",
    "\\end{array}\n",
    "$$\n",
    "\n",
    "The challenge in causal inference is to try to construct causal estimates when we only have the observed data. Throughout this course we'll use our ability to simulate different data generating processes in code to understand the properties of causal inference methods, and when they can or cannot identify the causal effect.\n",
    "\n",
    "We'll start by writing a utility function that takes treatment assignments and a ground truth table of potential outcomes, and generates the realized outcomes."
   ]
  },
  {
   "cell_type": "markdown",
   "metadata": {},
   "source": [
    ":::{tip}\n",
    "This is the first auto-graded function in the course -- there will be no submission limit so feel free to try multiple times. We will frequently provide some simple test cases via assert statements to check your function, but you are encouraged to write your own test cases as well!\n",
    ":::\n"
   ]
  },
  {
   "cell_type": "markdown",
   "metadata": {},
   "source": [
    ":::{admonition} Hint\n",
    ":class: tip\n",
    "\n",
    "To construct the observed outcome $Y$, look to how we defined $Y$ under the consistency assumption.\n",
    "\n",
    ":::"
   ]
  },
  {
   "cell_type": "code",
   "execution_count": 96,
   "metadata": {},
   "outputs": [],
   "source": [
    "def generate_observed_df(po_df, treatments):\n",
    "    \"\"\"\n",
    "    Generates a dataframe of realized outcomes from a ground truth table of potential outcomes and treatment assignments.\n",
    "    The unobserved potential outcomes are set to np.nan.\n",
    "    \n",
    "    Args:\n",
    "        po_df (pd.DataFrame): a dataframe of potential outcomes with columns 'Y0' and 'Y1'\n",
    "        treatments (pd.Series): a series of treatment assignments with the same length as po_df\n",
    "\n",
    "    Returns:\n",
    "        pd.DataFrame: a dataframe of realized outcomes with columns 'T', 'Y0', 'Y1', and 'Y'\n",
    "    \"\"\"\n",
    "    assert po_df.shape[0] == treatments.shape[0], \"The number of rows in po_df and treatments must match\"\n",
    "    \n",
    "    # TODO your code here\n",
    "    observed_df = None\n",
    "    ### BEGIN SOLUTION\n",
    "    observed_df = po_df.copy()\n",
    "    observed_df['T'] = treatments\n",
    "    \n",
    "    # Can translate the consistency assumption formula from the Neal reading\n",
    "    observed_df['Y'] = observed_df['T'] * observed_df['Y1'] + (1 - observed_df['T']) * observed_df['Y0']\n",
    "\n",
    "    # Set the unobserved potential outcomes to np.nan\n",
    "    observed_df.loc[treatments == 0, 'Y1'] = np.nan\n",
    "    observed_df.loc[treatments == 1, 'Y0'] = np.nan\n",
    "    ### END SOLUTION\n",
    "\n",
    "    return observed_df\n",
    "\n",
    "# Generate some simple test data, matching the example above\n",
    "treatments = pd.Series([0, 1, 0, 1])\n",
    "po_df = pd.DataFrame({'Y0': [1, 1, 1, 0], 'Y1': [1, 0, 0, 0]})\n",
    "observed_df = generate_observed_df(po_df, treatments)\n",
    "assert set(observed_df.columns.tolist()) == {'Y0', 'Y1', 'T', 'Y'}, \"The columns of the observed dataframe are not correct\""
   ]
  },
  {
   "cell_type": "markdown",
   "metadata": {},
   "source": [
    ":::{admonition} Takeaway\n",
    "\n",
    "This transformation from the ground truth table of potential outcomes to the observed data is a key step in thinking about causal quantities. **If only** we had the ground truth table, we could directly estimate quantities like $E[Y(1)]$ and $E[Y(0)]$. However, since we only have the observed data, we need to make assumptions, like the ones covered in the Neal reading, in order to \"reconstruct\" those quantities. This is the process of **identifying** the causal effect. See the figure below:\n",
    "\n",
    "```{figure} ../images/ws2_hernan_fig_1_1.png\n",
    "---\n",
    "width: 500px\n",
    "name: potential-outcomes-to-observed\n",
    "---\n",
    "Adapted from Hernán and Robins 2020 1.1\n",
    "```\n",
    "\n",
    "We saw from the Neal reading that the assumptions made in a randomized experiment allow for us to identify the causal effect, i.e. reconstruct $E[Y(1)]$ from $E[Y|T=1]$, and $E[Y(0)]$ from $E[Y|T=0]$. \n",
    "You may sometimes hear that \"association is causation, in a randomized experiment.\" \n",
    "\n",
    "The crux of the \"design\" step in the causal roadmap generally involves evaluating what assumptions we need in order to perform identification, and whether those assumptions are reasonable to make.\n",
    ":::"
   ]
  },
  {
   "cell_type": "markdown",
   "metadata": {},
   "source": [
    "# 4. Reflection [1 pt]\n",
    "\n",
    "**4.1** How much time did it take you to complete this worksheet? How long did it take you to read the selected sections of Neal 2020?\n",
    "\n",
    "**Your Response**: N/A\n",
    "\n",
    "**4.2** What is one thing you have a better understanding of after completing this worksheet? This could be about the concepts, the reading, or the code.\n",
    "\n",
    "**Your Response**: N/A\n",
    "\n",
    "**4.3** What questions or points of confusion do you have about the material covered in this worksheet?\n",
    "\n",
    "**Your Response**: N/A\n"
   ]
  },
  {
   "cell_type": "markdown",
   "metadata": {},
   "source": [
    ":::{tip}\n",
    "Don't forget to check that all of the TODOs are filled in before you submit!\n",
    ":::"
   ]
  },
  {
   "cell_type": "markdown",
   "metadata": {},
   "source": [
    "# Acknowledgements\n",
    "\n",
    "Portions of this worksheet are adapted from Bhargavi's study notes on pandas. This worksheet also uses Russ Poldrack's [nhanes package](https://github.com/poldrack/nhanes), which processes the NHANES dataset into a convenient pandas dataframe. "
   ]
  },
  {
   "cell_type": "markdown",
   "metadata": {},
   "source": [
    "# Notes"
   ]
  },
  {
   "cell_type": "markdown",
   "metadata": {},
   "source": [
    "Pandas topics left off:\n",
    "- merge\n",
    "- apply"
   ]
  },
  {
   "cell_type": "markdown",
   "metadata": {},
   "source": [
    "- Have students implement pandas code in the autograder, for generating the realized potential outcomes\n",
    "    - indexing and slicing, handling missing values\n",
    "- some math practice with law of total expectation, and independence derivations\n",
    "- a statistical notion of \"independence\"\n",
    "- exercise where students calculate E[Y(1)] and E[Y(0)], compare it to E[Y|T=1] and E[Y|T=0], and when they are equal/unequal\n",
    "- If need more practice, can analyze the education level in NHANES\n",
    "- Could be interesting to revisit the NHANES dataset in a few weeks, and have students try to draw DAGs for the health questions"
   ]
  },
  {
   "cell_type": "code",
   "execution_count": 97,
   "metadata": {},
   "outputs": [
    {
     "data": {
      "text/plain": [
       "['1StCancerWhatKindWasIt',\n",
       " '60SecHr30SecHr2',\n",
       " '60SecPulse30SecPulse2',\n",
       " 'Age1StCancerMcq230ADiagnosed',\n",
       " 'AgeFirstFedFormuladays',\n",
       " 'AgeFirstFedMilkdays',\n",
       " 'AgeInMonthsAtScreening0To24Mos',\n",
       " 'AgeInYearsAtScreening',\n",
       " 'AgeStartedOtherFoodbeverage',\n",
       " 'AgeStartedSmokingCigarettesRegularly',\n",
       " 'AgeStoppedBreastfeedingdays',\n",
       " 'AgeStoppedReceivingFormuladays',\n",
       " 'AgeWhenFirstToldYouHadDiabetes',\n",
       " 'AgeWhenToldYouHadAStroke',\n",
       " 'AgeWhenToldYouHadHeartAttack',\n",
       " 'AlcoholGm_DR1TOT',\n",
       " 'AlcoholGm_DR2TOT',\n",
       " 'AnnualFamilyIncome',\n",
       " 'AnnualHouseholdIncome',\n",
       " 'AttendKindergartenThruHighSchool',\n",
       " 'AvgCigarettesdayDuringPast30Days',\n",
       " 'BloodCadmiumUgl',\n",
       " 'BloodLeadUgdl',\n",
       " 'BloodManganeseUgl',\n",
       " 'BloodMercuryTotalUgl',\n",
       " 'BloodSeleniumUgl',\n",
       " 'BodyMassIndexKgm2',\n",
       " 'CarbohydrateGm_DR1TOT',\n",
       " 'CarbohydrateGm_DR2TOT',\n",
       " 'CholesterolMg_DR1TOT',\n",
       " 'CholesterolMg_DR2TOT',\n",
       " 'CigarettesSmokedPerDay',\n",
       " 'CommunitygovernmentMealsDelivered',\n",
       " 'CoveredByHealthInsurance',\n",
       " 'CurrentSelfreportedHeightInches',\n",
       " 'CurrentSelfreportedWeightPounds',\n",
       " 'DaysSmokedCigarettesLast5Days',\n",
       " 'DaysSmokedCigsDuringPast30Days',\n",
       " 'DaysUsedMarijuanaOrHashishmonth',\n",
       " 'DaysUsedMethamphetaminemonth',\n",
       " 'DiabeticDiet',\n",
       " 'DiastolicBloodPres1StRdgMmHg',\n",
       " 'DiastolicBloodPres2NdRdgMmHg',\n",
       " 'DiastolicBloodPres3RdRdgMmHg',\n",
       " 'DietaryFiberGm_DR1TOT',\n",
       " 'DietaryFiberGm_DR2TOT',\n",
       " 'DifficultyManagingMoney',\n",
       " 'DifficultyTheseProblemsHaveCaused',\n",
       " 'DirectHdlcholesterolMgdl',\n",
       " 'DoYouNowSmokeCigarettes',\n",
       " 'DoctorEverSaidYouHadArthritis',\n",
       " 'DoctorToldYouHaveDiabetes',\n",
       " 'EatMealsAtCommunityseniorCenter',\n",
       " 'EducationLevelAdults20',\n",
       " 'EducationLevelChildrenyouth619',\n",
       " 'EnergyKcal_DR1TOT',\n",
       " 'EnergyKcal_DR2TOT',\n",
       " 'EverBeenInRehabilitationProgram',\n",
       " 'EverBeenToldYouHaveAsthma',\n",
       " 'EverBreastfedOrFedBreastmilk',\n",
       " 'EverToldDoctorHadTroubleSleeping',\n",
       " 'EverToldHaveHealthRiskForDiabetes',\n",
       " 'EverToldYouHadAStroke',\n",
       " 'EverToldYouHadCancerOrMalignancy',\n",
       " 'EverToldYouHadHeartAttack',\n",
       " 'EverToldYouHavePrediabetes',\n",
       " 'EverUseAnyFormOfCocaine',\n",
       " 'EverUsedCocaineheroinmethamphetamine',\n",
       " 'EverUsedHeroin',\n",
       " 'EverUsedMarijuanaOrHashish',\n",
       " 'EverUsedMethamphetamine',\n",
       " 'ExperienceConfusionmemoryProblems',\n",
       " 'FamilyHistory',\n",
       " 'FeelingBadAboutYourself',\n",
       " 'FeelingDownDepressedOrHopeless',\n",
       " 'FeelingTiredOrHavingLittleEnergy',\n",
       " 'Gender',\n",
       " 'GeneralHealthCondition',\n",
       " 'Glycohemoglobin',\n",
       " 'HaveDifficultyDoingErrandsAlone',\n",
       " 'HaveDifficultyDressingOrBathing',\n",
       " 'HaveLittleInterestInDoingThings',\n",
       " 'HaveSeriousDifficultyConcentrating',\n",
       " 'HaveSeriousDifficultyHearing',\n",
       " 'HaveSeriousDifficultySeeing',\n",
       " 'HaveSeriousDifficultyWalking',\n",
       " 'HeardOfMyPlate',\n",
       " 'HowHealthyIsTheDiet',\n",
       " 'HowLongWereYouAbleToStopSmoking',\n",
       " 'HowOftenAddSaltToFoodAtTable',\n",
       " 'HowOftenDoYouFeelDepressed',\n",
       " 'HowOftenDoYouFeelWorriedOrAnxious',\n",
       " 'HowOftenDoYouSnore',\n",
       " 'HowOftenDrankMilkAge1317',\n",
       " 'HowOftenDrankMilkAge1835',\n",
       " 'HowOftenDrankMilkAge512',\n",
       " 'HowOftenFeelOverlySleepyDuringDay',\n",
       " 'LookedUpMyPlateOnInternet',\n",
       " 'LowCarbohydrateDiet',\n",
       " 'LowFatlowCholesterolDiet',\n",
       " 'LowSaltlowSodiumDiet',\n",
       " 'MainFoodShopper',\n",
       " 'MainMealPlannerpreparer',\n",
       " 'MaritalStatus',\n",
       " 'MinutesSedentaryActivity',\n",
       " 'ModerateRecreationalActivities',\n",
       " 'ModerateWorkActivity',\n",
       " 'MovingOrSpeakingSlowlyOrTooFast',\n",
       " 'OfAdults60YearsOrOlderInHh',\n",
       " 'OfChildren5YearsOrYoungerInHh',\n",
       " 'OfChildren617YearsOldInHh',\n",
       " 'OfDaysUsedCocainemonth',\n",
       " 'OfDaysUsedHeroinmonth',\n",
       " 'OfFrozenMealspizzaInPast30Days',\n",
       " 'OfMealsFromFastFoodOrPizzaPlace',\n",
       " 'OfMealsNotHomePrepared',\n",
       " 'OfReadytoeatFoodsInPast30Days',\n",
       " 'OfTimesweekGetSchoolBreakfast',\n",
       " 'OfTimesweekGetSchoolLunch',\n",
       " 'OnSpecialDiet',\n",
       " 'Past30DayMilkProductConsumption',\n",
       " 'PhysicalMentalEmotionalLimitations',\n",
       " 'PoorAppetiteOrOvereating',\n",
       " 'ProteinGm_DR1TOT',\n",
       " 'ProteinGm_DR2TOT',\n",
       " 'RacehispanicOrigin',\n",
       " 'RacehispanicOriginWNhAsian',\n",
       " 'RatioOfFamilyIncomeToPoverty',\n",
       " 'RecumbentLengthCm',\n",
       " 'RegularMilkUse5TimesPerWeek',\n",
       " 'SchoolBreakfastFreereducedfullPrice',\n",
       " 'SchoolLunchFreeReducedOrFullPrice',\n",
       " 'SchoolServeCompleteBreakfastEachDay',\n",
       " 'SchoolServesSchoolLunches',\n",
       " 'ServedActiveDutyInUsArmedForces',\n",
       " 'SharedFoodShoppingDuty',\n",
       " 'SharedMealPlanningpreparingDuty',\n",
       " 'SleepHoursWeekdaysOrWorkdays',\n",
       " 'SmokedAtLeast100CigarettesInLife',\n",
       " 'SmokedTobaccoLast5Days',\n",
       " 'StandingHeightCm',\n",
       " 'SummerProgramMealFreereducedPrice',\n",
       " 'SystolicBloodPres1StRdgMmHg',\n",
       " 'SystolicBloodPres2NdRdgMmHg',\n",
       " 'SystolicBloodPres3RdRdgMmHg',\n",
       " 'TakeDiabeticPillsToLowerBloodSugar',\n",
       " 'TakeMedicationForDepression',\n",
       " 'TakeMedicationForTheseFeelings',\n",
       " 'TakingInsulinNow',\n",
       " 'ThoughtYouWouldBeBetterOffDead',\n",
       " 'TimesLost10LbsOrMoreToLoseWeight',\n",
       " 'TimesStoppedSmokingCigarettes',\n",
       " 'TotalCholesterolMgdl',\n",
       " 'TotalFatGm_DR1TOT',\n",
       " 'TotalFatGm_DR2TOT',\n",
       " 'TotalMonounsaturatedFattyAcidsGm_DR1TOT',\n",
       " 'TotalMonounsaturatedFattyAcidsGm_DR2TOT',\n",
       " 'TotalNumberOfPeopleInTheFamily',\n",
       " 'TotalNumberOfPeopleInTheHousehold',\n",
       " 'TotalPercentFat',\n",
       " 'TotalPolyunsaturatedFattyAcidsGm_DR1TOT',\n",
       " 'TotalPolyunsaturatedFattyAcidsGm_DR2TOT',\n",
       " 'TotalSaturatedFattyAcidsGm_DR1TOT',\n",
       " 'TotalSaturatedFattyAcidsGm_DR2TOT',\n",
       " 'TotalSugarsGm_DR1TOT',\n",
       " 'TotalSugarsGm_DR2TOT',\n",
       " 'TriedMyPlatePlan',\n",
       " 'TriedToLoseWeightInPastYear',\n",
       " 'TriedToQuitSmoking',\n",
       " 'TroubleConcentratingOnThings',\n",
       " 'TroubleSleepingOrSleepingTooMuch',\n",
       " 'TrunkFatG',\n",
       " 'TrunkPercentFat',\n",
       " 'TunaEatenDuringPast30Days',\n",
       " 'TypeOfMilkFirstFed1Milk',\n",
       " 'TypeOfMilkFirstFed2Milk',\n",
       " 'TypeOfMilkFirstFedFatFreeMilk',\n",
       " 'TypeOfMilkFirstFedOther',\n",
       " 'TypeOfMilkFirstFedSoyMilk',\n",
       " 'TypeOfMilkFirstFedWholeMilk',\n",
       " 'UnitOfMeasureDayweekmonthyear_2_SMQ',\n",
       " 'UsedAnyTobaccoProductLast5Days',\n",
       " 'UsualSleepTimeOnWeekdaysOrWorkdays',\n",
       " 'UsualWakeTimeOnWeekdaysOrWorkdays',\n",
       " 'VigorousRecreationalActivities',\n",
       " 'VigorousWorkActivity',\n",
       " 'WaistCircumferenceCm',\n",
       " 'WalkOrBicycle',\n",
       " 'WeightKg',\n",
       " 'WeightLosslowCalorieDiet',\n",
       " 'WhatWasYourLastA1CLevel',\n",
       " 'YouDrink1FatMilk',\n",
       " 'YouDrink2FatMilk',\n",
       " 'YouDrinkAnotherTypeOfMilk',\n",
       " 'YouDrinkFatFreeskimMilk',\n",
       " 'YouDrinkSoyMilk',\n",
       " 'YouDrinkWholeOrRegularMilk',\n",
       " 'age_category',\n",
       " 'bmi',\n",
       " 'country',\n",
       " 'is_adult']"
      ]
     },
     "execution_count": 97,
     "metadata": {},
     "output_type": "execute_result"
    }
   ],
   "source": [
    "sorted(nhanes_df.columns.values)"
   ]
  }
 ],
 "metadata": {
  "kernelspec": {
   "display_name": "Python 3 (ipykernel)",
   "language": "python",
   "name": "python3"
  },
  "language_info": {
   "codemirror_mode": {
    "name": "ipython",
    "version": 3
   },
   "file_extension": ".py",
   "mimetype": "text/x-python",
   "name": "python",
   "nbconvert_exporter": "python",
   "pygments_lexer": "ipython3",
   "version": "3.11.10"
  }
 },
 "nbformat": 4,
 "nbformat_minor": 4
}
