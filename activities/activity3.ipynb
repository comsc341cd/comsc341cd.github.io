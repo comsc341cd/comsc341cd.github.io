{
 "cells": [
  {
   "cell_type": "markdown",
   "metadata": {},
   "source": [
    "(activity3)=\n",
    "# Activity 3: Randomized Experiment Balance in Gerber et al. 2008\n",
    "\n",
    "**2025-02-11**\n",
    "\n",
    "---"
   ]
  },
  {
   "cell_type": "code",
   "execution_count": 7,
   "metadata": {},
   "outputs": [],
   "source": [
    "# imports we'll need\n",
    "import numpy as np\n",
    "import pandas as pd"
   ]
  },
  {
   "cell_type": "markdown",
   "metadata": {},
   "source": [
    "One way we can check whether exchangeability is plausible is to check whether the distribution of data characteristics are the same between the treatment and control groups. First, let's load in the data at `~/COMSC-341CD/data/gerber2008_activity3.csv` and take a look at the first few rows via [DataFrame.head()](https://pandas.pydata.org/docs/reference/api/pandas.DataFrame.head.html)."
   ]
  },
  {
   "cell_type": "code",
   "execution_count": null,
   "metadata": {},
   "outputs": [],
   "source": [
    "# TODO uncomment to load data\n",
    "#vote_df = pd.read_csv(\"~/COMSC-341CD/data/gerber2008_activity3.csv\")\n",
    "#vote_df.head()"
   ]
  },
  {
   "cell_type": "markdown",
   "metadata": {},
   "source": [
    "The columns we have are:\n",
    "\n",
    "- `sex`: the respondent's sex\n",
    "- `yob`: the respondent's year of birth\n",
    "- `treatment`: the treatment the respondent received\n",
    "- `voted`: our **outcome**: whether the respondent voted in the 2006 primary election\n",
    "- `hh_size`: the size of the respondent's household\n",
    "- `g2000`, `g2002`, `g2004`: whether the respondent voted in the 2000, 2002, and 2004 general election\n",
    "- `p2000`, `p2002`, `p2004`: whether the respondent voted in the 2000, 2002, and 2004 primary election"
   ]
  },
  {
   "cell_type": "markdown",
   "metadata": {},
   "source": [
    "## 1. Data cleaning\n",
    "\n",
    "The full study has 4 treatment arms and a control group, but today we're only interested in the `Civic Duty` and `Neighbors` arms. These correspond to the $T=0$ and $T=1$ interventions we discussed earlier:\n",
    "\n",
    "$$\n",
    "T = \\begin{cases}\n",
    "1 & \\text{mail stating that their household turnout would be publicized to their neighbors} \\\\\n",
    "0 & \\text{mail reminding them that voting is a civic duty}\n",
    "\\end{cases}\n",
    "$$\n",
    "\n",
    "Let's clean the data to only include these two arms by filtering the `treatment` column.\n",
    "\n",
    ":::{note}\n",
    "\n",
    "You may find the [pandas.Series.isin()](https://pandas.pydata.org/docs/reference/api/pandas.Series.isin.html) method useful here in combination with the logical indexing with `.loc`we saw on worksheet 2.\n",
    "\n",
    "You may encounter a data issue with the `treatment` column -- try to identify what it is and we'll discuss how to fix it together.\n",
    ":::"
   ]
  },
  {
   "cell_type": "code",
   "execution_count": null,
   "metadata": {},
   "outputs": [],
   "source": [
    "# TODO your code here selecting the 'Civic Duty' and 'Neighbors' rows"
   ]
  },
  {
   "cell_type": "markdown",
   "metadata": {},
   "source": [
    "Let's generate an additional column that corresponds to the respondent's age in 2006."
   ]
  },
  {
   "cell_type": "code",
   "execution_count": 11,
   "metadata": {},
   "outputs": [],
   "source": [
    "# TODO generate the 'age' column"
   ]
  },
  {
   "cell_type": "markdown",
   "metadata": {},
   "source": [
    "## 2. Balance check"
   ]
  },
  {
   "cell_type": "markdown",
   "metadata": {},
   "source": [
    "Let's now check the balance of the various characteristics between the $T=1$ (`'Neighbors'`) and $T=0$ (`'Civic Duty'`) groups.\n",
    "\n",
    "For the continuous variables of `age` and `hh_size`, let's compute the mean for each group:\n",
    "\n",
    ":::{tip}\n",
    "\n",
    "You may find the [pandas.DataFrame.groupby()](https://pandas.pydata.org/docs/reference/api/pandas.DataFrame.groupby.html) method from worksheet 2 useful here, or you can compute the means by slicing the dataframe using `.loc`.\n",
    "\n",
    ":::\n",
    "\n"
   ]
  },
  {
   "cell_type": "code",
   "execution_count": null,
   "metadata": {},
   "outputs": [],
   "source": [
    "# TODO your code for continuous variables"
   ]
  },
  {
   "cell_type": "markdown",
   "metadata": {},
   "source": [
    "For the each of the categorical variables of `['sex', 'g2000', 'g2002', 'g2004', 'p2000', 'p2002', 'p2004']`, let's compute the proportion of respondents who have the characteristic for each `treatment` group:\n",
    "\n",
    ":::{tip}\n",
    "\n",
    "You may want to use the [`value_counts()` method](https://pandas.pydata.org/docs/reference/api/pandas.Series.value_counts.html) with `normalize=True` along with `.groupby()` to compute the proportions for each individual characteristic.\n",
    "\n",
    ":::\n"
   ]
  },
  {
   "cell_type": "code",
   "execution_count": null,
   "metadata": {},
   "outputs": [],
   "source": [
    "# TODO your code for categorical variable comparison\n",
    "categorical_vars = ['sex', 'g2000', 'g2002', 'g2004', 'p2000', 'p2002', 'p2004']\n"
   ]
  },
  {
   "cell_type": "markdown",
   "metadata": {},
   "source": [
    "Are there any differences between the $T=1$ and $T=0$ groups in terms of these characteristics, or do they seem comparable?\n",
    "\n",
    "**Your response**: TODO"
   ]
  },
  {
   "cell_type": "markdown",
   "metadata": {},
   "source": [
    "## 3. Causal effect estimation\n",
    "\n",
    "Finally, let's estimate the ATE for the `voted` outcome. From what we looked at in class, because this is a **randomized experiment**, we can estimate the ATE by computing the difference in means between the $T=1$ and $T=0$ groups for the `voted` outcome. For this particular dataset, that means:\n",
    "\n",
    "\n",
    "$$\n",
    "\\begin{align*}\n",
    "\\text{ATE} = E[Y(1) - Y(0)] \\xrightarrow[]{\\text{Identification}} \\; &E[Y | T=1] - E[Y | T=0]\\\\\n",
    "E[Y | T=1] - E[Y | T=0] \\; \\xrightarrow[]{\\text{Estimation}} \\; &\\hat{E}[Y | T=1] - \\hat{E}[Y | T=0]\\\\ \n",
    "=&\\hat{P}(\\text{voted='Yes'} \\mid \\text{treatment='Neighbors'})  - \\hat{P}(\\text{voted='Yes'} \\mid \\text{treatment='Civic Duty'})\n",
    "\\end{align*}\n",
    "$$\n",
    "\n",
    ":::{tip}\n",
    "\n",
    "Try computing the two proportions separately and then subtracting them.\n",
    "\n",
    "We can compute the proportion of respondents who voted 'Yes' in each treatment group by using the `.value_counts()` method with `normalize=True` and indexing on the `'Yes'` category.\n",
    "\n",
    ":::\n"
   ]
  },
  {
   "cell_type": "code",
   "execution_count": null,
   "metadata": {},
   "outputs": [],
   "source": [
    "# TODO your code for estimating the ATE\n",
    "estimated_ATE = 0\n"
   ]
  },
  {
   "cell_type": "markdown",
   "metadata": {},
   "source": [
    "Write down an interpretation of this estimate as a causal quantity.\n",
    "\n",
    "**Your response**: TODO"
   ]
  },
  {
   "cell_type": "markdown",
   "metadata": {},
   "source": [
    "# References\n",
    "\n",
    "- Gerber, Alan S., Donald P. Green, and Christopher W. Larimer, 2008, Replication Materials for “Social Pressure and Voter Turnout: Evidence from a Large-Scale Field Experiment.” http://hdl.handle.net/10079/c7507a0d-097a-4689-873a-7424564dfc82. ISPS Data Archive.\n",
    "- Full article: https://isps.yale.edu/sites/default/files/publication/2012/12/ISPS08-001.pdf"
   ]
  }
 ],
 "metadata": {
  "kernelspec": {
   "display_name": "venv",
   "language": "python",
   "name": "python3"
  },
  "language_info": {
   "codemirror_mode": {
    "name": "ipython",
    "version": 3
   },
   "file_extension": ".py",
   "mimetype": "text/x-python",
   "name": "python",
   "nbconvert_exporter": "python",
   "pygments_lexer": "ipython3",
   "version": "3.11.10"
  }
 },
 "nbformat": 4,
 "nbformat_minor": 2
}
