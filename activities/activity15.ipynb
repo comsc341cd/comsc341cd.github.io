{
 "cells": [
  {
   "cell_type": "markdown",
   "metadata": {},
   "source": [
    "(activity15)=\n",
    "\n",
    "# Activity 15: Plotting and synthetic controls\n",
    "\n",
    "**2025-04-22**\n",
    "\n",
    "---"
   ]
  },
  {
   "cell_type": "code",
   "execution_count": 1,
   "metadata": {},
   "outputs": [],
   "source": [
    "import linearmodels as lm\n",
    "import seaborn as sns\n",
    "import pandas as pd\n",
    "import numpy as np\n",
    "import matplotlib.pyplot as plt\n",
    "import statsmodels.formula.api as smf"
   ]
  },
  {
   "cell_type": "markdown",
   "metadata": {
    "vscode": {
     "languageId": "plaintext"
    }
   },
   "source": [
    "# Part 1: figure customization"
   ]
  },
  {
   "cell_type": "markdown",
   "metadata": {},
   "source": [
    "Run the cell below to load the data. Our dataset has the following columns:\n",
    "\n",
    "- `state`: the state name\n",
    "- `year`: the year\n",
    "- `retprice`: the retail price of cigarettes, covariate for building the synthetic control\n",
    "- `cigsale`: cigarette sales per capita: our outcome variable\n",
    "- `california`: whether the state is California (treated group)\n",
    "- `after_treatment`: whether the year is after the year 1988 (when California implemented the Proposition 99 smoking tax)"
   ]
  },
  {
   "cell_type": "code",
   "execution_count": 74,
   "metadata": {},
   "outputs": [],
   "source": [
    "cali_smoking = pd.read_csv('~/COMSC-341CD/data/cali_smoking.csv')"
   ]
  },
  {
   "cell_type": "markdown",
   "metadata": {},
   "source": [
    "Begin by visualizing the trends in cigarette sales per capita for California and the other states by calling [sns.lineplot()](https://seaborn.pydata.org/generated/seaborn.lineplot.html) with:\n",
    "-  `x='year'`\n",
    "-  `y='cigsale'`\n",
    "-  `hue='california'`\n",
    "-  `data=cali_smoking`"
   ]
  },
  {
   "cell_type": "code",
   "execution_count": null,
   "metadata": {},
   "outputs": [],
   "source": [
    "# Set the figure size to be 6x6 inches\n",
    "fig, ax = plt.subplots(figsize=(10, 8))\n",
    "\n",
    "# TODO plot the line plot\n",
    "#sns.lineplot(TODO, ax=ax)\n",
    "# Sets the x-axis ticks to be every year in the dataset\n",
    "ax.set_xticks(cali_smoking['year'].unique())\n",
    "\n",
    "# Add a vertical line at the year 1988, when Proposition 99 was implemented\n",
    "ax.axvline(x=1988, color='black', linestyle='--', label='Proposition 99')"
   ]
  },
  {
   "cell_type": "markdown",
   "metadata": {},
   "source": [
    "You'll notice that the x-axis labels are overlapping. A common solution to this is to rotate the labels so that they take up less horizontal space. You can do this by calling [ax.set_xticklabels()](https://matplotlib.org/stable/api/_as_gen/matplotlib.axes.Axes.set_xticklabels.html) with:\n",
    "- `labels=cali_smoking['year'].unique()`\n",
    "- `rotation=45`\n",
    "- `ha='right'`, \"horizontal alignment\"\n",
    "\n",
    "The xtick labels are still too crowded, so we can additionaly adjust the figure size. The current figure dimensions are set via `plt.subplots()` to be 6x6 inches, so modifying the first element in the tuple will make the figure wider."
   ]
  },
  {
   "cell_type": "markdown",
   "metadata": {},
   "source": [
    ":::{note} \n",
    "\n",
    "Some additional optional styling that you can explore:\n",
    "\n",
    "- hiding the upper and right graph spines:\n",
    "\n",
    "```python\n",
    "ax.spines['top'].set_visible(False)\n",
    "ax.spines['right'].set_visible(False)\n",
    "```\n",
    "\n",
    "- adding a grid:\n",
    "```python\n",
    "# can set the axis to be 'both', 'x', or 'y'\n",
    "ax.grid(True, axis='both')\n",
    "```\n",
    ":::"
   ]
  },
  {
   "cell_type": "markdown",
   "metadata": {},
   "source": [
    "# Part 2: merging tables\n",
    "\n",
    "A fundamental operation in data preparation is merging tables. Let's first practice merging tables manually. \n",
    "\n",
    "Specifically, a **left merge** (or left join) combines two tables based on a common column (called a \"key\"). It keeps all rows from the left table (the first table) and adds matching information from the right table (the second table). If there's no match in the right table, the columns from the right table will show as NULL (or `np.nan` in Python) in the result."
   ]
  },
  {
   "cell_type": "markdown",
   "metadata": {},
   "source": [
    "## `customers` table\n",
    "\n",
    "| CustomerID | Name     | City      |\n",
    "|------------|----------|-----------|\n",
    "| 1          | John     | Boston    |\n",
    "| 2          | Sarah    | New York  |\n",
    "| 3          | Mike     | Chicago   |\n",
    "\n",
    "## `orders` table\n",
    "\n",
    "| CustomerID | Product  | Amount |\n",
    "|------------|----------|--------|\n",
    "| 1          | Laptop   | 1200   |\n",
    "| 4          | Keyboard | 100    |\n",
    "| 2          | Monitor  | 300    |"
   ]
  },
  {
   "cell_type": "markdown",
   "metadata": {},
   "source": [
    "Perform a left merge on the `CustomerID` column, where the left table is `customers` and the right table is `orders`: the rows are combined according to key column in the left table.  Again, if there's no match in the right table, the columns from the right table will show as NULL in the resulting merged table."
   ]
  },
  {
   "cell_type": "markdown",
   "metadata": {},
   "source": [
    "| CustomerID | Name     | City      | Product  | Amount |\n",
    "|------------|----------|-----------|----------|--------|\n",
    "| 1          | John     | Boston    | TODO     | TODO   |\n",
    "| 2          | Sarah    | New York  |          |        |\n",
    "| 3          | Mike     | Chicago   |          |        |"
   ]
  },
  {
   "cell_type": "markdown",
   "metadata": {},
   "source": [
    "What product (if any) did Sarah order?\n",
    "\n",
    "**Your response**: [pollev.com/tliu](https://pollev.com/tliu)"
   ]
  },
  {
   "cell_type": "markdown",
   "metadata": {},
   "source": [
    "The equivalent pandas operation uses [pd.merge()](https://pandas.pydata.org/docs/reference/api/pandas.DataFrame.merge.html):\n",
    "\n",
    "```python\n",
    "# perform a left merge on the `CustomerID` column\n",
    "pd.merge(left=customers, right=orders, on='CustomerID', how='left')\n",
    "```\n"
   ]
  },
  {
   "cell_type": "markdown",
   "metadata": {},
   "source": [
    ":::{note}\n",
    "\n",
    "There are other fundamental join table operations that performed in data preparation, often written in SQL:\n",
    "\n",
    "- right join: only rows from the right table are combined\n",
    "- inner join: only rows with matching keys in both tables are combined\n",
    "- outer join: all rows from both tables are combined\n",
    "\n",
    "You can see the pandas documentation of [different merge operations](https://pandas.pydata.org/docs/user_guide/merging.html#merge-types) for more deatils and a comparison to SQL.\n",
    "\n",
    ":::"
   ]
  },
  {
   "cell_type": "markdown",
   "metadata": {},
   "source": [
    "# Part 3: synthetic control\n",
    "\n",
    "The synthetic control weights have already been computed, but need to be loaded in and merged with the California smoking data. Create the `cali_merged` dataframe by performing a **left** merge on the `state` column, where the left table is `cali_smoking` and the right table is `cali_weights`:"
   ]
  },
  {
   "cell_type": "code",
   "execution_count": 118,
   "metadata": {},
   "outputs": [],
   "source": [
    "cali_weights = pd.read_csv('~/COMSC-341CD/data/cali_weights.csv')\n",
    "\n",
    "# TODO: perform a left merge on the `state` column to merge `cali_smoking` and `cali_weights`\n",
    "#cali_merged = pd.merge(TODO)"
   ]
  },
  {
   "cell_type": "markdown",
   "metadata": {},
   "source": [
    "Next, select the non-california rows from the `cali_merged` dataframe and execute the following code which creates the synthetic control by computing the weighted average of the `cigsale` column:\n",
    "\n"
   ]
  },
  {
   "cell_type": "code",
   "execution_count": null,
   "metadata": {},
   "outputs": [],
   "source": [
    "# TODO: select the non-california rows from the `cali_merged` dataframe using the 'california' column\n",
    "non_cali_data = None\n",
    "\n",
    "# Creates the synthetic control by computing the weighted average of the `cigsale` outcome variable\n",
    "synthetic_control = non_cali_data.groupby('year').apply(\n",
    "    lambda x: np.dot(x['weight'], x['cigsale'])\n",
    ").reset_index(name='synthetic_cigsale')\n",
    "\n",
    "synthetic_control.head()"
   ]
  },
  {
   "cell_type": "markdown",
   "metadata": {},
   "source": [
    "Plot both california and synthetic control on the same plot using [sns.lineplot()](https://seaborn.pydata.org/generated/seaborn.lineplot.html):"
   ]
  },
  {
   "cell_type": "code",
   "execution_count": null,
   "metadata": {},
   "outputs": [],
   "source": [
    "fig, ax = plt.subplots(figsize=(10, 6))\n",
    "# TODO select the rows that correspond to California only\n",
    "cali_only = None\n",
    "\n",
    "# Plot california data only with x='year', y='cigsale'\n",
    "# sns.lineplot(TODO, label='California', ax=ax)\n",
    "\n",
    "# Plot the synthetic control data with x='year', y='synthetic_cigsale'\n",
    "# sns.lineplot(TODO, label='Synthetic California', ax=ax)\n",
    "\n",
    "ax.axvline(x=1988, color='black', linestyle='--', label='Proposition 99')"
   ]
  },
  {
   "cell_type": "markdown",
   "metadata": {},
   "source": [
    "Using pandas selection based on `'year'`,  `'cigsale'`, and `'synthetic_cigsale'`, what is the difference in cigarette sales per capita between California and the synthetic control in the year 1995? \n",
    "\n",
    "**Your response**: [pollev.com/tliu](https://pollev.com/tliu)"
   ]
  },
  {
   "cell_type": "code",
   "execution_count": null,
   "metadata": {},
   "outputs": [],
   "source": [
    "# TODO select the cigsale column for California in 1995 using the cali_only dataframe\n",
    "cali_1995_cigsale = None\n",
    "\n",
    "# TODO select the synthetic_cigsale column for the synthetic control in 1995 using the synthetic_control dataframe\n",
    "synthetic_1995_cigsale = None\n",
    "\n",
    "# Compute the difference between the extracted values\n",
    "# print(cali_1995_cigsale.values[0] - synthetic_1995_cigsale.values[0])\n"
   ]
  },
  {
   "cell_type": "markdown",
   "metadata": {},
   "source": [
    "# Acknowledgements\n",
    "\n",
    "This activity is based off of the synthetic control chapter of Facure (2023): Causal Inference for the Brave and the True."
   ]
  }
 ],
 "metadata": {
  "kernelspec": {
   "display_name": "venv",
   "language": "python",
   "name": "python3"
  },
  "language_info": {
   "codemirror_mode": {
    "name": "ipython",
    "version": 3
   },
   "file_extension": ".py",
   "mimetype": "text/x-python",
   "name": "python",
   "nbconvert_exporter": "python",
   "pygments_lexer": "ipython3",
   "version": "3.11.10"
  }
 },
 "nbformat": 4,
 "nbformat_minor": 2
}
