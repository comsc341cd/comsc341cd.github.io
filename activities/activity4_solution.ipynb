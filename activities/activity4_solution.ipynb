{
 "cells": [
  {
   "cell_type": "markdown",
   "metadata": {},
   "source": [
    "(activity4_solution)=\n",
    "# Activity 4: Randomized Experiment Balance and Estimation in Gerber et al. 2008\n",
    "\n",
    "**2025-09-15**\n",
    "\n",
    "---"
   ]
  },
  {
   "cell_type": "code",
   "execution_count": 1,
   "metadata": {},
   "outputs": [],
   "source": [
    "# imports we'll need\n",
    "import numpy as np\n",
    "import pandas as pd"
   ]
  },
  {
   "cell_type": "markdown",
   "metadata": {},
   "source": [
    "First, let's load in the data at `~/COMSC-341CD/data/gerber2008.csv` and take a look at the first few rows via [DataFrame.head()](https://pandas.pydata.org/docs/reference/api/pandas.DataFrame.head.html)."
   ]
  },
  {
   "cell_type": "code",
   "execution_count": 2,
   "metadata": {},
   "outputs": [],
   "source": [
    "# TODO uncomment to load data\n",
    "vote_df = pd.read_csv(\"~/COMSC-341CD/data/gerber2008.csv\")"
   ]
  },
  {
   "cell_type": "code",
   "execution_count": 3,
   "metadata": {},
   "outputs": [
    {
     "data": {
      "text/html": [
       "<div>\n",
       "<style scoped>\n",
       "    .dataframe tbody tr th:only-of-type {\n",
       "        vertical-align: middle;\n",
       "    }\n",
       "\n",
       "    .dataframe tbody tr th {\n",
       "        vertical-align: top;\n",
       "    }\n",
       "\n",
       "    .dataframe thead th {\n",
       "        text-align: right;\n",
       "    }\n",
       "</style>\n",
       "<table border=\"1\" class=\"dataframe\">\n",
       "  <thead>\n",
       "    <tr style=\"text-align: right;\">\n",
       "      <th></th>\n",
       "      <th>sex</th>\n",
       "      <th>yob</th>\n",
       "      <th>treatment</th>\n",
       "      <th>voted</th>\n",
       "      <th>hh_size</th>\n",
       "      <th>g2000</th>\n",
       "      <th>g2002</th>\n",
       "      <th>g2004</th>\n",
       "      <th>p2000</th>\n",
       "      <th>p2002</th>\n",
       "      <th>p2004</th>\n",
       "    </tr>\n",
       "  </thead>\n",
       "  <tbody>\n",
       "    <tr>\n",
       "      <th>0</th>\n",
       "      <td>male</td>\n",
       "      <td>1941</td>\n",
       "      <td>Civic Duty</td>\n",
       "      <td>No</td>\n",
       "      <td>2</td>\n",
       "      <td>yes</td>\n",
       "      <td>yes</td>\n",
       "      <td>yes</td>\n",
       "      <td>no</td>\n",
       "      <td>yes</td>\n",
       "      <td>No</td>\n",
       "    </tr>\n",
       "    <tr>\n",
       "      <th>1</th>\n",
       "      <td>female</td>\n",
       "      <td>1947</td>\n",
       "      <td>Civic Duty</td>\n",
       "      <td>No</td>\n",
       "      <td>2</td>\n",
       "      <td>yes</td>\n",
       "      <td>yes</td>\n",
       "      <td>yes</td>\n",
       "      <td>no</td>\n",
       "      <td>yes</td>\n",
       "      <td>No</td>\n",
       "    </tr>\n",
       "    <tr>\n",
       "      <th>2</th>\n",
       "      <td>male</td>\n",
       "      <td>1951</td>\n",
       "      <td>Hawthorne</td>\n",
       "      <td>Yes</td>\n",
       "      <td>3</td>\n",
       "      <td>yes</td>\n",
       "      <td>yes</td>\n",
       "      <td>yes</td>\n",
       "      <td>no</td>\n",
       "      <td>yes</td>\n",
       "      <td>No</td>\n",
       "    </tr>\n",
       "    <tr>\n",
       "      <th>3</th>\n",
       "      <td>female</td>\n",
       "      <td>1950</td>\n",
       "      <td>Hawthorne</td>\n",
       "      <td>Yes</td>\n",
       "      <td>3</td>\n",
       "      <td>yes</td>\n",
       "      <td>yes</td>\n",
       "      <td>yes</td>\n",
       "      <td>no</td>\n",
       "      <td>yes</td>\n",
       "      <td>No</td>\n",
       "    </tr>\n",
       "    <tr>\n",
       "      <th>4</th>\n",
       "      <td>female</td>\n",
       "      <td>1982</td>\n",
       "      <td>Hawthorne</td>\n",
       "      <td>Yes</td>\n",
       "      <td>3</td>\n",
       "      <td>yes</td>\n",
       "      <td>yes</td>\n",
       "      <td>yes</td>\n",
       "      <td>no</td>\n",
       "      <td>yes</td>\n",
       "      <td>No</td>\n",
       "    </tr>\n",
       "  </tbody>\n",
       "</table>\n",
       "</div>"
      ],
      "text/plain": [
       "      sex   yob   treatment voted  hh_size g2000 g2002 g2004 p2000 p2002 p2004\n",
       "0    male  1941  Civic Duty    No        2   yes   yes   yes    no   yes    No\n",
       "1  female  1947  Civic Duty    No        2   yes   yes   yes    no   yes    No\n",
       "2    male  1951   Hawthorne   Yes        3   yes   yes   yes    no   yes    No\n",
       "3  female  1950   Hawthorne   Yes        3   yes   yes   yes    no   yes    No\n",
       "4  female  1982   Hawthorne   Yes        3   yes   yes   yes    no   yes    No"
      ]
     },
     "execution_count": 3,
     "metadata": {},
     "output_type": "execute_result"
    }
   ],
   "source": [
    "# TODO examining the top and bottom of the dataframe\n",
    "vote_df.head()"
   ]
  },
  {
   "cell_type": "code",
   "execution_count": 4,
   "metadata": {},
   "outputs": [
    {
     "data": {
      "text/plain": [
       "array(['Civic Duty', 'Hawthorne', 'Control', 'Self', 'Neighbors'],\n",
       "      dtype=object)"
      ]
     },
     "execution_count": 4,
     "metadata": {},
     "output_type": "execute_result"
    }
   ],
   "source": [
    "# get all of the unique values for column treatment\n",
    "vote_df['treatment'].unique()"
   ]
  },
  {
   "cell_type": "code",
   "execution_count": 5,
   "metadata": {},
   "outputs": [
    {
     "name": "stdout",
     "output_type": "stream",
     "text": [
      "<class 'pandas.core.frame.DataFrame'>\n",
      "RangeIndex: 344084 entries, 0 to 344083\n",
      "Data columns (total 11 columns):\n",
      " #   Column     Non-Null Count   Dtype \n",
      "---  ------     --------------   ----- \n",
      " 0   sex        344084 non-null  object\n",
      " 1   yob        344084 non-null  int64 \n",
      " 2   treatment  344084 non-null  object\n",
      " 3   voted      344084 non-null  object\n",
      " 4   hh_size    344084 non-null  int64 \n",
      " 5   g2000      344084 non-null  object\n",
      " 6   g2002      344084 non-null  object\n",
      " 7   g2004      344084 non-null  object\n",
      " 8   p2000      344084 non-null  object\n",
      " 9   p2002      344084 non-null  object\n",
      " 10  p2004      344084 non-null  object\n",
      "dtypes: int64(2), object(9)\n",
      "memory usage: 28.9+ MB\n"
     ]
    }
   ],
   "source": [
    "# TODO giving a summary of the dataframe\n",
    "vote_df.info()"
   ]
  },
  {
   "cell_type": "code",
   "execution_count": 6,
   "metadata": {},
   "outputs": [
    {
     "data": {
      "text/plain": [
       "Index(['sex', 'yob', 'treatment', 'voted', 'hh_size', 'g2000', 'g2002',\n",
       "       'g2004', 'p2000', 'p2002', 'p2004'],\n",
       "      dtype='object')"
      ]
     },
     "execution_count": 6,
     "metadata": {},
     "output_type": "execute_result"
    }
   ],
   "source": [
    "# TODO get the column names\n",
    "vote_df.columns"
   ]
  },
  {
   "cell_type": "code",
   "execution_count": 7,
   "metadata": {},
   "outputs": [
    {
     "data": {
      "text/plain": [
       "(344084, 11)"
      ]
     },
     "execution_count": 7,
     "metadata": {},
     "output_type": "execute_result"
    }
   ],
   "source": [
    "# TODO get the number of rows and columns\n",
    "vote_df.shape"
   ]
  },
  {
   "cell_type": "code",
   "execution_count": 8,
   "metadata": {},
   "outputs": [
    {
     "data": {
      "text/plain": [
       "sex          object\n",
       "yob           int64\n",
       "treatment    object\n",
       "voted        object\n",
       "hh_size       int64\n",
       "g2000        object\n",
       "g2002        object\n",
       "g2004        object\n",
       "p2000        object\n",
       "p2002        object\n",
       "p2004        object\n",
       "dtype: object"
      ]
     },
     "execution_count": 8,
     "metadata": {},
     "output_type": "execute_result"
    }
   ],
   "source": [
    "# TODO return the data types of each column\n",
    "vote_df.dtypes"
   ]
  },
  {
   "cell_type": "markdown",
   "metadata": {},
   "source": [
    "The columns we have are:\n",
    "\n",
    "- `sex`: the respondent's sex\n",
    "- `yob`: the respondent's year of birth\n",
    "- `treatment`: the treatment the respondent received\n",
    "- `voted`: our **outcome**: whether the respondent voted in the 2006 primary election\n",
    "- `hh_size`: the size of the respondent's household\n",
    "- `g2000`, `g2002`, `g2004`: whether the respondent voted in the 2000, 2002, and 2004 general election\n",
    "- `p2000`, `p2002`, `p2004`: whether the respondent voted in the 2000, 2002, and 2004 primary election"
   ]
  },
  {
   "cell_type": "markdown",
   "metadata": {},
   "source": [
    "## 1. Data cleaning\n",
    "\n",
    "The full study has 4 treatment arms and a control group, but today we're only interested in the `Civic Duty` and `Neighbors` arms. These correspond to the $T=0$ and $T=1$ interventions we discussed earlier:\n",
    "\n",
    "$$\n",
    "T = \\begin{cases}\n",
    "1 & \\text{mail stating that their household turnout would be publicized to their neighbors} \\\\\n",
    "0 & \\text{mail reminding them that voting is a civic duty}\n",
    "\\end{cases}\n",
    "$$\n",
    "\n",
    "Let's clean the data to only include these two arms by filtering the `treatment` column.\n",
    "\n",
    ":::{note}\n",
    "\n",
    "You may find the [pandas.Series.isin()](https://pandas.pydata.org/docs/reference/api/pandas.Series.isin.html) method useful here in combination with the logical indexing with `.loc`we saw on worksheet 2.\n",
    "\n",
    "You may encounter a data issue with the `treatment` column -- try to identify what it is and we'll discuss how to fix it together.\n",
    ":::"
   ]
  },
  {
   "cell_type": "code",
   "execution_count": 12,
   "metadata": {},
   "outputs": [
    {
     "data": {
      "text/html": [
       "<div>\n",
       "<style scoped>\n",
       "    .dataframe tbody tr th:only-of-type {\n",
       "        vertical-align: middle;\n",
       "    }\n",
       "\n",
       "    .dataframe tbody tr th {\n",
       "        vertical-align: top;\n",
       "    }\n",
       "\n",
       "    .dataframe thead th {\n",
       "        text-align: right;\n",
       "    }\n",
       "</style>\n",
       "<table border=\"1\" class=\"dataframe\">\n",
       "  <thead>\n",
       "    <tr style=\"text-align: right;\">\n",
       "      <th></th>\n",
       "      <th>sex</th>\n",
       "      <th>yob</th>\n",
       "      <th>treatment</th>\n",
       "      <th>voted</th>\n",
       "      <th>hh_size</th>\n",
       "      <th>g2000</th>\n",
       "      <th>g2002</th>\n",
       "      <th>g2004</th>\n",
       "      <th>p2000</th>\n",
       "      <th>p2002</th>\n",
       "      <th>p2004</th>\n",
       "    </tr>\n",
       "  </thead>\n",
       "  <tbody>\n",
       "    <tr>\n",
       "      <th>0</th>\n",
       "      <td>male</td>\n",
       "      <td>1941</td>\n",
       "      <td>Civic Duty</td>\n",
       "      <td>No</td>\n",
       "      <td>2</td>\n",
       "      <td>yes</td>\n",
       "      <td>yes</td>\n",
       "      <td>yes</td>\n",
       "      <td>no</td>\n",
       "      <td>yes</td>\n",
       "      <td>No</td>\n",
       "    </tr>\n",
       "    <tr>\n",
       "      <th>1</th>\n",
       "      <td>female</td>\n",
       "      <td>1947</td>\n",
       "      <td>Civic Duty</td>\n",
       "      <td>No</td>\n",
       "      <td>2</td>\n",
       "      <td>yes</td>\n",
       "      <td>yes</td>\n",
       "      <td>yes</td>\n",
       "      <td>no</td>\n",
       "      <td>yes</td>\n",
       "      <td>No</td>\n",
       "    </tr>\n",
       "    <tr>\n",
       "      <th>10</th>\n",
       "      <td>male</td>\n",
       "      <td>1941</td>\n",
       "      <td>Control</td>\n",
       "      <td>Yes</td>\n",
       "      <td>1</td>\n",
       "      <td>yes</td>\n",
       "      <td>yes</td>\n",
       "      <td>yes</td>\n",
       "      <td>no</td>\n",
       "      <td>no</td>\n",
       "      <td>Yes</td>\n",
       "    </tr>\n",
       "    <tr>\n",
       "      <th>11</th>\n",
       "      <td>male</td>\n",
       "      <td>1945</td>\n",
       "      <td>Hawthorne</td>\n",
       "      <td>No</td>\n",
       "      <td>2</td>\n",
       "      <td>yes</td>\n",
       "      <td>yes</td>\n",
       "      <td>yes</td>\n",
       "      <td>no</td>\n",
       "      <td>no</td>\n",
       "      <td>No</td>\n",
       "    </tr>\n",
       "    <tr>\n",
       "      <th>12</th>\n",
       "      <td>female</td>\n",
       "      <td>1949</td>\n",
       "      <td>Hawthorne</td>\n",
       "      <td>Yes</td>\n",
       "      <td>2</td>\n",
       "      <td>yes</td>\n",
       "      <td>yes</td>\n",
       "      <td>yes</td>\n",
       "      <td>no</td>\n",
       "      <td>yes</td>\n",
       "      <td>No</td>\n",
       "    </tr>\n",
       "    <tr>\n",
       "      <th>...</th>\n",
       "      <td>...</td>\n",
       "      <td>...</td>\n",
       "      <td>...</td>\n",
       "      <td>...</td>\n",
       "      <td>...</td>\n",
       "      <td>...</td>\n",
       "      <td>...</td>\n",
       "      <td>...</td>\n",
       "      <td>...</td>\n",
       "      <td>...</td>\n",
       "      <td>...</td>\n",
       "    </tr>\n",
       "    <tr>\n",
       "      <th>344077</th>\n",
       "      <td>male</td>\n",
       "      <td>1942</td>\n",
       "      <td>Neighbors</td>\n",
       "      <td>No</td>\n",
       "      <td>2</td>\n",
       "      <td>yes</td>\n",
       "      <td>yes</td>\n",
       "      <td>yes</td>\n",
       "      <td>no</td>\n",
       "      <td>yes</td>\n",
       "      <td>No</td>\n",
       "    </tr>\n",
       "    <tr>\n",
       "      <th>344078</th>\n",
       "      <td>female</td>\n",
       "      <td>1944</td>\n",
       "      <td>Control</td>\n",
       "      <td>Yes</td>\n",
       "      <td>2</td>\n",
       "      <td>yes</td>\n",
       "      <td>yes</td>\n",
       "      <td>yes</td>\n",
       "      <td>no</td>\n",
       "      <td>no</td>\n",
       "      <td>No</td>\n",
       "    </tr>\n",
       "    <tr>\n",
       "      <th>344079</th>\n",
       "      <td>male</td>\n",
       "      <td>1943</td>\n",
       "      <td>Control</td>\n",
       "      <td>Yes</td>\n",
       "      <td>2</td>\n",
       "      <td>yes</td>\n",
       "      <td>yes</td>\n",
       "      <td>yes</td>\n",
       "      <td>no</td>\n",
       "      <td>yes</td>\n",
       "      <td>Yes</td>\n",
       "    </tr>\n",
       "    <tr>\n",
       "      <th>344082</th>\n",
       "      <td>male</td>\n",
       "      <td>1937</td>\n",
       "      <td>Control</td>\n",
       "      <td>Yes</td>\n",
       "      <td>2</td>\n",
       "      <td>yes</td>\n",
       "      <td>yes</td>\n",
       "      <td>yes</td>\n",
       "      <td>yes</td>\n",
       "      <td>yes</td>\n",
       "      <td>Yes</td>\n",
       "    </tr>\n",
       "    <tr>\n",
       "      <th>344083</th>\n",
       "      <td>female</td>\n",
       "      <td>1949</td>\n",
       "      <td>Control</td>\n",
       "      <td>Yes</td>\n",
       "      <td>2</td>\n",
       "      <td>yes</td>\n",
       "      <td>yes</td>\n",
       "      <td>yes</td>\n",
       "      <td>no</td>\n",
       "      <td>no</td>\n",
       "      <td>Yes</td>\n",
       "    </tr>\n",
       "  </tbody>\n",
       "</table>\n",
       "<p>106259 rows × 11 columns</p>\n",
       "</div>"
      ],
      "text/plain": [
       "           sex   yob   treatment voted  hh_size g2000 g2002 g2004 p2000 p2002  \\\n",
       "0         male  1941  Civic Duty    No        2   yes   yes   yes    no   yes   \n",
       "1       female  1947  Civic Duty    No        2   yes   yes   yes    no   yes   \n",
       "10        male  1941     Control   Yes        1   yes   yes   yes    no    no   \n",
       "11        male  1945   Hawthorne    No        2   yes   yes   yes    no    no   \n",
       "12      female  1949   Hawthorne   Yes        2   yes   yes   yes    no   yes   \n",
       "...        ...   ...         ...   ...      ...   ...   ...   ...   ...   ...   \n",
       "344077    male  1942   Neighbors    No        2   yes   yes   yes    no   yes   \n",
       "344078  female  1944     Control   Yes        2   yes   yes   yes    no    no   \n",
       "344079    male  1943     Control   Yes        2   yes   yes   yes    no   yes   \n",
       "344082    male  1937     Control   Yes        2   yes   yes   yes   yes   yes   \n",
       "344083  female  1949     Control   Yes        2   yes   yes   yes    no    no   \n",
       "\n",
       "       p2004  \n",
       "0         No  \n",
       "1         No  \n",
       "10       Yes  \n",
       "11        No  \n",
       "12        No  \n",
       "...      ...  \n",
       "344077    No  \n",
       "344078    No  \n",
       "344079   Yes  \n",
       "344082   Yes  \n",
       "344083   Yes  \n",
       "\n",
       "[106259 rows x 11 columns]"
      ]
     },
     "execution_count": 12,
     "metadata": {},
     "output_type": "execute_result"
    }
   ],
   "source": [
    "vote_df.loc[vote_df['yob'] < 1950]"
   ]
  },
  {
   "cell_type": "code",
   "execution_count": 14,
   "metadata": {},
   "outputs": [],
   "source": [
    "# TODO your code here selecting the 'Civic Duty' and 'Neighbors' rows\n",
    "vote_df = vote_df.loc[vote_df['treatment'].isin(['Civic Duty', 'Neighbors'])]"
   ]
  },
  {
   "cell_type": "markdown",
   "metadata": {},
   "source": [
    "Let's generate an additional column that corresponds to the respondent's age in 2006."
   ]
  },
  {
   "cell_type": "code",
   "execution_count": 15,
   "metadata": {},
   "outputs": [
    {
     "name": "stderr",
     "output_type": "stream",
     "text": [
      "/tmp/ipykernel_3473830/268336713.py:2: SettingWithCopyWarning: \n",
      "A value is trying to be set on a copy of a slice from a DataFrame.\n",
      "Try using .loc[row_indexer,col_indexer] = value instead\n",
      "\n",
      "See the caveats in the documentation: https://pandas.pydata.org/pandas-docs/stable/user_guide/indexing.html#returning-a-view-versus-a-copy\n",
      "  vote_df['age'] = 2006 - vote_df['yob']\n"
     ]
    }
   ],
   "source": [
    "# TODO generate the 'age' column\n",
    "vote_df['age'] = 2006 - vote_df['yob']"
   ]
  },
  {
   "cell_type": "code",
   "execution_count": 16,
   "metadata": {},
   "outputs": [
    {
     "data": {
      "text/html": [
       "<div>\n",
       "<style scoped>\n",
       "    .dataframe tbody tr th:only-of-type {\n",
       "        vertical-align: middle;\n",
       "    }\n",
       "\n",
       "    .dataframe tbody tr th {\n",
       "        vertical-align: top;\n",
       "    }\n",
       "\n",
       "    .dataframe thead th {\n",
       "        text-align: right;\n",
       "    }\n",
       "</style>\n",
       "<table border=\"1\" class=\"dataframe\">\n",
       "  <thead>\n",
       "    <tr style=\"text-align: right;\">\n",
       "      <th></th>\n",
       "      <th>sex</th>\n",
       "      <th>yob</th>\n",
       "      <th>treatment</th>\n",
       "      <th>voted</th>\n",
       "      <th>hh_size</th>\n",
       "      <th>g2000</th>\n",
       "      <th>g2002</th>\n",
       "      <th>g2004</th>\n",
       "      <th>p2000</th>\n",
       "      <th>p2002</th>\n",
       "      <th>p2004</th>\n",
       "      <th>age</th>\n",
       "    </tr>\n",
       "  </thead>\n",
       "  <tbody>\n",
       "    <tr>\n",
       "      <th>0</th>\n",
       "      <td>male</td>\n",
       "      <td>1941</td>\n",
       "      <td>Civic Duty</td>\n",
       "      <td>No</td>\n",
       "      <td>2</td>\n",
       "      <td>yes</td>\n",
       "      <td>yes</td>\n",
       "      <td>yes</td>\n",
       "      <td>no</td>\n",
       "      <td>yes</td>\n",
       "      <td>No</td>\n",
       "      <td>65</td>\n",
       "    </tr>\n",
       "    <tr>\n",
       "      <th>1</th>\n",
       "      <td>female</td>\n",
       "      <td>1947</td>\n",
       "      <td>Civic Duty</td>\n",
       "      <td>No</td>\n",
       "      <td>2</td>\n",
       "      <td>yes</td>\n",
       "      <td>yes</td>\n",
       "      <td>yes</td>\n",
       "      <td>no</td>\n",
       "      <td>yes</td>\n",
       "      <td>No</td>\n",
       "      <td>59</td>\n",
       "    </tr>\n",
       "    <tr>\n",
       "      <th>19</th>\n",
       "      <td>male</td>\n",
       "      <td>1939</td>\n",
       "      <td>Neighbors</td>\n",
       "      <td>Yes</td>\n",
       "      <td>1</td>\n",
       "      <td>yes</td>\n",
       "      <td>yes</td>\n",
       "      <td>yes</td>\n",
       "      <td>no</td>\n",
       "      <td>yes</td>\n",
       "      <td>No</td>\n",
       "      <td>67</td>\n",
       "    </tr>\n",
       "    <tr>\n",
       "      <th>27</th>\n",
       "      <td>male</td>\n",
       "      <td>1965</td>\n",
       "      <td>Civic Duty</td>\n",
       "      <td>No</td>\n",
       "      <td>2</td>\n",
       "      <td>yes</td>\n",
       "      <td>yes</td>\n",
       "      <td>yes</td>\n",
       "      <td>yes</td>\n",
       "      <td>yes</td>\n",
       "      <td>No</td>\n",
       "      <td>41</td>\n",
       "    </tr>\n",
       "    <tr>\n",
       "      <th>28</th>\n",
       "      <td>female</td>\n",
       "      <td>1965</td>\n",
       "      <td>Civic Duty</td>\n",
       "      <td>No</td>\n",
       "      <td>2</td>\n",
       "      <td>yes</td>\n",
       "      <td>yes</td>\n",
       "      <td>yes</td>\n",
       "      <td>no</td>\n",
       "      <td>yes</td>\n",
       "      <td>No</td>\n",
       "      <td>41</td>\n",
       "    </tr>\n",
       "  </tbody>\n",
       "</table>\n",
       "</div>"
      ],
      "text/plain": [
       "       sex   yob   treatment voted  hh_size g2000 g2002 g2004 p2000 p2002  \\\n",
       "0     male  1941  Civic Duty    No        2   yes   yes   yes    no   yes   \n",
       "1   female  1947  Civic Duty    No        2   yes   yes   yes    no   yes   \n",
       "19    male  1939   Neighbors   Yes        1   yes   yes   yes    no   yes   \n",
       "27    male  1965  Civic Duty    No        2   yes   yes   yes   yes   yes   \n",
       "28  female  1965  Civic Duty    No        2   yes   yes   yes    no   yes   \n",
       "\n",
       "   p2004  age  \n",
       "0     No   65  \n",
       "1     No   59  \n",
       "19    No   67  \n",
       "27    No   41  \n",
       "28    No   41  "
      ]
     },
     "execution_count": 16,
     "metadata": {},
     "output_type": "execute_result"
    }
   ],
   "source": [
    "vote_df.head()"
   ]
  },
  {
   "cell_type": "markdown",
   "metadata": {},
   "source": [
    "## 2. Balance check"
   ]
  },
  {
   "cell_type": "markdown",
   "metadata": {},
   "source": [
    "One way we can check whether exchangeability is plausible is to check whether the distribution of data characteristics are the same between the treatment and control groups. \n",
    "\n",
    "Let's now check the balance of the various characteristics between the $T=1$ (`'Neighbors'`) and $T=0$ (`'Civic Duty'`) groups.\n",
    "\n",
    "For the continuous variables of `age` and `hh_size`, let's compute the mean for each group:\n",
    "\n",
    ":::{tip}\n",
    "\n",
    "You may find the [pandas.DataFrame.groupby()](https://pandas.pydata.org/docs/reference/api/pandas.DataFrame.groupby.html) method from worksheet 2 useful here, or you can compute the means by slicing the dataframe using `.loc`.\n",
    "\n",
    ":::\n",
    "\n"
   ]
  },
  {
   "cell_type": "code",
   "execution_count": 17,
   "metadata": {},
   "outputs": [
    {
     "data": {
      "text/plain": [
       "np.float64(49.75596383098444)"
      ]
     },
     "execution_count": 17,
     "metadata": {},
     "output_type": "execute_result"
    }
   ],
   "source": [
    "vote_df['age'].mean()\n",
    "\n",
    "# approach 1\n",
    "vote_df.loc[T=1]['age'].mean()\n",
    "vote_df.loc[T=0]['age'].mean()\n",
    "\n",
    "# approach 2\n",
    "vote_df.groupby('treatment')['age']"
   ]
  },
  {
   "cell_type": "code",
   "execution_count": 21,
   "metadata": {},
   "outputs": [
    {
     "name": "stdout",
     "output_type": "stream",
     "text": [
      "treatment\n",
      "Civic Duty    49.659035\n",
      "Neighbors     49.852936\n",
      "Name: age, dtype: float64\n",
      "treatment\n",
      "Civic Duty    2.189126\n",
      "Neighbors     2.187770\n",
      "Name: hh_size, dtype: float64\n"
     ]
    }
   ],
   "source": [
    "# TODO your code for continuous variables\n",
    "\n",
    "print(vote_df.groupby('treatment')['age'].mean())\n",
    "print(vote_df.groupby('treatment')['hh_size'].mean())"
   ]
  },
  {
   "cell_type": "markdown",
   "metadata": {},
   "source": [
    "For the each of the categorical variables of `['sex', 'g2000', 'g2002', 'g2004', 'p2000', 'p2002', 'p2004']`, let's compute the proportion of respondents who have the characteristic for each `treatment` group:\n",
    "\n",
    ":::{tip}\n",
    "\n",
    "You may want to use the [`value_counts()` method](https://pandas.pydata.org/docs/reference/api/pandas.Series.value_counts.html) with `normalize=True` along with `.groupby()` to compute the proportions for each individual characteristic.\n",
    "\n",
    ":::\n"
   ]
  },
  {
   "cell_type": "code",
   "execution_count": 19,
   "metadata": {},
   "outputs": [
    {
     "data": {
      "text/plain": [
       "g2000\n",
       "yes    0.841689\n",
       "no     0.158311\n",
       "Name: proportion, dtype: float64"
      ]
     },
     "execution_count": 19,
     "metadata": {},
     "output_type": "execute_result"
    }
   ],
   "source": [
    "# TODO, group or select by T=1 and T=0\n",
    "vote_df['g2000'].value_counts(normalize=True)"
   ]
  },
  {
   "cell_type": "code",
   "execution_count": 23,
   "metadata": {},
   "outputs": [
    {
     "name": "stdout",
     "output_type": "stream",
     "text": [
      "treatment   sex   \n",
      "Civic Duty  female    0.500183\n",
      "            male      0.499817\n",
      "Neighbors   female    0.500065\n",
      "            male      0.499935\n",
      "Name: proportion, dtype: float64\n",
      "treatment   g2000\n",
      "Civic Duty  yes      0.841724\n",
      "            no       0.158276\n",
      "Neighbors   yes      0.841653\n",
      "            no       0.158347\n",
      "Name: proportion, dtype: float64\n",
      "treatment   g2002\n",
      "Civic Duty  yes      0.81111\n",
      "            no       0.18889\n",
      "Neighbors   yes      0.81134\n",
      "            no       0.18866\n",
      "Name: proportion, dtype: float64\n",
      "treatment   g2004\n",
      "Civic Duty  yes      1.0\n",
      "Neighbors   yes      1.0\n",
      "Name: proportion, dtype: float64\n",
      "treatment   p2000\n",
      "Civic Duty  no       0.746428\n",
      "            yes      0.253572\n",
      "Neighbors   no       0.748802\n",
      "            yes      0.251198\n",
      "Name: proportion, dtype: float64\n",
      "treatment   p2002\n",
      "Civic Duty  no       0.611152\n",
      "            yes      0.388848\n",
      "Neighbors   no       0.613413\n",
      "            yes      0.386587\n",
      "Name: proportion, dtype: float64\n",
      "treatment   p2004\n",
      "Civic Duty  No       0.600555\n",
      "            Yes      0.399445\n",
      "Neighbors   No       0.593335\n",
      "            Yes      0.406665\n",
      "Name: proportion, dtype: float64\n"
     ]
    }
   ],
   "source": [
    "# TODO your code for categorical variable comparison\n",
    "categorical_vars = ['sex', 'g2000', 'g2002', 'g2004', 'p2000', 'p2002', 'p2004']\n",
    "\n",
    "# we might need a for loop here\n",
    "for category in categorical_vars:\n",
    "    print(vote_df.groupby('treatment')[category].value_counts(normalize=True))"
   ]
  },
  {
   "cell_type": "markdown",
   "metadata": {},
   "source": [
    "Are there any differences between the $T=1$ and $T=0$ groups in terms of these characteristics, or do they seem comparable?\n",
    "\n",
    "**Your response**: All characteristics seem comparable with no significant differences between the two groups."
   ]
  },
  {
   "cell_type": "markdown",
   "metadata": {},
   "source": [
    "## 3. Causal effect estimation\n",
    "\n",
    "Finally, let's estimate the ATE for the `voted` outcome. From what we looked at in class, because this is a **randomized experiment**, we can estimate the ATE by computing the difference in means between the $T=1$ and $T=0$ groups for the `voted` outcome. For this particular dataset, that means:\n",
    "\n",
    "\n",
    "$$\n",
    "\\begin{align*}\n",
    "\\text{ATE} = E[Y(1) - Y(0)] \\xrightarrow[]{\\text{Identification}} \\; &E[Y | T=1] - E[Y | T=0]\\\\\n",
    "E[Y | T=1] - E[Y | T=0] \\; \\xrightarrow[]{\\text{Estimation}} \\; &\\hat{E}[Y | T=1] - \\hat{E}[Y | T=0]\\\\ \n",
    "=&\\hat{P}(\\text{voted='Yes'} \\mid \\text{treatment='Neighbors'})  - \\hat{P}(\\text{voted='Yes'} \\mid \\text{treatment='Civic Duty'})\n",
    "\\end{align*}\n",
    "$$\n",
    "\n",
    ":::{tip}\n",
    "\n",
    "Try computing the two proportions separately and then subtracting them.\n",
    "\n",
    "We can compute the proportion of respondents who voted 'Yes' in each treatment group by using the `.value_counts()` method with `normalize=True` and indexing on the `'Yes'` category.\n",
    "\n",
    ":::\n"
   ]
  },
  {
   "cell_type": "code",
   "execution_count": 25,
   "metadata": {},
   "outputs": [
    {
     "data": {
      "text/plain": [
       "voted\n",
       "No     0.622052\n",
       "Yes    0.377948\n",
       "Name: proportion, dtype: float64"
      ]
     },
     "execution_count": 25,
     "metadata": {},
     "output_type": "execute_result"
    }
   ],
   "source": [
    "vote_df.loc[vote_df['treatment'] == 'Neighbors']['voted'].value_counts(normalize=True)"
   ]
  },
  {
   "cell_type": "code",
   "execution_count": 26,
   "metadata": {},
   "outputs": [
    {
     "data": {
      "text/plain": [
       "voted\n",
       "No     0.685462\n",
       "Yes    0.314538\n",
       "Name: proportion, dtype: float64"
      ]
     },
     "execution_count": 26,
     "metadata": {},
     "output_type": "execute_result"
    }
   ],
   "source": [
    "vote_df.loc[vote_df['treatment'] == 'Civic Duty']['voted'].value_counts(normalize=True)"
   ]
  },
  {
   "cell_type": "code",
   "execution_count": 27,
   "metadata": {},
   "outputs": [
    {
     "data": {
      "text/plain": [
       "0.06341000000000002"
      ]
     },
     "execution_count": 27,
     "metadata": {},
     "output_type": "execute_result"
    }
   ],
   "source": [
    "# TODO your code for estimating the ATE\n",
    "#               vote=yes, T=1    vote=yes, T=0\n",
    "estimated_ATE = 0.377948      -  0.314538\n",
    "estimated_ATE"
   ]
  },
  {
   "cell_type": "markdown",
   "metadata": {},
   "source": [
    "Write down an interpretation of this estimate as a causal quantity.\n",
    "\n",
    "**Your response**: Applying social pressure through the mail causally increases voter turnout on average by 6.3% over mail that reminds them that voting is a civic duty."
   ]
  },
  {
   "cell_type": "markdown",
   "metadata": {},
   "source": [
    "# References\n",
    "\n",
    "- Gerber, Alan S., Donald P. Green, and Christopher W. Larimer, 2008, Replication Materials for “Social Pressure and Voter Turnout: Evidence from a Large-Scale Field Experiment.” http://hdl.handle.net/10079/c7507a0d-097a-4689-873a-7424564dfc82. ISPS Data Archive.\n",
    "- Full article: https://isps.yale.edu/sites/default/files/publication/2012/12/ISPS08-001.pdf"
   ]
  }
 ],
 "metadata": {
  "kernelspec": {
   "display_name": "Python 3 (ipykernel)",
   "language": "python",
   "name": "python3"
  },
  "language_info": {
   "codemirror_mode": {
    "name": "ipython",
    "version": 3
   },
   "file_extension": ".py",
   "mimetype": "text/x-python",
   "name": "python",
   "nbconvert_exporter": "python",
   "pygments_lexer": "ipython3",
   "version": "3.12.6"
  }
 },
 "nbformat": 4,
 "nbformat_minor": 4
}
