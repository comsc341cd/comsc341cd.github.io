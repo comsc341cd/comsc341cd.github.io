{
 "cells": [
  {
   "cell_type": "markdown",
   "metadata": {},
   "source": [
    "(activity8_solution)=\n",
    "# Activity 8 Solution: Extrapolation, overlap, and propensity scores\n",
    "\n",
    "**2025-03-06**\n",
    "\n",
    "---"
   ]
  },
  {
   "cell_type": "code",
   "execution_count": 49,
   "metadata": {},
   "outputs": [],
   "source": [
    "import pandas as pd\n",
    "import numpy as np\n",
    "\n",
    "import matplotlib.pyplot as plt\n",
    "import seaborn as sns\n",
    "import statsmodels.formula.api as smf\n",
    "\n",
    "from ipywidgets import interact_manual\n",
    "from ipywidgets import widgets\n",
    "\n",
    "\n",
    "rng = np.random.default_rng(42)"
   ]
  },
  {
   "cell_type": "markdown",
   "metadata": {},
   "source": [
    "# Part 1: Distribution of covariates under true randomization\n",
    "\n",
    "On Tuesday we saw that the `success_expect` covariate was associated with the intervention. What should the distribution of `success_expect` look like under true randomization (coin flips)? And does it matter if the coin flips are \"biased\" (not 50% heads, 50% tails)?\n",
    "\n",
    "First, let's simulate a distribution of `success_expect` under true randomization. Begin by generating some data that represents `success_expect`, which takes on integer values between 1 and 7. Use the [rng.choice](https://numpy.org/doc/stable/reference/random/generated/numpy.random.Generator.choice.html) function to generate 10,000 samples from a uniform distribution over the integers 1 through 7."
   ]
  },
  {
   "cell_type": "code",
   "execution_count": 50,
   "metadata": {},
   "outputs": [],
   "source": [
    "n_samples = 10000\n",
    "# sim_success_expect = TODO call rng.choice with the a and size parameters\n",
    "\n",
    "### BEGIN SOLUTION\n",
    "sim_success_expect = rng.choice(a=np.arange(1, 8), size=n_samples)\n",
    "### END SOLUTION"
   ]
  },
  {
   "cell_type": "markdown",
   "metadata": {},
   "source": [
    "Next, generate random treatment assignments for each sample using the `rng.choice` function. For now, assume the probability of treatment is 0.5, that is:\n",
    "\n",
    "$$ \n",
    "P(T=1) = 0.5 \n",
    "$$"
   ]
  },
  {
   "cell_type": "code",
   "execution_count": 51,
   "metadata": {},
   "outputs": [],
   "source": [
    "p_treat = 0.5\n",
    "# p needs to be a list of probabilities for each outcome: [0, 1]\n",
    "p = [1-p_treat, p_treat]\n",
    "# sim_treat = TODO call rng.choice with the a, size, and p parameters\n",
    "\n",
    "### BEGIN SOLUTION\n",
    "sim_treat = rng.choice(a=[0,1], p=p, size=n_samples)\n",
    "### END SOLUTION"
   ]
  },
  {
   "cell_type": "markdown",
   "metadata": {},
   "source": [
    "Let's now plot the distribution of treatment for each `sim_success_expect` level. We'll do this by creating a dataframe with the two columns `sim_success_expect` and `sim_treat`, and then using sns.barplot to plot the distribution of `sim_treat` for each `sim_success_expect` level.\n",
    "\n",
    "Call [sns.barplot](https://seaborn.pydata.org/generated/seaborn.barplot.html) with the x and y parameters set to `sim_success_expect` and `sim_treat`, respectively."
   ]
  },
  {
   "cell_type": "code",
   "execution_count": 52,
   "metadata": {},
   "outputs": [
    {
     "data": {
      "text/plain": [
       "<matplotlib.legend.Legend at 0x12b06ce50>"
      ]
     },
     "execution_count": 52,
     "metadata": {},
     "output_type": "execute_result"
    },
    {
     "data": {
      "image/png": "[encoded data removed]",
      "text/plain": [
       "<Figure size 640x480 with 1 Axes>"
      ]
     },
     "metadata": {},
     "output_type": "display_data"
    }
   ],
   "source": [
    "sim_df = pd.DataFrame({\n",
    "    'sim_success_expect': sim_success_expect, \n",
    "    'sim_treat': sim_treat\n",
    "})\n",
    "\n",
    "# TODO sns.barplot\n",
    "\n",
    "### BEGIN SOLUTION\n",
    "sns.barplot(x='sim_success_expect', y='sim_treat', data=sim_df)\n",
    "plt.axhline(y=p_treat, color='black', linestyle='--', label='True probability of treatment')\n",
    "plt.legend()\n",
    "### END SOLUTION"
   ]
  },
  {
   "cell_type": "markdown",
   "metadata": {},
   "source": [
    "The black vertical lines on each bar represnt a bootstrapped confidence interval for the proportion of treatment in each `sim_success_expect` level. On your plot above, add a horizontal line using `plt.axhline` at `y=p_treat` to represent the true probability of treatment. The observed probability of treatment shouldn't deviate significantly from the true probability of treatment for any of the `sim_success_expect` values."
   ]
  },
  {
   "cell_type": "markdown",
   "metadata": {},
   "source": [
    "Finally, let's explore different different probabilities of treatment. Copy your code from the above three cells that created your barplot into the `plot_treatment_distribution` function below, and add an `interact_manual` decorator that lets you change `p_treat`. \n",
    "\n",
    "Does the probability of treatment change the distribution of treated units among the `sim_success_expect` values? Briefly comment on why/why not.\n",
    "\n",
    "**Your response:** [pollev.com​/tliu](https://pollev.com/tliu)\n",
    "\n"
   ]
  },
  {
   "cell_type": "code",
   "execution_count": 54,
   "metadata": {},
   "outputs": [
    {
     "data": {
      "application/vnd.jupyter.widget-view+json": {
       "model_id": "48137464d61345eb8f0f8539092820f7",
       "version_major": 2,
       "version_minor": 0
      },
      "text/plain": [
       "interactive(children=(FloatSlider(value=0.0, description='p_treat', max=1.0), Button(description='Run Interact…"
      ]
     },
     "metadata": {},
     "output_type": "display_data"
    }
   ],
   "source": [
    "# TODO an interact_manual\n",
    "def plot_treatment_distribution(p_treat):\n",
    "    pass\n",
    "\n",
    "rng = np.random.default_rng(42)\n",
    "\n",
    "\n",
    "# make this a slider, either fomulation works\n",
    "@interact_manual(p_treat=(0, 1, 0.1))\n",
    "#@interact_manual(p_treat=widgets.FloatSlider(value=0.5, min=0, max=1, step=0.1))\n",
    "def plot_treatment_distribution(p_treat):\n",
    "    ### BEGIN SOLUTION\n",
    "    sim_success_expect = rng.choice(a=np.arange(1, 8), size=n_samples)\n",
    "\n",
    "    # p needs to be a list of probabilities for each outcome: [0, 1]\n",
    "    p = [1-p_treat, p_treat]\n",
    "    sim_treat = rng.choice(a=[0,1], p=p, size=n_samples)\n",
    "\n",
    "    sim_df = pd.DataFrame({\n",
    "    'sim_success_expect': sim_success_expect, \n",
    "    'sim_treat': sim_treat\n",
    "    })\n",
    "\n",
    "    sns.barplot(x='sim_success_expect', y='sim_treat', data=sim_df)\n",
    "    plt.axhline(y=p_treat, ls='--', color='red')\n",
    "    ### END SOLUTION\n"
   ]
  },
  {
   "cell_type": "markdown",
   "metadata": {},
   "source": [
    "# Part 2: Fitting a Propensity Score\n",
    "\n",
    "Let's now estimate a propensity score for the learning mindsets data. As a reminder from Tuesday's lecture, the columns we'll look at are:\n",
    "\n",
    "- `intervention`: whether the student received the intervention (1) or not (0)\n",
    "- `success_expect`: student prior mindset about their ability to succeed in school (higher values indicate a stronger belief in their ability to succeed)\n",
    "- `frst_in_family`: whether the student would be the first in their family to attend college (1) or not (0)\n",
    "- `gender`: student's self-reported gender\n",
    "- `school_urbanicity`: categorical variable corresponding to the urbanicity of the school the student attends, e.g. urban, suburban, rural\n",
    "- `achievement_score`: the student's future grade achievement, standardized such that 0 is the mean and it has a standard deviation of 1\n",
    "\n",
    "\n",
    "The way we'll do this is by fitting a logistic regression model, which allows us estimate the following:\n",
    "\n",
    "$$\n",
    "P(T=1 \\mid X) = E[T \\mid X] = e(X)\n",
    "$$\n",
    "\n",
    "Like with linear regression, this can extend to multiple covariates, such as:\n",
    "\n",
    "$$\n",
    "P(T=1 \\mid X_1, X_2, X_3, X_4) = E[T \\mid X_1, X_2, X_3, X_4]\n",
    "$$\n",
    "\n",
    "\n",
    "In statmodels, we just need to specify the formula string `'T ~1 + X1 + X2 + X3 + X4'` and pass the dataframe to `smf.logit` instead of `smf.ols` to fit a logistic regression model:\n",
    "\n",
    "\n",
    "\n",
    "```python\n",
    "model = smf.logit('T ~ 1 + X1 + X2 + X3 + X4', data=data).fit()\n",
    "```\n",
    "\n",
    "Fit a propensity score model predicting `intervention` and our four covariates from Tuesday's lecture (`success_expect`, `gender`, `frst_in_family`, `school_urbanicity`).\n",
    "\n",
    "One additional consideration is that `gender` and `school_urbanicity` are categorical variables. We can indicate to `smf.logit` that these variables are categorical by wrapping the variables in `C()` in the formula string. For example, if we wanted to fit a model with `X1` and `X2` as categorical variables, we would write:\n",
    "\n",
    "```python\n",
    "model = smf.logit('T ~ 1 + C(X1) + C(X2) + X3 + X4', data=data).fit()\n",
    "```"
   ]
  },
  {
   "cell_type": "code",
   "execution_count": 6,
   "metadata": {},
   "outputs": [],
   "source": [
    "# load the learning_mindset data again\n",
    "learning_df = pd.read_csv(\"~/COMSC-341CD/data/learning_mindset.csv\")"
   ]
  },
  {
   "cell_type": "code",
   "execution_count": 7,
   "metadata": {},
   "outputs": [
    {
     "name": "stdout",
     "output_type": "stream",
     "text": [
      "Optimization terminated successfully.\n",
      "         Current function value: 0.628017\n",
      "         Iterations 5\n"
     ]
    }
   ],
   "source": [
    "# TODO fit a propensity score model\n",
    "formula = ''\n",
    "#propensity_model = smf.logit(formula=formula, data=learning_df).fit()\n",
    "\n",
    "### BEGIN SOLUTION\n",
    "formula = 'intervention ~ 1 + success_expect + frst_in_family + C(school_urbanicity) + C(gender)'\n",
    "propensity_model = smf.logit(formula=formula, data=learning_df).fit()\n",
    "### END SOLUTION"
   ]
  },
  {
   "cell_type": "markdown",
   "metadata": {},
   "source": [
    "We can then add the predicted propensity scores as a column to analyze along with the rest of the data. Run the cell below to generate predicted propensity scores and add them to the learning_df:"
   ]
  },
  {
   "cell_type": "code",
   "execution_count": 8,
   "metadata": {},
   "outputs": [],
   "source": [
    "pred_propensity_scores = propensity_model.predict(learning_df)\n",
    "learning_df['propensity_score'] = pred_propensity_scores"
   ]
  },
  {
   "cell_type": "markdown",
   "metadata": {},
   "source": [
    "A quick check for whether we've fit the propensity score correctly is to verify that the average propensity score is equal to the probability of treatment in the dataset:"
   ]
  },
  {
   "cell_type": "code",
   "execution_count": 9,
   "metadata": {},
   "outputs": [],
   "source": [
    "p_treat = learning_df['intervention'].mean()\n",
    "\n",
    "assert np.isclose(learning_df['propensity_score'].mean(), p_treat, atol=0.01), \"The average propensity score is not equal to the probability of treatment\""
   ]
  },
  {
   "cell_type": "markdown",
   "metadata": {},
   "source": [
    "Propensity score give us a lot of flexibility in visualizing confounding issues. For example, we can generate the same barplot we made in part 1 with `success_expect` on the x-axis, but with the `propensity_score` on the y-axis for our `learning_df` dataset.\n",
    "\n",
    "What do you observe about the relationship between `success_expect` and `propensity_score`?\n",
    "\n",
    "**Your response:** [pollev.com/tliu](https://pollev.com/tliu)"
   ]
  },
  {
   "cell_type": "code",
   "execution_count": 10,
   "metadata": {},
   "outputs": [
    {
     "data": {
      "text/plain": [
       "<Axes: xlabel='success_expect', ylabel='propensity_score'>"
      ]
     },
     "execution_count": 10,
     "metadata": {},
     "output_type": "execute_result"
    },
    {
     "data": {
      "image/png": "[encoded data removed]",
      "text/plain": [
       "<Figure size 640x480 with 1 Axes>"
      ]
     },
     "metadata": {},
     "output_type": "display_data"
    }
   ],
   "source": [
    "# TODO a barplot of success_expect vs propensity_score\n",
    "\n",
    "### BEGIN SOLUTION\n",
    "sns.barplot(x='success_expect', y='propensity_score', data=learning_df)\n",
    "# call out the precision in the confounding that we're able to see vs just plotting the raw intervention\n",
    "### END SOLUTION"
   ]
  },
  {
   "cell_type": "markdown",
   "metadata": {},
   "source": [
    "# Part 3: Propensity scores for exploring covariate distribution"
   ]
  },
  {
   "cell_type": "markdown",
   "metadata": {},
   "source": [
    "In Project 1, we plotted the distribution of covariates of treated and control units to visually verify that the covariates were balanced between the two groups.\n",
    "\n",
    "The propensity score is a convenient way check whether **all** the covariates we want to control for are balanced between the two groups.\n",
    "\n",
    "Run the cell below to fit a propensity score model for our simulated data from Part 1. Then plot the distribution of propensity scores for the treated and control units by creating a [sns.kdeplot](https://seaborn.pydata.org/generated/seaborn.kdeplot.html) with the x-axis as the `propensity_score` and the hue as the `sim_treat` variable -- optionally setting `cumulative=True` to plot the cumulative distribution. The distributions should approximately match since we simulated a randomized experiment:"
   ]
  },
  {
   "cell_type": "code",
   "execution_count": 11,
   "metadata": {},
   "outputs": [
    {
     "name": "stdout",
     "output_type": "stream",
     "text": [
      "Optimization terminated successfully.\n",
      "         Current function value: 0.693081\n",
      "         Iterations 3\n"
     ]
    },
    {
     "data": {
      "text/plain": [
       "<Axes: xlabel='propensity_score', ylabel='Density'>"
      ]
     },
     "execution_count": 11,
     "metadata": {},
     "output_type": "execute_result"
    },
    {
     "data": {
      "image/png": "[encoded data removed]",
      "text/plain": [
       "<Figure size 640x480 with 1 Axes>"
      ]
     },
     "metadata": {},
     "output_type": "display_data"
    }
   ],
   "source": [
    "sim_propensity_model = smf.logit('sim_treat ~ 1 + sim_success_expect', data=sim_df).fit()\n",
    "sim_propensity_scores = sim_propensity_model.predict(sim_df)\n",
    "sim_df['propensity_score'] = sim_propensity_scores\n",
    "\n",
    "# TODO kdeplot\n",
    "\n",
    "### BEGIN SOLUTION\n",
    "sns.kdeplot(x='propensity_score', data=sim_df, hue='sim_treat', cumulative=True)\n",
    "### END SOLUTION"
   ]
  },
  {
   "cell_type": "markdown",
   "metadata": {},
   "source": [
    "Now, create the same plot for our `learning_df` dataset, setting the hue to `intervention` and `x` to `propensity_score`.\n",
    "\n",
    "Differences in the distributions suggest that the covariates are not balanced between the two groups -- in other words, there is confounding among the covariates we've included in the propensity score model.\n"
   ]
  },
  {
   "cell_type": "code",
   "execution_count": 16,
   "metadata": {},
   "outputs": [
    {
     "data": {
      "text/plain": [
       "<Axes: xlabel='propensity_score', ylabel='Density'>"
      ]
     },
     "execution_count": 16,
     "metadata": {},
     "output_type": "execute_result"
    },
    {
     "data": {
      "image/png": "[encoded data removed]",
      "text/plain": [
       "<Figure size 640x480 with 1 Axes>"
      ]
     },
     "metadata": {},
     "output_type": "display_data"
    }
   ],
   "source": [
    "sns.kdeplot(x='propensity_score', data=learning_df, hue='intervention')"
   ]
  },
  {
   "cell_type": "markdown",
   "metadata": {},
   "source": [
    "This type of density plot of the propensity score also allows us to check positivity -- if there are regions of the propensity score where there are only treated or only control units, then there is a positivity violation.\n",
    "\n",
    "Does there appear to be any obvious regions where there are only treated or only control units? What about regions where there are few treated or control units?\n",
    "\n",
    "**Your response:** [pollev.com/tliu](https://pollev.com/tliu)"
   ]
  },
  {
   "cell_type": "markdown",
   "metadata": {},
   "source": [
    "# Part 4: Propensity scores as a balancer "
   ]
  },
  {
   "cell_type": "markdown",
   "metadata": {},
   "source": [
    "Now that we have the propensity score distilling high-dimensional covariates into a single number, binning the data by the propensity score becomes a viable strategy for balancing the covariates.\n",
    "\n",
    "Run the cell below to bin the data by the propensity score using the [pd.cut](https://pandas.pydata.org/docs/reference/api/pandas.cut.html) function, producing a new column `propensity_score_bin` in the `learning_df` dataframe."
   ]
  },
  {
   "cell_type": "code",
   "execution_count": 48,
   "metadata": {},
   "outputs": [
    {
     "name": "stdout",
     "output_type": "stream",
     "text": [
      "[(0.287, 0.329], (0.245, 0.287], (0.329, 0.371], (0.371, 0.412], (0.203, 0.245]]\n",
      "Categories (5, interval[float64, right]): [(0.203, 0.245] < (0.245, 0.287] < (0.287, 0.329] < (0.329, 0.371] < (0.371, 0.412]]\n"
     ]
    }
   ],
   "source": [
    "n_bins = 5\n",
    "learning_df['propensity_score_bin'] = pd.cut(learning_df['propensity_score'], bins=n_bins)\n",
    "\n",
    "# view the bins created by pd.cut\n",
    "print(learning_df['propensity_score_bin'].unique())"
   ]
  },
  {
   "cell_type": "markdown",
   "metadata": {},
   "source": [
    "Then, perform a groupby with `by='[propensity_score_bin', 'intervention']`, and calculate the mean of the given columns on the grouped data.\n",
    "\n",
    "Are there any of the columns that are significantly different between the $T=1$ and $T=0$ groups for each propensity score bin? If so, how do you interpret this?\n",
    "\n",
    "**Your response:** [pollev.com/tliu](https://pollev.com/tliu)\n"
   ]
  },
  {
   "cell_type": "code",
   "execution_count": 46,
   "metadata": {},
   "outputs": [
    {
     "name": "stderr",
     "output_type": "stream",
     "text": [
      "/var/folders/92/j4ms2q355sv0n3q55bgv_hwm0000gn/T/ipykernel_31104/2372089820.py:6: FutureWarning: The default of observed=False is deprecated and will be changed to True in a future version of pandas. Pass observed=False to retain current behavior or observed=True to adopt the future default and silence this warning.\n",
      "  balance_df = learning_df.groupby(['propensity_score_bin', 'intervention'])[columns].mean()\n"
     ]
    },
    {
     "data": {
      "text/html": [
       "<div>\n",
       "<style scoped>\n",
       "    .dataframe tbody tr th:only-of-type {\n",
       "        vertical-align: middle;\n",
       "    }\n",
       "\n",
       "    .dataframe tbody tr th {\n",
       "        vertical-align: top;\n",
       "    }\n",
       "\n",
       "    .dataframe thead th {\n",
       "        text-align: right;\n",
       "    }\n",
       "</style>\n",
       "<table border=\"1\" class=\"dataframe\">\n",
       "  <thead>\n",
       "    <tr style=\"text-align: right;\">\n",
       "      <th></th>\n",
       "      <th></th>\n",
       "      <th>success_expect</th>\n",
       "      <th>frst_in_family</th>\n",
       "      <th>school_urbanicity</th>\n",
       "      <th>gender</th>\n",
       "      <th>achievement_score</th>\n",
       "    </tr>\n",
       "    <tr>\n",
       "      <th>propensity_score_bin</th>\n",
       "      <th>intervention</th>\n",
       "      <th></th>\n",
       "      <th></th>\n",
       "      <th></th>\n",
       "      <th></th>\n",
       "      <th></th>\n",
       "    </tr>\n",
       "  </thead>\n",
       "  <tbody>\n",
       "    <tr>\n",
       "      <th rowspan=\"2\" valign=\"top\">(0.203, 0.245]</th>\n",
       "      <th>0</th>\n",
       "      <td>1.966667</td>\n",
       "      <td>0.988889</td>\n",
       "      <td>2.294444</td>\n",
       "      <td>1.766667</td>\n",
       "      <td>-0.855587</td>\n",
       "    </tr>\n",
       "    <tr>\n",
       "      <th>1</th>\n",
       "      <td>1.950000</td>\n",
       "      <td>0.983333</td>\n",
       "      <td>2.516667</td>\n",
       "      <td>1.816667</td>\n",
       "      <td>-0.671004</td>\n",
       "    </tr>\n",
       "    <tr>\n",
       "      <th rowspan=\"2\" valign=\"top\">(0.245, 0.287]</th>\n",
       "      <th>0</th>\n",
       "      <td>4.013749</td>\n",
       "      <td>0.957837</td>\n",
       "      <td>2.274977</td>\n",
       "      <td>1.726856</td>\n",
       "      <td>-0.766884</td>\n",
       "    </tr>\n",
       "    <tr>\n",
       "      <th>1</th>\n",
       "      <td>3.984694</td>\n",
       "      <td>0.954082</td>\n",
       "      <td>2.283163</td>\n",
       "      <td>1.709184</td>\n",
       "      <td>-0.434164</td>\n",
       "    </tr>\n",
       "    <tr>\n",
       "      <th rowspan=\"2\" valign=\"top\">(0.287, 0.329]</th>\n",
       "      <th>0</th>\n",
       "      <td>5.213038</td>\n",
       "      <td>0.876008</td>\n",
       "      <td>2.446909</td>\n",
       "      <td>1.530242</td>\n",
       "      <td>-0.258401</td>\n",
       "    </tr>\n",
       "    <tr>\n",
       "      <th>1</th>\n",
       "      <td>5.270698</td>\n",
       "      <td>0.883369</td>\n",
       "      <td>2.436285</td>\n",
       "      <td>1.521238</td>\n",
       "      <td>0.164735</td>\n",
       "    </tr>\n",
       "    <tr>\n",
       "      <th rowspan=\"2\" valign=\"top\">(0.329, 0.371]</th>\n",
       "      <th>0</th>\n",
       "      <td>5.704668</td>\n",
       "      <td>0.278133</td>\n",
       "      <td>2.444226</td>\n",
       "      <td>1.445209</td>\n",
       "      <td>0.077631</td>\n",
       "    </tr>\n",
       "    <tr>\n",
       "      <th>1</th>\n",
       "      <td>5.706571</td>\n",
       "      <td>0.274527</td>\n",
       "      <td>2.454545</td>\n",
       "      <td>1.452745</td>\n",
       "      <td>0.489200</td>\n",
       "    </tr>\n",
       "    <tr>\n",
       "      <th rowspan=\"2\" valign=\"top\">(0.371, 0.412]</th>\n",
       "      <th>0</th>\n",
       "      <td>6.533793</td>\n",
       "      <td>0.180690</td>\n",
       "      <td>2.706207</td>\n",
       "      <td>1.110345</td>\n",
       "      <td>0.722760</td>\n",
       "    </tr>\n",
       "    <tr>\n",
       "      <th>1</th>\n",
       "      <td>6.500000</td>\n",
       "      <td>0.148148</td>\n",
       "      <td>2.696759</td>\n",
       "      <td>1.097222</td>\n",
       "      <td>1.194055</td>\n",
       "    </tr>\n",
       "  </tbody>\n",
       "</table>\n",
       "</div>"
      ],
      "text/plain": [
       "                                   success_expect  frst_in_family  \\\n",
       "propensity_score_bin intervention                                   \n",
       "(0.203, 0.245]       0                   1.966667        0.988889   \n",
       "                     1                   1.950000        0.983333   \n",
       "(0.245, 0.287]       0                   4.013749        0.957837   \n",
       "                     1                   3.984694        0.954082   \n",
       "(0.287, 0.329]       0                   5.213038        0.876008   \n",
       "                     1                   5.270698        0.883369   \n",
       "(0.329, 0.371]       0                   5.704668        0.278133   \n",
       "                     1                   5.706571        0.274527   \n",
       "(0.371, 0.412]       0                   6.533793        0.180690   \n",
       "                     1                   6.500000        0.148148   \n",
       "\n",
       "                                   school_urbanicity    gender  \\\n",
       "propensity_score_bin intervention                                \n",
       "(0.203, 0.245]       0                      2.294444  1.766667   \n",
       "                     1                      2.516667  1.816667   \n",
       "(0.245, 0.287]       0                      2.274977  1.726856   \n",
       "                     1                      2.283163  1.709184   \n",
       "(0.287, 0.329]       0                      2.446909  1.530242   \n",
       "                     1                      2.436285  1.521238   \n",
       "(0.329, 0.371]       0                      2.444226  1.445209   \n",
       "                     1                      2.454545  1.452745   \n",
       "(0.371, 0.412]       0                      2.706207  1.110345   \n",
       "                     1                      2.696759  1.097222   \n",
       "\n",
       "                                   achievement_score  \n",
       "propensity_score_bin intervention                     \n",
       "(0.203, 0.245]       0                     -0.855587  \n",
       "                     1                     -0.671004  \n",
       "(0.245, 0.287]       0                     -0.766884  \n",
       "                     1                     -0.434164  \n",
       "(0.287, 0.329]       0                     -0.258401  \n",
       "                     1                      0.164735  \n",
       "(0.329, 0.371]       0                      0.077631  \n",
       "                     1                      0.489200  \n",
       "(0.371, 0.412]       0                      0.722760  \n",
       "                     1                      1.194055  "
      ]
     },
     "execution_count": 46,
     "metadata": {},
     "output_type": "execute_result"
    }
   ],
   "source": [
    "\n",
    "# TODO group by propensity score bin and intervention, and calculate the mean of the columns on the grouped data\n",
    "columns = ['success_expect', 'frst_in_family', 'school_urbanicity', 'gender', 'achievement_score']\n",
    "\n",
    "### BEGIN SOLUTION\n",
    "balance_df = learning_df.groupby(['propensity_score_bin', 'intervention'])[columns].mean()\n",
    "### END SOLUTION\n",
    "\n",
    "balance_df"
   ]
  }
 ],
 "metadata": {
  "kernelspec": {
   "display_name": "venv",
   "language": "python",
   "name": "python3"
  },
  "language_info": {
   "codemirror_mode": {
    "name": "ipython",
    "version": 3
   },
   "file_extension": ".py",
   "mimetype": "text/x-python",
   "name": "python",
   "nbconvert_exporter": "python",
   "pygments_lexer": "ipython3",
   "version": "3.11.10"
  }
 },
 "nbformat": 4,
 "nbformat_minor": 2
}
