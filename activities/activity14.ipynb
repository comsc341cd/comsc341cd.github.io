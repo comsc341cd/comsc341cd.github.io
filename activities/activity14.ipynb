{
 "cells": [
  {
   "cell_type": "markdown",
   "metadata": {},
   "source": [
    "(activity14)=\n",
    "\n",
    "# Activity 14: Panel data\n",
    "\n",
    "**2025-04-15**\n",
    "\n",
    "---"
   ]
  },
  {
   "cell_type": "code",
   "execution_count": 10,
   "metadata": {},
   "outputs": [],
   "source": [
    "import seaborn as sns\n",
    "import pandas as pd\n",
    "import numpy as np\n",
    "import matplotlib.pyplot as plt\n",
    "import statsmodels.formula.api as smf"
   ]
  },
  {
   "cell_type": "markdown",
   "metadata": {},
   "source": [
    "# Part 1"
   ]
  },
  {
   "cell_type": "markdown",
   "metadata": {},
   "source": [
    "![](../images/lec19_panel.png)"
   ]
  },
  {
   "cell_type": "markdown",
   "metadata": {},
   "source": [
    "With panel data, instead of having a single row per unit in our dataframes, we have potentially multiple datapoints per unit across time. Given that:\n",
    "\n",
    "- December: $t=1$\n",
    "- March: $t=2$\n",
    "- June: $t=3$\n",
    "\n",
    "We have 3 datapoints for each town. The \"Post-treatment period?\" column is a binary variable that is 1 if the datapoint is in the post-treatment period and 0 otherwise. \n",
    "\n",
    "Finish populating the markdown table below with the correct values:"
   ]
  },
  {
   "cell_type": "markdown",
   "metadata": {},
   "source": [
    "| Unit         | Time | Outcome | Post-treatment period? |\n",
    "|--------------|------|---------|------------------------|\n",
    "| South Hadley | 1    | 100     | 0         |\n",
    "| South Hadley | 2    | 90      | 0         |\n",
    "| South Hadley | 3    | 70      | 1         |\n",
    "| TODO         |      |         |          |"
   ]
  },
  {
   "cell_type": "markdown",
   "metadata": {},
   "source": [
    "We can use pandas [MultiIndex](https://pandas.pydata.org/docs/user_guide/advanced.html) to represent the multiple indices needed for panel data. The [pd.set_index()](https://pandas.pydata.org/docs/reference/api/pandas.DataFrame.set_index.html) can take a list of columns to use as the new index."
   ]
  },
  {
   "cell_type": "code",
   "execution_count": null,
   "metadata": {},
   "outputs": [],
   "source": [
    "traffic_df = pd.DataFrame(\n",
    "    {\n",
    "        'town': ['South Hadley', 'South Hadley', 'South Hadley', 'Hadley', 'Hadley', 'Hadley'],\n",
    "        'time': [1, 2, 3, 1, 2, 3],\n",
    "        'outcome': [100, 90, 70, 80, 70, 60],\n",
    "        \"post_treatment\": [0, 0, 1, 0, 0, 1]\n",
    "    }\n",
    ")\n",
    "\n",
    "# TODO set the index to be the['town', 'time'] columns\n",
    "#traffic_df = traffic_df.set_index([\"TODO\"])\n",
    "\n",
    "display(traffic_df)\n",
    "\n",
    "# note that time and town are no longer columns\n",
    "display(traffic_df.columns)"
   ]
  },
  {
   "cell_type": "markdown",
   "metadata": {},
   "source": [
    "The multi-index is now, where the first level (`level=0`) is the town and the second level (`level=1`) is the time.\n",
    "\n",
    "With a multi-index, the `.loc` method can take a tuple that specifies an index to retrieve:"
   ]
  },
  {
   "cell_type": "code",
   "execution_count": null,
   "metadata": {},
   "outputs": [],
   "source": [
    "# selects all the South Hadley datapoints\n",
    "display(traffic_df.loc[\"South Hadley\"])\n"
   ]
  },
  {
   "cell_type": "code",
   "execution_count": null,
   "metadata": {},
   "outputs": [],
   "source": [
    "# selects the row for South Hadley at time 1\n",
    "display(traffic_df.loc[(\"South Hadley\", 1)])\n",
    "\n",
    "# equivalently, we can chain the `.loc` method to filter different levels of the multi-index\n",
    "display(traffic_df.loc[\"South Hadley\"].loc[1])"
   ]
  },
  {
   "cell_type": "markdown",
   "metadata": {},
   "source": [
    "To select rows based on the second level of the multi-index, we can use [pd.xs](https://pandas.pydata.org/docs/reference/api/pandas.DataFrame.xs.html), which takes a cross-section of the DataFrame:"
   ]
  },
  {
   "cell_type": "code",
   "execution_count": null,
   "metadata": {},
   "outputs": [],
   "source": [
    "# Select all rows where the second level of the multi-index (time) equals 1\n",
    "traffic_df.xs(1, level=1)"
   ]
  },
  {
   "cell_type": "markdown",
   "metadata": {},
   "source": [
    "Write a line of code to select the Hadley datapoint at time 3, and submit your answer to pollEverywhere:\n",
    "\n",
    "- [pollev.com/tliu](https://pollev.com/tliu)"
   ]
  },
  {
   "cell_type": "markdown",
   "metadata": {},
   "source": [
    "# Part 2"
   ]
  },
  {
   "cell_type": "markdown",
   "metadata": {},
   "source": [
    "Run the cell below to load the organ donation data. The dataframe has the following columns:\n",
    "- State: the state name\n",
    "- Quarter: the quarter of data\n",
    "- Quarter_Num: the quarter number\n",
    "- Rate: the organ donation registration rate"
   ]
  },
  {
   "cell_type": "code",
   "execution_count": 108,
   "metadata": {},
   "outputs": [],
   "source": [
    "organ_df = pd.read_csv(\"~/COMSC-341CD/data/organ_donations.csv\")"
   ]
  },
  {
   "cell_type": "markdown",
   "metadata": {},
   "source": [
    "Since the data is quarterly and begins in 2010 Q4, the first post-treatment period (after July 2011) is 2011 Q3, which corresponds to Quarter_Num = 4. Create the following columns to prepare the data for a difference-in-differences analysis:\n",
    "\n",
    "\n",
    "- `is_california`: a binary variable indicating whether the state is California\n",
    "- `post_treatment`: a binary variable indicating whether the quarter is after 2011 Q3 (Quarter_Num >= 4)\n",
    "- `is_treated`: a binary variable indicating whether the state is California **AND** the quarter is after 2011 Q3"
   ]
  },
  {
   "cell_type": "code",
   "execution_count": 109,
   "metadata": {},
   "outputs": [],
   "source": [
    "# TODO: Create the columns\n",
    "organ_df['is_california'] = None\n",
    "organ_df['post_treatment'] = None\n",
    "organ_df['is_treated'] = None"
   ]
  },
  {
   "cell_type": "markdown",
   "metadata": {},
   "source": [
    "Like we did in part 1, set the index to be the `['State', 'Quarter_Num']` columns."
   ]
  },
  {
   "cell_type": "code",
   "execution_count": 110,
   "metadata": {},
   "outputs": [],
   "source": [
    "# TODO set the multi-index\n",
    "#organ_df.set_index(TODO)"
   ]
  },
  {
   "cell_type": "markdown",
   "metadata": {},
   "source": [
    "Finally, let's visually evaluate the parallel trends assumption by plotting the rate against the quarter number in the pre-treatment period."
   ]
  },
  {
   "cell_type": "code",
   "execution_count": null,
   "metadata": {},
   "outputs": [],
   "source": [
    "# TODO select the dataframe for the pre-treatment period\n",
    "organ_df_pre = None\n",
    "\n",
    "\n",
    "# TODO plot an sns.pointplot using organ_df_pre of 'Rate' against 'Quarter_Num', with 'is_california' as the hue\n",
    "# sns.pointplot()"
   ]
  },
  {
   "cell_type": "markdown",
   "metadata": {},
   "source": [
    "Does there appear to be any clear violations of the parallel trends assumption?\n",
    "\n",
    "- [pollev.com/tliu](https://pollev.com/tliu)"
   ]
  },
  {
   "cell_type": "markdown",
   "metadata": {},
   "source": [
    "# Acknowledgements\n",
    "\n",
    "This activity is derived from Nick Huntington-Klein's analysis of Kessler and Roth (2014) in Chapter 18 of [The Effect](https://theeffectbook.net/)."
   ]
  }
 ],
 "metadata": {
  "kernelspec": {
   "display_name": "venv",
   "language": "python",
   "name": "python3"
  },
  "language_info": {
   "codemirror_mode": {
    "name": "ipython",
    "version": 3
   },
   "file_extension": ".py",
   "mimetype": "text/x-python",
   "name": "python",
   "nbconvert_exporter": "python",
   "pygments_lexer": "ipython3",
   "version": "3.11.10"
  }
 },
 "nbformat": 4,
 "nbformat_minor": 2
}
