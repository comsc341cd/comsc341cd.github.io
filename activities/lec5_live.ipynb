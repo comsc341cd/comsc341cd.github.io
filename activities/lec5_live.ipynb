{
 "cells": [
  {
   "cell_type": "markdown",
   "metadata": {},
   "source": [
    "(lec5_live)=\n",
    "# Lecture 5 live coding\n",
    "\n",
    "**2025-09-22**\n",
    "\n",
    "---"
   ]
  },
  {
   "cell_type": "code",
   "execution_count": null,
   "metadata": {},
   "outputs": [],
   "source": [
    "import pandas as pd\n",
    "import numpy as np\n",
    "\n",
    "import matplotlib.pyplot as plt\n",
    "import seaborn as sns\n",
    "\n",
    "from nhanes.load import load_NHANES_data"
   ]
  },
  {
   "cell_type": "markdown",
   "metadata": {},
   "source": [
    "## Pandas reassignment"
   ]
  },
  {
   "cell_type": "markdown",
   "metadata": {},
   "source": [
    "If we're chaining together operations, we need to be careful about which dataframe we're modifying.\n",
    "\n",
    "Select respondents who:\n",
    "\n",
    "- are adults AND\n",
    "- report being in `Excellent` or `Very good` health"
   ]
  },
  {
   "cell_type": "code",
   "execution_count": null,
   "metadata": {},
   "outputs": [],
   "source": [
    "nhanes_df = load_NHANES_data()\n",
    "\n",
    "# sel_df = nhanes_df[nhanes_df['AgeInYearsAtScreening'] >= 18]\n",
    "# sel_df = nhanes_df[(nhanes_df['GeneralHealthCondition'] == 'Excellent') | (nhanes_df['GeneralHealthCondition'] == 'Very good')]"
   ]
  },
  {
   "cell_type": "markdown",
   "metadata": {},
   "source": [
    "`.loc` operations can be in-place:"
   ]
  },
  {
   "cell_type": "code",
   "execution_count": null,
   "metadata": {},
   "outputs": [],
   "source": [
    "print(nhanes_df['SmokedAtLeast100CigarettesInLife'].value_counts())\n",
    "\n",
    "#nhanes_df.loc[nhanes_df['GeneralHealthCondition'] == 'Excellent', 'SmokedAtLeast100CigarettesInLife'] = 0"
   ]
  },
  {
   "cell_type": "markdown",
   "metadata": {},
   "source": [
    ":::{tip}\n",
    "\n",
    "- Restart the notebook and run from top-to-bottom to double check any reassignment issues.\n",
    "\n",
    "- If the data are not too large, can re-run the cell to re-load the data.\n",
    "\n",
    ":::"
   ]
  },
  {
   "cell_type": "markdown",
   "metadata": {},
   "source": [
    "If there is a pandas operation that modifies portions of the dataframe, watch the `inplace` parameter!\n",
    "\n",
    "- [fillna()](https://pandas.pydata.org/docs/reference/api/pandas.DataFrame.fillna.html)\n",
    "- [replace()](https://pandas.pydata.org/docs/reference/api/pandas.DataFrame.replace.html)"
   ]
  },
  {
   "cell_type": "code",
   "execution_count": null,
   "metadata": {},
   "outputs": [],
   "source": [
    "print(nhanes_df['SmokedAtLeast100CigarettesInLife'].isna().sum())\n",
    "\n",
    "#nhanes_df.fillna(0)\n",
    "#nhanes_df['GeneralHealthCondition'].replace({'Poor?': 'Poor', 'Fair or': 'Fair'})"
   ]
  },
  {
   "cell_type": "markdown",
   "metadata": {},
   "source": [
    ":::{tip}\n",
    "\n",
    "To be safe, I generally recommend explicitly re-assigning the dataframe whenever you're modifying portions of it.\n",
    "\n",
    ":::"
   ]
  },
  {
   "cell_type": "markdown",
   "metadata": {},
   "source": [
    "# Bootstrap plotting"
   ]
  },
  {
   "cell_type": "markdown",
   "metadata": {},
   "source": [
    "## The normal distribution\n",
    "\n",
    "A probability distribution that we will frequently encounter in addition to the categorical distributions we saw in worksheet 1 is the **normal distribution**. The normal distribution has the following properties:\n",
    "\n",
    "- centered and symmetric about the **mean** $\\mu$ (or $E[X]$)\n",
    "- spread by the **standard deviation** $\\sigma$\n",
    "    - the **variance** is $\\sigma^2$ (or $V[X]$)\n",
    "\n",
    "We write a random variable as $X$ that follows a normal distribution as $X \\sim \\mathcal{N}(\\mu, \\sigma^2)$.\n",
    "\n",
    ":::{tip}\n",
    "\n",
    "Watch whether the software you are using takes the variance or the standard deviation as input. In `numpy`, it is the standard deviation, which is different than how we write the distribution above.\n",
    "\n",
    ":::\n",
    "\n",
    "We can draw random samples from the normal distribution using [`numpy.random.Generator.normal()`](https://numpy.org/doc/stable/reference/random/generated/numpy.random.Generator.normal.html):"
   ]
  },
  {
   "cell_type": "code",
   "execution_count": null,
   "metadata": {},
   "outputs": [],
   "source": [
    "# This creates a generator with a fixed seed, so we can generate the same random numbers\n",
    "rng = np.random.default_rng(seed=42)\n",
    "\n",
    "# generate 50000 samples from a normal distribution with E[X]=10 and standard deviation 2\n",
    "# n_samples = 50000\n",
    "# goose_samples = rng.normal(loc=10, scale=2, size=n_samples)"
   ]
  },
  {
   "cell_type": "code",
   "execution_count": null,
   "metadata": {},
   "outputs": [],
   "source": [
    "# Use seaborn to create a histogram of the samples\n",
    "# sns.histplot(goose_samples);"
   ]
  },
  {
   "cell_type": "code",
   "execution_count": null,
   "metadata": {},
   "outputs": [],
   "source": [
    "# Make a sample of 10 from the normal distribution\n",
    "# sample = goose_samples[:10]\n",
    "# goose_mean = np.mean(sample)\n",
    "\n",
    "# in reality, we don't have access to the \"true\" distribution, which is why it's commented out\n",
    "#sns.histplot(goose_samples)\n",
    "# plt.axvline(x=goose_mean, color='red');"
   ]
  },
  {
   "cell_type": "markdown",
   "metadata": {},
   "source": [
    "For bootstrap samples, we can use [random.Generator.choice()](https://numpy.org/doc/stable/reference/random/generated/numpy.random.Generator.choice.html) with replacement to draw samples from our dataset."
   ]
  },
  {
   "cell_type": "code",
   "execution_count": null,
   "metadata": {},
   "outputs": [],
   "source": [
    "def mean_estimator(sample):\n",
    "    \"\"\"\n",
    "    An estimator of the expected value E[ ] of the population.\n",
    "\n",
    "    Args:\n",
    "        sample (np.array): a sample from the population\n",
    "\n",
    "    Returns: \n",
    "        float: the mean of the sample\n",
    "    \"\"\"\n",
    "    return np.mean(sample)\n"
   ]
  },
  {
   "cell_type": "code",
   "execution_count": null,
   "metadata": {},
   "outputs": [],
   "source": [
    "bootstrap_means = []\n",
    "n_bootstraps = 5000\n",
    "\n",
    "# for i in range(n_bootstraps):\n",
    "#     # 1. draw a bootstrap sample\n",
    "#     bootstrap_sample = rng.choice(goose_weights, size=100, replace=True)\n",
    "#     bootstrap_sample\n",
    "#     # 2. compute our mean again, with the bootstrap sample\n",
    "#     bootstrap_mean = mean_estimator(bootstrap_sample)\n",
    "\n",
    "#     # 3. add our bootstrap_mean to the list\n",
    "#     bootstrap_means.append(bootstrap_mean)"
   ]
  },
  {
   "cell_type": "markdown",
   "metadata": {},
   "source": [
    "### Plotting our bootstrap estimates"
   ]
  },
  {
   "cell_type": "code",
   "execution_count": null,
   "metadata": {},
   "outputs": [],
   "source": [
    "# plot the vertical line for the estimated mean\n",
    "# plt.axvline(goose_mean, color=\"red\")\n",
    "\n",
    "# as our n_bootstraps increase, we're able to see the spread of the estimate\n",
    "# sns.histplot(bootstrap_means)\n",
    "# fix the xaxis to be between 8 and 12\n",
    "# plt.xlim(8, 12);"
   ]
  },
  {
   "cell_type": "markdown",
   "metadata": {},
   "source": [
    "## Why we care about uncertainty $\\to$ confidence intervals"
   ]
  },
  {
   "cell_type": "code",
   "execution_count": null,
   "metadata": {},
   "outputs": [],
   "source": [
    "n_samples = 100  \n",
    "true_goose_weight = 10\n",
    "goose_weights = rng.normal(loc=true_goose_weight, scale=2, size=n_samples)"
   ]
  },
  {
   "cell_type": "code",
   "execution_count": null,
   "metadata": {},
   "outputs": [],
   "source": [
    "\n",
    "# lower_ci = np.percentile(bootstrap_means, 2.5)\n",
    "# upper_ci = np.percentile(bootstrap_means, 97.5)\n",
    "\n",
    "# print(f\"Our estimate of average goose weight: {mean_estimator(goose_weights):.1f} lbs\")\n",
    "# print(f\"95% Confidence Interval: [{lower_ci:.1f}, {upper_ci:.1f}] lbs\")\n",
    "\n",
    "# sns.histplot(bootstrap_means)\n",
    "# plt.axvline(true_goose_weight, color='black', linestyle='--', label='True average goose weight')\n",
    "# plt.axvline(lower_ci, color='red', linestyle='--')\n",
    "# plt.axvline(upper_ci, color='red', linestyle='--', label='95% CI')\n",
    "# plt.xlabel('Bootstrap mean estimates of goose weight (lbs)')\n",
    "# plt.gca().spines['top'].set_visible(False)\n",
    "# plt.gca().spines['right'].set_visible(False)\n",
    "# plt.legend()\n",
    "# plt.show()\n"
   ]
  },
  {
   "cell_type": "code",
   "execution_count": null,
   "metadata": {},
   "outputs": [],
   "source": [
    "n_bootstraps = 1000\n",
    "n_intervals = 500\n",
    "\n",
    "count_missed = 0\n",
    "\n",
    "# for j in range(n_intervals):\n",
    "#     # First draw a new sample from the true distribution\n",
    "#     goose_sample = rng.normal(loc=true_goose_weight, scale=2, size=100)\n",
    "    \n",
    "#     bootstrap_means = []\n",
    "#     for i in range(n_bootstraps):\n",
    "#         # Draw bootstrap samples from this sample\n",
    "#         bootstrap_sample = rng.choice(goose_sample, size=100, replace=True)\n",
    "#         bootstrap_mean = mean_estimator(bootstrap_sample)\n",
    "#         bootstrap_means.append(bootstrap_mean)\n",
    "\n",
    "#     # Compute CI for this sample\n",
    "#     lower_ci = np.percentile(bootstrap_means, 2.5)\n",
    "#     upper_ci = np.percentile(bootstrap_means, 97.5)\n",
    "\n",
    "#     if true_goose_weight < lower_ci or true_goose_weight > upper_ci:\n",
    "#         count_missed += 1\n",
    "\n",
    "# print(f\"Number of intervals that missed the true mean: {count_missed}\")\n",
    "# print(f\"Proportion of intervals that missed the true mean: {count_missed / n_intervals:.3f}\")"
   ]
  },
  {
   "cell_type": "markdown",
   "metadata": {},
   "source": [
    "### Why we care about uncertainty $\\to$ comparing estimators"
   ]
  },
  {
   "cell_type": "code",
   "execution_count": null,
   "metadata": {},
   "outputs": [],
   "source": [
    "def first_ten_estimator(sample):\n",
    "    \"\"\"\n",
    "    A (not very good) estimator of the expected value E[ ] of the population.\n",
    "\n",
    "    Returns: \n",
    "        float: the mean of the first 10 elements of the sample\n",
    "    \"\"\"\n",
    "    return np.mean(sample[:10])"
   ]
  },
  {
   "cell_type": "code",
   "execution_count": null,
   "metadata": {},
   "outputs": [],
   "source": [
    "bootstrap_means = []\n",
    "bootstrap_first_tens = []\n",
    "n_bootstraps = 5000\n",
    "\n",
    "# for i in range(n_bootstraps):\n",
    "#     # 1. draw a bootstrap sample\n",
    "#     bootstrap_sample = rng.choice(goose_weights, size=100, replace=True)\n",
    "#     bootstrap_sample\n",
    "    \n",
    "#     # 2. compute our estimates, with the bootstrap sample\n",
    "#     bootstrap_mean = mean_estimator(bootstrap_sample)\n",
    "#     bootstrap_first_ten = first_ten_estimator(bootstrap_sample)\n",
    "    \n",
    "#     # 3. add our bootstrap_mean to the list\n",
    "#     bootstrap_means.append(bootstrap_mean)\n",
    "#     bootstrap_first_tens.append(bootstrap_first_ten)"
   ]
  },
  {
   "cell_type": "code",
   "execution_count": null,
   "metadata": {},
   "outputs": [],
   "source": [
    "# sns.kdeplot(bootstrap_means)#, label=\"Mean of whole sample\")\n",
    "# sns.kdeplot(bootstrap_first_tens)#, label=\"Mean of first 10\")\n",
    "# plt.axvline(true_goose_weight, color='black', linestyle='--', label='True average goose weight')\n",
    "# plt.xlabel('Bootstrap mean estimates of goose weight (lbs)')\n",
    "# plt.gca().spines['top'].set_visible(False)\n",
    "# plt.gca().spines['right'].set_visible(False)\n",
    "# plt.legend()\n",
    "# plt.show()\n"
   ]
  }
 ],
 "metadata": {
  "kernelspec": {
   "display_name": "venv",
   "language": "python",
   "name": "python3"
  },
  "language_info": {
   "codemirror_mode": {
    "name": "ipython",
    "version": 3
   },
   "file_extension": ".py",
   "mimetype": "text/x-python",
   "name": "python",
   "nbconvert_exporter": "python",
   "pygments_lexer": "ipython3",
   "version": "3.11.10"
  }
 },
 "nbformat": 4,
 "nbformat_minor": 2
}
