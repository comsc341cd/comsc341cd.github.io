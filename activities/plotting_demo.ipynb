{
 "cells": [
  {
   "cell_type": "markdown",
   "metadata": {},
   "source": [
    "(plotting_demo)=\n",
    "# Plotting and bootstrap demo\n",
    "\n",
    "**2025-02-13**\n",
    "\n",
    "---"
   ]
  },
  {
   "cell_type": "code",
   "execution_count": 2,
   "metadata": {},
   "outputs": [],
   "source": [
    "# imports we'll need\n",
    "import numpy as np\n",
    "import pandas as pd\n",
    "\n",
    "import matplotlib.pyplot as plt\n",
    "import seaborn as sns"
   ]
  },
  {
   "cell_type": "markdown",
   "metadata": {},
   "source": [
    "## The Normal distribution\n",
    "\n",
    "A probability distribution that we will frequently encounter in addition to the categorical distributions we saw in worksheet 1 is the **normal distribution**. The normal distribution has the following properties:\n",
    "\n",
    "- centered and symmetric about the **mean** $\\mu$ (or $E[X]$)\n",
    "- spread by the **standard deviation** $\\sigma$\n",
    "    - the **variance** is $\\sigma^2$ (or $V[X]$)\n",
    "\n",
    "We write a random variable as $X$ that follows a normal distribution as $X \\sim \\mathcal{N}(\\mu, \\sigma^2)$.\n",
    "\n",
    ":::{tip}\n",
    "\n",
    "Watch whether the software you are using takes the variance or the standard deviation as input. In `numpy`, it is the standard deviation, which is different than how we write the distribution above.\n",
    "\n",
    ":::\n",
    "\n",
    "We can draw random samples from the normal distribution using [`numpy.random.Generator.normal()`](https://numpy.org/doc/stable/reference/random/generated/numpy.random.Generator.normal.html):"
   ]
  },
  {
   "cell_type": "code",
   "execution_count": 3,
   "metadata": {},
   "outputs": [],
   "source": [
    "# This creates a generator with a fixed seed, so we can generate the same random numbers\n",
    "rng = np.random.default_rng(seed=42)\n",
    "\n",
    "# generate 50000 samples from a normal distribution with E[X]=10 and standard deviation 1"
   ]
  },
  {
   "cell_type": "markdown",
   "metadata": {},
   "source": [
    "For bootstrap samples, we can use [random.Generator.choice()](https://numpy.org/doc/stable/reference/random/generated/numpy.random.Generator.choice.html) with replacement to draw samples from our dataset."
   ]
  }
 ],
 "metadata": {
  "kernelspec": {
   "display_name": "Python 3 (ipykernel)",
   "language": "python",
   "name": "python3"
  },
  "language_info": {
   "codemirror_mode": {
    "name": "ipython",
    "version": 3
   },
   "file_extension": ".py",
   "mimetype": "text/x-python",
   "name": "python",
   "nbconvert_exporter": "python",
   "pygments_lexer": "ipython3",
   "version": "3.11.10"
  }
 },
 "nbformat": 4,
 "nbformat_minor": 4
}
