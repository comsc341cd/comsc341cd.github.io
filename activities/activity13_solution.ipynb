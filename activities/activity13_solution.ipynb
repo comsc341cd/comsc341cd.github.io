{
 "cells": [
  {
   "cell_type": "markdown",
   "metadata": {},
   "source": [
    "(activity13_solution)=\n",
    "\n",
    "# Activity 13 Solution: RDDs\n",
    "\n",
    "**2025-04-08**\n",
    "\n",
    "---"
   ]
  },
  {
   "cell_type": "code",
   "execution_count": 6,
   "metadata": {},
   "outputs": [],
   "source": [
    "import numpy as np\n",
    "import matplotlib.pyplot as plt\n",
    "import pandas as pd\n",
    "import seaborn as sns\n",
    "import statsmodels.formula.api as smf"
   ]
  },
  {
   "cell_type": "code",
   "execution_count": 7,
   "metadata": {},
   "outputs": [],
   "source": [
    "gov_transfers = pd.read_csv(\"~/COMSC-341CD/data/gov_transfers.csv\")"
   ]
  },
  {
   "cell_type": "markdown",
   "metadata": {},
   "source": [
    "The columns we have in the dataset are:\n",
    "\n",
    "- $R$ `Income_Centered`: the predicted income of the household, centered at 0\n",
    "- $T$ `Participation`: whether the household participated in the poverty alleviation program\n",
    "- $Y$ `Support`: the amount of goverment support, encoded as a survery question: \n",
    "    - In relation to the previous government, do you believe that the current government is worse (0), the same (1/2), better (1)?\n"
   ]
  },
  {
   "cell_type": "code",
   "execution_count": 8,
   "metadata": {},
   "outputs": [
    {
     "data": {
      "text/html": [
       "<div>\n",
       "<style scoped>\n",
       "    .dataframe tbody tr th:only-of-type {\n",
       "        vertical-align: middle;\n",
       "    }\n",
       "\n",
       "    .dataframe tbody tr th {\n",
       "        vertical-align: top;\n",
       "    }\n",
       "\n",
       "    .dataframe thead th {\n",
       "        text-align: right;\n",
       "    }\n",
       "</style>\n",
       "<table border=\"1\" class=\"dataframe\">\n",
       "  <thead>\n",
       "    <tr style=\"text-align: right;\">\n",
       "      <th></th>\n",
       "      <th>Income_Centered</th>\n",
       "      <th>Participation</th>\n",
       "      <th>Support</th>\n",
       "    </tr>\n",
       "  </thead>\n",
       "  <tbody>\n",
       "    <tr>\n",
       "      <th>0</th>\n",
       "      <td>0.006571</td>\n",
       "      <td>0</td>\n",
       "      <td>1.0</td>\n",
       "    </tr>\n",
       "    <tr>\n",
       "      <th>1</th>\n",
       "      <td>0.011075</td>\n",
       "      <td>0</td>\n",
       "      <td>1.0</td>\n",
       "    </tr>\n",
       "    <tr>\n",
       "      <th>2</th>\n",
       "      <td>0.002424</td>\n",
       "      <td>0</td>\n",
       "      <td>1.0</td>\n",
       "    </tr>\n",
       "    <tr>\n",
       "      <th>3</th>\n",
       "      <td>0.007650</td>\n",
       "      <td>0</td>\n",
       "      <td>0.5</td>\n",
       "    </tr>\n",
       "    <tr>\n",
       "      <th>4</th>\n",
       "      <td>0.010001</td>\n",
       "      <td>0</td>\n",
       "      <td>1.0</td>\n",
       "    </tr>\n",
       "  </tbody>\n",
       "</table>\n",
       "</div>"
      ],
      "text/plain": [
       "   Income_Centered  Participation  Support\n",
       "0         0.006571              0      1.0\n",
       "1         0.011075              0      1.0\n",
       "2         0.002424              0      1.0\n",
       "3         0.007650              0      0.5\n",
       "4         0.010001              0      1.0"
      ]
     },
     "execution_count": 8,
     "metadata": {},
     "output_type": "execute_result"
    }
   ],
   "source": [
    "gov_transfers.head()"
   ]
  },
  {
   "cell_type": "markdown",
   "metadata": {},
   "source": [
    "# Part 1"
   ]
  },
  {
   "cell_type": "markdown",
   "metadata": {},
   "source": [
    "Let's first visualize how the treatment assignment is related to the income. Use [pd.cut](https://pandas.pydata.org/docs/reference/api/pandas.cut.html) with `bins=20` and `labels=False` to bin the income data into 20 bins:"
   ]
  },
  {
   "cell_type": "code",
   "execution_count": 9,
   "metadata": {},
   "outputs": [
    {
     "data": {
      "text/html": [
       "<div>\n",
       "<style scoped>\n",
       "    .dataframe tbody tr th:only-of-type {\n",
       "        vertical-align: middle;\n",
       "    }\n",
       "\n",
       "    .dataframe tbody tr th {\n",
       "        vertical-align: top;\n",
       "    }\n",
       "\n",
       "    .dataframe thead th {\n",
       "        text-align: right;\n",
       "    }\n",
       "</style>\n",
       "<table border=\"1\" class=\"dataframe\">\n",
       "  <thead>\n",
       "    <tr style=\"text-align: right;\">\n",
       "      <th></th>\n",
       "      <th>Income_Centered</th>\n",
       "      <th>Participation</th>\n",
       "      <th>Support</th>\n",
       "      <th>income_bin</th>\n",
       "    </tr>\n",
       "  </thead>\n",
       "  <tbody>\n",
       "    <tr>\n",
       "      <th>0</th>\n",
       "      <td>0.006571</td>\n",
       "      <td>0</td>\n",
       "      <td>1.0</td>\n",
       "      <td>13</td>\n",
       "    </tr>\n",
       "    <tr>\n",
       "      <th>1</th>\n",
       "      <td>0.011075</td>\n",
       "      <td>0</td>\n",
       "      <td>1.0</td>\n",
       "      <td>15</td>\n",
       "    </tr>\n",
       "    <tr>\n",
       "      <th>2</th>\n",
       "      <td>0.002424</td>\n",
       "      <td>0</td>\n",
       "      <td>1.0</td>\n",
       "      <td>11</td>\n",
       "    </tr>\n",
       "    <tr>\n",
       "      <th>3</th>\n",
       "      <td>0.007650</td>\n",
       "      <td>0</td>\n",
       "      <td>0.5</td>\n",
       "      <td>13</td>\n",
       "    </tr>\n",
       "    <tr>\n",
       "      <th>4</th>\n",
       "      <td>0.010001</td>\n",
       "      <td>0</td>\n",
       "      <td>1.0</td>\n",
       "      <td>15</td>\n",
       "    </tr>\n",
       "  </tbody>\n",
       "</table>\n",
       "</div>"
      ],
      "text/plain": [
       "   Income_Centered  Participation  Support  income_bin\n",
       "0         0.006571              0      1.0          13\n",
       "1         0.011075              0      1.0          15\n",
       "2         0.002424              0      1.0          11\n",
       "3         0.007650              0      0.5          13\n",
       "4         0.010001              0      1.0          15"
      ]
     },
     "execution_count": 9,
     "metadata": {},
     "output_type": "execute_result"
    }
   ],
   "source": [
    "# TODO your code here\n",
    "gov_transfers['income_bin'] = pd.cut(gov_transfers['Income_Centered'], bins=20, labels=False)\n",
    "gov_transfers.head()"
   ]
  },
  {
   "cell_type": "markdown",
   "metadata": {},
   "source": [
    "Next, generate a `sns.pointplot` of `y=Participation` vs `x=income_bin`. Set `linestyle='none'` to plot the points individually. \n",
    "\n",
    "\n",
    "Discuss with folks around you: Do you observe any deviations from the policy of assigning participation in the transfer program based on income? Does this suggest that the RDD is \"sharp\" or not?\n",
    "\n",
    "**Your response:** [pollev.com/tliu](https://pollev.com/tliu)"
   ]
  },
  {
   "cell_type": "code",
   "execution_count": 10,
   "metadata": {},
   "outputs": [
    {
     "data": {
      "text/plain": [
       "<matplotlib.lines.Line2D at 0x12163ae10>"
      ]
     },
     "execution_count": 10,
     "metadata": {},
     "output_type": "execute_result"
    },
    {
     "data": {
      "image/png": "[encoded data removed]",
      "text/plain": [
       "<Figure size 640x480 with 1 Axes>"
      ]
     },
     "metadata": {},
     "output_type": "display_data"
    }
   ],
   "source": [
    "# TODO your code here\n",
    "sns.pointplot(x='income_bin', y='Participation', data=gov_transfers, linestyle='none')\n",
    "# convert the xticks to the same units as the original income data\n",
    "plt.xticks(ticks=[0, 5, 9.5, 14, 19], labels=[-0.02, -0.01, 0, 0.01, 0.02])\n",
    "# plot the cutoff as a vertical line\n",
    "plt.axvline(x=9.5, color='black', linestyle='--', label='Income cutoff')"
   ]
  },
  {
   "cell_type": "markdown",
   "metadata": {},
   "source": [
    "# Part 2"
   ]
  },
  {
   "cell_type": "markdown",
   "metadata": {},
   "source": [
    "Now we'll look at the outcome variable, `Support`. Generate a `sns.pointplot` of `y=Support` vs `x=income_bin`. Set `linestyle='none'` to plot the points individually. "
   ]
  },
  {
   "cell_type": "code",
   "execution_count": 11,
   "metadata": {},
   "outputs": [
    {
     "data": {
      "text/plain": [
       "<matplotlib.lines.Line2D at 0x1216e5d10>"
      ]
     },
     "execution_count": 11,
     "metadata": {},
     "output_type": "execute_result"
    },
    {
     "data": {
      "image/png": "[encoded data removed]",
      "text/plain": [
       "<Figure size 640x480 with 1 Axes>"
      ]
     },
     "metadata": {},
     "output_type": "display_data"
    }
   ],
   "source": [
    "# TODO your code here\n",
    "sns.pointplot(x='income_bin', y='Support', data=gov_transfers, linestyle='none')\n",
    "plt.xticks(ticks=[0, 5, 9.5, 14, 19], labels=[-0.02, -0.01, 0, 0.01, 0.02])\n",
    "plt.axvline(x=9.5, color='black', linestyle='--', label='Income cutoff')\n"
   ]
  },
  {
   "cell_type": "markdown",
   "metadata": {},
   "source": [
    "On Worksheet 5, we fit two linear regressions on either side of the cutoff. Another approach to estimating the average treatment effect is to fit a single linear regression that allows the slope to change at the cutoff:\n",
    "\n",
    "$$\n",
    "Y = \\beta_0 + \\beta_1 (R - c) + \\beta_2 T + \\beta_3 (R -c ) \\cdot T \n",
    "$$\n",
    "\n",
    "Since $c=0$, this simplifies to:\n",
    "\n",
    "$$\n",
    "Y = \\beta_0 + \\beta_1 R + \\beta_2 T + \\beta_3 R\\cdot T\n",
    "$$\n",
    "\n",
    "The average treatment effect at the cutoff is then given by $\\beta_2$.\n",
    "\n",
    "\n",
    "\n",
    "\n",
    "\n",
    "\n",
    "\n"
   ]
  },
  {
   "cell_type": "code",
   "execution_count": 12,
   "metadata": {},
   "outputs": [
    {
     "name": "stdout",
     "output_type": "stream",
     "text": [
      "0.09985188527415911\n"
     ]
    }
   ],
   "source": [
    "# TODO your code here\n",
    "rdd_formula = 'Support ~ 1 + Income_Centered + Participation + Income_Centered*Participation'\n",
    "rdd_model = smf.ols(rdd_formula, data=gov_transfers).fit()\n",
    "print(rdd_model.params['Participation'])"
   ]
  },
  {
   "cell_type": "markdown",
   "metadata": {},
   "source": [
    "What is your estimate of the average treatment effect at the cutoff (rounded to 1 decimal place)?\n",
    "\n",
    "**Your response:** [pollev.com/tliu](https://pollev.com/tliu)"
   ]
  },
  {
   "cell_type": "markdown",
   "metadata": {},
   "source": [
    "# Acknowledgements\n",
    "\n",
    "This activity uses data from Nick Huntington-Klein's `causaldata` package."
   ]
  }
 ],
 "metadata": {
  "kernelspec": {
   "display_name": "venv",
   "language": "python",
   "name": "python3"
  },
  "language_info": {
   "codemirror_mode": {
    "name": "ipython",
    "version": 3
   },
   "file_extension": ".py",
   "mimetype": "text/x-python",
   "name": "python",
   "nbconvert_exporter": "python",
   "pygments_lexer": "ipython3",
   "version": "3.11.10"
  }
 },
 "nbformat": 4,
 "nbformat_minor": 2
}
