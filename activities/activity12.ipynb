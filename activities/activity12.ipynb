{
 "cells": [
  {
   "cell_type": "markdown",
   "metadata": {},
   "source": [
    "(activity12)=\n",
    "\n",
    "# Activity 12: Compliance status and local average treatment effects\n",
    "\n",
    "**2025-04-03**\n",
    "\n",
    "---"
   ]
  },
  {
   "cell_type": "code",
   "execution_count": 2,
   "metadata": {},
   "outputs": [],
   "source": [
    "import pandas as pd\n",
    "import numpy as np\n",
    "import matplotlib.pyplot as plt\n",
    "import seaborn as sns"
   ]
  },
  {
   "cell_type": "markdown",
   "metadata": {},
   "source": [
    "# Part 1: Monotonicity violation\n",
    "\n",
    "Here are the four compliance types in a study:\n",
    "\n",
    "- Always-taker: takes treatment regardless of the instrument encouragement\n",
    "- Never-taker: does not take treatment regardless of the instrument encouragement\n",
    "- Complier: takes treatment only when the instrument encourages it\n",
    "- Defier: takes treatment only when NOT encouraged by the instrument\n",
    "\n",
    "Discuss with folks around you which scenario corresponds to a likely violation of the monotonicity assumption (no defiers):\n",
    "\n",
    "A. Some patients offered a new medication (Z=1) refuse to take it (T=0), while others not offered the medication obtain it through alternative means.\n",
    "\n",
    "B. Some consumers who see repeated targeted ads for a streaming service (Z=1) become annoyed by the aggressive marketing and decide not to subscribe (T=0), whereas they might have subscribed if they hadn't been bombarded with ads.\n",
    "\n",
    "C. Some homeowners given rebates for energy-efficient appliances (Z=1) still choose not to upgrade (T=0), while others upgrade their appliances even without rebates.\n",
    "\n",
    "D. Some employees who aren't offered a retirement savings workshop (Z=0) contribute to their 401(k) plan (T=1), while some who are offered the workshop still don't contribute.\n",
    "\n",
    "\n",
    "**Your response:** [pollev.com/tliu](https://pollev.com/tliu)\n",
    "\n"
   ]
  },
  {
   "cell_type": "markdown",
   "metadata": {},
   "source": [
    "# Part 2: Calculating compliance types and LATE"
   ]
  },
  {
   "cell_type": "markdown",
   "metadata": {},
   "source": [
    "Suppose for our smart thermostat study, we have the following data:\n",
    "\n",
    "- $Z$: household was given a smart thermostat\n",
    "- $T$: used energy-efficient thermostat settings\n",
    "- $Y$: household energy consumption\n",
    "\n",
    "We collected data on 1000 households:\n",
    "\n",
    "| Group | Z=1 | Z=0 | Total |\n",
    "|-------|-----|-----|-------|\n",
    "| T=1   | 300 | 100 | 400   |\n",
    "| T=0   | 200 | 400 | 600   |\n",
    "| Total | 500 | 500 | 1000  |"
   ]
  },
  {
   "cell_type": "code",
   "execution_count": null,
   "metadata": {},
   "outputs": [],
   "source": [
    "thermo_df = pd.DataFrame({\n",
    "    'Z=1': [300, 200],\n",
    "    'Z=0': [100, 400],\n",
    "}, index=['T=1', 'T=0'])\n",
    "\n",
    "thermo_df.head()"
   ]
  },
  {
   "cell_type": "markdown",
   "metadata": {},
   "source": [
    "## 2.1\n",
    "\n",
    "We assume that monotonicity holds, so there are no defiers.\n",
    "\n",
    "We can calculate the proportions of each compliance type as follows:\n",
    "\n",
    "- Always-takers are people who take treatment even without encouragement: \n",
    "\n",
    "$$P(\\text{Always-taker}) = P(T=1|Z=0)$$\n",
    "\n",
    "- Never-takers are people who don't take treatment even with encouragement: \n",
    "\n",
    "$$P(\\text{Never-taker}) = P(T=0|Z=1)$$\n",
    "\n",
    "- Defiers: 0, based on monotonicity\n",
    "\n",
    "Since all of the probabilities need to sum to 1, we can therefore calculate the proportion of compliers as follows:\n",
    "\n",
    "$$P(\\text{Complier}) = 1 - P(\\text{Always-taker}) - P(\\text{Never-taker})$$\n",
    "\n",
    "\n",
    "The proportion of compliers is also equivalent to:\n",
    "\n",
    "$$P(\\text{Complier}) = E[T=1|Z=1] - E[T=1|Z=0]$$\n",
    "\n",
    "\n",
    "\n",
    "\n",
    "\n"
   ]
  },
  {
   "cell_type": "markdown",
   "metadata": {},
   "source": [
    "Compute, either manually or by using the `thermo_df` dataframe, the proportions of each compliance type in our data:\n",
    "\n",
    "- Always-takers: **TODO**\n",
    "\n",
    "- Never-takers: **TODO**\n",
    "\n",
    "- Compliers: **TODO**"
   ]
  },
  {
   "cell_type": "code",
   "execution_count": null,
   "metadata": {},
   "outputs": [],
   "source": [
    "# TODO your calculations here\n"
   ]
  },
  {
   "cell_type": "markdown",
   "metadata": {},
   "source": [
    "## 2.2"
   ]
  },
  {
   "cell_type": "markdown",
   "metadata": {},
   "source": [
    "We saw earlier that the intent-to-treat (ITT) effect is as follows:\n",
    "\n",
    "$$\n",
    "\\text{ITT} = E[Y|Z=1] - E[Y|Z=0]\n",
    "$$\n",
    "\n",
    "And we have just defined the local average treatment effect (LATE) as:\n",
    "\n",
    "$$\n",
    "\\text{LATE} = \\frac{E[Y|Z=1] - E[Y|Z=0]}{E[T|Z=1] - E[T|Z=0]}\n",
    "$$\n",
    "\n",
    "Suppose that the intent-to-treat effect is -10 kilowatt-hours (kWh). What is the local average treatment effect (LATE)?\n",
    "\n",
    "**Your response:** [pollev.com/tliu](https://pollev.com/tliu)\n"
   ]
  },
  {
   "cell_type": "code",
   "execution_count": null,
   "metadata": {},
   "outputs": [],
   "source": [
    "# TODO your calculations here"
   ]
  },
  {
   "cell_type": "markdown",
   "metadata": {},
   "source": [
    "## 2.3\n",
    "\n",
    "From the beginning of lecture, we saw that under linear outcomes, the ATE is identified in the **exact** same way as the LATE:\n",
    "\n",
    "$$\n",
    "\\text{ATE} = \\frac{E[Y|Z=1] - E[Y|Z=0]}{E[T|Z=1] - E[T|Z=0]}\n",
    "$$\n",
    "\n",
    "Researchers often choose whether to interpret their instrumental variable results as a LATE or ATE. Give an interpretation of the ATE and the LATE you computed in 2.2 within the context of the smart thermostat study:\n",
    "\n",
    "- ATE: $E[Y(1)] - E[Y(0)]$: **TODO**\n",
    "\n",
    "- LATE: $E[Y(1) - Y(0) | \\text{compliers}]$: **TODO**\n",
    "\n",
    "Which causal quantity seems more useful? Feel free to discuss with folks around you.\n",
    "\n",
    "**Your response:** [pollev.com/tliu](https://pollev.com/tliu)"
   ]
  }
 ],
 "metadata": {
  "kernelspec": {
   "display_name": "venv",
   "language": "python",
   "name": "python3"
  },
  "language_info": {
   "codemirror_mode": {
    "name": "ipython",
    "version": 3
   },
   "file_extension": ".py",
   "mimetype": "text/x-python",
   "name": "python",
   "nbconvert_exporter": "python",
   "pygments_lexer": "ipython3",
   "version": "3.11.10"
  }
 },
 "nbformat": 4,
 "nbformat_minor": 2
}
