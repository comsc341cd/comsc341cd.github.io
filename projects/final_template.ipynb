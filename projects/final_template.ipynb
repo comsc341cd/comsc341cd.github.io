{
 "cells": [
  {
   "cell_type": "markdown",
   "metadata": {},
   "source": [
    "(final_template)=\n",
    "\n",
    "# Final Project Template"
   ]
  },
  {
   "cell_type": "markdown",
   "metadata": {},
   "source": [
    "The overall structure of your final project should read like a technical blog post, where you motivate the importance of the topic to the readers, introduce the relevant background, and then present your study design and analysis along with the code to generate the results.\n",
    "\n",
    "You may format your final project however you like, but be sure to address the points outlined under each section. Feel free to add or modify subsections as needed, as well as delete the points and templated admonition sections, like the ones below. You can refer to the [template on the course website](https://comsc341cd.github.io/projects/final_template.html) as you work on your final project to make sure you're addressing all the points.\n",
    "\n",
    ":::{tip}\n",
    "\n",
    "For those who are interested in structuring academic writing, I suggest reading [Mensh and Kording 2017](https://journals.plos.org/ploscompbiol/article?id=10.1371/journal.pcbi.1005619): Ten simple rules on structuring papers.\n",
    "\n",
    "Note that this is completely optional, you are **not** required to adhere to these writing rules.\n",
    "\n",
    ":::\n",
    "\n",
    ":::{tip}\n",
    "If the code to reproduce your results is long, you can use [Jupyter Book functionality for hiding/removing content](https://jupyterbook.org/en/stable/interactive/hiding.html) to toggle the visibility of the code cells.\n",
    "\n",
    ":::\n",
    "\n",
    "\n"
   ]
  },
  {
   "cell_type": "markdown",
   "metadata": {},
   "source": [
    "# Prior knowledge\n",
    "\n",
    "- Give an appropriate title for your causal study, replacing \"Final Project Template\" above.\n",
    "- Motivate the domain of study to a general audience.\n",
    "- Provide information about what is already known about the domain you're studying.\n",
    "- For both the motivation and prior information, incorporate your literature review summaries as related work to the project."
   ]
  },
  {
   "cell_type": "markdown",
   "metadata": {},
   "source": [
    "# Causal question\n",
    "\n",
    "- State your causal question, specifying the treatment and outcome variables.\n",
    "- Specify the causal quantity of interest (ATT, ATE, etc).\n",
    "- Explain why your selected causal quantity is meaningful for the domain you are studying.\n"
   ]
  },
  {
   "cell_type": "markdown",
   "metadata": {},
   "source": [
    "# Design\n",
    "\n",
    "## Study strategy\n",
    "\n",
    "- Describe your chosen causal inference strategy (e.g., randomized experiment, observational study, RDD, etc.), introducing how it works to a general audience.\n",
    "\n",
    "- Discuss all key assumptions required for your strategy to be valid, and assess whether these assumptions are plausible for your study. For example, if you are using an observational study design, you should discuss the unconfoundedness assumption and whether you have a way to measure and control for relevant confounders.\n",
    "    - **Note**: your study design does *not* need to be perfectly valid in terms of satisfying all of the assumptions. The goal is to evaluate the assumptions needed for identification and show that you have considered the strengths and weaknesses of your design strategy.\n",
    "\n",
    "- Provide a DAG image of all the relevant variables in your study.\n",
    "    - If there are many confounders, you can represent them as a single node and list them separately.\n",
    "    - If you are using a difference-in-differences design, you do not need to include $T$ and $Y$, instead drawing a DAG similar to the one shown in the [diff-in-diff I lecture](https://moodle.mtholyoke.edu/pluginfile.php/1463114/mod_resource/content/1/lec19-diff-in-diff-i.pdf).\n",
    "\n",
    "## Covariates\n",
    "\n",
    "- Describe your chosen dataset, including how it was collected and the composition of the sample.\n",
    "- Describe how your treatment and outcome variables are measured.\n",
    "- Provide a discussion of covariates in your dataset that could be potential confounders, which should include brief justifications of why you think they might affect both the treatment and outcome. If you are using a randomized experiment, you should still provide a discussion of covariates, but instead focus on how they may affect the outcome for potential stratification.\n",
    "- Provide summary statistics (mean, std) of relevant covariates in your study, grouped by treatment status if applicable."
   ]
  },
  {
   "cell_type": "markdown",
   "metadata": {},
   "source": [
    "# Estimation\n",
    "\n",
    "- Provide at least one (but more if you'd like!) relevant figure visualization for your chosen study design. For example:\n",
    "    - Randomized experiment: a distribution of covariates by treatment status to show balance\n",
    "    - Observational study: a Love plot before and after matching or trimming\n",
    "    - Instrumental variable: a bar plot showing the mean covariate values for compliers, never-takers, always-takers, and the overall population\n",
    "    - Regression discontinuity: a point plot showing the \"jump\" in the treatment assignment at the cutoff\n",
    "    - Difference-in-differences: a plot evaluating the parallel trends assumption pre-treatment\n",
    "- Describe your chosen estimator(s) for the causal quantity and how you will implement them.\n",
    "- Report the results of your estimation, including the point estimate and 95% confidence intervals. \n",
    "- Include your unique deliverable here along with a discussion if you have chosen:\n",
    "    - **Analysis extension**\n",
    "    - **Simulation study**\n",
    "    - **Additional methods exploration**\n"
   ]
  },
  {
   "cell_type": "markdown",
   "metadata": {},
   "source": [
    "# Interpretation\n",
    "\n",
    "- Interpret your estimation results in the context of the domain you are studying. Are they confirming or refuting prior knowledge? Are the effect sizes large or small? Are they practically significant or inconclusive?\n",
    "- Discuss the population who the results apply to, keeping in mind both the causal quantity your estimator is targeting, as well as the composition of your dataset sample. For example, if your estimator and study design targets the ATE, but your data only comprises of individuals in the state of Massachusetts, you should highlight how this changes the interpretation or generalizability of your results.\n",
    "- Reflect on the limitations of your study design and analysis.\n",
    "- If your chosen unique deliverable is the **future experiment proposal**, include that here as a way to address the limitations of your study design.\n",
    "- Conclude with an overall summary of your analysis and its relevance to the domain you are studying."
   ]
  },
  {
   "cell_type": "markdown",
   "metadata": {},
   "source": [
    "# What to submit\n",
    "\n",
    "- A `final_project.zip` file containing your typeset Jupyter Book html article, following the same build process as described in [Project 3](https://comsc341cd.github.io/projects/proj3_analysis.html#typesetting-and-submission)\n",
    "\n",
    "- All source code `.ipynb` or `.py` files used for data cleaning/preprocessing to reproduce your results\n",
    "\n",
    ":::{tip}\n",
    "\n",
    "The published html article should still have source code cells. However, you may want to do data cleaning/preprocessing if needed in a separate file so that the focus in your rendered article is on the analysis and results.\n",
    "\n",
    ":::"
   ]
  }
 ],
 "metadata": {
  "language_info": {
   "name": "python"
  }
 },
 "nbformat": 4,
 "nbformat_minor": 2
}
