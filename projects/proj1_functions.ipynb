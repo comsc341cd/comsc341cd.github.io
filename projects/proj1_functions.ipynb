{
 "cells": [
  {
   "cell_type": "markdown",
   "id": "8ccf97af",
   "metadata": {},
   "source": [
    "(proj1_functions)=\n",
    "# Project 1 Part 1: Functions\n",
    "\n",
    ":::{epigraph}\n",
    "Randomized Experiments\n",
    "\n",
    "-- TODO your name here\n",
    ":::\n",
    "\n",
    ":::{admonition} Collaboration Statement\n",
    "- TODO brief statement on the nature of your collaboration.\n",
    "- TODO your collaborator's names here.\n",
    ":::"
   ]
  },
  {
   "cell_type": "markdown",
   "id": "141e8e7d",
   "metadata": {},
   "source": [
    ":::{tip}\n",
    "\n",
    "You'll notice that the non-function cells of this notebook are contained in a `if __name__ == \"__main__\":` block. This indicates to Jupyter that the code should only be run when the file is executed directly, not when it is imported as a module. This will make importing your functions easier in Part 2. If you write additional tests or cells that are not functions, make sure to add them within a `if __name__ == \"__main__\":` block as well.\n",
    ":::\n"
   ]
  },
  {
   "cell_type": "markdown",
   "id": "ddc0fc1c",
   "metadata": {},
   "source": [
    "## Part 1 Table of Contents and Rubric\n",
    "\n",
    "| Section | Points |\n",
    "|------------------------------------|-------|\n",
    "| Math to code: difference-in-means implementation | 2 |\n",
    "| Interactivity: stratified vs unstratified estimators | 2 |\n",
    "| Pandas and bootstrap utilities | 1 |\n",
    "| Total | 5 pts"
   ]
  },
  {
   "cell_type": "markdown",
   "id": "5e2c03ef",
   "metadata": {},
   "source": [
    "## Notebook imports"
   ]
  },
  {
   "cell_type": "code",
   "execution_count": 25,
   "id": "1bae3bd3",
   "metadata": {},
   "outputs": [],
   "source": [
    "import pandas as pd\n",
    "import seaborn as sns\n",
    "import matplotlib.pyplot as plt\n",
    "import numpy as np\n",
    "import ipywidgets as widgets\n",
    "from ipywidgets import interact, interact_manual, fixed, FloatSlider"
   ]
  },
  {
   "cell_type": "markdown",
   "id": "3301542b",
   "metadata": {},
   "source": [
    "## 1. Difference-in-means\n",
    "\n",
    "We begin by simulating a randomized experiment, where there are the following variables:\n",
    "\n",
    "- $T$: the binary intervention of interest\n",
    "- $Y$: the outcome of interest\n",
    "- $X$: a binary variable that affects the outcome of interest, which we will refer to as a **covariate**"
   ]
  },
  {
   "cell_type": "markdown",
   "id": "0355cdb1",
   "metadata": {},
   "source": [
    "We provide the following code for simulating a random experiment with a binary treatment $T$ and binary covariate $X$:"
   ]
  },
  {
   "cell_type": "code",
   "execution_count": 26,
   "id": "2dea39db",
   "metadata": {},
   "outputs": [],
   "source": [
    "rng = np.random.default_rng(seed=42)\n",
    "\n",
    "def sim_random_exp(n_samples=1000, treatment_effect=1.0, covariate_effect=3.0):\n",
    "    \"\"\"\n",
    "    Simulate a random experiment with a binary treatment and covariate.\n",
    "\n",
    "    Args:\n",
    "        n_samples (int): the number of samples to simulate\n",
    "        treatment_effect (float): the magnitude of the effect of the treatment on the outcome\n",
    "        covariate_effect (float): the magnitude of the effect of the covariate on the outcome\n",
    "\n",
    "    Returns:\n",
    "        Y (np.ndarray): the observed outcome\n",
    "        T (np.ndarray): the binary treatment assignment\n",
    "        X (np.ndarray): the binary covariate\n",
    "    \"\"\"\n",
    "    # Generate potential outcomes\n",
    "    Y0 = rng.normal(size=n_samples)\n",
    "    Y1 = Y0 + treatment_effect\n",
    "\n",
    "    # Randomly assign treatment\n",
    "    T = rng.choice([0, 1], size=n_samples, )\n",
    "\n",
    "    # Create a binary covariate that affects the outcome\n",
    "    X = rng.choice([0, 1], size=n_samples)\n",
    "\n",
    "    # Generate the observed outcome\n",
    "    Y = np.where(T == 1, Y1, Y0) + covariate_effect*X\n",
    "\n",
    "    return Y, T, X"
   ]
  },
  {
   "cell_type": "markdown",
   "id": "c70c0930",
   "metadata": {},
   "source": [
    ":::{note}\n",
    "The parameter `covariate_effect` is the magnitude of the effect of the covariate on the outcome  -- the larger the value, the stronger the effect of the covariate on the outcome.\n",
    ":::"
   ]
  },
  {
   "cell_type": "markdown",
   "id": "b89ad109",
   "metadata": {},
   "source": [
    "Under a randomized experiment study design, we are able to **identify** the average treatment effect ($ATE$):\n",
    "\n",
    "$$\n",
    "ATE = E[Y(1) - Y(0)] \\; \\xrightarrow[]{\\text{Identification}} \\; E[Y | T = 1] - E[Y | T = 0]\n",
    "$$"
   ]
  },
  {
   "cell_type": "markdown",
   "id": "352d67c3",
   "metadata": {},
   "source": [
    "We can then **estimate** the causal effect by taking the difference in means between the treated and control groups, which is known as the **difference-in-means** estimator:\n",
    "\n",
    "\n",
    "$$\n",
    "\\begin{align*}\n",
    "E[Y | T=1] - E[Y | T=0] \\; \\xrightarrow[]{\\text{Estimation}} \\; &\\hat{E}[Y | T=1] - \\hat{E}[Y | T=0] \\\\\n",
    "= &\\frac{1}{n_1} \\sum_{i=1}^{n} \\mathbb{I}(T_i = 1) Y_i - \\frac{1}{n_0} \\sum_{i=1}^{n} \\mathbb{I}(T_i = 0) Y_i\n",
    "\\end{align*}\n",
    "$$\n",
    "\n",
    "\n",
    "where $n_1$ is the number of samples in the treatment group, and $n_0$ is the number of samples in the control group. That is: \n",
    "\n",
    "$$\n",
    "n_0 = \\sum_{i=1}^{n} \\mathbb{I}(T_i = 0)\\\\\n",
    "n_1 = \\sum_{i=1}^{n} \\mathbb{I}(T_i = 1)\n",
    "$$"
   ]
  },
  {
   "cell_type": "markdown",
   "id": "a3b86fdf",
   "metadata": {},
   "source": [
    "### 1.1. Implement `diff_in_means` [0.5 pts]"
   ]
  },
  {
   "cell_type": "code",
   "execution_count": null,
   "id": "c460f774",
   "metadata": {},
   "outputs": [],
   "source": [
    "def diff_in_means(Y, T):\n",
    "    \"\"\"\n",
    "    Computes the difference in means between the treatment and control groups.\n",
    "\n",
    "    Args:\n",
    "        Y (np.ndarray or pd.Series): the observed outcome\n",
    "        T (np.ndarray or pd.Series): the binary treatment assignment\n",
    "\n",
    "    Returns:\n",
    "        float: the difference in means estimate\n",
    "    \"\"\"\n",
    "    assert Y.shape == T.shape, \"Y and T must have the same shape\"\n",
    "    \n",
    "    # TODO your code here\n",
    "    return 0"
   ]
  },
  {
   "cell_type": "code",
   "execution_count": 28,
   "id": "4749ddb9",
   "metadata": {},
   "outputs": [],
   "source": [
    "#### test diff_in_means ####\n",
    "if __name__ == \"__main__\":\n",
    "    test_Y = np.array([2, 1, 2, 1])\n",
    "    test_T = np.array([1, 0, 1, 0])\n",
    "\n",
    "    assert np.isclose(diff_in_means(test_Y, test_T), 1)\n",
    "    # Feel free to add more tests"
   ]
  },
  {
   "cell_type": "markdown",
   "id": "3109338c",
   "metadata": {},
   "source": [
    "### 1.2. Implement `stratified_diff_in_means` [1.5 pts]"
   ]
  },
  {
   "cell_type": "markdown",
   "id": "cc743aeb",
   "metadata": {},
   "source": [
    "We saw in class that if we want to include a covariate in our analysis, we can analogously compute the difference in means between the treated and control groups, but now conditioning on the covariate. \n",
    "\n",
    "We implement this here as a **stratified difference-in-means** estimator, which we call $\\widehat{ATE}_\\text{stratified}$:\n",
    "\n",
    "$$\n",
    "\\widehat{ATE}_\\text{stratified} = \\sum^K_{k=1} \\frac{n_k}{n} \\widehat{ATE}_k\n",
    "$$\n",
    "\n",
    "where $K$ are the total number of strata, $n_k$ is the number of samples in stratum $k$, and $\\widehat{ATE}_k$ is the difference-in-means estimator for stratum $k$. This is saying that we're computing the difference in means for each stratum, and then taking a weighted average of the stratum-level estimates, where the weights are the proportion of samples in each stratum. $\\widehat{ATE}_k$ is defined as:\n",
    "\n",
    "$$\n",
    "\\widehat{ATE}_k = \\frac{1}{n_{k1}} \\sum_{i=1}^{n} \\mathbb{I}(X_i = k \\text{ and } T_i = 1) Y_i - \\frac{1}{n_{k0}} \\sum_{i=1}^{n} \\mathbb{I}(X_i = k \\text{ and } T_i = 0) Y_i\n",
    "$$\n",
    "\n",
    "where $n_{k1}$ is the number of samples in the treatment group for stratum $k$, and $n_{k0}$ is the number of samples in the control group for stratum $k$. That is:\n",
    "\n",
    "\n",
    "$$\n",
    "n_{k1} = \\sum_{i=1}^{n} \\mathbb{I}(X_i = k \\text{ and } T_i = 1)\\\\\n",
    "n_{k0} = \\sum_{i=1}^{n} \\mathbb{I}(X_i = k \\text{ and } T_i = 0)\n",
    "$$\n",
    "\n",
    "We'll be implementing this estimator for the case when $X$ is binary so there are only two strata, $k \\in \\{0, 1\\}$.\n",
    "\n",
    ":::{admonition} Hint\n",
    ":class: tip\n",
    "\n",
    "While these equations may look a bit complicated, notice that each individual summation term in $\\widehat{ATE}_k$ is just a mean of the outcome for a given subset of the data. In particular, in our case where $X$ is binary:\n",
    "\n",
    "- $\\frac{1}{n_{11}} \\sum_{i=1}^{n} \\mathbb{I}(X_i = 1 \\text{ and } T_i = 1) Y_i$ is the mean of the outcome when $X=1$ and $T=1$\n",
    "- $\\frac{1}{n_{10}} \\sum_{i=1}^{n} \\mathbb{I}(X_i = 1 \\text{ and } T_i = 0) Y_i$ is the mean of the outcome when $X=1$ and $T=0$\n",
    "- and analogously for $X=0$\n",
    "\n",
    "You can then use numpy's boolean indexing to compute the means for each stratum.\n",
    ":::"
   ]
  },
  {
   "cell_type": "code",
   "execution_count": null,
   "id": "b8af1915",
   "metadata": {},
   "outputs": [],
   "source": [
    "def diff_in_means_stratified(Y, T, X):\n",
    "    \"\"\"\n",
    "    Compute the difference in means stratified by binary covariate X.\n",
    "\n",
    "    NOTE: stratified difference in means may be undefined if strata are empty.\n",
    "\n",
    "    Args:\n",
    "        Y (np.ndarray or pd.Series): the observed outcome\n",
    "        T (np.ndarray or pd.Series): the binary treatment assignment\n",
    "        X (np.ndarray or pd.Series): the binary covariate\n",
    "\n",
    "    Returns:\n",
    "        float: the difference in means estimate\n",
    "    \"\"\"\n",
    "    \n",
    "    # TODO your code here\n",
    "    return 0"
   ]
  },
  {
   "cell_type": "code",
   "execution_count": 30,
   "id": "656fb052",
   "metadata": {},
   "outputs": [],
   "source": [
    "#### test diff_in_means_stratified ####\n",
    "if __name__ == \"__main__\":\n",
    "    test_Y = np.array([2, 1, 2, 1])\n",
    "    test_T = np.array([1, 0, 1, 0])\n",
    "    test_X = np.array([1, 1, 0, 0])\n",
    "\n",
    "    assert np.isclose(diff_in_means_stratified(test_Y, test_T, test_X), 1)\n",
    "    # Feel free to add more tests"
   ]
  },
  {
   "cell_type": "markdown",
   "id": "bcb573e0",
   "metadata": {},
   "source": [
    "---"
   ]
  },
  {
   "cell_type": "markdown",
   "id": "48c53c57",
   "metadata": {},
   "source": [
    "## 2. Exploring the efficiency of difference-in-means estimators"
   ]
  },
  {
   "cell_type": "markdown",
   "id": "1286cacb",
   "metadata": {},
   "source": [
    "### 2.1 Interactive widget\n",
    "\n",
    "Next, complete the `gen_experiment_results` function to simulate `n_experiments` random experiments and compute the difference-in-means and stratified difference-in-means estimates.\n",
    "\n",
    ":::{tip}\n",
    "The function declaration below uses the `**kwargs` syntax to pass additional keyword arguments to the `sim_random_exp` function. This is a useful way to write functions that are flexible and can take in different sets of arguments. For more information on the `**kwargs` syntax, see this [tutorial](https://realpython.com/python-kwargs-and-args/).\n",
    ":::"
   ]
  },
  {
   "cell_type": "code",
   "execution_count": null,
   "id": "a86813f8",
   "metadata": {},
   "outputs": [],
   "source": [
    "def gen_experiment_results(n_experiments=10000, **kwargs):\n",
    "    \"\"\"\n",
    "    Simulates n_experiments random experiments and computes the difference-in-means\n",
    "    and stratified difference-in-means estimators.\n",
    "\n",
    "    Args:\n",
    "        n_experiments (int): the number of experiments to simulate\n",
    "        **kwargs: additional keyword arguments to pass directly `sim_random_exp`\n",
    "\n",
    "    Returns:\n",
    "        pd.DataFrame: a dataframe with the results of the experiments in each row\n",
    "        \n",
    "        The dataframe should have two columns:\n",
    "        - diff_in_means: the difference in means estimator\n",
    "        - diff_in_means_stratified: the stratified difference in means estimator\n",
    "    \"\"\"\n",
    "    experiment_results = {\n",
    "        \"diff_in_means\": [],\n",
    "        \"diff_in_means_stratified\": []\n",
    "    }\n",
    "\n",
    "    for i in range(n_experiments):\n",
    "        # Passes **kwargs through to sim_random_exp to return Y, T, X\n",
    "        Y, T, X = sim_random_exp(**kwargs)\n",
    "\n",
    "        # TODO populate the experiment_results dictionary\n",
    "\n",
    "    # Converts dictionary to dataframe with keys as column names\n",
    "    exp_df = pd.DataFrame(experiment_results)\n",
    "\n",
    "    return exp_df"
   ]
  },
  {
   "cell_type": "code",
   "execution_count": 32,
   "id": "7f544d88",
   "metadata": {},
   "outputs": [],
   "source": [
    "#### test gen_experiment_results ####\n",
    "if __name__ == \"__main__\":\n",
    "    exp_results = gen_experiment_results(n_experiments=200, treatment_effect=2, covariate_effect=0)\n",
    "\n",
    "    assert exp_results.shape[0] == 200, \"Incorrect number of experiments\"\n",
    "    assert \"diff_in_means\" in exp_results.columns, \"diff_in_means column is missing\"\n",
    "    # feel free to add more tests"
   ]
  },
  {
   "cell_type": "markdown",
   "id": "efa88647",
   "metadata": {},
   "source": [
    "Using the `gen_experiment_results` function, create a manual interactive widget that plots the both the stratified and unstratified difference-in-means for a range of covariate effects. Specifically, you should:\n",
    "\n",
    "- Add a `interact_manual` decorator to the `plot_experiment_simulations` function\n",
    "- Create a slider for the $X$ variable effect that can take values between 0 and 6\n",
    "- Fix the number of experiments to 10000, see the [tutorial reference on ipywidgets](https://ipywidgets.readthedocs.io/en/stable/examples/Using%20Interact.html#fixing-arguments-using-fixed) from Worksheet 3\n",
    "- Call the `gen_experiment_results` function with the given number of experiments and covariate effect\n",
    "- Plot a histogram of the difference-in-means, unstratified and stratified for a given covariate effect: this should be a **single plot with two histograms on top of each other**, which can be achieved using `sns.histplot`\n",
    "- Additionally, plot the true difference in means as a vertical line on the same figure, which can be achieved using `plt.axvline`. The default treatment effect is `1.0`\n",
    "\n",
    "\n",
    ":::{note}\n",
    "Remember to follow good figure design practices by adding a legend, title, and axis labels.\n",
    ":::"
   ]
  },
  {
   "cell_type": "code",
   "execution_count": null,
   "id": "70846d76",
   "metadata": {},
   "outputs": [
    {
     "data": {
      "application/vnd.jupyter.widget-view+json": {
       "model_id": "880917f0777c477c8d8d4404b7f5a9d4",
       "version_major": 2,
       "version_minor": 0
      },
      "text/plain": [
       "interactive(children=(FloatSlider(value=3.0, description='covariate_effect', max=6.0, step=1.0), Button(descri…"
      ]
     },
     "metadata": {},
     "output_type": "display_data"
    }
   ],
   "source": [
    "# TODO add interact_manual decorator\n",
    "\n",
    "def plot_experiment_simulations(num_experiments=10000, covariate_effect=3.0):\n",
    "    \"\"\"\n",
    "    Plots the both the stratified and unstratified difference-in-means \n",
    "\n",
    "    Args:\n",
    "        num_experiments (int): the number of experiments to simulate\n",
    "        covariate_effect (float): the covariate effect to use in the experiments\n",
    "\n",
    "    Returns:\n",
    "        None, but shows the plot\n",
    "    \"\"\"\n",
    "\n",
    "    # TODO your code here\n",
    "    #pass"
   ]
  },
  {
   "cell_type": "markdown",
   "id": "aad45a6a",
   "metadata": {},
   "source": [
    "### 2.2 Interpretation\n",
    "\n",
    "Recall our discussions of the **variance** of causal effect estimators:\n",
    "\n",
    "- **Variance**: how much do the estimates for a given experiment vary? We can visually inspect this by looking at how \"spread out\" the histogram is.\n",
    "\n",
    "In addition to variance, researchers may also be interested in the statistical bias of an estimator:\n",
    "\n",
    "- **Bias**: how far off is the mean estimate off from the true value? We can visually inspect this by looking at where the histogram is \"centered.\" If the histogram is centered around the true value, then the estimator is unbiased, and if the histogram is not centered around the true value, then the estimator is said to be biased.\n",
    "\n",
    "Play around with the widget you created above, testing out different covariate effect values.\n",
    "\n",
    "1. What do you observe about the bias of the unstratified and stratified estimators? Is either biased?\n",
    "\n",
    "2. What do you observe about the variance of the unstratified and stratified estimators? Researchers sometime call estimators with lower variance to be **more efficient**. Is there an estimator that appears to be more efficient?\n",
    "\n",
    "3. What happens to the relative variance of the two estimators when you set the covariate effect to 0, and why you think this occurs?"
   ]
  },
  {
   "cell_type": "markdown",
   "id": "9c165b61",
   "metadata": {},
   "source": [
    "**TODO** your responses here:\n",
    "\n",
    "1. \n",
    "\n",
    "2. \n",
    "\n",
    "3. "
   ]
  },
  {
   "cell_type": "markdown",
   "id": "ceeec5bc",
   "metadata": {},
   "source": [
    "---"
   ]
  },
  {
   "cell_type": "markdown",
   "id": "b7d36d61",
   "metadata": {},
   "source": [
    "## 3. Pandas and bootstrap utilities"
   ]
  },
  {
   "cell_type": "markdown",
   "id": "1be68d64",
   "metadata": {},
   "source": [
    "### 3.1 Bootstrap [0.5 pts]"
   ]
  },
  {
   "cell_type": "markdown",
   "id": "65c4efa0",
   "metadata": {},
   "source": [
    "Since we only have one real dataset in a causal study, we cannot generate a distribution of the difference-in-means estimator over multiple experiments. However, we can use bootstrapping to generate a distribution of the difference-in-means estimator. \n",
    "\n",
    "As we saw in worksheet 3 and in class, bootstrapping is a powerful technique that allows us to generate a sampling distribution over *any* estimator by resampling the data with replacement. Copy your `bootstrap_dfs` function from Worksheet 3 below, which takes in a dataframe and returns a list of bootstrapped dataframes."
   ]
  },
  {
   "cell_type": "code",
   "execution_count": 34,
   "id": "747e86d1",
   "metadata": {},
   "outputs": [],
   "source": [
    "def bootstrap_dfs(df, n_bootstraps=5000):\n",
    "    \"\"\"\n",
    "    Bootstraps the dataframe `n_bootstraps` times.\n",
    "\n",
    "    Args:\n",
    "        df (pd.DataFrame): the dataframe to bootstrap\n",
    "        n_bootstraps (int): the number of bootstraps to generate\n",
    "\n",
    "    Returns:\n",
    "        list[pd.DataFrame]: a list of bootstrapped dataframes\n",
    "    \"\"\"\n",
    "    # TODO your code here\n",
    "    pass"
   ]
  },
  {
   "cell_type": "markdown",
   "id": "dc8faf2f",
   "metadata": {},
   "source": [
    "Next, we'll write a utility function to compute the bootstrapped confidence interval given a list of bootstrap values, similar to how we did in Worksheet 3.\n",
    "\n",
    ":::{note}\n",
    "\n",
    "This function takes in an alpha level of 0.05 by default, which corresponds to a 95% confidence interval. However, this implementation allows for any alpha level to be used, e.g. for 90% or 99% confidence intervals.\n",
    "\n",
    "Also note that while the `np.percentile` function takes in a percentage between 0 and 100, the `alpha` parameter is a proportion between 0 and 1. Be sure to convert to correct units!\n",
    ":::"
   ]
  },
  {
   "cell_type": "code",
   "execution_count": null,
   "id": "d0a166e0",
   "metadata": {},
   "outputs": [],
   "source": [
    "def bootstrap_ci(bootstrap_values, alpha=0.05):\n",
    "    \"\"\"\n",
    "    Computes the confidence interval using the percentile method.\n",
    "\n",
    "    Args:\n",
    "        bootstrap_values (list[float]): the bootstrapped values\n",
    "        alpha (float): the significance level, defaults to 0.05\n",
    "\n",
    "    Returns:\n",
    "        list[float]: the confidence interval [lower, upper]\n",
    "    \"\"\"\n",
    "\n",
    "    # TODO your code here\n",
    "    pass"
   ]
  },
  {
   "cell_type": "code",
   "execution_count": null,
   "id": "af9944f0",
   "metadata": {},
   "outputs": [],
   "source": [
    "### test bootstrap_ci ####\n",
    "if __name__ == \"__main__\":\n",
    "    bootstrap_values = np.arange(0, 101)\n",
    "    cis = bootstrap_ci(bootstrap_values)\n",
    "    assert np.isclose(cis[0], 2.5), \"Lower bound should be 2.5\"\n",
    "    assert np.isclose(cis[1], 97.5), \"Upper bound should be 97.5\"\n",
    "    # feel free to add more tests"
   ]
  },
  {
   "cell_type": "markdown",
   "id": "6a150950",
   "metadata": {},
   "source": [
    "### 3.2 Pandas column processing [0.5 pts]"
   ]
  },
  {
   "cell_type": "markdown",
   "id": "d49f4b8b",
   "metadata": {},
   "source": [
    "In order to facilitate the use of our stratified difference-in-means estimator, we'll need to be able to binarize a continuous covariate into two strata.\n",
    "\n",
    "Complete the following `binarize_covariate` function, which creates a new binary covariate that is 1 if the covariate is greater than the cutpoint, and 0 otherwise."
   ]
  },
  {
   "cell_type": "code",
   "execution_count": null,
   "id": "eb5e2928",
   "metadata": {},
   "outputs": [],
   "source": [
    "def binarize_covariate(df, covariate, cutpoint):\n",
    "    \"\"\"\n",
    "    Creates a new binary covariate that is 1 if the covariate is greater \n",
    "    than the cutpoint, and 0 otherwise.\n",
    "    Updates the dataframe with a new column named `{covariate}_bin`\n",
    "\n",
    "    Args:\n",
    "        df (pd.DataFrame): the dataframe to update\n",
    "        covariate (str): the name of the covariate to binarize\n",
    "        cutpoint (float): the cutpoint to use for binarization\n",
    "\n",
    "    Returns:\n",
    "        pd.DataFrame: the updated dataframe with the new binary covariate\n",
    "    \"\"\"\n",
    "    # TODO your code here\n",
    "    return df\n"
   ]
  },
  {
   "cell_type": "code",
   "execution_count": 38,
   "id": "82689578",
   "metadata": {},
   "outputs": [],
   "source": [
    "#### test binarize_covariate ####\n",
    "if __name__ == \"__main__\":\n",
    "    df = pd.DataFrame({'A': [1, 2, 3, 4, 5]})\n",
    "    assert binarize_covariate(df, 'A', 2.5).equals(pd.DataFrame({'A': [1, 2, 3, 4, 5], 'A_bin': [0, 0, 1, 1, 1]})), \"Binarization is incorrect\"\n",
    "    # feel free to add more tests"
   ]
  },
  {
   "cell_type": "markdown",
   "id": "abebce1e",
   "metadata": {},
   "source": [
    ":::{admonition} How to submit\n",
    ":class: tip\n",
    "\n",
    "\n",
    "Like the worksheets, follow the instructions on the [course website](https://comsc341cd.github.io/resources/submit.html) to submit your work. For part 1, you will submit `proj1_functions.py` and `proj1_functions.ipynb`.\n",
    ":::"
   ]
  }
 ],
 "metadata": {
  "kernelspec": {
   "display_name": "venv",
   "language": "python",
   "name": "python3"
  },
  "language_info": {
   "codemirror_mode": {
    "name": "ipython",
    "version": 3
   },
   "file_extension": ".py",
   "mimetype": "text/x-python",
   "name": "python",
   "nbconvert_exporter": "python",
   "pygments_lexer": "ipython3",
   "version": "3.11.10"
  }
 },
 "nbformat": 4,
 "nbformat_minor": 5
}
