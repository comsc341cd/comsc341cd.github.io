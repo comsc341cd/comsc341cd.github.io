{
 "cells": [
  {
   "cell_type": "markdown",
   "id": "342f4b90",
   "metadata": {},
   "source": [
    "(ws1)=\n",
    "# Worksheet 1 🎲\n",
    "\n",
    ":::{epigraph}\n",
    "Getting Started and Probability Primer\n",
    "\n",
    "-- TODO your name here\n",
    ":::\n",
    "\n",
    ":::{admonition} Collaboration Statement\n",
    "- TODO brief statement on the nature of your collaboration.\n",
    "- TODO your collaborator's names here.\n",
    ":::"
   ]
  },
  {
   "cell_type": "markdown",
   "id": "fc29c03c-3e0a-4e41-9ab1-cf880d65fb0a",
   "metadata": {},
   "source": [
    "# Learning Objectives\n",
    "\n",
    "- Get familiarized with the Jupyterhub interface and the course's submission system.\n",
    "- Learn where to find course resources.\n",
    "- Practice with the first probability and math concepts needed for the course:\n",
    "    - random variables\n",
    "    - expectation\n",
    "    - conditional expectation\n",
    "- Practice with basic usage of `numpy` throughout.\n",
    "- Read a research article and learn about the classification of different data science tasks.\n"
   ]
  },
  {
   "cell_type": "markdown",
   "id": "5ecce3bc-0cea-4758-b7f0-70aaec64a5f4",
   "metadata": {},
   "source": [
    "# 1. Course resources and skills check [1 pt]\n",
    "\n",
    "**1.1:** Read through all the pages listed in the syllabus on the [course website](https://comsc341cd.github.io/). Out of the five different academic perspectives listed with the reference textbooks on the course policies page, which one are you most interested in or would be most useful to you? Briefly comment on why.\n",
    "\n",
    "**Your Response**: TODO \n",
    "\n",
    "**1.2** Reply to the Course Intros thread on Ed introducing yourself and sharing why you're interested in taking this course.\n",
    "\n",
    "TODO post to the Ed discussion thread: https://edstem.org/us/courses/71545/discussion"
   ]
  },
  {
   "cell_type": "markdown",
   "id": "bcf0cb1f-4df6-424a-8dfc-6760279ea71e",
   "metadata": {},
   "source": [
    "## Coding interface\n",
    "\n",
    "**Programming language: Python.** This course will be taught in Python. To get the most out of the course, it’s important you don’t feel bogged down by the syntax of the language so that you can focus on the concepts introduced. If you do not have prior experience with Python, that’s no problem. **Please do take the time at start of the course to study and practice it.**\n",
    "\n",
    "For review, I recommend going through an online Python tutorial such as this one: https://www.learnpython.org/, and going through all the section under \"Learn the Basics.\" I will also provide pointers to the relevant \"Advanced Tutorial\" sections as we utilize them in the course.\n",
    "\n",
    "**Libraries.** We will be using a typical data science stack throughout the course:\n",
    "\n",
    "- [numpy](https://numpy.org/) + [scipy](https://scipy.org/): for scientific computing\n",
    "- [pandas](https://pandas.pydata.org/): for data table manipulation and analysis\n",
    "- [seaborn](https://seaborn.pydata.org/) + [matplotlib](https://matplotlib.org/): for figure visualization\n",
    "- [ipywidgets](https://ipywidgets.readthedocs.io/en/latest/): for interactive widgets\n",
    "\n",
    "We will introduce the functionality of these libraries as we need them in the course, so we do not assume prior knowledge of these libraries. However, I do encourage you to refer to the documentation for all of them, as they are extensive and well-written.\n",
    "\n",
    "**1.3.** We'll begin with some basic numpy operations in this worksheet. Complete the TODOs below.\n",
    "\n",
    ":::{tip}\n",
    "First, try to guess what the code does. Then, run the code and see if you were correct. Finally, check the documentation if you want to learn more about the function.\n",
    ":::"
   ]
  },
  {
   "cell_type": "markdown",
   "id": "c0b24a93",
   "metadata": {},
   "source": [
    "```python\n",
    "# The standard way to import numpy  \n",
    "import numpy as np\n",
    "```\n",
    "\n",
    "Briefly describe what the code below does:\n",
    "\n",
    "```python\n",
    "print(np.arange(1,7))\n",
    "```\n",
    "\n",
    "**Your Response**: TODO\n",
    "\n",
    "Briefly describe what the code below does:\n",
    "\n",
    "```python\n",
    "print(np.ones(6))\n",
    "```\n",
    "\n",
    "**Your Response**: TODO"
   ]
  },
  {
   "cell_type": "code",
   "execution_count": null,
   "id": "f56e08d6",
   "metadata": {},
   "outputs": [],
   "source": [
    "# The standard way to import numpy\n",
    "import numpy as np\n",
    "\n",
    "# TODO experiment with code in this cell\n"
   ]
  },
  {
   "cell_type": "markdown",
   "id": "df93c6f9",
   "metadata": {},
   "source": [
    "\n",
    ":::{tip}\n",
    "Not sure how a function call works? Play and experiment with it in a code cell!\n",
    ":::\n",
    "\n",
    "**Computing environment.** We will be using Jupyter notebooks (.ipynb files) for all assignments. We have a centralized Jupyterhub server which provides a uniform environment for everyone, and you can access it anywhere on campus using your MHC credentials:\n",
    "\n",
    "- https://comsc341cd-hub-sp.mtholyoke.edu\n",
    "\n",
    ":::{warning}\n",
    "If you would like to run your code locally, you are welcome to do so and we can provide the necessary list of installation packages. However, we note that we unfortunately cannot help troubleshoot issues with your local environment. In particular, some of the scientific computing libraries can be finnicky to install on ARM-based Macs, which is why we have centralized our Jupyterhub server.\n",
    ":::\n",
    "\n",
    "There are two types of cells in a Jupyter notebook:\n",
    "\n",
    "- Markdown cells: for writing text\n",
    "- Code cells: for writing and running code\n",
    "\n",
    "Read through [this guide](https://gtribello.github.io/mathNET/assets/notebook-writing.html) to learn how to format markdown cells with mathematical notation. We will be using both markdown and latex in this course."
   ]
  },
  {
   "cell_type": "markdown",
   "id": "71c08f2f",
   "metadata": {},
   "source": [
    "## Math\n",
    "\n",
    "We will be using mathematical notation to formalize many concepts in this course. To begin, this worksheet will be using the notation for sums:\n",
    "\n",
    "$$\n",
    "\\sum_{i=1}^{n} X_i = X_1 + X_2 + X_3 + \\cdots + X_n\n",
    "$$\n",
    "\n",
    "You may also see only a subscript underneath the summation symbol, which means the sum is over all the elements in the set. For example, the sum of all elements in the set $A=\\{1,2,3\\}$ is written as:\n",
    "\n",
    "$$\n",
    "\\sum_{x \\in A} x = 1 + 2 + 3 = 6\n",
    "$$\n",
    "\n",
    "We'll also be using the indicator function $\\mathbb{I}(\\text{condition})$:\n",
    "\n",
    "$$\n",
    "\\mathbb{I}(\\text{condition}) = \n",
    "\\begin{cases} \n",
    "1 & \\text{if condition is true} \\\\\n",
    "0 & \\text{if condition is false}\n",
    "\\end{cases}\n",
    "$$\n",
    "\n",
    "For example, $\\mathbb{I}(X = x)$ will be 1 if $X = x$ and 0 otherwise."
   ]
  },
  {
   "cell_type": "markdown",
   "id": "3b90c9f0-8be2-4eef-a0c7-9d3862e3f827",
   "metadata": {},
   "source": [
    "# 2. Probability concepts [1 pt]\n",
    "\n",
    "## Chance events\n",
    "\n",
    "Probability is the mathematical framework that allows us to reason about randomness and chance.\n",
    "\n",
    "Read [**Ch 1 of Seeing Theory: Chance events**](https://seeing-theory.brown.edu/basic-probability/) for a brief refresher on random events.\n",
    "\n",
    ":::{admonition} Reading notes\n",
    "\n",
    "I will be adding notes to supplement the reading when necessary.\n",
    "\n",
    "To fill in some notation of the seeing theory section: \n",
    "\n",
    "- $P(A)$ is the probability of event $A$ happening. In the reading, we are examining the probability of a fair coin coming up heads or tails.\n",
    "\n",
    "- A fair coin has equal probability of landing heads or tails, so $P(\\text{heads}) = 0.5$ and $P(\\text{tails}) = 0.5$.\n",
    "\n",
    "- If we assign heads and tails to be numeric outcomes, e.g. $\\text{heads} = 1$ and $\\text{tails} = 0$, then the coin flip can be thought of as a **random variable**, which we often denote as a capital letter $X$.\n",
    "\n",
    "- In order for something to be considered a valid (discrete) random variable, the probability of each event must be between 0 and 1, and the sum of the probabilities of all events must equal 1. In the case of a fair coin, $P(X=1) + P(X=0) = 0.5 + 0.5 = 1$.\n",
    "\n",
    "- We can think of a random variable as a random number generator that can be repeated many times, generating a **sample** of outcomes. These will be subscripted, e.g. a sample of $N$ coin flips will be $X_1, X_2, X_3, \\cdots, X_N$.\n",
    "\n",
    "- The observed outcomes of a random variable do not necessarily match the true probability of the outcomes. If you click \"Flip the coin\" a couple of times, you'll see that you don't always get 50% heads and 50% tails.\n",
    "\n",
    "- It is only in the long run that the observed outcomes match the true probability of the process, which you can see if you click \"Flip 100 times\".\n",
    ":::"
   ]
  },
  {
   "cell_type": "markdown",
   "id": "547559cd",
   "metadata": {},
   "source": [
    "## Expectation\n",
    "\n",
    "Expectation provides a measure of the \"center\" value of a random variable. Read [**Ch 1 of Seeing Theory: Expectation**](https://seeing-theory.brown.edu/basic-probability/).\n",
    "\n",
    ":::{admonition} Reading notes\n",
    "- The reading uses $\\mathcal{X}$ to denote the set of all possible values that a random variable can take. In the case of a fair six-sided die roll, $\\mathcal{X} = \\{1, 2, 3, 4, 5, 6\\}$.\n",
    "\n",
    "- Thus the summation over $x \\in \\mathcal{X}$ is summing over all possible values that the random variable can take.\n",
    ":::\n",
    "\n",
    "Let's now numerically compute the expected value of a roll of a fair 6-sided die. If the six-sided die is fair, then each of the outcomes has equal probability of 1/6. Run the following code to compute the expected value:"
   ]
  },
  {
   "cell_type": "code",
   "execution_count": null,
   "id": "fdae468d",
   "metadata": {},
   "outputs": [],
   "source": [
    "# np.arange(1, 7) creates an np.array of the integers from 1 to 6\n",
    "die_outcomes = np.arange(1, 7)\n",
    "\n",
    "# np.ones(6) creates an np.array of 6 ones, then dividing by 6 scales each element to 1/6\n",
    "probabilities = np.ones(6) / 6  \n",
    "\n",
    "# If we multiply two np.arrays that have the same length, \n",
    "# the result will be an np.array of the element-wise products\n",
    "expected_value = np.sum(die_outcomes * probabilities)\n",
    "\n",
    "print(f\"The expected value of a fair die roll is: {expected_value}\")"
   ]
  },
  {
   "cell_type": "markdown",
   "id": "b1c2f662",
   "metadata": {},
   "source": [
    "Let's now compute the expected value of a roll of a fair 6-sided die where each outcome has a different probability. In the Seeing Theory widget, drag the slider for the true probability of 6 to 0.5. The probability of the other outcomes should change to 0.1 each to keep the sum of the probabilities at 1: \n",
    "\n",
    "![](../images/ws2_unfair_dice.png)"
   ]
  },
  {
   "cell_type": "markdown",
   "id": "6e1cd951",
   "metadata": {},
   "source": [
    "**2.1.** Write code to compute the expected value of this new distribution of probabilities. You can use the code from above as a template:"
   ]
  },
  {
   "cell_type": "code",
   "execution_count": null,
   "id": "c2239bd9",
   "metadata": {},
   "outputs": [],
   "source": [
    "# TODO your code here\n",
    "expected_value = None\n",
    "\n",
    "print(f\"The expected value of the modified die roll is: {expected_value}\")"
   ]
  },
  {
   "cell_type": "markdown",
   "id": "6761e562",
   "metadata": {},
   "source": [
    "Now try simulating the dice rolls, by clicking \"Roll 100 times\" multiple times in the Seeing Theory widget and see if your code matches the estimated expected value. What do you observe about the estimated expected value as the number of rolls increases?\n",
    "\n",
    "**Your Response**: TODO"
   ]
  },
  {
   "cell_type": "markdown",
   "id": "552ae1c7",
   "metadata": {},
   "source": [
    ":::{note}\n",
    "\n",
    "The expected value of a binary random variable with outcomes $\\{0, 1\\}$ is equivalent to the probability of the outcome being 1. For example, in our coin flip example, the expected value is the probability the coin comes up heads.\n",
    ":::\n"
   ]
  },
  {
   "cell_type": "markdown",
   "id": "4556da7b",
   "metadata": {},
   "source": [
    "## Simulating a random variable and probability distributions\n",
    "\n",
    "A probability distribution describes how likely each possible value of the random variable is. You can think of a random variable as the \"what\" (what values can occur) and the probability distribution as the \"how likely\" (how likely each value is to occur).\n",
    "\n",
    "For example, when we roll a die, the random variable is the number that comes up (1-6), while the probability distribution tells us that each number has a 1/6 chance of occurring. The same random variable could have different probability distributions - for instance, if the die was weighted to favor certain numbers.\n",
    "\n",
    "There are many types of probability distributions, but here we will begin with the **categorical distribution** for modeling discrete random variables.\n",
    "\n",
    "The categorical distribution is a discrete probability distribution where each outcome has a fixed probability of occurring.\n",
    "\n",
    "In the coin flip and dice roll examples, we were looking at categorical distributions as there were a fixed number of outcomes: 2 for the coin flip, 6 for the dice roll. In the case where there are only 2 outcomes, the categorical distribution is known as the **Bernoulli** distribution.\n"
   ]
  },
  {
   "cell_type": "markdown",
   "id": "bd6ab44e",
   "metadata": {},
   "source": [
    "Numpy has a built-in functionality to generate random numbers from a categorical distribution: [numpy.random.Generator.choice](https://numpy.org/doc/stable/reference/random/generated/numpy.random.Generator.choice.html)\n",
    "\n",
    "For example, the following code generates `n_samples=1000` random numbers from a categorical distribution with 2 outcomes `[0, 1]` and probabilities `p=[0.5, 0.5]`:"
   ]
  },
  {
   "cell_type": "code",
   "execution_count": 4,
   "id": "84288f9c",
   "metadata": {},
   "outputs": [],
   "source": [
    "# This creates a generator with a fixed seed, so we can generate the same random numbers\n",
    "rng = np.random.default_rng(seed=42)\n",
    "\n",
    "n_samples = 1000\n",
    "coin_flips = rng.choice([0, 1], size=n_samples, p=[0.5, 0.5])"
   ]
  },
  {
   "cell_type": "markdown",
   "id": "a3d19282",
   "metadata": {},
   "source": [
    "`coin_flips` is an `np.array` of length `n_samples`, where each element is either 0 or 1.\n",
    "\n",
    "If we represent heads as 1 and tails as 0, then we can count the number of heads that came up by summing up all the 1s in the `coin_flips` array, which should be close to 500:"
   ]
  },
  {
   "cell_type": "code",
   "execution_count": null,
   "id": "5b63cd07",
   "metadata": {},
   "outputs": [],
   "source": [
    "n_heads = np.sum(coin_flips)\n",
    "\n",
    "print(f\"Number of heads: {n_heads}\")"
   ]
  },
  {
   "cell_type": "markdown",
   "id": "1bb6a177",
   "metadata": {},
   "source": [
    "Once we have a sample of outcomes, we can **estimate** the expected value of the random variable by taking the mean of the sample. In a slight abuse of notation, we can denote the **estimated expectation** or **sample mean** as $\\hat{E}[X]$, which averages over the $n$ samples of the random variable $X$:\n",
    "\n",
    "$$\n",
    "\\hat{E}[X] = \\frac{1}{n} \\sum_{i=1}^{n} X_i\n",
    "$$\n",
    "\n",
    ":::{admonition} Notation\n",
    "I will be using the hat $\\hat{\\;}$ notation throughout the course to denote an **estimation** of some quantity, which will always be computed from a sample of data.\n",
    ":::\n",
    "\n",
    "\n",
    "We can then compute this **estimated expectation** of the random variable by using Numpy's [np.mean](https://numpy.org/doc/stable/reference/generated/numpy.mean.html) function:"
   ]
  },
  {
   "cell_type": "code",
   "execution_count": null,
   "id": "a7c6ca9a",
   "metadata": {},
   "outputs": [],
   "source": [
    "estimated_expectation = np.mean(coin_flips)\n",
    "\n",
    "print(f\"Estimated expectation of coin flips: {estimated_expectation}\")\n"
   ]
  },
  {
   "cell_type": "markdown",
   "id": "1dd71ef0",
   "metadata": {},
   "source": [
    "**2.2.** Let's now compute the estimated expectation of rolling 1000 fair dice, and compare it to the true expected value we computed earlier. Use the code from above as a template for the outcomes and probabilities:\n"
   ]
  },
  {
   "cell_type": "code",
   "execution_count": null,
   "id": "ce82b035",
   "metadata": {},
   "outputs": [],
   "source": [
    "# TODO your code here\n",
    "dice_outcomes = None\n",
    "dice_probabilities = None\n",
    "n_samples = None\n",
    "dice_rolls = None\n",
    "\n",
    "dice_estimated_expectation = None"
   ]
  },
  {
   "cell_type": "markdown",
   "id": "0afc7c2b",
   "metadata": {},
   "source": [
    "What is your estimate of the expected value of the dice roll?\n",
    "\n",
    "**Your Response**: TODO"
   ]
  },
  {
   "cell_type": "markdown",
   "id": "116feb9e",
   "metadata": {},
   "source": [
    "We often say that a random variable is **distributed according to** or \"follows\" a certain probability distribution. For example, we say that the random variable of a coin flip is distributed according to a Bernoulli distribution, and the random variable of a dice roll is distributed according to a categorical distribution.\n",
    "\n",
    "You will often see probability distributions written in the following way: \n",
    "\n",
    "$$X \\sim \\text{Distribution}(\\;)$$\n",
    "\n",
    "Here, the capital letter $X$ represents the random variable, and the tilde symbol $\\sim$ means \"is distributed according to\". The parentheses contain the parameters of the distribution. For example, the dice roll example we looked at earlier can be written as:\n",
    "\n",
    "$$X \\sim \\text{Categorical}(p)$$\n",
    "\n",
    "Where $p=\\{\\frac{1}{6}, \\frac{1}{6}, \\frac{1}{6}, \\frac{1}{6}, \\frac{1}{6}, \\frac{1}{6}\\}$ is the probability of the dice outcomes $\\mathcal{X} = \\{1, 2, 3, 4, 5, 6\\}$.\n",
    "\n",
    "A special case of the categorical distribution is the **Bernoulli** distribution, which has only two outcomes $\\{0, 1\\}$:\n",
    "\n",
    "$$X \\sim \\text{Bernoulli}(p)$$\n",
    "\n",
    "Where $p$ is the probability of the outcome 1."
   ]
  },
  {
   "cell_type": "markdown",
   "id": "d6879e0b",
   "metadata": {},
   "source": [
    "# 3. Estimating a conditional expectation [1 pt]"
   ]
  },
  {
   "cell_type": "markdown",
   "id": "ffa76b8a",
   "metadata": {},
   "source": [
    "A common task we will be doing in this course is estimating the expectation of a variable **given** some other condition. For example, we may observe the following sample *pairs*:\n",
    "\n",
    "$$\n",
    "(X_1, Y_1), (X_2, Y_2), (X_3, Y_3), \\cdots, (X_n, Y_n)\n",
    "$$\n",
    "\n",
    "where $X$ is binary and $Y$ takes on real values.\n",
    "\n",
    "Run the cell below, which defines a *data generating process* that generates `n_samples` pairs of $(X, Y)$ values. Note that it returns two arrays, `X` and `Y`, which are the same length."
   ]
  },
  {
   "cell_type": "code",
   "execution_count": 18,
   "id": "282ba3f7",
   "metadata": {},
   "outputs": [],
   "source": [
    "def data_generating_process(n_samples):\n",
    "    \"\"\"\n",
    "    Generate a sample of $n$ pairs of $(X, Y)$ values.\n",
    "\n",
    "    Args:\n",
    "        n_samples (int): The number of samples to generate.\n",
    "\n",
    "    Returns:\n",
    "        X (np.array): An array of $n$ binary values.\n",
    "        Y (np.array): An array of $n$ real values.\n",
    "    \"\"\"\n",
    "    # Generate binary X values with equal probability of 0 and 1\n",
    "    X = rng.choice([0, 1], size=n_samples, p=[0.5, 0.5])\n",
    "\n",
    "    # Generate Y values based on the value of X using np.where\n",
    "    Y = np.where(X == 1, \n",
    "                 # If X=1, generate from this distribution\n",
    "                 rng.choice(np.arange(1, 7), size=n_samples, p=np.ones(6) / 6), \n",
    "                 # If X=0, generate from this distribution\n",
    "                 rng.choice(np.arange(1, 7), size=n_samples, p=[0.1, 0.1, 0.1, 0.1, 0.1, 0.5])\n",
    "                )\n",
    "\n",
    "    return X, Y\n",
    "\n",
    "X, Y = data_generating_process(n_samples=10000)"
   ]
  },
  {
   "cell_type": "markdown",
   "id": "c6dfa63c",
   "metadata": {},
   "source": [
    "\n",
    "We can then ask a question: what is the estimated expected value of $Y$, **given that** $X=0$? This is known as a **conditional expectation**.\n",
    "\n",
    "To express this mathematically, we can write:\n",
    "\n",
    "$$\n",
    "\\hat{E}[Y \\mid X=0] = \\frac{1}{n_0} \\sum_{i=1}^{n} \\mathbb{I}(X_i = 0)Y_i\n",
    "$$\n",
    "\n",
    "Where $n_0$ is the number of times $X=0$ in the sample, that is: \n",
    "\n",
    "$$\n",
    "n_0 = \\sum_{i=1}^{n} \\mathbb{I}(X_i = 0)\n",
    "$$\n",
    "\n",
    ":::{tip}\n",
    "When interpreting the above equation, we can read the vertical bar $\\mid$ as \"given that\".\n",
    ":::\n",
    "\n"
   ]
  },
  {
   "cell_type": "markdown",
   "id": "0e66ffa8",
   "metadata": {},
   "source": [
    "We can compute the estimated conditional expectation of $Y$ given $X=0$ a couple of ways. First, we can translate the above equation literally:"
   ]
  },
  {
   "cell_type": "code",
   "execution_count": null,
   "id": "6e396178",
   "metadata": {},
   "outputs": [],
   "source": [
    "# X == 0 returns an array of booleans, where an element is True if the corresponding element in X is 0\n",
    "# np.sum then counts the number of True values in the array\n",
    "n0 = np.sum(X == 0)\n",
    "\n",
    "# (X == 0) * Y is an element-wise multiplication of the two arrays\n",
    "conditional_sum = np.sum((X == 0) * Y)\n",
    "\n",
    "conditional_expectation = conditional_sum / n0\n",
    "\n",
    "print(f\"Estimated conditional expectation of Y given X=0: {conditional_expectation}\")\n"
   ]
  },
  {
   "cell_type": "markdown",
   "id": "c80f2e07",
   "metadata": {},
   "source": [
    "We can also use numpy's boolean indexing to filter out the values of $Y$ where $X=0$ and then take the mean:"
   ]
  },
  {
   "cell_type": "code",
   "execution_count": null,
   "id": "d4754249",
   "metadata": {},
   "outputs": [],
   "source": [
    "# Filter out the values of Y where X=0\n",
    "Y_given_X0 = Y[X == 0]\n",
    "\n",
    "# This will be the number of times X=0 in the sample\n",
    "print(Y_given_X0.shape)\n",
    "\n",
    "# Take the mean of the filtered array\n",
    "conditional_expectation = np.mean(Y_given_X0)\n",
    "\n",
    "print(f\"Estimated conditional expectation of Y given X=0: {conditional_expectation}\")\n"
   ]
  },
  {
   "cell_type": "markdown",
   "id": "af17ab9a",
   "metadata": {},
   "source": [
    "**3.1.** Now, compute the estimated conditional expectation of $Y$ given $X=1$ with whichever method you prefer:\n"
   ]
  },
  {
   "cell_type": "code",
   "execution_count": null,
   "id": "3acbff6d",
   "metadata": {},
   "outputs": [],
   "source": [
    "# TODO your code here\n",
    "conditional_expectation_given_one = None\n"
   ]
  },
  {
   "cell_type": "markdown",
   "id": "76a267b0",
   "metadata": {},
   "source": [
    "What is your estimate of the conditional expectation of $Y$ given $X=1$?\n",
    "\n",
    "**Your Response**: TODO\n"
   ]
  },
  {
   "cell_type": "markdown",
   "id": "743dceee",
   "metadata": {},
   "source": [
    "If you read the `data_generating_process` function carefully, you may already have an idea of what the answer to these two conditional expectations are, without having to estimate them. The way that the data are generated is as follows:\n",
    "\n",
    "1. Flip a fair coin\n",
    "2. If the coin comes up heads, roll a fair 6-sided die\n",
    "3. If the coin comes up tails, roll our weighted 6-sided die from earlier, with probabilities of events as follows:\n",
    "\n",
    "| Outcome | Probability |\n",
    "|---------|-------------|\n",
    "| 1       | 0.1         |\n",
    "| 2       | 0.1         |\n",
    "| 3       | 0.1         |\n",
    "| 4       | 0.1         |\n",
    "| 5       | 0.1         |\n",
    "| 6       | 0.5         |\n"
   ]
  },
  {
   "cell_type": "markdown",
   "id": "e30367a4",
   "metadata": {},
   "source": [
    ":::{admonition} Takeaway\n",
    "The challenge in most real-world applications is that we don't know the data generating process, and so we have to **estimate** quantities like the conditional expectation from a sample of data. Much of data-driven empirical research -- causal or non-causal -- is about estimating quantities (like the conditional expectation) that help describe some variable of interest.\n",
    ":::"
   ]
  },
  {
   "cell_type": "markdown",
   "id": "02eac554",
   "metadata": {},
   "source": [
    "**3.2.** Let's also practice translating mathematical statements into real-world expressions. \n",
    "\n",
    "Suppose we have the following variable definitions:\n",
    "\n",
    "- $Y$: a high school student's SAT score.\n",
    "- $T$: a binary variable indicating a student's participation in an after-school tutoring program: $T=1$ if they participated, $T=0$ otherwise.\n",
    "\n",
    "How would you state the following mathematical expression in words?\n",
    "\n",
    "$$\n",
    "E[Y \\mid T=1] \n",
    "$$\n",
    "\n",
    "**Your response**: TODO\n",
    "\n",
    "Consider another scenario:\n",
    "\n",
    "- $Y$: a binary variable indicating whether a person has lung cancer: $Y=1$ if they have lung cancer, $Y=0$ otherwise.\n",
    "- $T$: a binary variable indicating whether a person smokes: $T=1$ if they smoke, $T=0$ if they don't.\n",
    "\n",
    "How would you state the following mathematical expression in words?\n",
    "\n",
    "$$\n",
    "E[Y \\mid T=0] \n",
    "$$\n",
    "\n",
    "**Your response**: TODO\n",
    "\n",
    ":::{note}\n",
    "We need to be careful in not imbuing any causal interpretation into the above expressions. We may have an idea of what the causal relationship between $T$ and $Y$ is, but we cannot make any causal claims from the above expression alone -- it is purely an associational statement. The following reading will begin to explore how we can make causal claims from data.\n",
    ":::\n"
   ]
  },
  {
   "cell_type": "markdown",
   "id": "e47bff60-2eb6-402f-b45f-bb7399cc7c5a",
   "metadata": {},
   "source": [
    "# 4. Hernán et al. 2019 reading [1 pt]\n",
    "\n",
    "One of the goals of this course is to connect the concepts we've been learning to modern scientific discourse. To that end, we will periodically read and discuss research across causal inference. Our first reading is:\n",
    "\n",
    "- [Hernán et al. 2019. A second chance to get causal inference right: A classification of Data Science Tasks](https://content.sph.harvard.edu/wwwhsph/sites/1268/1268/20/hernan_chance19.pdf)\n",
    "\n",
    "Read **pages 42 - 45** and **Table 1** in the article, and answer the following reflection questions:\n",
    "\n",
    "**4.1** What are the three scientific tasks of data science described in the article? Provide an example for each -- they can come from any field that you're interested in.\n",
    "\n",
    "**Your Response**: TODO\n",
    "\n",
    "**4.2** According to the authors, what distinguishes prediction tasks from causal inference tasks?\n",
    "\n",
    "**Your Response**: TODO\n",
    "\n",
    "**4.3** What questions do you have about the reading? These can be conceptual or bigger picture.\n",
    "\n",
    "**Your Response**: TODO\n"
   ]
  },
  {
   "cell_type": "markdown",
   "id": "cca71dcb",
   "metadata": {},
   "source": [
    "# 5. Reflection [1 pt]\n",
    "\n",
    "\n",
    "**5.1** How much time outside of class did it take you to complete this worksheet? How long did it take you to read the selected pages of the Hernan et al. 2019 article?\n",
    "\n",
    "**Your Response**: TODO\n",
    "\n",
    "**5.2** What is one thing you have a better understanding of after completing this worksheet? This could be about the concepts, the reading, or the code.\n",
    "\n",
    "**Your Response**: TODO\n",
    "\n",
    "**5.3** How comfortable do you feel about your mathematical and programming preparation for this course?\n",
    "\n",
    "**Your Response**: TODO"
   ]
  },
  {
   "cell_type": "markdown",
   "id": "3eb1243c",
   "metadata": {},
   "source": [
    ":::{admonition} How to submit\n",
    ":class: tip\n",
    "Follow the instructions on the [course website](https://comsc341cd.github.io/resources/submit.html) to submit your worksheet.\n",
    ":::"
   ]
  }
 ],
 "metadata": {
  "kernelspec": {
   "display_name": "Python 3 (ipykernel)",
   "language": "python",
   "name": "python3"
  },
  "language_info": {
   "codemirror_mode": {
    "name": "ipython",
    "version": 3
   },
   "file_extension": ".py",
   "mimetype": "text/x-python",
   "name": "python",
   "nbconvert_exporter": "python",
   "pygments_lexer": "ipython3",
   "version": "3.11.10"
  }
 },
 "nbformat": 4,
 "nbformat_minor": 5
}
