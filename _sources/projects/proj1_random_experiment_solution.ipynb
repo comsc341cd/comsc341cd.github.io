{
 "cells": [
  {
   "cell_type": "markdown",
   "id": "d08a8b91-ca55-4170-9688-da07283e7000",
   "metadata": {},
   "source": [
    "# Project 1: Randomized Experiments 👶\n",
    "\n",
    "<!-- ---\n",
    "myst:\n",
    "  html_meta:\n",
    "    \"description\": \"Project 1: Randomized Experiment\"\n",
    "title: \"[SOLUTION] Project 1: Randomized Experiment\"\n",
    "exports:\n",
    "  - format: pdf\n",
    "kernelspec:\n",
    "  display_name: Python 3\n",
    "  name: python3\n",
    "--- -->"
   ]
  },
  {
   "cell_type": "markdown",
   "id": "12e9ff5c-faf3-472c-a92a-629dd6e12023",
   "metadata": {},
   "source": [
    "In this project, we will conduct our first causal study by examining the Infant Health and Development Program (IHDP) dataset, which is a classic dataset in the causal inference literature.\n",
    "\n",
    "## Learning Objectives\n",
    "\n",
    "- Practice taking a research question, matching it to a causal estimand, and analyzing data to estimate the causal effect.\n",
    "- Explore the benefits of stratification in a randomized experiment.\n",
    "- Practice translating mathematical quantities into code by implementing two difference-in-means estimators and computing confidence intervals.\n",
    "- Exercise your data manipulation and visualization skills with real and simulated data.\n",
    "\n",
    "```{note}\n",
    "This project is due at **xyz at 10:00pm.**\n",
    "```"
   ]
  },
  {
   "cell_type": "markdown",
   "id": "798f667a-062f-4ba6-a3f6-d9e2b73f6c39",
   "metadata": {},
   "source": [
    "## Table of Contents and Rubric\n",
    "\n",
    "| Section | Points |\n",
    "|------------------------------------|-------|\n",
    "| [Math to code: difference-in-means implementation](#1-difference-in-means) | 2 |\n",
    "| [Interactivity: stratified vs unstratified estimators](#2-exploring-the-efficiency-of-difference-in-means-estimators) | 2 |\n",
    "| Causal study design: IHDP | 2 |\n",
    "| Math to code: bootstrapped variances and confidence intervals | 1 |\n",
    "| Causal estimation and interpretation: IHDP analysis | 2 |\n",
    "| Reflection | 1 |\n",
    "| Total | 10 pts"
   ]
  },
  {
   "cell_type": "markdown",
   "id": "a6eab687-cb6c-45f4-b163-a02b2c1fcf5d",
   "metadata": {},
   "source": [
    "## How to submit\n",
    "\n",
    "Like our worksheets, you will upload **two** files to Gradescope:\n",
    "- a proj1_random_experiment.py file, which can be downloaded by going into the Jupyterlab menu: \"File -> Save and Export Notebook As -> Executable Script\"\n",
    "- a fully rendered proj1_random_experiment.pdf file\n",
    "\n",
    "```{warning} TODO\n",
    "Figure out pdf rendering with myst stack\n",
    "```"
   ]
  },
  {
   "cell_type": "markdown",
   "id": "581dc269-fca1-47f2-aee4-4217ac164371",
   "metadata": {},
   "source": [
    "## Notebook imports\n",
    "\n",
    "```{tip}\n",
    "Don't forget to run this cell to import all of the relvant python modules!\n",
    "```"
   ]
  },
  {
   "cell_type": "code",
   "execution_count": 1,
   "id": "dbb30567-2d75-49ed-bb55-26f4f4619dc2",
   "metadata": {},
   "outputs": [],
   "source": [
    "# run me!\n",
    "import pandas as pd\n",
    "import seaborn as sns\n",
    "import matplotlib.pyplot as plt\n",
    "import numpy as np\n",
    "import ipywidgets as widgets"
   ]
  },
  {
   "cell_type": "markdown",
   "id": "c705990c-5703-4289-a847-f021993325fe",
   "metadata": {},
   "source": [
    "## 1. Difference-in-means\n",
    "\n",
    "We begin by considering the causal graph for a randomized experiment, where there are the following variables:\n",
    "\n",
    "- $T$: the intervention, or **T**reatment of interest\n",
    "- $Y$: the outcome of interest\n",
    "- $X$: a covariate that affects the outcome of interest\n",
    "- $U$: any unobserved confounders\n",
    "\n",
    "```{note}\n",
    "Remember that randomizing a variable removes all incoming edge connections in the graph!\n",
    "```"
   ]
  },
  {
   "cell_type": "markdown",
   "id": "867ac352-674a-433a-b244-ecbe8cc63e58",
   "metadata": {},
   "source": [
    "![](../images/proj1_dag.svg)"
   ]
  },
  {
   "cell_type": "markdown",
   "id": "92f0b83e-5371-40ba-954d-af7447ecb4b1",
   "metadata": {},
   "source": [
    "We provide the following code for simulating a random experiment with a binary treatment $T$ and binary covariate $X$:"
   ]
  },
  {
   "cell_type": "code",
   "execution_count": 2,
   "id": "4a836806-964b-409a-8ad7-7879bf2bd3f2",
   "metadata": {},
   "outputs": [],
   "source": [
    "rng = np.random.default_rng(seed=42)\n",
    "\n",
    "def sim_random_exp(n_samples=1000, treatment_effect=1.0, covariate_effect=3.0):\n",
    "    \"\"\"\n",
    "    Simulate a random experiment with a binary treatment and covariate.\n",
    "\n",
    "    Args:\n",
    "        n_samples (int): the number of samples to simulate\n",
    "        treatment_effect (float): the magnitude of the effect of the treatment on the outcome\n",
    "        covariate_effect (float): the magnitude of the effect of the covariate on the outcome\n",
    "\n",
    "    Returns:\n",
    "        Y (np.ndarray): the observed outcome\n",
    "        T (np.ndarray): the binary  treatment assignment\n",
    "        X (np.ndarray): the binary covariate\n",
    "    \"\"\"\n",
    "    # Generate potential outcomes\n",
    "    Y0 = rng.normal(size=n_samples)\n",
    "    Y1 = Y0 + treatment_effect\n",
    "\n",
    "    # Randomly assign treatment\n",
    "    T = rng.choice([0, 1], size=n_samples, )\n",
    "\n",
    "    # Create a binary covariate that affects the outcome\n",
    "    X = rng.choice([0, 1], size=n_samples)\n",
    "\n",
    "    # Generate the observed outcome\n",
    "    Y = np.where(T == 1, Y1, Y0) + covariate_effect*X\n",
    "\n",
    "    return Y, T, X"
   ]
  },
  {
   "cell_type": "markdown",
   "id": "0c30cb43-40ba-4052-a5c2-b438dd67bfd0",
   "metadata": {},
   "source": [
    "Under this randomization, we are able to **identify** the causal estimand we have been discussing, the average treatment effect ($\\tau$):\n",
    "\n",
    "$$\n",
    "\\tau = E[Y(1) - Y(0)] \\; \\xrightarrow[]{\\text{Identification}} \\; E[Y | T = 1] - E[Y | T = 0]\n",
    "$$"
   ]
  },
  {
   "cell_type": "markdown",
   "id": "732668b0",
   "metadata": {},
   "source": [
    "We can then estimate the causal effect by taking the difference in means between the treated and control groups:\n",
    "\n",
    "$$\n",
    "\\hat{\\tau}= \\frac{1}{n_1} \\sum_{i=1}^{n_1} Y_i - \\frac{1}{n_0} \\sum_{i=1}^{n_0} Y_i\n",
    "$$\n",
    "\n",
    "where $n_1$ is the number of samples in the treatment group, and $n_0$ is the number of samples in the control group."
   ]
  },
  {
   "cell_type": "markdown",
   "id": "6260ca16",
   "metadata": {},
   "source": [
    "### 1.1. Implement `diff_in_means` [1 pt]"
   ]
  },
  {
   "cell_type": "code",
   "execution_count": 3,
   "id": "a25dcb02",
   "metadata": {},
   "outputs": [],
   "source": [
    "def diff_in_means(Y, T):\n",
    "    \"\"\"\n",
    "    Computes the difference in means between the treatment and control groups.\n",
    "\n",
    "    Args:\n",
    "        Y (np.ndarray): the observed outcome\n",
    "        T (np.ndarray): the binary treatment assignment\n",
    "\n",
    "    Returns:\n",
    "        float: the difference in means estimate\n",
    "    \"\"\"\n",
    "    assert Y.shape == T.shape, \"Y and T must have the same shape\"\n",
    "    \n",
    "    ### BEGIN SOLUTION\n",
    "    return Y[T == 1].mean() - Y[T == 0].mean()\n",
    "    ### END SOLUTION\n",
    "\n",
    "test_Y = np.array([2, 1, 2, 1])\n",
    "test_T = np.array([1, 0, 1, 0])\n",
    "\n",
    "assert np.isclose(diff_in_means(test_Y, test_T), 1)\n",
    "# Feel free to add more tests"
   ]
  },
  {
   "cell_type": "markdown",
   "id": "fa76329c",
   "metadata": {},
   "source": [
    "### 1.2. Implement `stratified_diff_in_means` [1 pt]"
   ]
  },
  {
   "cell_type": "markdown",
   "id": "62c0c2e1",
   "metadata": {},
   "source": [
    "We saw in lecture that if we want to include a covariate in our analysis, we can analogously compute the difference in means between the treated and control groups, but now conditioning on the covariate. We implement this here as a **stratified difference-in-means** estimator, which is defined as the difference in means between the treatment and control groups, stratified by the binary covariate $X$.\n",
    "\n",
    "$$\n",
    "\\hat{\\tau}_\\text{stratified} = \\sum^K_{k=1} \\frac{n_k}{n} \\hat{\\tau}_k\n",
    "$$\n",
    "\n",
    "where $K$ are the total number of strata, $n_k$ is the number of samples in stratum $k$, and $\\hat{\\tau}_k$ is the difference-in-means estimator for stratum $k$:\n",
    "\n",
    "$$\n",
    "\\hat{\\tau}_k = \\frac{1}{n_{k1}} \\sum_{i=1}^{n_{k1}} Y_i - \\frac{1}{n_{k0}} \\sum_{i=1}^{n_{k0}} Y_i\n",
    "$$\n",
    "\n",
    "where $n_{k1}$ is the number of samples in the treatment group for stratum $k$, and $n_{k0}$ is the number of samples in the control group for stratum $k$.\n",
    "\n",
    "```{tip} Hint\n",
    "\n",
    "While these equations may look a bit complicated, notice that each individual summation term in $\\hat{\\tau}_k$ is just a mean of the outcome for a given subset of the data. In particular, in our case where $X$ is binary:\n",
    "\n",
    "- $\\frac{1}{n_{11}} \\sum_{i=1}^{n_{11}} Y_i$ is the mean of the outcome when $X=1$ and $T=1$\n",
    "- $\\frac{1}{n_{10}} \\sum_{i=1}^{n_{10}} Y_i$ is the mean of the outcome when $X=1$ and $T=0$\n",
    "- and analogously for $X=0$\n",
    "\n",
    "You can then use numpy's boolean indexing to compute the means for each stratum.\n",
    "```"
   ]
  },
  {
   "cell_type": "code",
   "execution_count": 4,
   "id": "0081e2a2",
   "metadata": {},
   "outputs": [],
   "source": [
    "def diff_in_means_stratified(Y, T, X):\n",
    "    \"\"\"\n",
    "    Compute the difference in means stratified by binary covariate X.\n",
    "    \"\"\"\n",
    "    \n",
    "    ### BEGIN SOLUTION\n",
    "    X1_effect = Y[(T == 1) & (X == 1)].mean() - Y[(T == 0) & (X == 1)].mean()\n",
    "    X0_effect = Y[(T == 1) & (X == 0)].mean() - Y[(T == 0) & (X == 0)].mean()\n",
    "\n",
    "    # NOTE: stratified difference in means may be undefined if strata are empty\n",
    "    return X1_effect*X.mean() + X0_effect*(1-X.mean())\n",
    "    ### END SOLUTION\n",
    "\n",
    "test_Y = np.array([2, 1, 2, 1])\n",
    "test_T = np.array([1, 0, 1, 0])\n",
    "test_X = np.array([1, 1, 0, 0])\n",
    "\n",
    "assert np.isclose(diff_in_means_stratified(test_Y, test_T, test_X), 1)\n",
    "# Feel free to add more tests"
   ]
  },
  {
   "cell_type": "markdown",
   "id": "d21b0b54",
   "metadata": {},
   "source": [
    "## 2. Exploring the efficiency of difference-in-means estimators"
   ]
  },
  {
   "cell_type": "markdown",
   "id": "43c3a3f1",
   "metadata": {},
   "source": [
    "### 2.1 Interactive widget [1 pt]\n",
    "\n",
    "We provide the `gen_experiment_results` function to simulate `n_experiments` random experiments and compute the difference-in-means and stratified difference-in-means estimators.\n",
    "\n",
    "```{warning} TODO\n",
    "Should we ask the students to implement this?\n",
    "```"
   ]
  },
  {
   "cell_type": "code",
   "execution_count": 5,
   "id": "92c12239",
   "metadata": {},
   "outputs": [],
   "source": [
    "def gen_experiment_results(n_experiments=10000, **kwargs):\n",
    "    \"\"\"\n",
    "    Simulates `n_experiments` random experiments and computes the difference-in-means and stratified difference-in-means estimators.\n",
    "\n",
    "    Args:\n",
    "        n_experiments (int): the number of experiments to simulate\n",
    "        **kwargs: additional keyword arguments to pass to `sim_random_exp`\n",
    "\n",
    "    Returns:\n",
    "        pd.DataFrame: a dataframe with the results of the experiments\n",
    "    \"\"\"\n",
    "    experiment_results = {\n",
    "        \"diff_in_means\": [],\n",
    "        \"diff_in_means_stratified\": []\n",
    "    }\n",
    "\n",
    "    ### BEGIN SOLUTION\n",
    "    for i in range(n_experiments):\n",
    "        Y, T, X = sim_random_exp(**kwargs)\n",
    "\n",
    "        experiment_results[\"diff_in_means\"].append(diff_in_means(Y, T))\n",
    "        experiment_results[\"diff_in_means_stratified\"].append(diff_in_means_stratified(Y, T, X))\n",
    "    ### END SOLUTION\n",
    "    \n",
    "    # Converts dictionary to dataframe with keys as column names\n",
    "    exp_df = pd.DataFrame(experiment_results)\n",
    "\n",
    "    return exp_df"
   ]
  },
  {
   "cell_type": "markdown",
   "id": "230abedd",
   "metadata": {},
   "source": [
    "Using the `gen_experiment_results` function, create a **manual** interactive widget that plots the difference-in-means for a range of covariate effects. Specifically, you should:\n",
    "\n",
    "- Add a `interact_manual` decorator to the `plot_ihdp_data` function\n",
    "- Create a slider for the covariate effect that can take values between 0 and 6\n",
    "- **Fix** the number of experiments to 10000\n",
    "- Call the `gen_experiment_results` function with the given number of experiments and covariate effect\n",
    "- Plot a histogram of the difference-in-means, unstratified and stratified for a given covariate effect: this should be a single plot with two histograms on top of each other, which can be achieved using `sns.histplot`\n",
    "- Additionally, plot the true difference in means as a vertical line on the same figure, which can be achieved using `plt.axvline`. The default treatment effect is `1.0`\n",
    "\n",
    "\n",
    "```{note}\n",
    "Remember to follow good figure design practices!\n",
    "```\n"
   ]
  },
  {
   "cell_type": "code",
   "execution_count": 6,
   "id": "a0ed5317",
   "metadata": {},
   "outputs": [
    {
     "data": {
      "application/vnd.jupyter.widget-view+json": {
       "model_id": "452b87665b744b1c948895836caa3ffd",
       "version_major": 2,
       "version_minor": 0
      },
      "text/plain": [
       "interactive(children=(FloatSlider(value=3.0, description='covariate_effect', max=6.0, step=1.0), Button(descri…"
      ]
     },
     "metadata": {},
     "output_type": "display_data"
    }
   ],
   "source": [
    "@widgets.interact_manual(num_experiments=widgets.fixed(10000), covariate_effect=widgets.FloatSlider(min=0, max=6, step=1, value=3.0))\n",
    "def plot_ihdp_data(num_experiments=10000, covariate_effect=3.0):\n",
    "    exp_df = gen_experiment_results(n_experiments=num_experiments, covariate_effect=covariate_effect)\n",
    "\n",
    "    sns.histplot(exp_df)\n",
    "\n",
    "    plt.xlabel(\"Difference in means\")\n",
    "    plt.ylabel(\"Frequency\")\n",
    "    plt.axvline(x=1, color='black', linestyle='--', label=\"True difference in means\")\n",
    "    plt.title(\"Distribution of difference-in-means\")\n",
    "    plt.show()"
   ]
  },
  {
   "cell_type": "markdown",
   "id": "4114aa34",
   "metadata": {},
   "source": [
    "### 2.2 Interpretation [1 pt]\n",
    "\n",
    "Recall our discussions of the **bias** and **variance** of treatment effect estimators:\n",
    "\n",
    "- **Bias**: how far off is the mean estimate off from the true value? We can visually inspect this by looking at where the histogram is \"centered.\"\n",
    "- **Variance**: how much do the estimates for a given experiment vary? We can visually inspect this by looking at how \"spread out\" the histogram is.\n",
    "\n",
    "Play around with the widget you created above, testing out different covariate effect values.\n",
    "\n",
    "1. What do you observe about the bias of the unstratified and stratified estimators? Is either biased?\n",
    "\n",
    "2. What do you observe about the variance of the unstratified and stratified estimators? We typically call estimators with lower variance to be **more efficient**. Is there an estimator that appears to be more efficient?\n",
    "\n",
    "\n",
    "3. What happens to the relative efficiency of the two estimators when you set the covariate effect to 0? Why do you think this occurs?\n"
   ]
  },
  {
   "cell_type": "markdown",
   "id": "73ff451a",
   "metadata": {},
   "source": [
    "**TODO** your responses here\n",
    "\n",
    "1. \n",
    "\n",
    "2. \n",
    "\n",
    "3. "
   ]
  },
  {
   "cell_type": "markdown",
   "id": "e74a54ae",
   "metadata": {},
   "source": [
    "## 3. Causal study design: IHDP\n",
    "\n",
    "Let's now dive into analyzing a real-world study: the Infant Health and Development Program (IHDP). The IHDP was a randomized experiment conducted in the 1980s to evaluate the effectiveness of an early intervention program for low-birthweight, prematurely born infants."
   ]
  },
  {
   "cell_type": "markdown",
   "id": "8a100434",
   "metadata": {},
   "source": [
    "### 3.1 Exploring the IHDP dataset [1 pt]\n",
    "\n",
    "Read the following resources on the IHDP study:\n",
    "\n",
    "- [IHDP policy memo](https://policyforchildren.org/wp-content/uploads/2013/08/IHDP-Final-5.11.10.pdf)\n",
    "- [Brooks-Gunn et al. 1991](https://www.jpeds.com/article/S0022-3476(05)80896-0/pdf)], pages 350-352\n",
    "\n",
    "\n",
    "```{tip}\n",
    "The Brooks Gunn et al. 1991 paper contains minute details about the study recruitment and data collection process. Don't worry about understanding every aspect of the study, but try to get a sense of the overall experimental design and the baseline characteristics reported in Table 1.\n",
    "```\n",
    "\n",
    "Answer the following questions:\n",
    "\n",
    "1. State what the fundamental problem of causal inference is in the context of the treatment and control groups in this study.\n",
    "\n",
    "2. The outcome of interest we will be analyzing is the **Stanford-Binet Intelligence Scale score** (IQ) at an age of 36 months (3 years), and our **causal estimand** is the **average treatment effect** on the child's IQ score. State what causal question we are trying to answer in this dataset.\n"
   ]
  },
  {
   "cell_type": "markdown",
   "id": "68a9d596",
   "metadata": {},
   "source": [
    "**TODO** your responses here:\n",
    "\n",
    "1. \n",
    "\n",
    "2. \n",
    "\n"
   ]
  },
  {
   "cell_type": "markdown",
   "id": "51e997c7",
   "metadata": {},
   "source": [
    "Next, let's load the IHDP dataset and explore the data:"
   ]
  },
  {
   "cell_type": "code",
   "execution_count": 7,
   "id": "6ef5cffb",
   "metadata": {},
   "outputs": [
    {
     "name": "stdout",
     "output_type": "stream",
     "text": [
      "<class 'pandas.core.frame.DataFrame'>\n",
      "RangeIndex: 985 entries, 0 to 984\n",
      "Data columns (total 51 columns):\n",
      " #   Column         Non-Null Count  Dtype  \n",
      "---  ------         --------------  -----  \n",
      " 0   Unnamed: 0     985 non-null    int64  \n",
      " 1   iqsb.36        908 non-null    float64\n",
      " 2   dose400        985 non-null    int64  \n",
      " 3   treat          985 non-null    int64  \n",
      " 4   bw             985 non-null    int64  \n",
      " 5   momage         985 non-null    int64  \n",
      " 6   nnhealth       985 non-null    int64  \n",
      " 7   birth.o        985 non-null    int64  \n",
      " 8   parity         985 non-null    int64  \n",
      " 9   moreprem       985 non-null    int64  \n",
      " 10  cigs           985 non-null    int64  \n",
      " 11  alcohol        985 non-null    int64  \n",
      " 12  ppvt.imp       985 non-null    float64\n",
      " 13  bwg            985 non-null    int64  \n",
      " 14  female         985 non-null    int64  \n",
      " 15  mlt.birt       985 non-null    int64  \n",
      " 16  b.marry        985 non-null    int64  \n",
      " 17  livwho         985 non-null    int64  \n",
      " 18  language       985 non-null    int64  \n",
      " 19  whenpren       985 non-null    int64  \n",
      " 20  drugs          985 non-null    int64  \n",
      " 21  othstudy       985 non-null    int64  \n",
      " 22  mom.lths       985 non-null    int64  \n",
      " 23  mom.hs         985 non-null    int64  \n",
      " 24  mom.coll       985 non-null    int64  \n",
      " 25  mom.scoll      985 non-null    int64  \n",
      " 26  site1          985 non-null    int64  \n",
      " 27  site2          985 non-null    int64  \n",
      " 28  site3          985 non-null    int64  \n",
      " 29  site4          985 non-null    int64  \n",
      " 30  site5          985 non-null    int64  \n",
      " 31  site6          985 non-null    int64  \n",
      " 32  site7          985 non-null    int64  \n",
      " 33  site8          985 non-null    int64  \n",
      " 34  momblack       985 non-null    int64  \n",
      " 35  momhisp        985 non-null    int64  \n",
      " 36  momwhite       985 non-null    int64  \n",
      " 37  workdur.imp    985 non-null    int64  \n",
      " 38  bwg.1          985 non-null    int64  \n",
      " 39  female.1       985 non-null    int64  \n",
      " 40  mlt.birtF      985 non-null    int64  \n",
      " 41  b.marryF       985 non-null    int64  \n",
      " 42  livwhoF        985 non-null    int64  \n",
      " 43  languageF      985 non-null    int64  \n",
      " 44  whenprenF      985 non-null    int64  \n",
      " 45  drugs.1        985 non-null    int64  \n",
      " 46  othstudy.1     985 non-null    int64  \n",
      " 47  momed4F        985 non-null    int64  \n",
      " 48  siteF          985 non-null    int64  \n",
      " 49  momraceF       985 non-null    object \n",
      " 50  workdur.imp.1  985 non-null    int64  \n",
      "dtypes: float64(2), int64(48), object(1)\n",
      "memory usage: 392.6+ KB\n"
     ]
    }
   ],
   "source": [
    "ihdp_raw = pd.read_csv('../data/ihdp_real.csv')\n",
    "ihdp_raw.info()"
   ]
  },
  {
   "cell_type": "markdown",
   "id": "d359d6bb",
   "metadata": {},
   "source": [
    "\n",
    "\n",
    "There are 50 total columns in the dataframe, but we will only use the following columns:\n",
    "\n",
    "- `bw`: birth weight in grams\n",
    "- `momage`: mother's age in years\n",
    "- `iqsb.36`: IQ score at 36 months\n",
    "- `treat`: binary treatment assignment"
   ]
  },
  {
   "cell_type": "markdown",
   "id": "b25635ca",
   "metadata": {},
   "source": [
    "Let's ensure that the baseline characteristics are balanced between the treatment and control groups. Complete the `baseline_stats` function below to verify that the `bw` and `momage` characteristics are balanced and roughly match the values reported in Table 1 of Brooks-Gunn et al.\n",
    "\n",
    "```{tip}\n",
    "This operation can be done in one line by using pandas `groupby()`, followed by the `agg()` operation to compute the mean and standard deviation.\n",
    "```"
   ]
  },
  {
   "cell_type": "code",
   "execution_count": 8,
   "id": "f00bddab",
   "metadata": {},
   "outputs": [
    {
     "data": {
      "text/html": [
       "<div>\n",
       "<style scoped>\n",
       "    .dataframe tbody tr th:only-of-type {\n",
       "        vertical-align: middle;\n",
       "    }\n",
       "\n",
       "    .dataframe tbody tr th {\n",
       "        vertical-align: top;\n",
       "    }\n",
       "\n",
       "    .dataframe thead tr th {\n",
       "        text-align: left;\n",
       "    }\n",
       "\n",
       "    .dataframe thead tr:last-of-type th {\n",
       "        text-align: right;\n",
       "    }\n",
       "</style>\n",
       "<table border=\"1\" class=\"dataframe\">\n",
       "  <thead>\n",
       "    <tr>\n",
       "      <th></th>\n",
       "      <th colspan=\"2\" halign=\"left\">bw</th>\n",
       "    </tr>\n",
       "    <tr>\n",
       "      <th></th>\n",
       "      <th>mean</th>\n",
       "      <th>std</th>\n",
       "    </tr>\n",
       "    <tr>\n",
       "      <th>treat</th>\n",
       "      <th></th>\n",
       "      <th></th>\n",
       "    </tr>\n",
       "  </thead>\n",
       "  <tbody>\n",
       "    <tr>\n",
       "      <th>0</th>\n",
       "      <td>1781.322368</td>\n",
       "      <td>468.036980</td>\n",
       "    </tr>\n",
       "    <tr>\n",
       "      <th>1</th>\n",
       "      <td>1819.323607</td>\n",
       "      <td>438.809313</td>\n",
       "    </tr>\n",
       "  </tbody>\n",
       "</table>\n",
       "</div>"
      ],
      "text/plain": [
       "                bw            \n",
       "              mean         std\n",
       "treat                         \n",
       "0      1781.322368  468.036980\n",
       "1      1819.323607  438.809313"
      ]
     },
     "metadata": {},
     "output_type": "display_data"
    },
    {
     "data": {
      "text/html": [
       "<div>\n",
       "<style scoped>\n",
       "    .dataframe tbody tr th:only-of-type {\n",
       "        vertical-align: middle;\n",
       "    }\n",
       "\n",
       "    .dataframe tbody tr th {\n",
       "        vertical-align: top;\n",
       "    }\n",
       "\n",
       "    .dataframe thead tr th {\n",
       "        text-align: left;\n",
       "    }\n",
       "\n",
       "    .dataframe thead tr:last-of-type th {\n",
       "        text-align: right;\n",
       "    }\n",
       "</style>\n",
       "<table border=\"1\" class=\"dataframe\">\n",
       "  <thead>\n",
       "    <tr>\n",
       "      <th></th>\n",
       "      <th colspan=\"2\" halign=\"left\">momage</th>\n",
       "    </tr>\n",
       "    <tr>\n",
       "      <th></th>\n",
       "      <th>mean</th>\n",
       "      <th>std</th>\n",
       "    </tr>\n",
       "    <tr>\n",
       "      <th>treat</th>\n",
       "      <th></th>\n",
       "      <th></th>\n",
       "    </tr>\n",
       "  </thead>\n",
       "  <tbody>\n",
       "    <tr>\n",
       "      <th>0</th>\n",
       "      <td>24.886513</td>\n",
       "      <td>6.097663</td>\n",
       "    </tr>\n",
       "    <tr>\n",
       "      <th>1</th>\n",
       "      <td>24.586207</td>\n",
       "      <td>5.932118</td>\n",
       "    </tr>\n",
       "  </tbody>\n",
       "</table>\n",
       "</div>"
      ],
      "text/plain": [
       "          momage          \n",
       "            mean       std\n",
       "treat                     \n",
       "0      24.886513  6.097663\n",
       "1      24.586207  5.932118"
      ]
     },
     "metadata": {},
     "output_type": "display_data"
    }
   ],
   "source": [
    "def baseline_stats(df, covariate):\n",
    "    \"\"\"\n",
    "    Computes the mean and standard deviation of a covariate \n",
    "    for the treatment and control groups.\n",
    "    Assumes that the treatment indicator column is named `treat`.\n",
    "\n",
    "    Args:\n",
    "        df (pd.DataFrame): the dataframe to compute the baseline stats\n",
    "        covariate (str): the name of the covariate to compute the baseline stats\n",
    "\n",
    "    Returns:\n",
    "        pd.DataFrame: a grouped dataframe with the mean and standard deviation \n",
    "            of the covariate for the treatment and control groups\n",
    "    \"\"\"\n",
    "    ### BEGIN SOLUTION    \n",
    "    grouped = df.groupby('treat').agg({covariate: ['mean', 'std']})\n",
    "    return grouped\n",
    "    ### END SOLUTION\n",
    "\n",
    "display(baseline_stats(ihdp_raw, 'bw'))\n",
    "display(baseline_stats(ihdp_raw, 'momage'))\n"
   ]
  },
  {
   "cell_type": "markdown",
   "id": "cfb57cbf",
   "metadata": {},
   "source": [
    "### 3.2 Visualizing and cleaning the data [1 pt]"
   ]
  },
  {
   "cell_type": "markdown",
   "id": "f1b3f687",
   "metadata": {},
   "source": [
    "Beyond having similar mean and standard deviation, an implication of exchangeability is that the treatment and control groups should have a similar *distribution* of covariates. We can inspect this by plotting the (cumulative) distribution of the covariates for the treatment and control groups and visually inspecting whether the two distributions are similar.\n",
    "\n",
    "Let's verify this is the case for both `bw` and `momage`, using a distribution plot via `sns.kdeplot`. Specfically, complete the `plot_covariate_distribution` function below by generating a kde plot with:\n",
    "\n",
    "- the covariate on the x-axis\n",
    "- `treat` as the hue\n",
    "- `ihdp_df` as the data\n",
    "- `common_norm=False` to ensure that the y-axis is on the same scale for both the treatment and control groups\n",
    "- `cumulative=True` to plot the cumulative distribution\n",
    "\n",
    "```{note}\n",
    "For the statistically curious: a natural hypothesis to test here is whether the two distributions are statistically different, which can be done using a two-sample Kolmogorov-Smirnov test.\n",
    "```"
   ]
  },
  {
   "cell_type": "code",
   "execution_count": 9,
   "id": "c5882264",
   "metadata": {},
   "outputs": [
    {
     "data": {
      "image/png": "[encoded data removed]",
      "text/plain": [
       "<Figure size 640x480 with 1 Axes>"
      ]
     },
     "metadata": {},
     "output_type": "display_data"
    },
    {
     "data": {
      "image/png": "[encoded data removed]",
      "text/plain": [
       "<Figure size 640x480 with 1 Axes>"
      ]
     },
     "metadata": {},
     "output_type": "display_data"
    }
   ],
   "source": [
    "def plot_covariate_distribution(df, covariate, title):\n",
    "    \"\"\"\n",
    "    Plots the distribution of a covariate for the treatment and control groups.\n",
    "\n",
    "    Args:\n",
    "        df (pd.DataFrame): the dataframe to plot the covariate distribution\n",
    "        covariate (str): the name of the covariate to plot\n",
    "        title (str): the title of the plot\n",
    "    \n",
    "    Returns:\n",
    "        None, but shows the covariate distribution plot\n",
    "    \"\"\"\n",
    "    ### BEGIN SOLUTION\n",
    "    sns.kdeplot(x=covariate, hue='treat', cumulative=True, common_norm=False, data=df)\n",
    "    plt.title(title)\n",
    "    ### END SOLUTION\n",
    "    plt.show()\n",
    "\n",
    "plot_covariate_distribution(ihdp_raw, 'bw', 'Birth weight cumulative distribution')\n",
    "plot_covariate_distribution(ihdp_raw, 'momage', 'Mother age cumulative distribution')"
   ]
  },
  {
   "cell_type": "markdown",
   "id": "9ae9f06c",
   "metadata": {},
   "source": [
    "Our outcome is `iqsb.36`, which are the infant's IQ score at 36 months. However, there are some missing values in the `iqsb.36` column, so we need to drop the rows that do not have the outcome.\n",
    "\n",
    "Complete the `load_and_clean_ihdp_data` function below, and then run the cell to load the cleaned dataset."
   ]
  },
  {
   "cell_type": "code",
   "execution_count": 10,
   "id": "14488579",
   "metadata": {},
   "outputs": [],
   "source": [
    "def load_and_clean_ihdp_data():\n",
    "    \"\"\"\n",
    "    Loads the IHDP dataset and drops the rows that do not have the outcome.\n",
    "\n",
    "    Returns:\n",
    "        pd.DataFrame: the cleaned IHDP dataset\n",
    "    \"\"\"\n",
    "\n",
    "    ihdp_df = pd.read_csv('../data/ihdp_real.csv')\n",
    "\n",
    "    ### BEGIN SOLUTION\n",
    "\n",
    "    # TODO Drop rows that do not have the outcome\n",
    "    ihdp_df = ihdp_df[ihdp_df['iqsb.36'].notna()]\n",
    "    ### END SOLUTION\n",
    "\n",
    "    assert ihdp_df.shape[0] == ihdp_df['iqsb.36'].notna().sum()\n",
    "    return ihdp_df\n",
    "\n",
    "ihdp_clean = load_and_clean_ihdp_data()"
   ]
  },
  {
   "cell_type": "markdown",
   "id": "12e6962c",
   "metadata": {},
   "source": [
    "## 4. Bootstrapped confidence intervals\n",
    "\n",
    "### 4.1 Bootstrap utility functions [1 pt]"
   ]
  },
  {
   "cell_type": "markdown",
   "id": "b3b6c24b",
   "metadata": {},
   "source": [
    "Since we only have one real dataset, we cannot generate a distribution of the difference-in-means estimator over multiple experiments. However, we can use bootstrapping to generate a distribution of the difference-in-means estimator. \n",
    "\n",
    "As we saw in worksheet **TODO**, bootstrapping is a powerful technique that allows us to generate a distribution over *any* estimator by resampling the data with replacement. Complete the `bootstrap_dfs` function below, which takes in a dataframe and returns a list of bootstrapped dataframes.\n",
    "\n",
    "\n",
    "```{warning} TODO\n",
    "This moves fast through bootstrapping, will need worksheet 3 to go through it in more detail\n",
    "```\n",
    "\n",
    "```{tip} Hint\n",
    "\n",
    "You can use the `pd.DataFrame.sample` method to sample rows with replacement. Check out the [documentation](https://pandas.pydata.org/docs/reference/api/pandas.DataFrame.sample.html) for more details.\n",
    "```"
   ]
  },
  {
   "cell_type": "code",
   "execution_count": 11,
   "id": "43e12be3",
   "metadata": {},
   "outputs": [],
   "source": [
    "def bootstrap_dfs(df, n_bootstraps=10000):\n",
    "    \"\"\"\n",
    "    Bootstraps the dataframe `n_bootstraps` times.\n",
    "\n",
    "    Args:\n",
    "        df (pd.DataFrame): the dataframe to bootstrap\n",
    "        n_bootstraps (int): the number of bootstraps to generate\n",
    "\n",
    "    Returns:\n",
    "        list[pd.DataFrame]: a list of bootstrapped dataframes\n",
    "    \"\"\"\n",
    "    bootstrap_dfs = []\n",
    "\n",
    "    ### BEGIN SOLUTION\n",
    "    for i in range(n_bootstraps):\n",
    "        bootstrap_dfs.append(df.sample(frac=1, replace=True))\n",
    "    ### END SOLUTION\n",
    "\n",
    "    return bootstrap_dfs\n",
    "\n",
    "assert len(bootstrap_dfs(ihdp_clean)) == 10000"
   ]
  },
  {
   "cell_type": "markdown",
   "id": "1d244ddc",
   "metadata": {},
   "source": [
    "Once we have our bootstrapped dataframes, we can apply an estimator to each bootstrap, which will give us a distribution of the estimator. We can then use this distribution to compute a variance and confidence interval for the estimator. \n",
    "\n",
    "Given our difference-in-means estimator $\\hat{\\tau}$, we can compute the variance of the estimator as the sample variance of the bootstrapped estimates.\n",
    "\n",
    "$$\n",
    "\\hat{V}[\\hat{\\tau}] = \\frac{1}{B-1} \\sum_{i=1}^{B} (\\hat{\\tau}_i - \\bar{\\tau})^2\n",
    "$$\n",
    "\n",
    "Where $B$ is the number of bootstraps, $\\hat{\\tau}_i$ is the estimate for the $i$-th bootstrap, and $\\bar{\\tau}$ is the mean of the bootstrapped estimates:\n",
    "\n",
    "$$\n",
    "\\bar{\\tau} = \\frac{1}{B} \\sum_{i=1}^{B} \\hat{\\tau}_i\n",
    "$$\n",
    "\n",
    "Conveniently, numpy has a built-in function to compute the standard deviation (the square root of the variance), which we can use here: `np.std`.\n",
    "\n",
    "This then allows us to compute a confidence interval for the difference-in-means estimator.\n",
    "\n",
    "$$\n",
    "\\text{CI}_{\\text{lower}}(\\hat{\\tau}) = \\hat{\\tau} - z_{\\alpha/2} \\cdot \\sqrt{\\hat{V}(\\hat{\\tau})}\n",
    "$$\n",
    "\n",
    "$$\n",
    "\\text{CI}_{\\text{upper}}(\\hat{\\tau}) = \\hat{\\tau} + z_{\\alpha/2} \\cdot \\sqrt{\\hat{V}(\\hat{\\tau})}\n",
    "$$\n",
    "\n",
    "$$\n",
    "\\text{CI}(\\hat{\\tau}) = [\\text{CI}_{\\text{lower}}(\\hat{\\tau}), \\; \\text{CI}_{\\text{upper}}(\\hat{\\tau})]\n",
    "$$\n",
    "\n",
    "where $z_{\\alpha/2}$ is the $1-\\alpha/2$ quantile of the standard normal distribution. This can be computed using `norm.ppf` from the `scipy.stats` library:\n",
    "\n",
    "```python\n",
    "from scipy.stats import norm\n",
    "\n",
    "z_alpha_2 = norm.ppf(1 - alpha / 2)\n",
    "```\n",
    "\n",
    "Complete the `bootstrap_ci` function below, which takes in a list of bootstrap values and returns a confidence interval for the estimator."
   ]
  },
  {
   "cell_type": "code",
   "execution_count": 12,
   "id": "31c1d600",
   "metadata": {},
   "outputs": [],
   "source": [
    "from scipy.stats import norm\n",
    "\n",
    "def bootstrap_ci(bootstrap_values, alpha=0.05):\n",
    "    \"\"\"\n",
    "    Computes the confidence interval for the estimator using bootstrapping.\n",
    "\n",
    "    Args:\n",
    "        bootstrap_values (list[float]): the bootstrapped values\n",
    "        alpha (float): the significance level\n",
    "\n",
    "    Returns:\n",
    "        list[float]: the confidence interval [lower, upper]\n",
    "    \"\"\"\n",
    "    ### BEGIN SOLUTION\n",
    "    std = np.std(bootstrap_values)\n",
    "    mean = np.mean(bootstrap_values)\n",
    "\n",
    "    z_alpha_2 = norm.ppf(1 - alpha / 2)\n",
    "\n",
    "    return [mean - z_alpha_2 * std, mean + z_alpha_2 * std]\n",
    "    ### END SOLUTION"
   ]
  },
  {
   "cell_type": "markdown",
   "id": "8831dfbd",
   "metadata": {},
   "source": [
    "## 5. Causal estimation and interpretation: IHDP analysis"
   ]
  },
  {
   "cell_type": "markdown",
   "id": "f6a8b6cc",
   "metadata": {},
   "source": [
    "### 5.1 Difference-in-means results [1 pt]\n",
    "\n",
    "We'll now want to apply our difference-in-means estimators to the IHDP dataset. In order to use our stratified difference-in-means estimator, we need to binarize the `bw` and `momage` covariates. Complete the following `binarize_covariate` function, which creates a new binary covariate that is 1 if the covariate is greater than the cutpoint, and 0 otherwise.\n",
    "\n",
    "Then, apply the `binarize_covariate` function to the `momage` and `bw` covariates:\n",
    "- using a cutpoint of 22 years for `momage`\n",
    "- using a cutpoint of 2000 grams for `bw`"
   ]
  },
  {
   "cell_type": "code",
   "execution_count": 13,
   "id": "656d8497",
   "metadata": {},
   "outputs": [],
   "source": [
    "def binarize_covariate(df, covariate, cutpoint):\n",
    "    \"\"\"\n",
    "    Creates a new binary covariate that is 1 if the covariate is greater than the cutpoint, and 0 otherwise.\n",
    "    Updates the dataframe in place with a new column named `{covariate}_bin`\n",
    "\n",
    "    Args:\n",
    "        df (pd.DataFrame): the dataframe to update\n",
    "        covariate (str): the name of the covariate to binarize\n",
    "        cutpoint (float): the cutpoint to use for binarization\n",
    "\n",
    "    Returns:\n",
    "        pd.DataFrame: the updated dataframe with the new binary covariate\n",
    "    \"\"\"\n",
    "    ### BEGIN SOLUTION\n",
    "    df[f\"{covariate}_bin\"] = (df[covariate] > cutpoint).astype(int)\n",
    "    ### END SOLUTION\n",
    "    \n",
    "    return df\n",
    "\n",
    "df = pd.DataFrame({'A': [1, 2, 3, 4, 5]})\n",
    "assert binarize_covariate(df, 'A', 2.5).equals(pd.DataFrame({'A': [1, 2, 3, 4, 5], 'A_bin': [0, 0, 1, 1, 1]}))\n",
    "\n",
    "# TODO call binarize_covariate on the `momage` and `bw` covariates\n",
    "ihdp_clean = binarize_covariate(ihdp_clean, 'momage', 22)\n",
    "ihdp_clean = binarize_covariate(ihdp_clean, 'bw', 2000)"
   ]
  },
  {
   "cell_type": "markdown",
   "id": "4b1a94e1",
   "metadata": {},
   "source": [
    "Finally, let's compute our results. For the following difference-in-means estimators:\n",
    " - unstratified difference-in-means estimator for the `iqsb.36` outcome\n",
    " - stratified difference-in-means estimator for the `iqsb.36` outcome, binarized by `momage`\n",
    " - stratified difference-in-means estimator for the `iqsb.36` outcome, binarized by `bw`\n",
    "\n",
    "Compute and report the following in the markdown table below (up to two decimal places):\n",
    "- the estimate for the difference-in-means estimator, **using the original dataset**.\n",
    "- the bootstrapped 95% confidence interval for the difference-in-means estimator\n",
    "- the length of the confidence interval, which is the difference between the upper and lower bounds of the confidence interval\n",
    "\n",
    "```{tip}\n",
    "See the comments in the code cell below for guidance on how to organize your analysis.\n",
    "```"
   ]
  },
  {
   "cell_type": "code",
   "execution_count": 14,
   "id": "fae892cc",
   "metadata": {},
   "outputs": [
    {
     "name": "stdout",
     "output_type": "stream",
     "text": [
      "unstratified:\n",
      "  Point estimate: 8.977258600584591\n",
      "  Confidence interval: [np.float64(6.34886030577672), np.float64(11.59812864648534)]\n",
      "  Confidence interval length: 5.249268340708621\n",
      "stratified_momage:\n",
      "  Point estimate: 9.214304026296691\n",
      "  Confidence interval: [np.float64(6.665450491414793), np.float64(11.754512350387115)]\n",
      "  Confidence interval length: 5.089061858972322\n",
      "stratified_bw:\n",
      "  Point estimate: 8.984536879224663\n",
      "  Confidence interval: [np.float64(6.377465161309322), np.float64(11.588504548601987)]\n",
      "  Confidence interval length: 5.211039387292665\n"
     ]
    }
   ],
   "source": [
    "\n",
    "### BEGIN SOLUTION\n",
    "\n",
    "# TODO get point estimates\n",
    "point_estimates = {\n",
    "    \"unstratified\": diff_in_means(ihdp_clean['iqsb.36'], ihdp_clean['treat']),\n",
    "    \"stratified_momage\": diff_in_means_stratified(ihdp_clean['iqsb.36'], ihdp_clean['treat'], ihdp_clean['momage_bin']),\n",
    "    \"stratified_bw\": diff_in_means_stratified(ihdp_clean['iqsb.36'], ihdp_clean['treat'], ihdp_clean['bw_bin'])\n",
    "}\n",
    "\n",
    "# TODO generate bootstraps\n",
    "bs_dfs = bootstrap_dfs(ihdp_clean)\n",
    "\n",
    "# TODO store difference-in-means results in a dict\n",
    "bootstrap_results = {\n",
    "    \"unstratified\": [],\n",
    "    \"stratified_momage\": [],\n",
    "    \"stratified_bw\": []\n",
    "}\n",
    "\n",
    "# TODO compute difference-in-means for each bootstrapped dataframe\n",
    "for df in bs_dfs:\n",
    "    bootstrap_results[\"unstratified\"].append(diff_in_means(df['iqsb.36'], df['treat']))\n",
    "    bootstrap_results[\"stratified_momage\"].append(diff_in_means_stratified(df['iqsb.36'], df['treat'], df['momage_bin']))\n",
    "    bootstrap_results[\"stratified_bw\"].append(diff_in_means_stratified(df['iqsb.36'], df['treat'], df['bw_bin']))\n",
    "\n",
    "# TODO report the results for each estimator\n",
    "for estimator, results in bootstrap_results.items():\n",
    "    print(f\"{estimator}:\")\n",
    "    # TODO more print statements\n",
    "    print(f\"  Point estimate: {point_estimates[estimator]}\")\n",
    "    print(f\"  Confidence interval: {bootstrap_ci(results)}\")\n",
    "    print(f\"  Confidence interval length: {bootstrap_ci(results)[1] - bootstrap_ci(results)[0]}\")\n",
    "\n",
    "### END SOLUTION"
   ]
  },
  {
   "cell_type": "markdown",
   "id": "deedd693",
   "metadata": {},
   "source": [
    "| Estimator | Effect | 95% CI | Length of CI |\n",
    "| --- | --- | --- | --- |\n",
    "| Difference-in-means | TODO | TODO | TODO |\n",
    "| Difference-in-means stratified by `bw_bin` | TODO | TODO | TODO |\n",
    "| Difference-in-means stratified by `momage_bin` | TODO | TODO | TODO |\n",
    "\n",
    "<!--BEGIN SOLUTION-->\n",
    "| Estimator | Effect | 95% CI | Length of CI |\n",
    "| --- | --- | --- | --- |\n",
    "| Difference-in-means | TODO | TODO | TODO |\n",
    "| Difference-in-means stratified by `bw_bin` | TODO | TODO | TODO |\n",
    "| Difference-in-means stratified by `momage_bin` | TODO | TODO | TODO |\n",
    "<!--END SOLUTION-->"
   ]
  },
  {
   "cell_type": "markdown",
   "id": "006021d3",
   "metadata": {},
   "source": [
    "### 5.2 Interpretation [1 pt]\n",
    "\n",
    "Finally, let's interpret the results.\n",
    "\n",
    "1. Do any of the estimators disagree with each other? If so, explain why. Which estimator produces the shortest confidence interval?\n",
    "\n",
    "2. Based on your analysis, what conclusions can you draw about the causal effect of the intervention? Does it improve or worsen the outcome? \n",
    "\n",
    "3. Briefly discuss any ethical considerations of the experimental setup you noticed. Some questions to consider:\n",
    "\n",
    "- Do you think that this intervention satisfies equipoise? \n",
    "- What about how infants were recruited into the study? Are they representative of the overall U.S. population of underweight newborns?\n",
    "- Is the selected outcome appropriate for evaluating the intervention's impact? What are some other outcomes that could be used to evaluate the intervention?\n"
   ]
  },
  {
   "cell_type": "markdown",
   "id": "67596ede",
   "metadata": {},
   "source": [
    "\n",
    "## 6. Reflection\n",
    "\n",
    "1. How much time did you spend on this assignment?\n",
    "\n",
    "2. What parts of the assignment did you find most challenging?\n",
    "\n",
    "3. What parts of the assignment did you find most interesting?\n",
    "\n",
    "4. Do you have any follow-up questions about concepts from this assignment that you'd like to explore further?"
   ]
  }
 ],
 "metadata": {
  "kernelspec": {
   "display_name": "Python 3 (ipykernel)",
   "language": "python",
   "name": "python3"
  },
  "language_info": {
   "codemirror_mode": {
    "name": "ipython",
    "version": 3
   },
   "file_extension": ".py",
   "mimetype": "text/x-python",
   "name": "python",
   "nbconvert_exporter": "python",
   "pygments_lexer": "ipython3",
   "version": "3.11.10"
  }
 },
 "nbformat": 4,
 "nbformat_minor": 5
}
