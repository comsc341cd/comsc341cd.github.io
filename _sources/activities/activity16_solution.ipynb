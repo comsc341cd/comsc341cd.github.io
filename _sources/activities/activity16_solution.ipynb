{
 "cells": [
  {
   "cell_type": "markdown",
   "metadata": {},
   "source": [
    "(activity16_solution)=\n",
    "\n",
    "# Activity 16 Solution: Causal Trees\n",
    "\n",
    "**2025-04-24**\n",
    "\n",
    "---"
   ]
  }
 ],
 "metadata": {
  "language_info": {
   "name": "python"
  }
 },
 "nbformat": 4,
 "nbformat_minor": 2
}
