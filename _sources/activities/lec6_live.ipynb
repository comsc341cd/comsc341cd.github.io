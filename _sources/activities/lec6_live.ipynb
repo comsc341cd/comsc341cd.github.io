{
 "cells": [
  {
   "cell_type": "markdown",
   "metadata": {},
   "source": [
    "(lec6_live)=\n",
    "# Lecture 6 live coding\n",
    "\n",
    "**2025-02-20**\n",
    "\n",
    "---"
   ]
  },
  {
   "cell_type": "code",
   "execution_count": 1,
   "metadata": {},
   "outputs": [],
   "source": [
    "import pandas as pd\n",
    "import numpy as np\n",
    "\n",
    "import matplotlib.pyplot as plt\n",
    "import seaborn as sns\n",
    "import ipywidgets as widgets"
   ]
  },
  {
   "cell_type": "code",
   "execution_count": 2,
   "metadata": {},
   "outputs": [],
   "source": [
    "rng = np.random.RandomState(42)\n",
    "# high number of samples to reduce sampling noise\n",
    "n_samples = 30000\n"
   ]
  },
  {
   "cell_type": "markdown",
   "metadata": {},
   "source": [
    "## Chain simulation"
   ]
  },
  {
   "cell_type": "code",
   "execution_count": 3,
   "metadata": {},
   "outputs": [],
   "source": [
    "# generate a binary T\n",
    "\n",
    "# generate a binary M that is caused by T\n",
    "\n",
    "# generate a continuous Y that is caused by M\n",
    "\n",
    "# add columns to chain_df"
   ]
  },
  {
   "cell_type": "code",
   "execution_count": 4,
   "metadata": {},
   "outputs": [],
   "source": [
    "# COMPLETED CELL\n",
    "# generate a binary T\n",
    "# T = rng.choice([0, 1], size=n_samples)\n",
    "\n",
    "# # generate a binary M that is caused by T\n",
    "# M = rng.normal(loc=T, scale=0.3)\n",
    "# M = (M > 0.5).astype(int)\n",
    "\n",
    "# # generate a continuous Y that is caused by M\n",
    "# Y = rng.normal(loc=M, scale=0.3)\n",
    "\n",
    "# chain_df = pd.DataFrame({'T': T, 'M': M, 'Y': Y})"
   ]
  },
  {
   "cell_type": "markdown",
   "metadata": {},
   "source": [
    ":::{note}\n",
    "\n",
    "Correlation is a measure of linear association that has a range of $[-1, 1]$. A correlation near 0 means no linear association.\n",
    "\n",
    ":::"
   ]
  },
  {
   "cell_type": "code",
   "execution_count": 5,
   "metadata": {},
   "outputs": [],
   "source": [
    "# compute the correlation between every pair of columns"
   ]
  },
  {
   "cell_type": "code",
   "execution_count": 6,
   "metadata": {},
   "outputs": [],
   "source": [
    "# COMPLETED CELL\n",
    "# compute the correlation between every pair of columns\n",
    "# chain_df.corr()"
   ]
  },
  {
   "cell_type": "markdown",
   "metadata": {},
   "source": [
    ":::{note}\n",
    "\n",
    "\"Controlling for\" a variable means that we're conditioning on the variable -- we're holding the variable constant.\n",
    "\n",
    ":::"
   ]
  },
  {
   "cell_type": "code",
   "execution_count": 7,
   "metadata": {},
   "outputs": [],
   "source": [
    "# Examine the correlation between Y and T within each level of M\n"
   ]
  },
  {
   "cell_type": "code",
   "execution_count": 8,
   "metadata": {},
   "outputs": [],
   "source": [
    "# COMPLETED CELL\n",
    "# sel_df = chain_df[M==0].corr()\n",
    "# print(sel_df.loc['Y', 'T'])\n",
    "# sel_df = chain_df[M==1].corr()\n",
    "# print(sel_df.loc['Y', 'T'])"
   ]
  },
  {
   "cell_type": "markdown",
   "metadata": {},
   "source": [
    "## Fork simulation"
   ]
  },
  {
   "cell_type": "code",
   "execution_count": 9,
   "metadata": {},
   "outputs": [],
   "source": [
    "# generate a binary X\n",
    "\n",
    "# generate a binary T that is caused by X\n",
    "\n",
    "# generate a continuous Y that is caused by X\n",
    "\n",
    "# add columns to fork_df"
   ]
  },
  {
   "cell_type": "code",
   "execution_count": 10,
   "metadata": {},
   "outputs": [],
   "source": [
    "# COMPLETED CELL\n",
    "# # generate a binary X\n",
    "# X = rng.choice([0, 1], size=n_samples)\n",
    "\n",
    "# # generate a binary T that is caused by X\n",
    "# T = rng.normal(loc=X, scale=0.3)\n",
    "# T = (T > T.mean()).astype(int)\n",
    "\n",
    "# # generate a continuous Y that is caused by X\n",
    "# Y = rng.normal(loc=X, scale=0.3)\n",
    "\n",
    "# fork_df = pd.DataFrame({'X': X, 'T': T, 'Y': Y})"
   ]
  },
  {
   "cell_type": "code",
   "execution_count": 11,
   "metadata": {},
   "outputs": [],
   "source": [
    "# compute the correlation between every pair of columns"
   ]
  },
  {
   "cell_type": "code",
   "execution_count": 12,
   "metadata": {},
   "outputs": [],
   "source": [
    "# COMPLETED CELL\n",
    "# compute the correlation between every pair of columns\n",
    "# corr_df = fork_df.corr()\n",
    "# corr_df.loc['Y', 'T']"
   ]
  },
  {
   "cell_type": "code",
   "execution_count": 13,
   "metadata": {},
   "outputs": [],
   "source": [
    "# COMPLETED CELL\n",
    "# Examine the correlation between Y and T within each level of X\n",
    "# sel_df = fork_df[X==0].corr()\n",
    "# print(sel_df.loc['Y', 'T'])\n",
    "# sel_df = fork_df[X==1].corr()\n",
    "# print(sel_df.loc['Y', 'T'])\n"
   ]
  },
  {
   "cell_type": "markdown",
   "metadata": {},
   "source": [
    "## Collider simulation\n",
    "\n",
    "\n"
   ]
  },
  {
   "cell_type": "code",
   "execution_count": 14,
   "metadata": {},
   "outputs": [],
   "source": [
    "# Generate a binary T\n",
    "\n",
    "# Generate a continuous Y\n",
    "\n",
    "# Generate a binary C that is caused by T and Y\n",
    "\n",
    "# add columns to collider_df\n"
   ]
  },
  {
   "cell_type": "code",
   "execution_count": 15,
   "metadata": {},
   "outputs": [],
   "source": [
    "# COMPLETED CELL\n",
    "# # Generate a binary T\n",
    "# T = rng.choice([0, 1], size=n_samples)\n",
    "\n",
    "# # Generate a continuous Y\n",
    "# Y = rng.normal(loc=np.zeros(n_samples), scale=0.3)\n",
    "\n",
    "# # Generate a binary C that is caused by T and Y\n",
    "# C = rng.normal(loc=T + Y, scale=0.3)\n",
    "# C = (C > C.mean()).astype(int)\n",
    "# # add columns to collider_df\n",
    "# collider_df = pd.DataFrame({'T': T, 'Y': Y, 'C': C})"
   ]
  },
  {
   "cell_type": "code",
   "execution_count": 16,
   "metadata": {},
   "outputs": [],
   "source": [
    "# Check the overall correlation\n",
    "# collider_df.corr().loc['Y', 'T']\n"
   ]
  },
  {
   "cell_type": "code",
   "execution_count": 17,
   "metadata": {},
   "outputs": [],
   "source": [
    "# Check the correlation between Y and T within each level of C"
   ]
  },
  {
   "cell_type": "code",
   "execution_count": 18,
   "metadata": {},
   "outputs": [],
   "source": [
    "# COMPLETED CELL\n",
    "# Check the correlation between Y and T within each level of C\n",
    "# sel_df = collider_df[C==0].corr()\n",
    "# print(sel_df.loc['Y', 'T'])\n",
    "# sel_df = collider_df[C==1].corr()\n",
    "# print(sel_df.loc['Y', 'T'])"
   ]
  }
 ],
 "metadata": {
  "kernelspec": {
   "display_name": "venv",
   "language": "python",
   "name": "python3"
  },
  "language_info": {
   "codemirror_mode": {
    "name": "ipython",
    "version": 3
   },
   "file_extension": ".py",
   "mimetype": "text/x-python",
   "name": "python",
   "nbconvert_exporter": "python",
   "pygments_lexer": "ipython3",
   "version": "3.11.10"
  }
 },
 "nbformat": 4,
 "nbformat_minor": 2
}
