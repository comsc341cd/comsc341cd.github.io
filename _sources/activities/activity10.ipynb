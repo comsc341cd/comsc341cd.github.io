{
 "cells": [
  {
   "cell_type": "markdown",
   "metadata": {},
   "source": [
    "(activity10)=\n",
    "# Activity 10: Vectorization\n",
    "\n",
    "**2025-03-25**\n",
    "\n",
    "---"
   ]
  },
  {
   "cell_type": "code",
   "execution_count": 1,
   "metadata": {},
   "outputs": [],
   "source": [
    "import numpy as np\n",
    "import pandas as pd\n",
    "\n",
    "rng = np.random.default_rng(42)"
   ]
  },
  {
   "cell_type": "markdown",
   "metadata": {},
   "source": [
    "# Logical indexing and vectorization\n",
    "\n",
    "Let's briefly explore the benefits of \"vectorization\" in NumPy and Pandas, which is the practice of performing operations on entire arrays at once, rather than element-by-element via a loop.\n",
    "\n",
    "We'll compute the **numerator** of the [standardized difference calculation](https://comsc341cd.github.io/projects/proj2_functions.html#love-plots-for-visualizing-covariate-balance) $d_X$ for Project 2, which is essentially the difference-in-means estimator for covariate $X$:\n",
    "\n",
    "$$\n",
    "d_X = \\frac{\\hat{E}[X \\mid T=1] - \\hat{E}[X \\mid T=0]} { \\large \\sqrt{\\frac{\\hat{V}[X \\mid T=1] + \\hat{V}[X \\mid T=0]} {2}}}\n",
    "$$\n",
    "\n",
    "Recall that $\\hat{E}[X \\mid T=t]$ is the estimated mean of $X$ given that $T=t$."
   ]
  },
  {
   "cell_type": "markdown",
   "metadata": {},
   "source": [
    "Each code cell below has a `%%time` [magic command](https://ipython.readthedocs.io/en/stable/interactive/magics.html) that times the execution of the cell. You can use this to compare the performance of vectorized and looped code."
   ]
  },
  {
   "cell_type": "code",
   "execution_count": 62,
   "metadata": {},
   "outputs": [
    {
     "name": "stdout",
     "output_type": "stream",
     "text": [
      "CPU times: user 25 μs, sys: 0 ns, total: 25 μs\n",
      "Wall time: 27.2 μs\n"
     ]
    }
   ],
   "source": [
    "%%time\n",
    "# short demo of the time magic command\n",
    "\n",
    "for i in range(1000):\n",
    "    pass"
   ]
  },
  {
   "cell_type": "code",
   "execution_count": null,
   "metadata": {},
   "outputs": [
    {
     "data": {
      "text/html": [
       "<div>\n",
       "<style scoped>\n",
       "    .dataframe tbody tr th:only-of-type {\n",
       "        vertical-align: middle;\n",
       "    }\n",
       "\n",
       "    .dataframe tbody tr th {\n",
       "        vertical-align: top;\n",
       "    }\n",
       "\n",
       "    .dataframe thead th {\n",
       "        text-align: right;\n",
       "    }\n",
       "</style>\n",
       "<table border=\"1\" class=\"dataframe\">\n",
       "  <thead>\n",
       "    <tr style=\"text-align: right;\">\n",
       "      <th></th>\n",
       "      <th>T</th>\n",
       "      <th>X</th>\n",
       "    </tr>\n",
       "  </thead>\n",
       "  <tbody>\n",
       "    <tr>\n",
       "      <th>0</th>\n",
       "      <td>1</td>\n",
       "      <td>10.468910</td>\n",
       "    </tr>\n",
       "    <tr>\n",
       "      <th>1</th>\n",
       "      <td>0</td>\n",
       "      <td>0.250017</td>\n",
       "    </tr>\n",
       "    <tr>\n",
       "      <th>2</th>\n",
       "      <td>1</td>\n",
       "      <td>10.110894</td>\n",
       "    </tr>\n",
       "    <tr>\n",
       "      <th>3</th>\n",
       "      <td>1</td>\n",
       "      <td>9.958819</td>\n",
       "    </tr>\n",
       "    <tr>\n",
       "      <th>4</th>\n",
       "      <td>1</td>\n",
       "      <td>10.287618</td>\n",
       "    </tr>\n",
       "  </tbody>\n",
       "</table>\n",
       "</div>"
      ],
      "text/plain": [
       "   T          X\n",
       "0  1  10.468910\n",
       "1  0   0.250017\n",
       "2  1  10.110894\n",
       "3  1   9.958819\n",
       "4  1  10.287618"
      ]
     },
     "execution_count": 28,
     "metadata": {},
     "output_type": "execute_result"
    }
   ],
   "source": [
    "# load in a simulated dataset with 50000 rows and T, X columns\n",
    "df = pd.read_csv(\"~/COMSC-341CD/data/activity10_sim_data.csv\")\n",
    "\n",
    "df.head()"
   ]
  },
  {
   "cell_type": "markdown",
   "metadata": {},
   "source": [
    "## 1.1: code with loop"
   ]
  },
  {
   "cell_type": "code",
   "execution_count": 64,
   "metadata": {},
   "outputs": [
    {
     "name": "stdout",
     "output_type": "stream",
     "text": [
      "CPU times: user 484 ms, sys: 3.44 ms, total: 487 ms\n",
      "Wall time: 486 ms\n"
     ]
    }
   ],
   "source": [
    "# %%time \n",
    "# TODO uncomment the above line once you have the code working to see how long it takes to run.\n",
    "\n",
    "# TODO implement the code using the loop and .loc indexing.\n",
    "T1_sum = 0\n",
    "T0_sum = 0\n",
    "\n",
    "# sum up the values of X for each treatment group by iterating over the rows of the DataFrame\n",
    "# Python note: \"_\" is a convention for a variable that is not used in the loop\n",
    "for _, row in df.iterrows():\n",
    "    # TODO your code here\n",
    "    pass\n",
    "\n",
    "# calculate the mean of X for each treatment group\n",
    "T1_mean = T1_sum / df[df[\"T\"] == 1].shape[0]\n",
    "T0_mean = T0_sum / df[df[\"T\"] == 0].shape[0]\n",
    "\n",
    "# the difference should be close to 10 for the simulated data\n",
    "assert np.isclose(T1_mean - T0_mean, 10, atol=1e-2)"
   ]
  },
  {
   "cell_type": "markdown",
   "metadata": {},
   "source": [
    "What is the wall clock time it takes for your code to run?\n",
    "\n",
    "**Your response**: [pollev.com/tliu](https://pollev.com/tliu)"
   ]
  },
  {
   "cell_type": "markdown",
   "metadata": {},
   "source": [
    "## 1.2 vectorized code"
   ]
  },
  {
   "cell_type": "code",
   "execution_count": 53,
   "metadata": {},
   "outputs": [
    {
     "name": "stdout",
     "output_type": "stream",
     "text": [
      "CPU times: user 1.42 ms, sys: 705 μs, total: 2.12 ms\n",
      "Wall time: 1.56 ms\n"
     ]
    }
   ],
   "source": [
    "# %%time \n",
    "# TODO uncomment the above line once you have the code working to see how long it takes to run.\n",
    "\n",
    "# TODO implement the code with no loops, using logical indexing and the mean() function. It should be much shorter than the code with the loop.\n",
    "T1_mean = 0\n",
    "T0_mean = 0\n",
    "\n",
    "\n",
    "# the difference should be close to 10\n",
    "assert np.isclose(T1_mean - T0_mean, 10, atol=1e-2)\n"
   ]
  },
  {
   "cell_type": "markdown",
   "metadata": {},
   "source": [
    "What is the wall clock time it takes for your code to run?\n",
    "\n",
    "**Your response**: [pollev.com/tliu](https://pollev.com/tliu)"
   ]
  },
  {
   "cell_type": "markdown",
   "metadata": {},
   "source": [
    ":::{admonition} Takeaway\n",
    "\n",
    "If you're writing code processing NumPy arrays or pandas DataFrames and you find yourself writing a loop over the length of an array or DataFrame, try to think about whether you can vectorize the operation. Unless the operation explicitly calls for iterating over the rows in a DataFrame (like we do in implementing greedy pair matching for Project 2), it is likely that you can achieve the same result without the loop, resulting in both faster and more concise code.\n",
    ":::"
   ]
  }
 ],
 "metadata": {
  "kernelspec": {
   "display_name": "venv",
   "language": "python",
   "name": "python3"
  },
  "language_info": {
   "codemirror_mode": {
    "name": "ipython",
    "version": 3
   },
   "file_extension": ".py",
   "mimetype": "text/x-python",
   "name": "python",
   "nbconvert_exporter": "python",
   "pygments_lexer": "ipython3",
   "version": "3.11.10"
  }
 },
 "nbformat": 4,
 "nbformat_minor": 2
}
