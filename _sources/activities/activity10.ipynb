{
 "cells": [
  {
   "cell_type": "markdown",
   "metadata": {},
   "source": [
    "(activity10)=\n",
    "# Activity 10: Vectorization\n",
    "\n",
    "**2025-03-25**\n",
    "\n",
    "---"
   ]
  },
  {
   "cell_type": "code",
   "execution_count": 1,
   "metadata": {},
   "outputs": [],
   "source": [
    "import numpy as np\n",
    "import pandas as pd\n",
    "\n",
    "rng = np.random.default_rng(42)"
   ]
  },
  {
   "cell_type": "markdown",
   "metadata": {},
   "source": [
    "# Logical indexing and vectorization\n",
    "\n",
    "Let's briefly explore the benefits of \"vectorization\" in NumPy and Pandas, which is the practice of performing operations on entire arrays at once, rather than element-by-element via a loop.\n",
    "\n",
    "We'll compute the **numerator** of the [standardized difference calculation](https://comsc341cd.github.io/projects/proj2_functions.html#love-plots-for-visualizing-covariate-balance) $d_X$ for Project 2, which is essentially the difference-in-means estimator for covariate $X$:\n",
    "\n",
    "$$\n",
    "d_X = \\frac{\\hat{E}[X \\mid T=1] - \\hat{E}[X \\mid T=0]} { \\large \\sqrt{\\frac{\\hat{V}[X \\mid T=1] + \\hat{V}[X \\mid T=0]} {2}}}\n",
    "$$\n",
    "\n",
    "Recall that $\\hat{E}[X \\mid T=t]$ is the estimated mean of $X$ given that $T=t$."
   ]
  },
  {
   "cell_type": "markdown",
   "metadata": {},
   "source": [
    "Each code cell below has a `%%time` [magic command](https://ipython.readthedocs.io/en/stable/interactive/magics.html) that times the execution of the cell. You can use this to compare the performance of vectorized and looped code."
   ]
  },
  {
   "cell_type": "code",
   "execution_count": null,
   "metadata": {},
   "outputs": [],
   "source": [
    "%%time\n",
    "# short demo of the time magic command\n",
    "\n",
    "for i in range(1000):\n",
    "    pass"
   ]
  },
  {
   "cell_type": "code",
   "execution_count": null,
   "metadata": {},
   "outputs": [],
   "source": [
    "# load in a simulated dataset with 50000 rows and T, X columns\n",
    "df = pd.read_csv(\"~/COMSC-341CD/data/activity10_sim_data.csv\")\n",
    "\n",
    "df.head()"
   ]
  },
  {
   "cell_type": "markdown",
   "metadata": {},
   "source": [
    "## 1.1: code with loop"
   ]
  },
  {
   "cell_type": "code",
   "execution_count": null,
   "metadata": {},
   "outputs": [],
   "source": [
    "# %%time \n",
    "# TODO uncomment the above line once you have the code working to see how long it takes to run.\n",
    "\n",
    "# TODO implement the code using the loop and .loc indexing.\n",
    "T1_sum = 0\n",
    "T0_sum = 0\n",
    "\n",
    "# sum up the values of X for each treatment group by iterating over the rows of the DataFrame\n",
    "# Python note: \"_\" is a convention for a variable that is not used in the loop\n",
    "for _, row in df.iterrows():\n",
    "    # TODO your code here\n",
    "    pass\n",
    "\n",
    "# calculate the mean of X for each treatment group\n",
    "T1_mean = T1_sum / df[df[\"T\"] == 1].shape[0]\n",
    "T0_mean = T0_sum / df[df[\"T\"] == 0].shape[0]\n",
    "\n",
    "# the difference should be close to 10 for the simulated data\n",
    "assert np.isclose(T1_mean - T0_mean, 10, atol=1e-2)"
   ]
  },
  {
   "cell_type": "markdown",
   "metadata": {},
   "source": [
    "What is the wall clock time it takes for your code to run?\n",
    "\n",
    "**Your response**: [pollev.com/tliu](https://pollev.com/tliu)"
   ]
  },
  {
   "cell_type": "markdown",
   "metadata": {},
   "source": [
    "## 1.2 vectorized code"
   ]
  },
  {
   "cell_type": "code",
   "execution_count": null,
   "metadata": {},
   "outputs": [],
   "source": [
    "# %%time \n",
    "# TODO uncomment the above line once you have the code working to see how long it takes to run.\n",
    "\n",
    "# TODO implement the code with no loops, using logical indexing and the mean() function. It should be much shorter than the code with the loop.\n",
    "T1_mean = 0\n",
    "T0_mean = 0\n",
    "\n",
    "\n",
    "# the difference should be close to 10\n",
    "assert np.isclose(T1_mean - T0_mean, 10, atol=1e-2)\n"
   ]
  },
  {
   "cell_type": "markdown",
   "metadata": {},
   "source": [
    "What is the wall clock time it takes for your code to run?\n",
    "\n",
    "**Your response**: [pollev.com/tliu](https://pollev.com/tliu)"
   ]
  },
  {
   "cell_type": "markdown",
   "metadata": {},
   "source": [
    ":::{admonition} Takeaway\n",
    "\n",
    "If you're writing code processing NumPy arrays or pandas DataFrames and you find yourself writing a loop over the length of an array or DataFrame, try to think about whether you can vectorize the operation. Unless the operation explicitly calls for iterating over the rows in a DataFrame (like we do in implementing greedy pair matching for Project 2), it is likely that you can achieve the same result without the loop, resulting in both faster and more concise code.\n",
    ":::"
   ]
  }
 ],
 "metadata": {
  "kernelspec": {
   "display_name": "venv",
   "language": "python",
   "name": "python3"
  },
  "language_info": {
   "codemirror_mode": {
    "name": "ipython",
    "version": 3
   },
   "file_extension": ".py",
   "mimetype": "text/x-python",
   "name": "python",
   "nbconvert_exporter": "python",
   "pygments_lexer": "ipython3",
   "version": "3.11.10"
  }
 },
 "nbformat": 4,
 "nbformat_minor": 2
}
