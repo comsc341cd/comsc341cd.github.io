{
 "cells": [
  {
   "cell_type": "markdown",
   "metadata": {},
   "source": [
    "(lec7_live_complete)=\n",
    "# [complete] Lecture 7 live coding\n",
    "\n",
    "**2025-02-25**\n",
    "\n",
    "---"
   ]
  },
  {
   "cell_type": "markdown",
   "metadata": {},
   "source": [
    "## Law of Total Expectation"
   ]
  },
  {
   "cell_type": "code",
   "execution_count": 1,
   "metadata": {},
   "outputs": [],
   "source": [
    "import pandas as pd\n",
    "import numpy as np\n",
    "\n",
    "import matplotlib.pyplot as plt\n",
    "import seaborn as sns\n",
    "import ipywidgets as widgets"
   ]
  },
  {
   "cell_type": "code",
   "execution_count": 2,
   "metadata": {},
   "outputs": [],
   "source": [
    "# Set random seed for reproducibility\n",
    "rng = np.random.RandomState(42)\n",
    "n_samples = 10000"
   ]
  },
  {
   "cell_type": "markdown",
   "metadata": {},
   "source": [
    "Suppose we're looking at average coffee prices globally over two types of coffee beans: Arabica and Robusta.\n",
    "\n",
    "$$\n",
    "X = \\begin{cases}\n",
    "1 & \\text{if coffee is Arabica} \\\\\n",
    "0 & \\text{if coffee is Robusta}\n",
    "\\end{cases}\n",
    "$$"
   ]
  },
  {
   "cell_type": "code",
   "execution_count": 5,
   "metadata": {},
   "outputs": [
    {
     "data": {
      "text/plain": [
       "array([1, 0, 1, 1, 1])"
      ]
     },
     "execution_count": 5,
     "metadata": {},
     "output_type": "execute_result"
    }
   ],
   "source": [
    "# # generate a random variable X with 80% arabica and 20% robusta\n",
    "X = rng.choice([0, 1], size=n_samples, p=[0.2, 0.8])"
   ]
  },
  {
   "cell_type": "code",
   "execution_count": 4,
   "metadata": {},
   "outputs": [],
   "source": [
    "# COMPLETED CELL\n",
    "# # generate a random variable X with 80% arabica and 20% robusta\n",
    "# X = rng.choice([1, 0], size=n_samples, p=[0.8, 0.2])"
   ]
  },
  {
   "cell_type": "markdown",
   "metadata": {},
   "source": [
    "Let $Y$ be the price of coffee in dollars per pound.\n",
    "\n",
    "Arabica prices are higher, on average:\n",
    "$$\n",
    "Y \\sim \\begin{cases}\n",
    "\\mathcal{N}(4.5, \\;0.75^2) & \\text{if coffee is Arabica} \\\\\n",
    "\\mathcal{N}(2.0, \\;0.25^2) & \\text{if coffee is Robusta}\n",
    "\\end{cases}\n",
    "$$"
   ]
  },
  {
   "cell_type": "code",
   "execution_count": 12,
   "metadata": {},
   "outputs": [
    {
     "data": {
      "text/html": [
       "<div>\n",
       "<style scoped>\n",
       "    .dataframe tbody tr th:only-of-type {\n",
       "        vertical-align: middle;\n",
       "    }\n",
       "\n",
       "    .dataframe tbody tr th {\n",
       "        vertical-align: top;\n",
       "    }\n",
       "\n",
       "    .dataframe thead th {\n",
       "        text-align: right;\n",
       "    }\n",
       "</style>\n",
       "<table border=\"1\" class=\"dataframe\">\n",
       "  <thead>\n",
       "    <tr style=\"text-align: right;\">\n",
       "      <th></th>\n",
       "      <th>is_arabica</th>\n",
       "      <th>price $/lb</th>\n",
       "    </tr>\n",
       "  </thead>\n",
       "  <tbody>\n",
       "    <tr>\n",
       "      <th>0</th>\n",
       "      <td>1</td>\n",
       "      <td>3.517227</td>\n",
       "    </tr>\n",
       "    <tr>\n",
       "      <th>1</th>\n",
       "      <td>0</td>\n",
       "      <td>2.048971</td>\n",
       "    </tr>\n",
       "    <tr>\n",
       "      <th>2</th>\n",
       "      <td>1</td>\n",
       "      <td>4.078259</td>\n",
       "    </tr>\n",
       "    <tr>\n",
       "      <th>3</th>\n",
       "      <td>1</td>\n",
       "      <td>4.295241</td>\n",
       "    </tr>\n",
       "    <tr>\n",
       "      <th>4</th>\n",
       "      <td>1</td>\n",
       "      <td>5.240613</td>\n",
       "    </tr>\n",
       "  </tbody>\n",
       "</table>\n",
       "</div>"
      ],
      "text/plain": [
       "   is_arabica  price $/lb\n",
       "0           1    3.517227\n",
       "1           0    2.048971\n",
       "2           1    4.078259\n",
       "3           1    4.295241\n",
       "4           1    5.240613"
      ]
     },
     "execution_count": 12,
     "metadata": {},
     "output_type": "execute_result"
    }
   ],
   "source": [
    "# Create Y from two normal distributions\n",
    "Y = np.where(X == 1,\n",
    "             # select from this if X == 1\n",
    "             rng.normal(loc=4.5, scale=0.75, size=n_samples),\n",
    "             # select if X == 0\n",
    "            rng.normal(loc=2, scale=0.25, size=n_samples))\n",
    "\n",
    "Y[:5]\n",
    "\n",
    "# Create dataframe\n",
    "coffee_df = pd.DataFrame({\n",
    "    'is_arabica': X,\n",
    "    'price $/lb': Y\n",
    "})\n",
    "\n",
    "coffee_df.head()"
   ]
  },
  {
   "cell_type": "code",
   "execution_count": 6,
   "metadata": {},
   "outputs": [],
   "source": [
    "# COMPLETED CELL\n",
    "# # Create Y from two normal distributions\n",
    "# Y = np.where(\n",
    "#     X == 1,\n",
    "#     rng.normal(loc=4.5, scale=0.75, size=n_samples),\n",
    "#     rng.normal(loc=2, scale=0.25, size=n_samples)\n",
    "# )\n",
    "\n",
    "# # create dataframe\n",
    "# coffee_df = pd.DataFrame({\n",
    "#     'is_arabica': X,\n",
    "#     'price': Y\n",
    "# })"
   ]
  },
  {
   "cell_type": "markdown",
   "metadata": {},
   "source": [
    ":::{note}\n",
    "The Law of Total Expectation is generally stated as:\n",
    "\n",
    "$$\n",
    "E[Y] = E[E[Y|X]]\n",
    "$$\n",
    "\n",
    "\"The expected value of Y equals the expected value of the conditional expectation of Y given X\"\n",
    "\n",
    "**Idea**: we take the average of conditional means of Y given X over all possible values of X.\n",
    "\n",
    "For binary X, this expands to:\n",
    "\n",
    "$$\n",
    "E[Y] = E[Y|X=1]P(X=1) + E[Y|X=0]P(X=0)\n",
    "$$\n",
    "\n",
    "$E[E[Y|X]]$ means we:\n",
    "\n",
    "1. First compute the conditional means of $Y$ for each value of $X$\n",
    "2. Then take the weighted average of these conditional means, weighted by how often each $X$ occurs\n",
    ":::"
   ]
  },
  {
   "cell_type": "markdown",
   "metadata": {},
   "source": [
    "Let's now verify the Law of Total Expectation with our coffee data:"
   ]
  },
  {
   "cell_type": "code",
   "execution_count": 13,
   "metadata": {},
   "outputs": [
    {
     "name": "stdout",
     "output_type": "stream",
     "text": [
      "Actual mean price: $4.02/lb\n",
      "Law of total expectation: $4.02/lb\n"
     ]
    }
   ],
   "source": [
    "# compute the simple mean of Y\n",
    "actual_mean = np.mean(Y)\n",
    "\n",
    "# compute the conditional means\n",
    "Y_X1 = Y[X==1].mean()\n",
    "Y_X0 = Y[X==0].mean()\n",
    "\n",
    "# mean of a binary variable is equivalent to the probability it is equal to 1\n",
    "# P(X=1) = E[X], when X is binary\n",
    "prob_is_arabica = X.mean()\n",
    "\n",
    "\n",
    "# calculate the weighted average of conditional means\n",
    "# E[Y∣ X=1]P(X=1)+ E[Y∣ X=0]P(X=0)\n",
    "law_of_total_expectation = Y_X1 * prob_is_arabica + Y_X0 * (1 - prob_is_arabica)\n",
    "\n",
    "\n",
    "print(\"Actual mean price: ${:.2f}/lb\".format(actual_mean))\n",
    "print(\"Law of total expectation: ${:.2f}/lb\".format(law_of_total_expectation))\n"
   ]
  },
  {
   "cell_type": "code",
   "execution_count": 8,
   "metadata": {},
   "outputs": [],
   "source": [
    "# COMPLETED CELL\n",
    "# # compute the simple mean of Y\n",
    "# actual_mean = coffee_df['price'].mean()\n",
    "\n",
    "# # compute the conditional means\n",
    "# p_arabica = np.mean(coffee_df['is_arabica'])\n",
    "# mean_price_arabica = coffee_df[coffee_df['is_arabica'] == 1]['price'].mean()\n",
    "# mean_price_robusta = coffee_df[coffee_df['is_arabica'] == 0]['price'].mean()\n",
    "\n",
    "# # calculate the weighted average of conditional means\n",
    "# law_of_total_expectation = (mean_price_arabica * p_arabica + \n",
    "#                            mean_price_robusta * (1 - p_arabica))\n",
    "\n",
    "\n",
    "# print(\"Actual mean price: ${:.2f}/lb\".format(actual_mean))\n",
    "# print(\"Law of Total Expectation: ${:.2f}/lb\".format(law_of_total_expectation))\n"
   ]
  },
  {
   "cell_type": "markdown",
   "metadata": {},
   "source": [
    "We can also visualize the distribution of the prices by species:"
   ]
  },
  {
   "cell_type": "code",
   "execution_count": 19,
   "metadata": {},
   "outputs": [
    {
     "data": {
      "text/plain": [
       "<matplotlib.legend.Legend at 0x7362b08c6720>"
      ]
     },
     "execution_count": 19,
     "metadata": {},
     "output_type": "execute_result"
    },
    {
     "data": {
      "image/png": "[encoded data removed]",
      "text/plain": [
       "<Figure size 640x480 with 1 Axes>"
      ]
     },
     "metadata": {},
     "output_type": "display_data"
    }
   ],
   "source": [
    "sns.kdeplot(data=coffee_df, x='price $/lb', hue='is_arabica')\n",
    "plt.axvline(x=Y_X1, color=\"orange\", label=\"mean: arabica\")\n",
    "plt.axvline(x=Y_X0, color=\"blue\", label=\"mean: robusta\")\n",
    "plt.axvline(x=actual_mean, color=\"black\", label=\"overall mean\")\n",
    "plt.legend()"
   ]
  },
  {
   "cell_type": "code",
   "execution_count": 9,
   "metadata": {},
   "outputs": [],
   "source": [
    "# COMPLETED CELL\n",
    "# plt.figure(figsize=(10, 6))\n",
    "# sns.kdeplot(data=coffee_df, x='price', hue='is_arabica')\n",
    "# plt.axvline(actual_mean, color='black', linestyle='--', \n",
    "#             label='Overall mean')\n",
    "# plt.axvline(mean_price_arabica, color='orange', linestyle='--', \n",
    "#             label='Mean price: Arabica')\n",
    "# plt.axvline(mean_price_robusta, color='blue', linestyle='--', \n",
    "#             label='Mean price: Robusta')\n",
    "# plt.xlabel('Price ($/lb)')\n",
    "# plt.ylabel('Density')\n",
    "# plt.title('Distribution of Coffee Prices by Species')\n",
    "# plt.legend()"
   ]
  },
  {
   "cell_type": "markdown",
   "metadata": {},
   "source": [
    ":::{note}\n",
    "Things to notice:    \n",
    "\n",
    "- The overall mean (black dashed line) must fall between the two conditional means\n",
    "- It's pulled closer to the Arabica mean because there's more Arabica (80%)\n",
    "- The area under each curve represents the relative frequency of each type\n",
    ":::"
   ]
  },
  {
   "cell_type": "markdown",
   "metadata": {},
   "source": [
    "---"
   ]
  },
  {
   "cell_type": "markdown",
   "metadata": {},
   "source": [
    "## Keyword argument unpacking"
   ]
  },
  {
   "cell_type": "markdown",
   "metadata": {},
   "source": [
    "By prefixing a dictionary with `**`, you can unpack the dictionary into keyword arguments."
   ]
  },
  {
   "cell_type": "code",
   "execution_count": 10,
   "metadata": {},
   "outputs": [],
   "source": [
    "# COMPLETED CELL\n",
    "# def add(a, b):\n",
    "#     return a + b\n",
    "\n",
    "# d = {'a': 1, 'b': 2}\n",
    "\n",
    "# add(**d)"
   ]
  },
  {
   "cell_type": "markdown",
   "metadata": {},
   "source": [
    "The `**` operator can also be used in the function definition:"
   ]
  },
  {
   "cell_type": "code",
   "execution_count": 11,
   "metadata": {},
   "outputs": [],
   "source": [
    "# COMPLETED CELL\n",
    "# def key_print(**kwargs):\n",
    "#     # we see that the type of kwargs is dict\n",
    "#     print(type(kwargs))\n",
    "#     print(kwargs)\n",
    "\n",
    "#     for k, v in kwargs.items():\n",
    "#         print(\"key: \", k)\n",
    "#         print(\"value: \", v)\n",
    "\n",
    "# card_ranks = {\"J\": 11, \"Q\": 12, \"K\": 13, \"A\": 1}\n",
    "# key_print(**card_ranks)"
   ]
  },
  {
   "cell_type": "markdown",
   "metadata": {},
   "source": [
    ":::{note}\n",
    "See the [str.format()](https://docs.python.org/3/library/stdtypes.html#str.format) method as an example of keyword argument unpacking.\n",
    ":::"
   ]
  },
  {
   "cell_type": "code",
   "execution_count": null,
   "metadata": {},
   "outputs": [],
   "source": [
    "help(str.format)"
   ]
  },
  {
   "cell_type": "code",
   "execution_count": null,
   "metadata": {},
   "outputs": [],
   "source": [
    "# can give keyword args\n",
    "print(\"In this game, {card} is rank {value}\".format(value=14, card=\"A\"))"
   ]
  }
 ],
 "metadata": {
  "kernelspec": {
   "display_name": "Python 3 (ipykernel)",
   "language": "python",
   "name": "python3"
  },
  "language_info": {
   "codemirror_mode": {
    "name": "ipython",
    "version": 3
   },
   "file_extension": ".py",
   "mimetype": "text/x-python",
   "name": "python",
   "nbconvert_exporter": "python",
   "pygments_lexer": "ipython3",
   "version": "3.12.6"
  }
 },
 "nbformat": 4,
 "nbformat_minor": 4
}
