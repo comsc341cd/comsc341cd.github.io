{
 "cells": [
  {
   "cell_type": "markdown",
   "metadata": {},
   "source": [
    "(activity11)=\n",
    "# Activity 11: Other causal quantities and matching\n",
    "\n",
    "**2025-10-15**\n",
    "\n",
    "---"
   ]
  },
  {
   "cell_type": "code",
   "execution_count": null,
   "metadata": {},
   "outputs": [],
   "source": [
    "import pandas as pd\n",
    "import numpy as np"
   ]
  },
  {
   "cell_type": "markdown",
   "metadata": {},
   "source": [
    "# Part 1: Computing causal quantities from the \"ground truth\" table\n",
    "\n",
    "A healthcare provider implemented a voluntary smoking cessation program for patients who smoke. The program included counseling, nicotine replacement therapy, and support groups. The healthcare provider wants to evaluate the program's effectiveness. The variables are as follows:\n",
    "\n",
    "- T: Participation in the smoking cessation program (1 = participated, 0 = did not participate)\n",
    "\n",
    "- Y: Lung function score (higher is better) measured one year after the program finished\n",
    "\n",
    "|Unit | T | Y(1) | Y(0) |\n",
    "|----|---|------|------|\n",
    "|   0| 1 | 80   | 60   |\n",
    "|   1| 1 | 80   | 70   |\n",
    "|   2| 1 | 60   | 10   |\n",
    "|   3| 1 | 30   | 30   |\n",
    "|   4| 0 | 50   | 40   |\n",
    "|   5| 0 | 30   | 40   |\n",
    "|   6| 0 | 70   | 70   |\n",
    "|   7| 0 | 60   | 50   |\n",
    "|   8| 0 | 50   | 20   |\n",
    "|   9| 0 | 50   | 10   |\n",
    "\n",
    "Suppose we are omniscient or in possession of a time machine giving us access to the ground truth table above, where we can see the potential outcomes for each unit. The code below generates a dataframe with this table:"
   ]
  },
  {
   "cell_type": "code",
   "execution_count": null,
   "metadata": {},
   "outputs": [],
   "source": [
    "part1_df = pd.DataFrame({\n",
    "    'T': [1, 1, 1, 1, 0, 0, 0, 0, 0, 0],\n",
    "    'Y1': [80, 80, 60, 30, 50, 30, 70, 60, 50, 50],\n",
    "    'Y0': [60, 70, 10, 30, 40, 40, 70, 50, 20, 10]\n",
    "})\n",
    "part1_df"
   ]
  },
  {
   "cell_type": "markdown",
   "metadata": {},
   "source": [
    "What is the estimated average treatment effect (ATE)? Recall that the ATE is given by:\n",
    "\n",
    "$$\n",
    "ATE = E[Y(1) - Y(0)] = E[Y(1)] - E[Y(0)]\n",
    "$$\n",
    "\n",
    "**Your response**: TODO\n"
   ]
  },
  {
   "cell_type": "code",
   "execution_count": null,
   "metadata": {},
   "outputs": [],
   "source": [
    "# TODO your code here"
   ]
  },
  {
   "cell_type": "markdown",
   "metadata": {},
   "source": [
    "Next, estimate the ATT and ATU. \n",
    "\n",
    "The ATT is given by:\n",
    "\n",
    "$$\n",
    "ATT = E[Y(1) - Y(0) | T = 1] = E[Y(1) | T = 1] - E[Y(0) | T = 1]\n",
    "$$\n",
    "\n",
    "The ATU is given by:\n",
    "\n",
    "$$\n",
    "ATU = E[Y(1) - Y(0) | T = 0] = E[Y(1) | T = 0] - E[Y(0) | T = 0]\n",
    "$$\n",
    "\n",
    "Send your ATT estimate to PollEverywhere:\n",
    "\n",
    "**Your ATT estimate**: [pollev.com/tliu](https://pollev.com/tliu)\n",
    "\n",
    "**Your ATU estimate**: TODO"
   ]
  },
  {
   "cell_type": "code",
   "execution_count": null,
   "metadata": {},
   "outputs": [],
   "source": [
    "# TODO your code here"
   ]
  },
  {
   "cell_type": "markdown",
   "metadata": {},
   "source": [
    "# Part 2: Matching on one covariate\n",
    "\n",
    "Now suppose we only have access to the observed data table, and we want to estimate the ATT by matching on one covariate, smoking frequency:\n",
    "\n",
    "\n",
    "- X: smoking frequency (# cigarettes per day)\n",
    "\n",
    "|Unit| T | Y    | X |\n",
    "|----|---|------|------|\n",
    "|   0| 1 | 80   | 5   |\n",
    "|   1| 1 | 80   | 10   |\n",
    "|   2| 1 | 60   | 8   |\n",
    "|   3| 1 | 30   | 1   |\n",
    "|   4| 0 | 40   | 5   |\n",
    "|   5| 0 | 40   | 1   |\n",
    "|   6| 0 | 70   | 8   |\n",
    "|   7| 0 | 50   | 13   |\n",
    "|   8| 0 | 20   | 10   |\n",
    "|   9| 0 | 10   | 16   |\n",
    "\n",
    "Below is the dataframe for the observed data:"
   ]
  },
  {
   "cell_type": "code",
   "execution_count": null,
   "metadata": {},
   "outputs": [],
   "source": [
    "part2_df = pd.DataFrame({\n",
    "    'T': [1, 1, 1, 1, 0, 0, 0, 0, 0, 0],\n",
    "    'Y': [80, 80, 60, 30, 40, 40, 70, 50, 20, 10],\n",
    "    'X': [5, 10, 8, 1, 5, 1, 8, 13, 10, 16]\n",
    "})\n",
    "part2_df"
   ]
  },
  {
   "cell_type": "markdown",
   "metadata": {},
   "source": [
    "Match all the treated units to the control units that have the same smoking frequency by filling out the list of units manually below:\n"
   ]
  },
  {
   "cell_type": "code",
   "execution_count": null,
   "metadata": {},
   "outputs": [],
   "source": [
    "treated_units = [0, 1, 2, 3]\n",
    "control_units = [          ]"
   ]
  },
  {
   "cell_type": "markdown",
   "metadata": {},
   "source": [
    "Next, compute the ATT estimate through the difference-in-means for the treated units and control units.\n",
    "\n",
    "You can use `df.loc[row_indices, column]` to select based on the row indices and column name.\n",
    "\n",
    "For example, `part2_df.loc[[0, 1, 2], 'Y']` will select the rows 0, 1, 2 and the column 'Y'.\n",
    "\n",
    "\n",
    "**Your ATT estimate**: [pollev.com/tliu](https://pollev.com/tliu)\n",
    "\n",
    "\n",
    "\n",
    "\n"
   ]
  },
  {
   "cell_type": "code",
   "execution_count": null,
   "metadata": {},
   "outputs": [],
   "source": [
    "# TODO compute difference-in-means for outcome Y between treated and control units"
   ]
  },
  {
   "cell_type": "markdown",
   "metadata": {},
   "source": [
    "# Part 3: Propensity score matching\n",
    "\n",
    "Suppose we want to instead match on the propensity score $e_i(X)$, which is the estimated probability of treatment for unit $i$ given other covariates $X$.\n",
    "\n",
    "|Unit| T | Y    | e(X) |\n",
    "|----|---|------|------|\n",
    "|   0| 1 | 80   | 0.88   |\n",
    "|   1| 1 | 80   | 0.6   |\n",
    "|   2| 1 | 60   | 0.2   |\n",
    "|   3| 1 | 30   | 0.8  |\n",
    "|   4| 0 | 40   | 0.2   |\n",
    "|   5| 0 | 40   | 0.82   |\n",
    "|   6| 0 | 70   | 0.58   |\n",
    "|   7| 0 | 50   | 0.1   |\n",
    "|   8| 0 | 20   | 0.05  |\n",
    "|   9| 0 | 10   | 0.72   |\n",
    "\n",
    "\n"
   ]
  },
  {
   "cell_type": "markdown",
   "metadata": {},
   "source": [
    "Let's again match all the treated units to the control units that have the closest propensity score by filling out the list of units manually below.\n",
    "\n",
    "1. Begin with the first treated unit (unit 0), and match it to the control unit with the closest propensity score.\n",
    "2. Remove the matched control unit from further consideration. Aside: you can cross out in Markdown using double tildes: `~~crossed out~~`.\n",
    "3. Repeat until all treated units are matched."
   ]
  },
  {
   "cell_type": "code",
   "execution_count": null,
   "metadata": {},
   "outputs": [],
   "source": [
    "treated_units = [0, 1, 2, 3]\n",
    "control_units = [          ]"
   ]
  },
  {
   "cell_type": "markdown",
   "metadata": {},
   "source": [
    "Suppose that we had instead began matching in reverse order, starting with the last treated unit 3. What control unit would be matched to unit 3 instead?\n",
    "\n",
    "**Your response**: [pollev.com/tliu](https://pollev.com/tliu)"
   ]
  }
 ],
 "metadata": {
  "kernelspec": {
   "display_name": "venv",
   "language": "python",
   "name": "python3"
  },
  "language_info": {
   "codemirror_mode": {
    "name": "ipython",
    "version": 3
   },
   "file_extension": ".py",
   "mimetype": "text/x-python",
   "name": "python",
   "nbconvert_exporter": "python",
   "pygments_lexer": "ipython3",
   "version": "3.11.10"
  }
 },
 "nbformat": 4,
 "nbformat_minor": 2
}
