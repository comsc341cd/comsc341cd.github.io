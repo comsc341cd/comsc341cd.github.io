{
 "cells": [
  {
   "cell_type": "markdown",
   "metadata": {},
   "source": [
    "(lec5_live_complete)=\n",
    "# Lecture 5 live coding\n",
    "\n",
    "**2025-02-18**\n",
    "\n",
    "---"
   ]
  },
  {
   "cell_type": "code",
   "execution_count": 7,
   "metadata": {},
   "outputs": [],
   "source": [
    "import pandas as pd\n",
    "import numpy as np\n",
    "\n",
    "import matplotlib.pyplot as plt\n",
    "import seaborn as sns\n",
    "import ipywidgets as widgets\n",
    "\n",
    "from nhanes.load import load_NHANES_data"
   ]
  },
  {
   "cell_type": "markdown",
   "metadata": {},
   "source": [
    "## Pandas reassignment"
   ]
  },
  {
   "cell_type": "markdown",
   "metadata": {},
   "source": [
    "If we're chaining together operations, we need to be careful about which dataframe we're modifying.\n",
    "\n",
    "Select respondents who:\n",
    "\n",
    "- are adults AND\n",
    "- report being in `Excellent` or `Very good` health"
   ]
  },
  {
   "cell_type": "code",
   "execution_count": 9,
   "metadata": {},
   "outputs": [],
   "source": [
    "nhanes_df = load_NHANES_data()\n",
    "\n",
    "# this could be a good strategy\n",
    "modified_df = nhanes_df.copy()\n",
    "\n",
    "sel_df = nhanes_df[nhanes_df['AgeInYearsAtScreening'] >= 18]\n",
    "sel_df = sel_df[(sel_df['GeneralHealthCondition'] == 'Excellent') | (sel_df['GeneralHealthCondition'] == 'Very good')]\n"
   ]
  },
  {
   "cell_type": "markdown",
   "metadata": {},
   "source": [
    "`.loc` operations can be in-place:"
   ]
  },
  {
   "cell_type": "code",
   "execution_count": null,
   "metadata": {},
   "outputs": [],
   "source": [
    "print(nhanes_df['SmokedAtLeast100CigarettesInLife'].value_counts())\n",
    "\n",
    "# this modifies the 'smokedatleast100' column to be 0, for those who report excellent health\n",
    "nhanes_df.loc[nhanes_df['GeneralHealthCondition'] == 'Excellent', 'SmokedAtLeast100CigarettesInLife'] = 0\n",
    "\n",
    "print(\"------------\")\n",
    "print(nhanes_df['SmokedAtLeast100CigarettesInLife'].value_counts())"
   ]
  },
  {
   "cell_type": "markdown",
   "metadata": {},
   "source": [
    ":::{tip}\n",
    "\n",
    "- Restart the notebook and run from top-to-bottom to double check any reassignment issues.\n",
    "\n",
    "- If the data are not too large, can re-run the cell to re-load the data.\n",
    "\n",
    ":::"
   ]
  },
  {
   "cell_type": "markdown",
   "metadata": {},
   "source": [
    "If there is a pandas operation that modifies portions of the dataframe, watch the `inplace` parameter!\n",
    "\n",
    "- [fillna()](https://pandas.pydata.org/docs/reference/api/pandas.DataFrame.fillna.html)\n",
    "- [replace()](https://pandas.pydata.org/docs/reference/api/pandas.DataFrame.replace.html)"
   ]
  },
  {
   "cell_type": "code",
   "execution_count": null,
   "metadata": {},
   "outputs": [],
   "source": [
    "print(nhanes_df['SmokedAtLeast100CigarettesInLife'].isna().sum())\n",
    "\n",
    "# explicit reassignment needed\n",
    "#nhanes_df = nhanes_df.fillna(0)\n",
    "\n",
    "nhanes_df.fillna(0, inplace=True)\n",
    "\n",
    "print(nhanes_df['SmokedAtLeast100CigarettesInLife'].isna().sum())\n",
    "\n",
    "#nhanes_df['GeneralHealthCondition'].replace({'Poor?': 'Poor', 'Fair or': 'Fair'})"
   ]
  },
  {
   "cell_type": "markdown",
   "metadata": {},
   "source": [
    ":::{tip}\n",
    "\n",
    "To be safe, I generally recommend explicitly re-assigning the dataframe whenever you're modifying portions of it.\n",
    "\n",
    ":::"
   ]
  },
  {
   "cell_type": "markdown",
   "metadata": {},
   "source": [
    "## Bootstrap"
   ]
  },
  {
   "cell_type": "markdown",
   "metadata": {},
   "source": [
    "### Using a collected sample as a substitute for the population\n",
    "\n",
    "Bootstrap sampling \"works\" because we assume our collected sample is representative of the population.\n",
    "\n",
    "Suppose we have a distribution of class colors:\n",
    "\n",
    "$$X \\sim \\text{Categorical}(p)$$\n",
    "\n",
    "Where $p=\\{\\frac{1}{4}, \\frac{1}{4}, \\frac{1}{4}, \\frac{1}{4}\\}$ is the probability of each class:\n",
    "\n",
    "- Blue Lion\n",
    "- Green Griffin\n",
    "- Red Pegasus\n",
    "- Yellow Sphinx\n",
    "\n",
    "A sample of adequate size should be representative of the population."
   ]
  },
  {
   "cell_type": "code",
   "execution_count": 17,
   "metadata": {},
   "outputs": [],
   "source": [
    "rng = np.random.RandomState(42)\n",
    "\n",
    "class_colors = ['Blue Lion', 'Green Griffin', 'Red Pegasus', 'Yellow Sphinx']\n",
    "class_probs =  [        1/4,             1/4,           1/4,             1/4]"
   ]
  },
  {
   "cell_type": "code",
   "execution_count": null,
   "metadata": {},
   "outputs": [],
   "source": [
    "n_samples = 500\n",
    "\n",
    "class_sample = rng.choice(class_colors, size=n_samples, p=class_probs)\n",
    "#class_sample.shape\n",
    "pd.Series(class_sample).value_counts(normalize=True)"
   ]
  },
  {
   "cell_type": "markdown",
   "metadata": {},
   "source": [
    ":::{tip}\n",
    "\n",
    "As long as the proportions are about right, the sample is representative, regardless of the size!\n",
    "\n",
    ":::"
   ]
  },
  {
   "cell_type": "markdown",
   "metadata": {},
   "source": [
    "### Why we care about uncertainty $\\to$ confidence intervals"
   ]
  },
  {
   "cell_type": "code",
   "execution_count": 21,
   "metadata": {},
   "outputs": [],
   "source": [
    "n_samples = 100  \n",
    "true_goose_weight = 10\n",
    "# in reality, we never know what the distribution actually is\n",
    "goose_weights = rng.normal(loc=true_goose_weight, scale=2, size=n_samples)"
   ]
  },
  {
   "cell_type": "code",
   "execution_count": 22,
   "metadata": {},
   "outputs": [],
   "source": [
    "def mean_estimator(sample):\n",
    "    \"\"\"\n",
    "    An estimator of the expected value E[ ] of the population.\n",
    "\n",
    "    Returns: \n",
    "        float: the mean of the sample\n",
    "    \"\"\"\n",
    "    return np.mean(sample)\n"
   ]
  },
  {
   "cell_type": "code",
   "execution_count": 9,
   "metadata": {},
   "outputs": [],
   "source": [
    "bootstrap_means = []\n",
    "n_bootstraps = 5000\n",
    "\n",
    "# for i in range(n_bootstraps):\n",
    "#     # 1. draw a bootstrap sample\n",
    "#     bootstrap_sample = rng.choice(goose_weights, size=100, replace=True)\n",
    "#     bootstrap_sample\n",
    "#     # 2. compute our mean again, with the bootstrap sample\n",
    "#     bootstrap_mean = mean_estimator(bootstrap_sample)\n",
    "\n",
    "#     # 3. add our bootstrap_mean to the list\n",
    "#     bootstrap_means.append(bootstrap_mean)"
   ]
  },
  {
   "cell_type": "code",
   "execution_count": null,
   "metadata": {},
   "outputs": [],
   "source": [
    "\n",
    "# lower_ci = np.percentile(bootstrap_means, 2.5)\n",
    "# upper_ci = np.percentile(bootstrap_means, 97.5)\n",
    "\n",
    "# print(f\"Our estimate of average goose weight: {mean_estimator(goose_weights):.1f} lbs\")\n",
    "# print(f\"95% Confidence Interval: [{lower_ci:.1f}, {upper_ci:.1f}] lbs\")\n",
    "\n",
    "# sns.histplot(bootstrap_means)\n",
    "# plt.axvline(true_goose_weight, color='black', linestyle='--', label='True average goose weight')\n",
    "# plt.axvline(lower_ci, color='red', linestyle='--')\n",
    "# plt.axvline(upper_ci, color='red', linestyle='--', label='95% CI')\n",
    "# plt.xlabel('Bootstrap mean estimates of goose weight (lbs)')\n",
    "# plt.gca().spines['top'].set_visible(False)\n",
    "# plt.gca().spines['right'].set_visible(False)\n",
    "# plt.legend()\n",
    "#plt.show()\n"
   ]
  },
  {
   "cell_type": "code",
   "execution_count": null,
   "metadata": {},
   "outputs": [],
   "source": [
    "\n",
    "n_bootstraps = 1000\n",
    "n_intervals = 500\n",
    "\n",
    "count_missed = 0\n",
    "\n",
    "# we're going to repeat the process of building intervals many times\n",
    "for j in range(n_intervals):\n",
    "    # first, draw a new sample from the true distribution\n",
    "    goose_sample = rng.normal(loc=true_goose_weight, scale=2, size=n_samples)\n",
    "\n",
    "    # build a bootstrapped confidence interval\n",
    "    bootstrap_means = []\n",
    "    for i in range(n_bootstraps):\n",
    "        # draw bootstrap samples from this sample\n",
    "        bootstrap_sample = rng.choice(goose_sample, size=n_samples, replace=True)\n",
    "        bootstrap_mean = mean_estimator(bootstrap_sample)\n",
    "        bootstrap_means.append(bootstrap_mean)\n",
    "\n",
    "    # compute the CI\n",
    "    lower_ci = np.percentile(bootstrap_means, 2.5)\n",
    "    upper_ci = np.percentile(bootstrap_means, 97.5)\n",
    "\n",
    "    # we're going to check how many times we miss the interval\n",
    "    if (true_goose_weight < lower_ci) or (true_goose_weight > upper_ci):\n",
    "        count_missed += 1\n",
    "\n",
    "print(count_missed / n_intervals)\n",
    "\n",
    "\n",
    "# for j in range(n_intervals):\n",
    "#     # First draw a new sample from the true distribution\n",
    "#     goose_sample = rng.normal(loc=true_goose_weight, scale=2, size=100)\n",
    "    \n",
    "#     bootstrap_means = []\n",
    "#     for i in range(n_bootstraps):\n",
    "#         # Draw bootstrap samples from this sample\n",
    "#         bootstrap_sample = rng.choice(goose_sample, size=100, replace=True)\n",
    "#         bootstrap_mean = mean_estimator(bootstrap_sample)\n",
    "#         bootstrap_means.append(bootstrap_mean)\n",
    "\n",
    "#     # Compute CI for this sample\n",
    "#     lower_ci = np.percentile(bootstrap_means, 2.5)\n",
    "#     upper_ci = np.percentile(bootstrap_means, 97.5)\n",
    "\n",
    "#     if true_goose_weight < lower_ci or true_goose_weight > upper_ci:\n",
    "#         count_missed += 1\n",
    "\n",
    "# print(f\"Number of intervals that missed the true mean: {count_missed}\")\n",
    "# print(f\"Proportion of intervals that missed the true mean: {count_missed / n_intervals:.3f}\")"
   ]
  },
  {
   "cell_type": "markdown",
   "metadata": {},
   "source": [
    "### Why we care about uncertainty $\\to$ comparing estimators"
   ]
  },
  {
   "cell_type": "code",
   "execution_count": 37,
   "metadata": {},
   "outputs": [],
   "source": [
    "def first_ten_estimator(sample):\n",
    "    \"\"\"\n",
    "    A (not very good) estimator of the expected value E[ ] of the population.\n",
    "\n",
    "    Returns: \n",
    "        float: the mean of the first 10 elements of the sample\n",
    "    \"\"\"\n",
    "    return np.mean(sample[:10])"
   ]
  },
  {
   "cell_type": "code",
   "execution_count": 38,
   "metadata": {},
   "outputs": [],
   "source": [
    "bootstrap_means = []\n",
    "bootstrap_first_tens = []\n",
    "n_bootstraps = 5000\n",
    "\n",
    "# for i in range(n_bootstraps):\n",
    "#     # 1. draw a bootstrap sample\n",
    "#     bootstrap_sample = rng.choice(goose_weights, size=100, replace=True)\n",
    "#     bootstrap_sample\n",
    "    \n",
    "#     # 2. compute our estimates, with the bootstrap sample\n",
    "#     bootstrap_mean = mean_estimator(bootstrap_sample)\n",
    "#     bootstrap_first_ten = first_ten_estimator(bootstrap_sample)\n",
    "    \n",
    "#     # 3. add our bootstrap_mean to the list\n",
    "#     bootstrap_means.append(bootstrap_mean)\n",
    "#     bootstrap_first_tens.append(bootstrap_first_ten)"
   ]
  },
  {
   "cell_type": "code",
   "execution_count": null,
   "metadata": {},
   "outputs": [],
   "source": [
    "# sns.kdeplot(bootstrap_means)#, label=\"Mean of whole sample\")\n",
    "# sns.kdeplot(bootstrap_first_tens)#, label=\"Mean of first 10\")\n",
    "# plt.axvline(true_goose_weight, color='black', linestyle='--', label='True average goose weight')\n",
    "# plt.xlabel('Bootstrap mean estimates of goose weight (lbs)')\n",
    "# plt.gca().spines['top'].set_visible(False)\n",
    "# plt.gca().spines['right'].set_visible(False)\n",
    "# plt.legend()\n",
    "#plt.show()\n"
   ]
  }
 ],
 "metadata": {
  "kernelspec": {
   "display_name": "Python 3 (ipykernel)",
   "language": "python",
   "name": "python3"
  },
  "language_info": {
   "codemirror_mode": {
    "name": "ipython",
    "version": 3
   },
   "file_extension": ".py",
   "mimetype": "text/x-python",
   "name": "python",
   "nbconvert_exporter": "python",
   "pygments_lexer": "ipython3",
   "version": "3.12.6"
  }
 },
 "nbformat": 4,
 "nbformat_minor": 4
}
