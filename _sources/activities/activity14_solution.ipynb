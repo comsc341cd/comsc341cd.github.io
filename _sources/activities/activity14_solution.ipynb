{
 "cells": [
  {
   "cell_type": "markdown",
   "metadata": {},
   "source": [
    "(activity14_solution)=\n",
    "\n",
    "# Activity 14 Solution: Panel data\n",
    "\n",
    "**2025-04-15**\n",
    "\n",
    "---"
   ]
  },
  {
   "cell_type": "code",
   "execution_count": 4,
   "metadata": {},
   "outputs": [],
   "source": [
    "import linearmodels as lm\n",
    "import seaborn as sns\n",
    "import pandas as pd\n",
    "import numpy as np\n",
    "import matplotlib.pyplot as plt\n",
    "import statsmodels.formula.api as smf"
   ]
  },
  {
   "cell_type": "markdown",
   "metadata": {},
   "source": [
    "# Part 1"
   ]
  },
  {
   "cell_type": "markdown",
   "metadata": {},
   "source": [
    "![](../images/lec19_panel.png)"
   ]
  },
  {
   "cell_type": "markdown",
   "metadata": {},
   "source": [
    "With panel data, instead of having a single row per unit in our dataframes, we have potentially multiple datapoints per unit across time. Given that:\n",
    "\n",
    "- December: $t=1$\n",
    "- March: $t=2$\n",
    "- June: $t=3$\n",
    "\n",
    "We have 3 datapoints for each town. The \"Post-treatment period?\" column is a binary variable that is 1 if the datapoint is in the post-treatment period and 0 otherwise. \n",
    "\n",
    "Finish populating the markdown table below with the correct values:"
   ]
  },
  {
   "cell_type": "markdown",
   "metadata": {},
   "source": [
    "| Unit         | Time | Outcome | Post-treatment period? |\n",
    "|--------------|------|---------|------------------------|\n",
    "| South Hadley | 1    | 100     | 0         |\n",
    "| South Hadley | 2    | 90      | 0         |\n",
    "| South Hadley | 3    | 70      | 1         |\n",
    "| Hadley       | 1    | 80      | 0         |\n",
    "| Hadley       | 2    | 70      | 0         |\n",
    "| Hadley       | 3    | 60      | 1         |\n"
   ]
  },
  {
   "cell_type": "markdown",
   "metadata": {},
   "source": [
    "We can use pandas [MultiIndex](https://pandas.pydata.org/docs/user_guide/advanced.html) to represent the multiple indices needed for panel data. The [pd.set_index()](https://pandas.pydata.org/docs/reference/api/pandas.DataFrame.set_index.html) can take a list of columns to use as the new index."
   ]
  },
  {
   "cell_type": "code",
   "execution_count": 5,
   "metadata": {},
   "outputs": [
    {
     "data": {
      "text/html": [
       "<div>\n",
       "<style scoped>\n",
       "    .dataframe tbody tr th:only-of-type {\n",
       "        vertical-align: middle;\n",
       "    }\n",
       "\n",
       "    .dataframe tbody tr th {\n",
       "        vertical-align: top;\n",
       "    }\n",
       "\n",
       "    .dataframe thead th {\n",
       "        text-align: right;\n",
       "    }\n",
       "</style>\n",
       "<table border=\"1\" class=\"dataframe\">\n",
       "  <thead>\n",
       "    <tr style=\"text-align: right;\">\n",
       "      <th></th>\n",
       "      <th></th>\n",
       "      <th>outcome</th>\n",
       "      <th>post_treatment</th>\n",
       "    </tr>\n",
       "    <tr>\n",
       "      <th>town</th>\n",
       "      <th>time</th>\n",
       "      <th></th>\n",
       "      <th></th>\n",
       "    </tr>\n",
       "  </thead>\n",
       "  <tbody>\n",
       "    <tr>\n",
       "      <th rowspan=\"3\" valign=\"top\">South Hadley</th>\n",
       "      <th>1</th>\n",
       "      <td>100</td>\n",
       "      <td>0</td>\n",
       "    </tr>\n",
       "    <tr>\n",
       "      <th>2</th>\n",
       "      <td>90</td>\n",
       "      <td>0</td>\n",
       "    </tr>\n",
       "    <tr>\n",
       "      <th>3</th>\n",
       "      <td>70</td>\n",
       "      <td>1</td>\n",
       "    </tr>\n",
       "    <tr>\n",
       "      <th rowspan=\"3\" valign=\"top\">Hadley</th>\n",
       "      <th>1</th>\n",
       "      <td>80</td>\n",
       "      <td>0</td>\n",
       "    </tr>\n",
       "    <tr>\n",
       "      <th>2</th>\n",
       "      <td>70</td>\n",
       "      <td>0</td>\n",
       "    </tr>\n",
       "    <tr>\n",
       "      <th>3</th>\n",
       "      <td>60</td>\n",
       "      <td>1</td>\n",
       "    </tr>\n",
       "  </tbody>\n",
       "</table>\n",
       "</div>"
      ],
      "text/plain": [
       "                   outcome  post_treatment\n",
       "town         time                         \n",
       "South Hadley 1         100               0\n",
       "             2          90               0\n",
       "             3          70               1\n",
       "Hadley       1          80               0\n",
       "             2          70               0\n",
       "             3          60               1"
      ]
     },
     "metadata": {},
     "output_type": "display_data"
    },
    {
     "data": {
      "text/plain": [
       "Index(['outcome', 'post_treatment'], dtype='object')"
      ]
     },
     "metadata": {},
     "output_type": "display_data"
    }
   ],
   "source": [
    "traffic_df = pd.DataFrame(\n",
    "    {\n",
    "        'town': ['South Hadley', 'South Hadley', 'South Hadley', 'Hadley', 'Hadley', 'Hadley'],\n",
    "        'time': [1, 2, 3, 1, 2, 3],\n",
    "        'outcome': [100, 90, 70, 80, 70, 60],\n",
    "        \"post_treatment\": [0, 0, 1, 0, 0, 1]\n",
    "    }\n",
    ")\n",
    "\n",
    "# Set the index to be the['town', 'time'] columns\n",
    "traffic_df = traffic_df.set_index([\"town\", \"time\"])\n",
    "\n",
    "display(traffic_df)\n",
    "\n",
    "# note that time and town are no longer columns\n",
    "display(traffic_df.columns)"
   ]
  },
  {
   "cell_type": "markdown",
   "metadata": {},
   "source": [
    "The multi-index is now, where the first level (`level=0`) is the town and the second level (`level=1`) is the time.\n",
    "\n",
    "With a multi-index, the `.loc` method can take a tuple that specifies an index to retrieve:"
   ]
  },
  {
   "cell_type": "code",
   "execution_count": 6,
   "metadata": {},
   "outputs": [
    {
     "data": {
      "text/html": [
       "<div>\n",
       "<style scoped>\n",
       "    .dataframe tbody tr th:only-of-type {\n",
       "        vertical-align: middle;\n",
       "    }\n",
       "\n",
       "    .dataframe tbody tr th {\n",
       "        vertical-align: top;\n",
       "    }\n",
       "\n",
       "    .dataframe thead th {\n",
       "        text-align: right;\n",
       "    }\n",
       "</style>\n",
       "<table border=\"1\" class=\"dataframe\">\n",
       "  <thead>\n",
       "    <tr style=\"text-align: right;\">\n",
       "      <th></th>\n",
       "      <th>outcome</th>\n",
       "      <th>post_treatment</th>\n",
       "    </tr>\n",
       "    <tr>\n",
       "      <th>time</th>\n",
       "      <th></th>\n",
       "      <th></th>\n",
       "    </tr>\n",
       "  </thead>\n",
       "  <tbody>\n",
       "    <tr>\n",
       "      <th>1</th>\n",
       "      <td>100</td>\n",
       "      <td>0</td>\n",
       "    </tr>\n",
       "    <tr>\n",
       "      <th>2</th>\n",
       "      <td>90</td>\n",
       "      <td>0</td>\n",
       "    </tr>\n",
       "    <tr>\n",
       "      <th>3</th>\n",
       "      <td>70</td>\n",
       "      <td>1</td>\n",
       "    </tr>\n",
       "  </tbody>\n",
       "</table>\n",
       "</div>"
      ],
      "text/plain": [
       "      outcome  post_treatment\n",
       "time                         \n",
       "1         100               0\n",
       "2          90               0\n",
       "3          70               1"
      ]
     },
     "metadata": {},
     "output_type": "display_data"
    }
   ],
   "source": [
    "# selects all the South Hadley datapoints\n",
    "display(traffic_df.loc[\"South Hadley\"])\n"
   ]
  },
  {
   "cell_type": "code",
   "execution_count": 7,
   "metadata": {},
   "outputs": [
    {
     "data": {
      "text/plain": [
       "outcome           100\n",
       "post_treatment      0\n",
       "Name: (South Hadley, 1), dtype: int64"
      ]
     },
     "metadata": {},
     "output_type": "display_data"
    },
    {
     "data": {
      "text/plain": [
       "outcome           100\n",
       "post_treatment      0\n",
       "Name: 1, dtype: int64"
      ]
     },
     "metadata": {},
     "output_type": "display_data"
    }
   ],
   "source": [
    "# selects the row for South Hadley at time 1\n",
    "display(traffic_df.loc[(\"South Hadley\", 1)])\n",
    "\n",
    "# equivalently, we can chain the `.loc` method to filter different levels of the multi-index\n",
    "display(traffic_df.loc[\"South Hadley\"].loc[1])"
   ]
  },
  {
   "cell_type": "markdown",
   "metadata": {},
   "source": [
    "To select rows based on the second level of the multi-index, we can use [pd.xs](https://pandas.pydata.org/docs/reference/api/pandas.DataFrame.xs.html), which takes a cross-section of the DataFrame:"
   ]
  },
  {
   "cell_type": "code",
   "execution_count": 8,
   "metadata": {},
   "outputs": [
    {
     "data": {
      "text/html": [
       "<div>\n",
       "<style scoped>\n",
       "    .dataframe tbody tr th:only-of-type {\n",
       "        vertical-align: middle;\n",
       "    }\n",
       "\n",
       "    .dataframe tbody tr th {\n",
       "        vertical-align: top;\n",
       "    }\n",
       "\n",
       "    .dataframe thead th {\n",
       "        text-align: right;\n",
       "    }\n",
       "</style>\n",
       "<table border=\"1\" class=\"dataframe\">\n",
       "  <thead>\n",
       "    <tr style=\"text-align: right;\">\n",
       "      <th></th>\n",
       "      <th>outcome</th>\n",
       "      <th>post_treatment</th>\n",
       "    </tr>\n",
       "    <tr>\n",
       "      <th>town</th>\n",
       "      <th></th>\n",
       "      <th></th>\n",
       "    </tr>\n",
       "  </thead>\n",
       "  <tbody>\n",
       "    <tr>\n",
       "      <th>South Hadley</th>\n",
       "      <td>100</td>\n",
       "      <td>0</td>\n",
       "    </tr>\n",
       "    <tr>\n",
       "      <th>Hadley</th>\n",
       "      <td>80</td>\n",
       "      <td>0</td>\n",
       "    </tr>\n",
       "  </tbody>\n",
       "</table>\n",
       "</div>"
      ],
      "text/plain": [
       "              outcome  post_treatment\n",
       "town                                 \n",
       "South Hadley      100               0\n",
       "Hadley             80               0"
      ]
     },
     "execution_count": 8,
     "metadata": {},
     "output_type": "execute_result"
    }
   ],
   "source": [
    "# Select all rows where the second level of the multi-index (time) equals 1\n",
    "traffic_df.xs(1, level=1)"
   ]
  },
  {
   "cell_type": "markdown",
   "metadata": {},
   "source": [
    "Write a line of code to select the Hadley datapoint at time 3, and submit your answer to pollEverywhere:\n",
    "\n",
    "- [pollev.com/tliu](https://pollev.com/tliu)"
   ]
  },
  {
   "cell_type": "markdown",
   "metadata": {},
   "source": [
    "# Part 2"
   ]
  },
  {
   "cell_type": "markdown",
   "metadata": {},
   "source": [
    "Run the cell below to load the organ donation data. The dataframe has the following columns:\n",
    "- State: the state name\n",
    "- Quarter: the quarter of data\n",
    "- Quarter_Num: the quarter number\n",
    "- Rate: the organ donation registration rate"
   ]
  },
  {
   "cell_type": "code",
   "execution_count": 9,
   "metadata": {},
   "outputs": [],
   "source": [
    "organ_df = pd.read_csv(\"~/COMSC-341CD/data/organ_donations.csv\")"
   ]
  },
  {
   "cell_type": "markdown",
   "metadata": {},
   "source": [
    "Since the data is quarterly and begins in 2010 Q4, the first post-treatment period (after July 2011) is 2011 Q3, which corresponds to Quarter_Num = 4. Create the following columns to prepare the data for a difference-in-differences analysis:\n",
    "\n",
    "\n",
    "- `is_california`: a binary variable indicating whether the state is California\n",
    "- `post_treatment`: a binary variable indicating whether the quarter is after 2011 Q3 (Quarter_Num >= 4)\n",
    "- `is_treated`: a binary variable indicating whether the state is California **AND** the quarter is after 2011 Q3"
   ]
  },
  {
   "cell_type": "code",
   "execution_count": 10,
   "metadata": {},
   "outputs": [],
   "source": [
    "# TODO: Create the columns\n",
    "organ_df['is_california'] = None\n",
    "organ_df['post_treatment'] = None\n",
    "organ_df['is_treated'] = None\n",
    "\n",
    "### BEGIN SOLUTION\n",
    "organ_df['is_california'] = organ_df['State'] == 'California'\n",
    "organ_df['post_treatment'] = organ_df['Quarter_Num'] >= 4\n",
    "organ_df['is_treated'] = organ_df['is_california'] & organ_df['post_treatment']\n",
    "### END SOLUTION"
   ]
  },
  {
   "cell_type": "markdown",
   "metadata": {},
   "source": [
    "Like we did in part 1, set the index to be the `['State', 'Quarter_Num']` columns."
   ]
  },
  {
   "cell_type": "code",
   "execution_count": 11,
   "metadata": {},
   "outputs": [],
   "source": [
    "organ_df = organ_df.set_index(['State', 'Quarter_Num'])"
   ]
  },
  {
   "cell_type": "markdown",
   "metadata": {},
   "source": [
    "Finally, let's visually evaluate the parallel trends assumption by plotting the rate against the quarter number in the pre-treatment period."
   ]
  },
  {
   "cell_type": "code",
   "execution_count": 12,
   "metadata": {},
   "outputs": [
    {
     "data": {
      "text/plain": [
       "<Axes: xlabel='Quarter_Num', ylabel='Rate'>"
      ]
     },
     "execution_count": 12,
     "metadata": {},
     "output_type": "execute_result"
    },
    {
     "data": {
      "image/png": "[encoded data removed]",
      "text/plain": [
       "<Figure size 640x480 with 1 Axes>"
      ]
     },
     "metadata": {},
     "output_type": "display_data"
    }
   ],
   "source": [
    "# Select the dataframe for the pre-treatment period\n",
    "organ_df_pre = organ_df[organ_df['post_treatment']==False]\n",
    "\n",
    "# Plot an sns.pointplot using organ_df_pre of 'Rate' against 'Quarter_Num', with 'is_california' as the hue\n",
    "sns.pointplot(x='Quarter_Num', y='Rate', data=organ_df_pre, hue='is_california')"
   ]
  },
  {
   "cell_type": "markdown",
   "metadata": {},
   "source": [
    "Does there appear to be any clear violations of the parallel trends assumption?\n",
    "\n",
    "- [pollev.com/tliu](https://pollev.com/tliu)"
   ]
  },
  {
   "cell_type": "markdown",
   "metadata": {},
   "source": [
    "# Part 3"
   ]
  },
  {
   "cell_type": "markdown",
   "metadata": {},
   "source": [
    "We just discussed the following formula for using regression to compute a difference-in-differences estimate:\n",
    "\n",
    "$$\n",
    "Y = \\beta_0 + \\beta_1 (\\text{treated group}) + \\beta_2 (\\text{after treatment}) + \\beta_3 (\\text{treated group} \\times \\text{after treatment}) + \\epsilon\n",
    "$$\n",
    "\n",
    "Write the formula in terms of the variables in the `organ_df` dataframe we created in part 2. The outcome of interest is `Rate`, while the treated group is California."
   ]
  },
  {
   "cell_type": "code",
   "execution_count": 13,
   "metadata": {},
   "outputs": [
    {
     "name": "stdout",
     "output_type": "stream",
     "text": [
      "                            OLS Regression Results                            \n",
      "==============================================================================\n",
      "Dep. Variable:                   Rate   R-squared:                       0.054\n",
      "Model:                            OLS   Adj. R-squared:                  0.036\n",
      "Method:                 Least Squares   F-statistic:                     3.015\n",
      "Date:                Thu, 17 Apr 2025   Prob (F-statistic):             0.0317\n",
      "Time:                        21:13:49   Log-Likelihood:                 78.895\n",
      "No. Observations:                 162   AIC:                            -149.8\n",
      "Df Residuals:                     158   BIC:                            -137.4\n",
      "Df Model:                           3                                         \n",
      "Covariance Type:            nonrobust                                         \n",
      "==========================================================================================\n",
      "                             coef    std err          t      P>|t|      [0.025      0.975]\n",
      "------------------------------------------------------------------------------------------\n",
      "Intercept                  0.4449      0.017     26.101      0.000       0.411       0.479\n",
      "is_california[T.True]     -0.1736      0.089     -1.960      0.052      -0.349       0.001\n",
      "post_treatment[T.True]     0.0139      0.024      0.578      0.564      -0.034       0.062\n",
      "is_treated[T.True]        -0.0225      0.125     -0.179      0.858      -0.270       0.225\n",
      "==============================================================================\n",
      "Omnibus:                        0.962   Durbin-Watson:                   0.309\n",
      "Prob(Omnibus):                  0.618   Jarque-Bera (JB):                1.035\n",
      "Skew:                          -0.106   Prob(JB):                        0.596\n",
      "Kurtosis:                       2.670   Cond. No.                         13.9\n",
      "==============================================================================\n",
      "\n",
      "Notes:\n",
      "[1] Standard Errors assume that the covariance matrix of the errors is correctly specified.\n"
     ]
    }
   ],
   "source": [
    "formula = 'Rate ~ 1 + is_california + post_treatment + is_treated'\n",
    "did_model = smf.ols(formula, data=organ_df)\n",
    "did_results = did_model.fit()\n",
    "print(did_results.summary())"
   ]
  },
  {
   "cell_type": "markdown",
   "metadata": {},
   "source": [
    "What is your ATT estimate of the effect of active choice vs opt-in on California organ donation rates?\n",
    "\n",
    "- [pollev.com/tliu](https://pollev.com/tliu)"
   ]
  },
  {
   "cell_type": "markdown",
   "metadata": {},
   "source": [
    "# Acknowledgements\n",
    "\n",
    "This activity is derived from Nick Huntington-Klein's analysis of Kessler and Roth (2014) in Chapter 18 of [The Effect](https://theeffectbook.net/)."
   ]
  }
 ],
 "metadata": {
  "kernelspec": {
   "display_name": "venv",
   "language": "python",
   "name": "python3"
  },
  "language_info": {
   "codemirror_mode": {
    "name": "ipython",
    "version": 3
   },
   "file_extension": ".py",
   "mimetype": "text/x-python",
   "name": "python",
   "nbconvert_exporter": "python",
   "pygments_lexer": "ipython3",
   "version": "3.11.10"
  }
 },
 "nbformat": 4,
 "nbformat_minor": 2
}
