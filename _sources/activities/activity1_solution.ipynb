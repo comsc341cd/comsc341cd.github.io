{
 "cells": [
  {
   "cell_type": "markdown",
   "metadata": {},
   "source": [
    "(activity1_solution)=\n",
    "# Activity 1 Solutions: Jupyter and NumPy\n",
    "\n",
    "**2025-01-30**\n",
    "\n",
    "---"
   ]
  },
  {
   "cell_type": "code",
   "execution_count": 23,
   "metadata": {},
   "outputs": [],
   "source": [
    "# import numpy\n",
    "# the 'as' allows us to use np as a shorthand for numpy\n",
    "import numpy as np"
   ]
  },
  {
   "cell_type": "markdown",
   "metadata": {},
   "source": [
    "## 1. Replicating the combined contingency table\n",
    "\n",
    "We can replicate the calculations we previously did by hand using numpy:"
   ]
  },
  {
   "cell_type": "code",
   "execution_count": 24,
   "metadata": {},
   "outputs": [],
   "source": [
    "#                               Y=1  Y=0\n",
    "contingency_overall = np.array([[273, 77],  # T=1\n",
    "                               [289, 61]])  # T=0"
   ]
  },
  {
   "cell_type": "code",
   "execution_count": 25,
   "metadata": {},
   "outputs": [
    {
     "data": {
      "text/plain": [
       "(2, 2)"
      ]
     },
     "execution_count": 25,
     "metadata": {},
     "output_type": "execute_result"
    }
   ],
   "source": [
    "contingency_overall.shape"
   ]
  },
  {
   "cell_type": "markdown",
   "metadata": {},
   "source": [
    "Accessing the contingency table can be done by indexing `array[row, column]`. The `:` operator is used to select all rows or columns.\n"
   ]
  },
  {
   "cell_type": "code",
   "execution_count": 26,
   "metadata": {},
   "outputs": [
    {
     "name": "stdout",
     "output_type": "stream",
     "text": [
      "77\n",
      "---------------\n",
      "[77 61]\n",
      "---------------\n",
      "[273  77]\n"
     ]
    }
   ],
   "source": [
    "# select the first row, second column\n",
    "print(contingency_overall[0, 1])\n",
    "print(\"---------------\")\n",
    "\n",
    "# select the second column\n",
    "print(contingency_overall[:, 1])\n",
    "\n",
    "print(\"---------------\")\n",
    "# select the first row\n",
    "print(contingency_overall[0, :])"
   ]
  },
  {
   "cell_type": "code",
   "execution_count": 27,
   "metadata": {},
   "outputs": [
    {
     "name": "stdout",
     "output_type": "stream",
     "text": [
      "0.80\n"
     ]
    }
   ],
   "source": [
    "# Compute the marginal probability of Y=1\n",
    "# TODO your code here\n",
    "# sum the column where Y=1, divided by the total sum of the entire table\n",
    "# print what's inside the f string, only to the first two decimal points\n",
    "print(f\"{contingency_overall[:, 0].sum() / contingency_overall.sum():.2f}\")"
   ]
  },
  {
   "cell_type": "code",
   "execution_count": 28,
   "metadata": {},
   "outputs": [
    {
     "name": "stdout",
     "output_type": "stream",
     "text": [
      "0.78\n"
     ]
    }
   ],
   "source": [
    "# Computer the conditional probability of Y=1 given T=1\n",
    "# TODO your code here\n",
    "print(contingency_overall[0, 0] / contingency_overall[0, :].sum())"
   ]
  },
  {
   "cell_type": "code",
   "execution_count": 29,
   "metadata": {},
   "outputs": [
    {
     "name": "stdout",
     "output_type": "stream",
     "text": [
      "0.8257142857142857\n"
     ]
    }
   ],
   "source": [
    "# Computer the conditional probability of Y=1 given T=0\n",
    "# TODO your code here\n",
    "print(contingency_overall[1, 0] / contingency_overall[1, :].sum())"
   ]
  },
  {
   "cell_type": "markdown",
   "metadata": {},
   "source": [
    "**Optional extension**: if you're already comfortable with the coding environment, you can explore the [np.sum](https://numpy.org/doc/stable/reference/generated/numpy.sum.html) documentation, particularly the `axis` parameter, to see how you can equivalently compute these probabilities without slicing out the rows or columns."
   ]
  },
  {
   "cell_type": "markdown",
   "metadata": {},
   "source": [
    "---"
   ]
  },
  {
   "cell_type": "markdown",
   "metadata": {},
   "source": [
    "## 2. Contingency tables for small and large stones\n"
   ]
  },
  {
   "cell_type": "markdown",
   "metadata": {},
   "source": [
    "Below are the contingency tables for the two cases, stored as numpy arrays:"
   ]
  },
  {
   "cell_type": "code",
   "execution_count": 30,
   "metadata": {},
   "outputs": [
    {
     "name": "stdout",
     "output_type": "stream",
     "text": [
      "(2, 2)\n"
     ]
    }
   ],
   "source": [
    "# contingency table for C=0, large stones\n",
    "#                          Y=1  Y=0\n",
    "contingency_C0 = np.array([[192, 71], # T=1\n",
    "                          [55, 25]]) # T=0\n",
    "\n",
    "# contingency table for C=1, small stones\n",
    "#                          Y=1  Y=0\n",
    "contingency_C1 = np.array([[81, 6], # T=1\n",
    "                          [234, 36]]) # T=0\n",
    "\n",
    "# prints (number of rows, number of columns)\n",
    "print(contingency_C0.shape)"
   ]
  },
  {
   "cell_type": "markdown",
   "metadata": {},
   "source": [
    "We can verify that the two contingency tables are consistent with the overall contingency table:"
   ]
  },
  {
   "cell_type": "code",
   "execution_count": 31,
   "metadata": {},
   "outputs": [
    {
     "data": {
      "text/plain": [
       "array([[ True,  True],\n",
       "       [ True,  True]])"
      ]
     },
     "execution_count": 31,
     "metadata": {},
     "output_type": "execute_result"
    }
   ],
   "source": [
    "# this returns a numpy array of booleans of whether each element in the two arrays are equal\n",
    "np.isclose(contingency_C0 + contingency_C1, contingency_overall)\n"
   ]
  },
  {
   "cell_type": "code",
   "execution_count": 32,
   "metadata": {},
   "outputs": [
    {
     "data": {
      "text/plain": [
       "array([[273,  77],\n",
       "       [289,  61]])"
      ]
     },
     "execution_count": 32,
     "metadata": {},
     "output_type": "execute_result"
    }
   ],
   "source": [
    "contingency_overall"
   ]
  },
  {
   "cell_type": "code",
   "execution_count": 33,
   "metadata": {},
   "outputs": [
    {
     "data": {
      "text/plain": [
       "array([[273,  77],\n",
       "       [289,  61]])"
      ]
     },
     "execution_count": 33,
     "metadata": {},
     "output_type": "execute_result"
    }
   ],
   "source": [
    "contingency_C0 + contingency_C1"
   ]
  },
  {
   "cell_type": "markdown",
   "metadata": {},
   "source": [
    "Compute the expected value of $Y$ given $T=1$ and $T=0$ for the case of large stones ($C=0$).\n",
    "\n",
    "Compute the estimated probability of $Y=1$ given $T=1$ and $T=0$ for the case of large stones ($C=0$)."
   ]
  },
  {
   "cell_type": "code",
   "execution_count": 34,
   "metadata": {},
   "outputs": [
    {
     "name": "stdout",
     "output_type": "stream",
     "text": [
      "Estimated expected value of Y given T=1 and C=0: 0.73\n",
      "Estimated expected value of Y given T=0 and C=0: 0.69\n"
     ]
    }
   ],
   "source": [
    "# TODO your code\n",
    "# we want Y=1, T=1, C=0\n",
    "EY_given_T1_C0 = contingency_C0[0,0] / contingency_C0[0, :].sum()\n",
    "EY_given_T0_C0 = contingency_C0[1,0] / contingency_C0[1, :].sum()\n",
    "\n",
    "# the f-string allows us to insert the value of the variable into the string\n",
    "# and the :.2f allows us to round the value to 2 decimal places\n",
    "print(f\"Estimated expected value of Y given T=1 and C=0: {EY_given_T1_C0:.2f}\")\n",
    "print(f\"Estimated expected value of Y given T=0 and C=0: {EY_given_T0_C0:.2f}\")\n"
   ]
  },
  {
   "cell_type": "markdown",
   "metadata": {},
   "source": [
    "Which treatment appears to be more successful in the large stone case ($C=0$)?\n",
    "\n",
    "**Your response:** Open surgery ($T=1$)\n",
    "\n"
   ]
  },
  {
   "cell_type": "markdown",
   "metadata": {},
   "source": [
    "Now let's compute the expected value of $Y$ given $T=1$ and $T=0$ for the case of small stones ($C=1$)."
   ]
  },
  {
   "cell_type": "code",
   "execution_count": 35,
   "metadata": {},
   "outputs": [
    {
     "name": "stdout",
     "output_type": "stream",
     "text": [
      "Estimated expected value of Y given T=1 and C=1: 0.93\n",
      "Estimated expected value of Y given T=0 and C=1: 0.87\n"
     ]
    }
   ],
   "source": [
    "# TODO your code\n",
    "EY_given_T1_C1 = contingency_C1[0,0] / contingency_C1[0, :].sum()\n",
    "EY_given_T0_C1 = contingency_C1[1,0] / contingency_C1[1, :].sum()\n",
    "\n",
    "# the f-string allows us to insert the value of the variable into the string\n",
    "# and the :.2f allows us to round the value to 2 decimal places\n",
    "print(f\"Estimated expected value of Y given T=1 and C=1: {EY_given_T1_C1:.2f}\")\n",
    "print(f\"Estimated expected value of Y given T=0 and C=1: {EY_given_T0_C1:.2f}\")\n"
   ]
  },
  {
   "cell_type": "markdown",
   "metadata": {},
   "source": [
    "Which treatment appears to be more successful in the small stone case ($C=1$)?\n",
    "\n",
    "**Your response:** Open surgery ($T=1$)\n"
   ]
  },
  {
   "cell_type": "markdown",
   "metadata": {},
   "source": [
    "Note that we've split out the contingency tables for each stone case, but what we're effectively doing is computing the following conditional expectations:\n",
    "\n",
    "$$E[Y\\;|\\;T=t, C=c]$$\n",
    "\n",
    "which we read as \"the expected value of $Y$ given $T$ set to $t$ and $C$ set to $c$\".\n"
   ]
  }
 ],
 "metadata": {
  "kernelspec": {
   "display_name": "Python 3 (ipykernel)",
   "language": "python",
   "name": "python3"
  },
  "language_info": {
   "codemirror_mode": {
    "name": "ipython",
    "version": 3
   },
   "file_extension": ".py",
   "mimetype": "text/x-python",
   "name": "python",
   "nbconvert_exporter": "python",
   "pygments_lexer": "ipython3",
   "version": "3.12.6"
  }
 },
 "nbformat": 4,
 "nbformat_minor": 4
}
