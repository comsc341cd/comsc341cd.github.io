{
 "cells": [
  {
   "cell_type": "markdown",
   "metadata": {},
   "source": [
    "(activity13)=\n",
    "\n",
    "# Activity 13: RDDs\n",
    "\n",
    "**2025-04-08**\n",
    "\n",
    "---"
   ]
  },
  {
   "cell_type": "code",
   "execution_count": 9,
   "metadata": {},
   "outputs": [],
   "source": [
    "import numpy as np\n",
    "import matplotlib.pyplot as plt\n",
    "import pandas as pd\n",
    "import seaborn as sns\n",
    "import statsmodels.formula.api as smf"
   ]
  },
  {
   "cell_type": "code",
   "execution_count": 10,
   "metadata": {},
   "outputs": [],
   "source": [
    "gov_transfers = pd.read_csv(\"~/COMSC-341CD/data/gov_transfers.csv\")"
   ]
  },
  {
   "cell_type": "markdown",
   "metadata": {},
   "source": [
    "The columns we have in the dataset are:\n",
    "\n",
    "- $R$ `Income_Centered`: the predicted income of the household, centered at 0\n",
    "- $T$ `Participation`: whether the household participated in the poverty alleviation program\n",
    "- $Y$ `Support`: the amount of goverment support, encoded as a survery question: \n",
    "    - In relation to the previous government, do you believe that the current government is worse (0), the same (1/2), better (1)?\n"
   ]
  },
  {
   "cell_type": "code",
   "execution_count": null,
   "metadata": {},
   "outputs": [],
   "source": [
    "gov_transfers.head()"
   ]
  },
  {
   "cell_type": "markdown",
   "metadata": {},
   "source": [
    "# Part 1"
   ]
  },
  {
   "cell_type": "markdown",
   "metadata": {},
   "source": [
    "Let's first visualize how the treatment assignment is related to the income. Use [pd.cut](https://pandas.pydata.org/docs/reference/api/pandas.cut.html) with `bins=20` and `labels=False` to bin the income data into 20 bins:"
   ]
  },
  {
   "cell_type": "code",
   "execution_count": null,
   "metadata": {},
   "outputs": [],
   "source": [
    "# TODO your code here\n",
    "\n",
    "gov_transfers.head()"
   ]
  },
  {
   "cell_type": "markdown",
   "metadata": {},
   "source": [
    "Next, generate a `sns.pointplot` of `y=Participation` vs `x=income_bin`. Set `linestyle='none'` to plot the points individually. \n",
    "\n",
    "\n",
    "Discuss with folks around you: Do you observe any deviations from the policy of assigning participation in the transfer program based on income? Does this suggest that the RDD is \"sharp\" or not?\n",
    "\n",
    "**Your response:** [pollev.com/tliu](https://pollev.com/tliu)"
   ]
  },
  {
   "cell_type": "code",
   "execution_count": null,
   "metadata": {},
   "outputs": [],
   "source": [
    "# TODO your code here\n",
    "\n",
    "# convert the xticks to the same units as the original income data\n",
    "plt.xticks(ticks=[0, 5, 9.5, 14, 19], labels=[-0.02, -0.01, 0, 0.01, 0.02])\n",
    "# plot the cutoff as a vertical line\n",
    "plt.axvline(x=9.5, color='black', linestyle='--', label='Income cutoff')"
   ]
  },
  {
   "cell_type": "markdown",
   "metadata": {},
   "source": [
    "# Part 2"
   ]
  },
  {
   "cell_type": "markdown",
   "metadata": {},
   "source": [
    "Now we'll look at the outcome variable, `Support`. Generate a `sns.pointplot` of `y=Support` vs `x=income_bin`. Set `linestyle='none'` to plot the points individually. "
   ]
  },
  {
   "cell_type": "code",
   "execution_count": null,
   "metadata": {},
   "outputs": [],
   "source": [
    "# TODO your code here\n",
    "\n",
    "plt.xticks(ticks=[0, 5, 9.5, 14, 19], labels=[-0.02, -0.01, 0, 0.01, 0.02])\n",
    "plt.axvline(x=9.5, color='black', linestyle='--', label='Income cutoff')\n"
   ]
  },
  {
   "cell_type": "markdown",
   "metadata": {},
   "source": [
    "On Worksheet 5, we fit two linear regressions on either side of the cutoff. Another approach to estimating the average treatment effect is to fit a single linear regression that allows the slope to change at the cutoff:\n",
    "\n",
    "$$\n",
    "Y = \\beta_0 + \\beta_1 (R - c) + \\beta_2 T + \\beta_3 (R -c ) \\cdot T \n",
    "$$\n",
    "\n",
    "Since $c=0$, this simplifies to:\n",
    "\n",
    "$$\n",
    "Y = \\beta_0 + \\beta_1 R + \\beta_2 T + \\beta_3 R\\cdot T\n",
    "$$\n",
    "\n",
    "The average treatment effect at the cutoff is then given by $\\beta_2$.\n",
    "\n",
    "\n",
    "\n",
    "\n",
    "\n",
    "\n",
    "\n"
   ]
  },
  {
   "cell_type": "code",
   "execution_count": null,
   "metadata": {},
   "outputs": [],
   "source": [
    "# TODO your code here\n",
    "#rdd_formula = ''\n",
    "#rdd_model = smf.ols(rdd_formula, data=gov_transfers).fit()\n",
    "#print(rdd_model.params['Participation'])"
   ]
  },
  {
   "cell_type": "markdown",
   "metadata": {},
   "source": [
    "What is your estimate of the average treatment effect at the cutoff (rounded to 1 decimal place)?\n",
    "\n",
    "**Your response:** [pollev.com/tliu](https://pollev.com/tliu)"
   ]
  },
  {
   "cell_type": "markdown",
   "metadata": {},
   "source": [
    "# Acknowledgements\n",
    "\n",
    "This activity uses data from Nick Huntington-Klein's `causaldata` package."
   ]
  }
 ],
 "metadata": {
  "kernelspec": {
   "display_name": "venv",
   "language": "python",
   "name": "python3"
  },
  "language_info": {
   "codemirror_mode": {
    "name": "ipython",
    "version": 3
   },
   "file_extension": ".py",
   "mimetype": "text/x-python",
   "name": "python",
   "nbconvert_exporter": "python",
   "pygments_lexer": "ipython3",
   "version": "3.11.10"
  }
 },
 "nbformat": 4,
 "nbformat_minor": 2
}
