{
 "cells": [
  {
   "cell_type": "markdown",
   "metadata": {},
   "source": [
    "(activity16)=\n",
    "\n",
    "# Activity 16: Causal Trees\n",
    "\n",
    "**2025-04-24**\n",
    "\n",
    "---"
   ]
  },
  {
   "cell_type": "code",
   "execution_count": 1,
   "metadata": {},
   "outputs": [],
   "source": [
    "import pandas as pd\n",
    "import numpy as np\n",
    "import matplotlib.pyplot as plt\n",
    "from econml.dml import CausalForestDML\n",
    "from econml.cate_interpreter import SingleTreeCateInterpreter"
   ]
  },
  {
   "cell_type": "markdown",
   "metadata": {},
   "source": [
    "Run the cell below to load in the data. We have the following variables:\n",
    "\n",
    "- `age`: age of the customer\n",
    "- `income`: income of the customer, in $100k \n",
    "- `has_membership`: whether the customer has a membership to the online music platform\n",
    "- `avg_hours`: average number of hours per week the customer has spent on the platform\n",
    "- `demand`: outcome variable -- sales of songs on the platform\n",
    "- `T`: treatment (1 if the customer was given a discount, 0 otherwise)\n"
   ]
  },
  {
   "cell_type": "code",
   "execution_count": null,
   "metadata": {},
   "outputs": [],
   "source": [
    "customer_data = pd.read_csv('~/COMSC-341CD/data/customer_data.csv')\n",
    "customer_data.head()"
   ]
  },
  {
   "cell_type": "markdown",
   "metadata": {},
   "source": [
    "A more robust variant of causal tree prediction is to fit multiple trees and take the average of the predictions. This is known as the causal forest, and it just like a random forest model in machine learning. This is implemented in EconML as the [CausalForestDML](https://econml.azurewebsites.net/_autosummary/econml.dml.CausalForestDML.html) class. Initialize the model as follows:\n",
    "\n",
    "```python\n",
    "causal_forest = CausalForestDML(criterion='mse', # use mean squared error as the loss function\n",
    "                                honest=True, # use honest sample splitting\n",
    "                                discrete_treatment=True # treatment is binary\n",
    "                                )\n",
    "```\n",
    "\n",
    "Then call `causal_forest.fit()` with the following arguments:\n",
    "\n",
    "- `X`: the features given by `customer_data[covariates]`\n",
    "- `T`: the treatment column given by `customer_data['T']`\n",
    "- `Y`: the outcome column given by `customer_data['demand']`\n",
    "\n",
    "The model may take ~1-2 minutes to fit."
   ]
  },
  {
   "cell_type": "code",
   "execution_count": null,
   "metadata": {},
   "outputs": [],
   "source": [
    "covariates = ['age', 'income', 'has_membership', 'avg_hours']\n",
    "\n",
    "# TODO initialize causal forest model\n",
    "causal_forest = None\n",
    "\n",
    "# TODO fit the model with the appropriate parameters\n",
    "#causal_forest.fit(TODO)"
   ]
  },
  {
   "cell_type": "markdown",
   "metadata": {},
   "source": [
    "You can then check the average treatment effect (ATE) via the  `causal_forest.ate_` attribute."
   ]
  },
  {
   "cell_type": "code",
   "execution_count": null,
   "metadata": {},
   "outputs": [],
   "source": [
    "print(\"ATE: \", causal_forest.ate_)"
   ]
  },
  {
   "cell_type": "markdown",
   "metadata": {},
   "source": [
    ":::{admonition} Takeaway (click once you've completed the code)\n",
    ":class: dropdown\n",
    "\n",
    "The ATE estimate you should get is around 1.35, which can be interpreted as: on average, giving a discount to a customer increases the number of songs purchased by 1.35.\n",
    "\n",
    ":::\n"
   ]
  },
  {
   "cell_type": "markdown",
   "metadata": {},
   "source": [
    "Next, we'll summarize the causal forest model into a single causal tree using the [SingleTreeCateInterpreter](https://econml.azurewebsites.net/_autosummary/econml.cate_interpreter.SingleTreeCateInterpreter.html) class. Initialize the interpreter with the parameter `max_depth=2`.\n",
    "\n",
    "Then, call the `interpret()` method with the following arguments:\n",
    "\n",
    "- `cate_estimator`: our fitted causal forest model\n",
    "- `X`: the features given by `customer_data[covariates]`\n",
    "\n",
    "\n",
    "\n"
   ]
  },
  {
   "cell_type": "code",
   "execution_count": null,
   "metadata": {},
   "outputs": [],
   "source": [
    "# TODO initialize the causal tree interpreter\n",
    "#cate_tree = SingleTreeCateInterpreter(TODO)\n",
    "\n",
    "# TODO fit the interpreter with the causal forest model\n",
    "#cate_tree.interpret(TODO)"
   ]
  },
  {
   "cell_type": "markdown",
   "metadata": {},
   "source": [
    "Finally, uncomment and run the cell below to plot the causal tree. According to the tree, which subgroup of customers buys the most product after being given a discount?\n",
    "\n",
    "**Your response**: [pollev.com/tliu](https://pollev.com/tliu)"
   ]
  },
  {
   "cell_type": "code",
   "execution_count": null,
   "metadata": {},
   "outputs": [],
   "source": [
    "# resizes the plot to fit the causal tree\n",
    "# plt.figure(figsize=(25, 20))\n",
    "# cate_tree.plot(feature_names=covariates)"
   ]
  },
  {
   "cell_type": "markdown",
   "metadata": {},
   "source": [
    "# Acknowledgements\n",
    "\n",
    "This activity uses tutorial code and data provided by the [EconML package](https://econml.azurewebsites.net/index.html)."
   ]
  }
 ],
 "metadata": {
  "kernelspec": {
   "display_name": "venv",
   "language": "python",
   "name": "python3"
  },
  "language_info": {
   "codemirror_mode": {
    "name": "ipython",
    "version": 3
   },
   "file_extension": ".py",
   "mimetype": "text/x-python",
   "name": "python",
   "nbconvert_exporter": "python",
   "pygments_lexer": "ipython3",
   "version": "3.11.10"
  }
 },
 "nbformat": 4,
 "nbformat_minor": 2
}
